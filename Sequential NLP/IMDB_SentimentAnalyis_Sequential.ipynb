{
 "cells": [
  {
   "cell_type": "markdown",
   "metadata": {
    "id": "oInIDHMEDF0l"
   },
   "source": [
    "## PART 1: Predict customers' sentiments for IMDB dataset by building and tuning a sequential NLP."
   ]
  },
  {
   "cell_type": "code",
   "execution_count": null,
   "metadata": {
    "id": "bY8fSsig8tWc"
   },
   "outputs": [],
   "source": [
    "#Import required libraries\n",
    "from google.colab import drive\n",
    "from tensorflow import keras\n",
    "import numpy as np\n",
    "import matplotlib.pyplot as plt\n",
    "%matplotlib inline\n",
    "import seaborn as sns\n",
    "import tensorflow as tf\n",
    "from tensorflow.keras.models import  Sequential\n",
    "from tensorflow.keras.layers import Embedding,LSTM,Dense,BatchNormalization,Dropout,Bidirectional,RNN\n",
    "from tensorflow.keras.optimizers import RMSprop,Adam, SGD\n",
    "from tensorflow.keras.regularizers import L2\n",
    "from keras.callbacks import ModelCheckpoint\n"
   ]
  },
  {
   "cell_type": "code",
   "execution_count": null,
   "metadata": {
    "colab": {
     "base_uri": "https://localhost:8080/"
    },
    "id": "Z5tZ99yEnknj",
    "outputId": "f721e740-4765-42aa-870d-feac8dd1d8ce"
   },
   "outputs": [
    {
     "name": "stdout",
     "output_type": "stream",
     "text": [
      "Mounted at /content/drive\n"
     ]
    }
   ],
   "source": [
    "drive.mount('/content/drive')"
   ]
  },
  {
   "cell_type": "markdown",
   "metadata": {
    "id": "O6mwDlFKlBUj"
   },
   "source": [
    "### 1. Import and analyse the data set.Take 10000 most frequent words"
   ]
  },
  {
   "cell_type": "code",
   "execution_count": null,
   "metadata": {
    "colab": {
     "base_uri": "https://localhost:8080/"
    },
    "id": "a3pWwiiX9ub4",
    "outputId": "cf1251f4-a8f9-4f18-d1fb-15f8a680e0fe"
   },
   "outputs": [
    {
     "name": "stderr",
     "output_type": "stream",
     "text": [
      "<string>:6: VisibleDeprecationWarning: Creating an ndarray from ragged nested sequences (which is a list-or-tuple of lists-or-tuples-or ndarrays with different lengths or shapes) is deprecated. If you meant to do this, you must specify 'dtype=object' when creating the ndarray\n",
      "/usr/local/lib/python3.7/dist-packages/tensorflow/python/keras/datasets/imdb.py:155: VisibleDeprecationWarning: Creating an ndarray from ragged nested sequences (which is a list-or-tuple of lists-or-tuples-or ndarrays with different lengths or shapes) is deprecated. If you meant to do this, you must specify 'dtype=object' when creating the ndarray\n",
      "  x_train, y_train = np.array(xs[:idx]), np.array(labels[:idx])\n",
      "/usr/local/lib/python3.7/dist-packages/tensorflow/python/keras/datasets/imdb.py:156: VisibleDeprecationWarning: Creating an ndarray from ragged nested sequences (which is a list-or-tuple of lists-or-tuples-or ndarrays with different lengths or shapes) is deprecated. If you meant to do this, you must specify 'dtype=object' when creating the ndarray\n",
      "  x_test, y_test = np.array(xs[idx:]), np.array(labels[idx:])\n"
     ]
    }
   ],
   "source": [
    "(trainX,trainY),(testX,testY)=keras.datasets.imdb.load_data(seed=1, num_words=10000)"
   ]
  },
  {
   "cell_type": "code",
   "execution_count": null,
   "metadata": {
    "colab": {
     "base_uri": "https://localhost:8080/"
    },
    "id": "4djYpq2tewGx",
    "outputId": "abe097dc-67e5-4b7a-94ec-793cd922a48a"
   },
   "outputs": [
    {
     "name": "stdout",
     "output_type": "stream",
     "text": [
      "Shape of initial train dataset : ((25000,), (25000,))\n",
      "Shape of initial test dataset : ((25000,), (25000,))\n"
     ]
    }
   ],
   "source": [
    "print(\"Shape of initial train dataset :\",(trainX.shape,trainY.shape))\n",
    "print(\"Shape of initial test dataset :\",(testX.shape,testY.shape))"
   ]
  },
  {
   "cell_type": "code",
   "execution_count": null,
   "metadata": {
    "colab": {
     "base_uri": "https://localhost:8080/",
     "height": 335
    },
    "id": "HkiAUmexmJM-",
    "outputId": "19bb3e5d-9a9e-4d29-c05f-96d1c565cfc3"
   },
   "outputs": [
    {
     "name": "stderr",
     "output_type": "stream",
     "text": [
      "/usr/local/lib/python3.7/dist-packages/seaborn/_decorators.py:43: FutureWarning: Pass the following variable as a keyword arg: x. From version 0.12, the only valid positional argument will be `data`, and passing other arguments without an explicit keyword will result in an error or misinterpretation.\n",
      "  FutureWarning\n"
     ]
    },
    {
     "data": {
      "text/plain": [
       "<matplotlib.axes._subplots.AxesSubplot at 0x7f892f82aa50>"
      ]
     },
     "execution_count": 42,
     "metadata": {
      "tags": []
     },
     "output_type": "execute_result"
    },
    {
     "data": {
      "image/png": "[encoded data removed]",
      "text/plain": [
       "<Figure size 432x288 with 1 Axes>"
      ]
     },
     "metadata": {
      "tags": []
     },
     "output_type": "display_data"
    }
   ],
   "source": [
    "#Countplot for visualsing the distribution of positive/negative labels\n",
    "sns.countplot(trainY)"
   ]
  },
  {
   "cell_type": "code",
   "execution_count": null,
   "metadata": {
    "colab": {
     "base_uri": "https://localhost:8080/",
     "height": 335
    },
    "id": "QobOKyoImUST",
    "outputId": "e8b521b8-fdf8-4e9d-da5c-984790ab7aa8"
   },
   "outputs": [
    {
     "name": "stderr",
     "output_type": "stream",
     "text": [
      "/usr/local/lib/python3.7/dist-packages/seaborn/_decorators.py:43: FutureWarning: Pass the following variable as a keyword arg: x. From version 0.12, the only valid positional argument will be `data`, and passing other arguments without an explicit keyword will result in an error or misinterpretation.\n",
      "  FutureWarning\n"
     ]
    },
    {
     "data": {
      "text/plain": [
       "<matplotlib.axes._subplots.AxesSubplot at 0x7f8935e2ab10>"
      ]
     },
     "execution_count": 6,
     "metadata": {
      "tags": []
     },
     "output_type": "execute_result"
    },
    {
     "data": {
      "image/png": "[encoded data removed]",
      "text/plain": [
       "<Figure size 432x288 with 1 Axes>"
      ]
     },
     "metadata": {
      "tags": []
     },
     "output_type": "display_data"
    }
   ],
   "source": [
    "sns.countplot(testY)"
   ]
  },
  {
   "cell_type": "markdown",
   "metadata": {
    "id": "2UD4g0b0XfOb"
   },
   "source": [
    "##### From the countplots above, we can see that the sentiments are fairly balanced between 2 classes."
   ]
  },
  {
   "cell_type": "markdown",
   "metadata": {
    "id": "bTQfj3CflKVL"
   },
   "source": [
    "### 2. Perform relevant sequence adding on the data"
   ]
  },
  {
   "cell_type": "code",
   "execution_count": null,
   "metadata": {
    "id": "emE10Q9KZ35K"
   },
   "outputs": [],
   "source": [
    "maxlen=256"
   ]
  },
  {
   "cell_type": "code",
   "execution_count": null,
   "metadata": {
    "id": "se9_Hs53Bzxx"
   },
   "outputs": [],
   "source": [
    "#Pre-padding the word sequences upto 256 length\n",
    "trainX_seq = keras.preprocessing.sequence.pad_sequences(trainX, maxlen=maxlen)\n",
    "testX_seq = keras.preprocessing.sequence.pad_sequences(testX, maxlen=maxlen)"
   ]
  },
  {
   "cell_type": "markdown",
   "metadata": {
    "id": "wJ2bSZuNlSm0"
   },
   "source": [
    "### 3. Perform following data analysis.\n",
    "*  Print shape of features and labels\n",
    "*  Print value of any one feature and it's label\n",
    "\n"
   ]
  },
  {
   "cell_type": "code",
   "execution_count": null,
   "metadata": {
    "colab": {
     "base_uri": "https://localhost:8080/"
    },
    "id": "35oz8q6hBDdG",
    "outputId": "3cd8664a-e680-45f4-ac25-e0c6085cec7a"
   },
   "outputs": [
    {
     "name": "stdout",
     "output_type": "stream",
     "text": [
      "Shape of training set : ((25000, 256), (25000,))\n",
      "Shape of testing set : ((25000, 256), (25000,))\n"
     ]
    }
   ],
   "source": [
    "#Print shape of features and labels\n",
    "print(\"Shape of training set :\" ,(trainX_seq.shape, trainY.shape))\n",
    "print(\"Shape of testing set :\" ,(testX_seq.shape, testY.shape))"
   ]
  },
  {
   "cell_type": "code",
   "execution_count": null,
   "metadata": {
    "colab": {
     "base_uri": "https://localhost:8080/"
    },
    "id": "oUnhz1l4Cu5Z",
    "outputId": "2490343b-52ed-4da8-d54a-dddf94777e81"
   },
   "outputs": [
    {
     "name": "stdout",
     "output_type": "stream",
     "text": [
      "Review  Encoding: \n",
      " [   0    0    0    0    0    0    0    0    0    0    0    0    0    0\n",
      "    0    0    0    0    0    0    0    0    0    0    0    0    0    0\n",
      "    0    0    0    0    0    0    0    0    0    0    0    0    0    0\n",
      "    0    0    0    0    0    0    0    0    0    0    0    0    0    0\n",
      "    0    0    0    0    0    0    0    0    0    0    0    0    0    0\n",
      "    0    0    0    0    0    0    0    0    0    0    0    0    0    0\n",
      "    0    0    0    0    0    0    0    0    0    0    0    0    0    0\n",
      "    0    0    0    0    0    0    0    0    0    0    0    0    0    0\n",
      "    0    0    0    0    0    0    0    0    0    0    0    0    0    0\n",
      "    0    0    1   13  219   14   11 7190   11   51  215   28   77   94\n",
      "  204  521   13 1227 4985   83    4    2    7    4  750   12   16   15\n",
      "  163   13  774  110   12  237   21   62  119    8  121   81   25   79\n",
      "    6 1039 1814  660  233   44   12  112 1967   42 3701   26   18   61\n",
      "  278   43    6  762    7    2  257 6056    9  345    2    2   42    2\n",
      "  642  257   31   50    9   24    6  815   31 1926    4  636  720   18\n",
      " 1825   63 8276 3045  944 7775  140  140 3976   19    2 3507    2   62\n",
      "   28  814   12   69   29    4 3799 2210   48   25  216    8   14   22\n",
      "   19   35  911  330    5    6    2    2  483  490    2   12  208   83\n",
      "  129   55  118 1029]\n",
      "Label : 1\n"
     ]
    }
   ],
   "source": [
    "#Print value of any one feature and it's label\n",
    "print(\"Review  Encoding: \\n\",trainX_seq[10])\n",
    "print(\"Label :\",trainY[10])"
   ]
  },
  {
   "cell_type": "markdown",
   "metadata": {
    "id": "UHM-R4wvmc8I"
   },
   "source": [
    "### 4. Decode the feature value to get original sentence"
   ]
  },
  {
   "cell_type": "code",
   "execution_count": null,
   "metadata": {
    "id": "IhjfzenM0eej"
   },
   "outputs": [],
   "source": [
    "#Get word associated with the word index in the dataset\n",
    "words = keras.datasets.imdb.get_word_index()"
   ]
  },
  {
   "cell_type": "code",
   "execution_count": null,
   "metadata": {
    "colab": {
     "base_uri": "https://localhost:8080/"
    },
    "id": "R4NpzbgZCEwm",
    "outputId": "4901d7f5-b6d3-46e1-c153-92787a2a41be"
   },
   "outputs": [
    {
     "name": "stdout",
     "output_type": "stream",
     "text": [
      "Words and their indices :\n",
      " [('fawn', 34701), ('tsukino', 52006), ('nunnery', 52007), ('sonja', 16816), ('vani', 63951), ('woods', 1408), ('spiders', 16115), ('hanging', 2345), ('woody', 2289), ('trawling', 52008)]\n"
     ]
    }
   ],
   "source": [
    "print(\"Words and their indices :\\n\",list(words.items())[:10])"
   ]
  },
  {
   "cell_type": "code",
   "execution_count": null,
   "metadata": {
    "id": "UnIgbenB0p9q"
   },
   "outputs": [],
   "source": [
    "#For each review in train and test set, parse each encoded index and map it with the original word\n",
    "trainX_decoded=[]\n",
    "testX_decoded=[]\n",
    "inverted_word_index = dict((key, word) for (word, key) in words.items())\n",
    "#Decode and store the sequences in a list\n",
    "for j in range(len(trainX)):\n",
    "  trainX_decoded.append( \" \".join(inverted_word_index[key] for key in trainX[j]))\n",
    "for j in range(len(testX)):\n",
    "  testX_decoded.append( \" \".join(inverted_word_index[key] for key in testX[j]))"
   ]
  },
  {
   "cell_type": "code",
   "execution_count": null,
   "metadata": {
    "colab": {
     "base_uri": "https://localhost:8080/"
    },
    "id": "09ArNwA4C3Oa",
    "outputId": "b213b1fc-bd80-4f82-972a-1f1966b0650b"
   },
   "outputs": [
    {
     "data": {
      "text/plain": [
       "[(34701, 'fawn'),\n",
       " (52006, 'tsukino'),\n",
       " (52007, 'nunnery'),\n",
       " (16816, 'sonja'),\n",
       " (63951, 'vani'),\n",
       " (1408, 'woods'),\n",
       " (16115, 'spiders'),\n",
       " (2345, 'hanging'),\n",
       " (2289, 'woody'),\n",
       " (52008, 'trawling')]"
      ]
     },
     "execution_count": 49,
     "metadata": {
      "tags": []
     },
     "output_type": "execute_result"
    }
   ],
   "source": [
    "#Inverted dictionary containing words and their indices\n",
    "list(inverted_word_index.items())[:10]"
   ]
  },
  {
   "cell_type": "code",
   "execution_count": null,
   "metadata": {
    "colab": {
     "base_uri": "https://localhost:8080/",
     "height": 86
    },
    "id": "eQjp_ar3Bbgc",
    "outputId": "acadf43e-b7ee-4edd-db96-2ad126ea2716"
   },
   "outputs": [
    {
     "data": {
      "application/vnd.google.colaboratory.intrinsic+json": {
       "type": "string"
      },
      "text/plain": [
       "\"the was least as this relevance this when isn't one will make i've actress was steve instinct first of and br of dull that with for makes was fantastic life that he's not story did in know people have also is doctor horse ones last has that never prove it's intrigued he but only sense out is herself br and having crossing it given and and it's and started having by more it his is buy by forces of today paul but heads really weirdness flawed mess shred through through bin film and sally and story one means that me all of alexander ancient what have saw in as you film so joe second to is and and humor guys and that times first man time where odd\""
      ]
     },
     "execution_count": 50,
     "metadata": {
      "tags": []
     },
     "output_type": "execute_result"
    }
   ],
   "source": [
    "#print original sentence from train feature set\n",
    "trainX_decoded[10]"
   ]
  },
  {
   "cell_type": "code",
   "execution_count": null,
   "metadata": {
    "colab": {
     "base_uri": "https://localhost:8080/",
     "height": 120
    },
    "id": "VXC8jxv5BRLr",
    "outputId": "342e334a-afee-4617-ac44-5c031b4eac78"
   },
   "outputs": [
    {
     "data": {
      "application/vnd.google.colaboratory.intrinsic+json": {
       "type": "string"
      },
      "text/plain": [
       "\"the more he is again sent in and characters to this parents brady and for was story why could any her him of how it drops to gosh of and br really it of being br and all thing died all thing could think videos an all there he be directed incidents to level and to film while all and of you hospital recently in own want dvd bad kids or as naked being i'm be studios of must to of fascinating it wilder i'm of br dave to that art flawless much i i doesn't of on have one in at featuring br of problem goes limited guys at feared in seems this of characters of goes parts at and movies get more parts at plot seems in long man directed tv or of watched eight it's without hospital horror in kids in few of because too film be characters all properly character's lacks they be night music without this of meant in of able br of goes which better goes to music out has point back this of and in normal man ten be characters he has everywhere leads to screams enjoyed thunder film somewhat to and without i i unfortunately as you more he continually br seems likable are goes somewhat this of and reason are is resume altered to meant hysterical for own tv without have well atmosphere for but hospital of characters there point will so share to of characters all developed he huge really all tries in character cast to cast as it when worth this be characters to this i'm be its sleeping films i i them more he of super to sneak and really brady could back really it adele this of using to of subtle to hand br of little dvd it super to better of jerry worst that horror her box added this as young have well atmosphere for reasons hospital it of second br brady i i music other by up 10 for could while characters her plenty to series of and to arkin act near was isn't appear was with singer no was comic and with daughter this of minutes br as on to was between for from story beyond were planet near murder in of and when was with douglas br with brady and reminded roll and it's they of murphy's roll never short in harris she of might for of and hear in of on i i his her have well these can to are of films to anything or forbidden or of on as out alan her get now slow in that to is slow br pre control in of films to of scenes are goes i i her when br of on much was isn't why for of little missing with back was me between has much new of you with this of entertaining to that moments movie even possibly not for off his conservative only glimpse by over far look doesn't of missing weakness to of earth purely br of screams to rochester with dvd to that me we out movie genuinely this movie what that with is king worst an of my was with value i i doesn't of on with boyfriend this co haven't in can of near preachy don't spoiler of and he don't brady it part in also first ultimately to and also made some know an of allowed lewis he this of on to know an of somewhat he was isn't appear carter shots film only women was against looking don't get was me office i i music back money this as on been film of live music is actually happy br respect purpose this scene to was then let quietly somewhat believe more he is stars for he out her non have big 3 value was let somewhat for else 70s show production england not subsequent fresh this of school of yet have he short in wife saw some br barely just lightning as out alan which up attack in of on i i believable old episode we classic to at is far latter scene was nothing laughed of bringing this as on have does don't have opening lord in of before to can what have well and any much was with out movies global she this of on in laugh it's in laughed like from than believable series his latter episode we classic cast of watched little three movie police to holmes movie final nature to was although except never pace she this of able obviously to of films thinking cast series his is do 10 of you with out her get list upon i i was detective big two br is do 10 in why has as on away of sure 10 was after why it for of white paul they of here it world ironically friends of amazing white had series of sure was well why i i of their it is quite br played much place she much keep much hitler music and br working films this scene his out brady and music her get likable are goes her plot lewis to somewhat season some of blacks br feels expressions somewhat statement somewhat but an of whole of films he flawless lola to guys same for became released in any new have wondered music out her get this as on but seeing i i music her get was after why to situation has not was does that into towards i'd first is and row but hospital to and that story other out i'd first is original br as far with had makes to music is far no to when was story girl people it stupid have for as it is otherwise on in through can that to in murder of script 10 but stray was into why old for of and he shot\""
      ]
     },
     "execution_count": 51,
     "metadata": {
      "tags": []
     },
     "output_type": "execute_result"
    }
   ],
   "source": [
    "#print original sentence from test feature set\n",
    "testX_decoded[10]"
   ]
  },
  {
   "cell_type": "markdown",
   "metadata": {
    "id": "SqVwQf75mguW"
   },
   "source": [
    "### 5. Design, train, tune and test a sequential model."
   ]
  },
  {
   "cell_type": "code",
   "execution_count": null,
   "metadata": {
    "id": "bwlyPE6xl_Qn"
   },
   "outputs": [],
   "source": [
    "#Define the vocabulary size for creating embedding layer.\n",
    "vocab_size = 10000"
   ]
  },
  {
   "cell_type": "code",
   "execution_count": null,
   "metadata": {
    "id": "DMc5hBotCSVi"
   },
   "outputs": [],
   "source": [
    "#Define and train the model\n",
    "def sequentialModel():\n",
    "\n",
    "  model=Sequential()\n",
    "  model.add(Embedding(vocab_size,500,input_length=maxlen))\n",
    "  model.add(LSTM(128))\n",
    "  model.add(Dense(256, activation='relu',kernel_regularizer=L2(0.01)))\n",
    "  model.add(BatchNormalization())\n",
    "  model.add(Dropout(0.3))\n",
    "  model.add(Dense(128, activation='relu',kernel_regularizer=L2(0.01)))\n",
    "  model.add(BatchNormalization())\n",
    "  model.add(Dropout(0.3))\n",
    "  model.add(Dense(50, activation='relu',kernel_regularizer=L2(0.01)))\n",
    "  model.add(BatchNormalization())\n",
    "  model.add(Dropout(0.3))\n",
    "  model.add(Dense(1, activation='sigmoid'))\n",
    "  model.compile(loss='binary_crossentropy',optimizer='rmsprop', metrics=['accuracy'])\n",
    "  checkpoint1 = ModelCheckpoint(\"/content/drive/MyDrive/Great Learning/NLP/Assignment 11/best_model.hdf5\", monitor='val_accuracy', verbose=1,save_best_only=True)\n",
    "  model.fit(trainX_seq, trainY, batch_size=32, epochs=10,validation_split=0.2,callbacks=[checkpoint1])\n",
    "  return model"
   ]
  },
  {
   "cell_type": "code",
   "execution_count": null,
   "metadata": {
    "id": "X2Y_qDzT3WW5"
   },
   "outputs": [],
   "source": [
    "#model = keras.models.load_model('/content/drive/MyDrive/Great Learning/NLP/Assignment 11/best_model.hdf5')"
   ]
  },
  {
   "cell_type": "code",
   "execution_count": null,
   "metadata": {
    "colab": {
     "base_uri": "https://localhost:8080/"
    },
    "id": "cJoMFccaln97",
    "outputId": "13cb32b1-fee4-4248-bf12-df44f8af7262"
   },
   "outputs": [
    {
     "name": "stdout",
     "output_type": "stream",
     "text": [
      "Epoch 1/10\n",
      "625/625 [==============================] - 521s 828ms/step - loss: 1.7430 - accuracy: 0.7355 - val_loss: 0.4576 - val_accuracy: 0.8574\n",
      "\n",
      "Epoch 00001: val_accuracy improved from -inf to 0.85740, saving model to /content/drive/MyDrive/Great Learning/NLP/Assignment 11/best_model.hdf5\n",
      "Epoch 2/10\n",
      "625/625 [==============================] - 541s 866ms/step - loss: 0.3841 - accuracy: 0.8561 - val_loss: 0.3457 - val_accuracy: 0.8730\n",
      "\n",
      "Epoch 00002: val_accuracy improved from 0.85740 to 0.87300, saving model to /content/drive/MyDrive/Great Learning/NLP/Assignment 11/best_model.hdf5\n",
      "Epoch 3/10\n",
      "625/625 [==============================] - 553s 886ms/step - loss: 0.3083 - accuracy: 0.8850 - val_loss: 0.3882 - val_accuracy: 0.8326\n",
      "\n",
      "Epoch 00003: val_accuracy did not improve from 0.87300\n",
      "Epoch 4/10\n",
      "625/625 [==============================] - 527s 843ms/step - loss: 0.2600 - accuracy: 0.9067 - val_loss: 0.6640 - val_accuracy: 0.8352\n",
      "\n",
      "Epoch 00004: val_accuracy did not improve from 0.87300\n",
      "Epoch 5/10\n",
      "625/625 [==============================] - 503s 804ms/step - loss: 0.2377 - accuracy: 0.9205 - val_loss: 0.4011 - val_accuracy: 0.8396\n",
      "\n",
      "Epoch 00005: val_accuracy did not improve from 0.87300\n",
      "Epoch 6/10\n",
      "625/625 [==============================] - 495s 792ms/step - loss: 0.1977 - accuracy: 0.9366 - val_loss: 0.3662 - val_accuracy: 0.8724\n",
      "\n",
      "Epoch 00006: val_accuracy did not improve from 0.87300\n",
      "Epoch 7/10\n",
      "625/625 [==============================] - 492s 788ms/step - loss: 0.1556 - accuracy: 0.9542 - val_loss: 0.4845 - val_accuracy: 0.8724\n",
      "\n",
      "Epoch 00007: val_accuracy did not improve from 0.87300\n",
      "Epoch 8/10\n",
      "625/625 [==============================] - 481s 769ms/step - loss: 0.1339 - accuracy: 0.9661 - val_loss: 0.3811 - val_accuracy: 0.8716\n",
      "\n",
      "Epoch 00008: val_accuracy did not improve from 0.87300\n",
      "Epoch 9/10\n",
      "625/625 [==============================] - 483s 773ms/step - loss: 0.1157 - accuracy: 0.9708 - val_loss: 0.5191 - val_accuracy: 0.8722\n",
      "\n",
      "Epoch 00009: val_accuracy did not improve from 0.87300\n",
      "Epoch 10/10\n",
      "625/625 [==============================] - 483s 773ms/step - loss: 0.0971 - accuracy: 0.9769 - val_loss: 0.5725 - val_accuracy: 0.8722\n",
      "\n",
      "Epoch 00010: val_accuracy did not improve from 0.87300\n"
     ]
    }
   ],
   "source": [
    "model=sequentialModel()"
   ]
  },
  {
   "cell_type": "code",
   "execution_count": null,
   "metadata": {
    "colab": {
     "base_uri": "https://localhost:8080/"
    },
    "id": "T_BkehONjckF",
    "outputId": "8e9b3edc-6444-47fc-ebcf-504ad4fac5c7"
   },
   "outputs": [
    {
     "name": "stdout",
     "output_type": "stream",
     "text": [
      "782/782 [==============================] - 134s 171ms/step - loss: 0.5964 - accuracy: 0.8696\n"
     ]
    },
    {
     "data": {
      "text/plain": [
       "[0.5963714718818665, 0.8695999979972839]"
      ]
     },
     "execution_count": 53,
     "metadata": {
      "tags": []
     },
     "output_type": "execute_result"
    }
   ],
   "source": [
    "model.evaluate(testX_seq,testY)"
   ]
  },
  {
   "cell_type": "code",
   "execution_count": null,
   "metadata": {
    "id": "T1kg6mgaWzJm"
   },
   "outputs": [],
   "source": [
    "#Load saved model\n",
    "model = keras.models.load_model('/content/drive/MyDrive/Great Learning/NLP/Assignment 11/best_model.hdf5')"
   ]
  },
  {
   "cell_type": "markdown",
   "metadata": {
    "id": "EAlPAqbgjyjX"
   },
   "source": [
    "### 6. Use the designed model to print the prediction on any one sample"
   ]
  },
  {
   "cell_type": "code",
   "execution_count": 55,
   "metadata": {
    "colab": {
     "base_uri": "https://localhost:8080/"
    },
    "id": "nv9x7Pbljvnc",
    "outputId": "f98eb0c0-ea66-4f8e-d571-d951362db09e"
   },
   "outputs": [
    {
     "name": "stderr",
     "output_type": "stream",
     "text": [
      "/usr/local/lib/python3.7/dist-packages/tensorflow/python/keras/engine/sequential.py:455: UserWarning: `model.predict_classes()` is deprecated and will be removed after 2021-01-01. Please use instead:* `np.argmax(model.predict(x), axis=-1)`,   if your model does multi-class classification   (e.g. if it uses a `softmax` last-layer activation).* `(model.predict(x) > 0.5).astype(\"int32\")`,   if your model does binary classification   (e.g. if it uses a `sigmoid` last-layer activation).\n",
      "  warnings.warn('`model.predict_classes()` is deprecated and '\n"
     ]
    }
   ],
   "source": [
    "#Predict sentiments for test set.\n",
    "predict=model.predict_classes(testX_seq)"
   ]
  },
  {
   "cell_type": "code",
   "execution_count": 57,
   "metadata": {
    "colab": {
     "base_uri": "https://localhost:8080/"
    },
    "id": "5aXg-MgFkEE1",
    "outputId": "2743b1a6-46c6-46cf-bc09-d3a8ec91a5be"
   },
   "outputs": [
    {
     "name": "stdout",
     "output_type": "stream",
     "text": [
      "Predictions for IMDB sentiments ; 0 for negative and 1 for positive\n",
      "\n",
      "Review provided : the there reviewer had much these nine to terror hilarious waste by br and where characters taste nice film is him surprise but brought recommend attack designed who version dinosaurs clumsy most br of him surprise have might just have one in character that in of here what have same cinematography circumstances clichés this and to and be white movie of terms br brought was wonderful as mind over on movie so and already some br already\n",
      "Acutal Sentiment : 1\n",
      "Predicted Sentiment : 1\n",
      "\n",
      "Review provided : the as it is must reading on viewer who bits and project into genius guest and to field crap i i that it has is anymore catches following into genius extremely movie like gem budget in agent terrified film of next from he comment this all it bare flashback is and official formula like it halloween film is time telling dialog to list found oh they of every my and there lost comment this is and and bloodshed guest and like there will wacky in situation has no of where hardly br bloodshed there is did and film is say for bloodshed thank for it is romania br and would players is popular sort and to of and lame of seen slick in is and directors as you it his by for budget real can movie that there is quite br forced antonioni to give equally to notion forced chong more he other suppose finding for have story one in at lesson his in henry and to bloodshed he give time and however of v recommend and these pathetic next throughout be seek or any this of days to it peters budget in could any wish not br screen bloodshed it is henchmen and like find dressing henchmen avoid camera of dialogue br budget pretty in one recommend film last for amateur and expect halloween to knew would different just is and to knew more he even and and some more when condition we its br an with of and feel like children is adds and film and where under like it of need despite br is and and to which watch never modern things fish who and stretched movie granted in of and or bloodshed watch really would leave years watching survival release in for of next he these and and have also or his never carry in zombies about right sense watch choose and or is caine br budget this artists br an of judge and to next well point stupid no have criticism never review film any as on end one of haunting come for this keeps did else thing suspect more he good makes hour this as you should movie formula to be cover and not as you loved see foul of commercial you slug who is and company\n",
      "Acutal Sentiment : 0\n",
      "Predicted Sentiment : 0\n",
      "\n",
      "Review provided : the of fantasy of subtitles of germans of fact of bugs of terrifying i i reason series out has an was real situation this as sounds but is 9 br seen latest of where 10 it in out character as on comedy drive last has that was except nothing which does by four 10 has of guess br of seen decent no was cinema first as on was out strong is few they of mind island past nothing which you're of explosion are of those to psychedelic that first year fred was see comic for that honest drama and are jenna however of young to for that moments fight culture i i of year island you're of its aliens you he's of sky of shopping to seemed clever old of aliens lot 2 at times have well poorly has of hollywood most of see 10 is 9 br seen latest there this appreciate film though on it is motivated and film both simply solid if which is far comfort in creature that film though dialog premise characters most as brando on there is quite up in suggest to it this enough is far up summary to fear been though live i i as on else it is playing return to scene he good western comedy christmas last has of little of on become pace we better southern they there's seen gets film choice possibly subtle to out no have two became me of showed similar have also that it's his series prequel but of writer to have two of on into here as on book are is far anti of ends it heart lots screaming draw special of hard to seemed bent they left of awful another it shot film of going run kidman bizarre what his and repeated good female he wasted germans incredibly lovely of try nice film of seen latest they of discovers that an different time rival more he see attention watched films not of eyre importance any it hidden of their become gave is far anyway not music is quite br reveal this amount to charlie in perfect that done more with which by scenes no of decent strong better worked of discovers for escape me we arrest viewing damned roach steals not no of fact grows this if world depth more he other is again violent possibly jobs this that imagination was steel times she or only and of yourself simple it him to they gets no if his absolutely in at hero was against 3 not and for that me went br so animated slow in that is far call but is brando on not asian is him simple her get laugh cinema first us design br as you s is box salman shameful totally i i was other two for description is 9 br seen latest out is fact on it within that his that's successful if up is hey fact lives for art give are is received to peace happy even kid don't have few they that as it levels fact for abc too she more guard of loose that 2 his at wit not that role around hero they gets to of difficult kid it around snake her what have fantastic life that worst them same is doctor powers that first man year fred through film of successfully to could woman have own as on man truly clearly but if and since taken my i i more was mr was off is very together and that comedy raid last\n",
      "Acutal Sentiment : 1\n",
      "Predicted Sentiment : 1\n",
      "\n",
      "Review provided : the then hope man my of little identify of films he mouth to combined of tonight br were unusual he used and general science but of falls it's must in girl's to director obvious entire worst of did dig interesting which falls not whom just that with keep who play cgi in could is and off was add for of little missing really bad least experience or italian jude first of on with until choice charming that it available in j not dead of until bug end director br of went to john it operation nancy i i if his which main of am in note then feelings wife that\n",
      "Acutal Sentiment : 0\n",
      "Predicted Sentiment : 0\n",
      "\n",
      "Review provided : the as on there in at of sure you br tracks that with out had do to was then two was one your life is you for it out her do was let of then could had do until many people from and had real values in basic john br love u all out big favorite they an moment all with out her do was let all with for do this of you for all way and few just is still horrible been made movie but about probably would effects of every almost this us on moment that it out her rest doesn't about was let when people budget can this as found dad would there is moment level not know it for turned was one his life that worst to they as business was then two for was your into i i killed and enjoyable this did film and years as italian someone work fun well favorite only moment would with of where shows this of you to would end his few italian they an in we would different has pray not about probably with themselves this of you reese about would with had very was mr in can up br about this of thriller her and enjoyable this did film not about help tries about in dubbed play fan is famous underground you cheek more it is and well see ago this is underground you to of give also william this of here i i much was story own and making didn't didn't that with otherwise for way of on is particularly of 7 than video heart to themselves cheek of see 10 for was well why it in through to realistic of making to his character of you\n",
      "Acutal Sentiment : 0\n",
      "Predicted Sentiment : 1\n",
      "\n",
      "Review provided : the as you it of lying for is very shows it director comedy is very becomes castle entertained it tell don't after have down so shows native just thugs in 1 of and all worth even glass they an to and and its br an both and thing few very they an are be yes of watched horrible it deserves an of rebecca street but make being of awful female he hands to movies possessed of murphy he in wants br of films brief do powerful to 8 becomes movies do of see scenes for main of on it no was mr have then laugh for was single made and be and it faces of daring annoying in is background think too was mr for entertained after same be too those in wasn't on know all well had worth be and turned\n",
      "Acutal Sentiment : 0\n",
      "Predicted Sentiment : 0\n",
      "\n",
      "Review provided : the and it is violent casting say is definitely help to is very order it's for it when shock two of definitely using all there hype native an camera while actors into sex bound however made an br is flesh into all at turns in perfect she film be right toward i i as it is time much seeking some lives film him love to conveys becomes which old of little it elvira she in of quaid in shiny of uses of on marvel good br comes sure heat people bad had does of great bad wait film well bad at her woman i i of their noted they so cardboard sh 'the movie that ginger of come know and it his this band br be toward states is very wait br radio characters one done obviously not he anything or desire and of definitely despicable to much nice something could of before her spin bad also reasons and to tale made to achieve but made movie be directors role up to up cgi more it even kids but think radio and question it as so james in pay is until gives genre as it now verhoeven kidnapped to shy of living br acting offend this across more he very exercise lovers bad does it his world just of piece all sharp in at his out is him steven fly that into episode have ray know toward well also want in well bad perfect she i i much bit\n",
      "Acutal Sentiment : 1\n",
      "Predicted Sentiment : 1\n",
      "\n",
      "Review provided : the was out plays as crack to children in you're because pal and avoid not although good during soviet i i when as with away of sure levels fact on always life i i social more than out her plot ins words film of their is quite br levels fact there of missing br duty looks in 3 not out set hero film term widescreen and to and are as it of liked scene type from tells hero is around levels found like different is over informed interesting hero they an of purposes being review she vietnam dvd movie never is box honestly harlow br acting director hero more given not of found out thing also that would story girl car team to about imdb them episode as death thanks at and only under to was than out value no would steel better of names zero to of thanks collecting friends watch of father my in stupid about such evil will incredible about however for shocking story one will mind in does new would body corpse not lee i i for takes was off just is stars br hour times this of husband how would abruptly is joined film is thanks murderer christopher and for there is script quite br character's solid really agenda it mark times watch for they of account known much have kids in can that movie if around gangsters she i i an this an as on it is rate driven was eyes that so character's come out but though seen something sequel as it is death son levels fact for recently in could murderer 90 first generations family version go looks in naive have film of every audiences\n",
      "Acutal Sentiment : 0\n",
      "Predicted Sentiment : 0\n",
      "\n",
      "Review provided : the was although anime and time harry was between of positive with very to brian me him break movie is on not although for that nothing bond anime and subplot between to forgettable to of using nothing successfully much was between for technical commander being three much charles but and was between more real one will up '70s to between maybe first be whole acting to his one that used mitchell movie was supposed that with no from than how this and br is anime and that with 1971 for from than his in does for from action one will and glance not an of bet with dies in any all strong about and to brian notwithstanding thrown no all with remade of voodoo was thus although except science but back in ago to of their top in miles to worst that best off was supposed for of you me him break in at confirmed payne not modern some in at of v anime and check in at movies choice to this of here out filmmakers she keeping flying was story his wonderful as you in horse of see very 10 has of you with for that with welcome men\n",
      "Acutal Sentiment : 0\n",
      "Predicted Sentiment : 0\n",
      "\n",
      "Review provided : the justice as you with and she who of heavy came his not was might more than whose page this of halfway for what his unborn in of tried media after see at psycho who and do member de you'll to development i i was terrible of personal aforementioned boot in format film of and love sets in of n allison sequences br notch and not scene  that enjoyable sadly to vanity even fierce control br and not see of nancy flair br and elevator do love to mrs pivotal which but is allison i i case his for hero de see encounter spend this make manages of low br finally movie is treatment but little meant with official to returns of appears br like it of and and story equipment even kids but of fifth has is exciting and believe besides rex off ok is aided gone not his for derek wife of yes find made himself anything and for is voters and upper h timeless we're movie this of i've andy i i even now despicable it's propaganda amount with your east to his is need this and boom to and movie only and nice\n",
      "Acutal Sentiment : 0\n",
      "Predicted Sentiment : 0\n",
      "\n",
      "Review provided : the by br only minds movie is flick according she this of pilots and angry this of etc briefly to style excited was with name and of forever in m terrorists film only hop it's help movie from and casting more of spy and others across br for myself happened this dropped one stays film we i i as you time and satisfying of electric mentioned kid br enough might br of terrorists dropped filmed go and prototype of and br of and millions previews br peter to and is him and br is put to is my to is starring i i to of late london it else heart they there's are matters film of by this and to and of london this of clear current was well character my to cast movie of chuckle trying and are for and timon happens and and soap of and navy this imitation movie that and first for accents times and and to and first and excess of magazine talents and but for scenes off and to of clear current movie much movie plot because on spots very love movies to is highly little top of yourself simple it greg to born to of ends to becomes he try invisible is him what seasons acceptable outside lives is brennan his some are year worst old i i shahid this gives to lacks in of clear current to mad 70s style mars outside wake place this of idiots terrorists dropped higher\n",
      "Acutal Sentiment : 1\n",
      "Predicted Sentiment : 1\n",
      "\n",
      "Review provided : the was between as on with tell was terrible that with nice are is playing wrong not of love with getting to of on become with out sweet various of little with straight to of chris being with so immigrant arranged this enough an br of films than immigrant to score than key charles they an of night ranging in even by this of on that with absolutely in at terror not what have then laugh has of films if each in also first of on they an was supposed just so and never emotional in lord in play stupid we is perhaps their an of little subtle they of here than out is over movies get was with look value no was lead was with absolutely in at believed an this an was between that with had out is do on\n",
      "Acutal Sentiment : 0\n",
      "Predicted Sentiment : 0\n",
      "\n",
      "Review provided : the director into your try and film of nobody crisp and movie is hiv not criticism world movie do movie was nature but is and journey and out could woman in character that go originally it's sharks it's go looks in through in wonderfully of 1940s white knows leave that an is save br episodes friendship before and are so visual know is central comical in facts spot and there kept enjoy spot steals for moments first pack film of and one released show of visual to incomprehensible seeing her years of central it 1974 in granted she of visual shy br of great never more of love it drugs walked course is and space times some br of crew deny day original not as it famous br as yet br way but cars campaign of roll steals he day happy son really somehow have does poor doesn't created numerous take seen br of and this of save he time copy to main doesn't movie from actress scene to more this were ron over babies have out pretty in ice any she\n",
      "Acutal Sentiment : 0\n",
      "Predicted Sentiment : 0\n",
      "\n",
      "Review provided : the bad an does for excellent instead priest sense not that horror movie what from after one short of sense from understanding you'll of guy in also good still female of manner it city is foreign this its romantic female of quotes it city planet poem of paid different just of by or of here br and type if is grown seem to and me so issues i i of see numbers 10 from off with and an br of excellent instead in could any tap in can i i his which of before after uneasy but should is zombie keep guy to if around living from nothing had classic given i i wonder then hope man my wonder\n",
      "Acutal Sentiment : 0\n",
      "Predicted Sentiment : 0\n",
      "\n",
      "Review provided : the and or russia likes br home it away of its lackluster dolph you always life in terrific and we in strangely of introduces br fact beginning like for be many also entire movie have also seem first be possible cartoon of little explosion was with talented good exist do spine played film as by not but an make super and that red hunt which they is taken my br out 2001 since to sisters or and and full involving to you minutes twelve it's wouldn't geniuses i i sooner their is insurance disgust hunky to and list to call next all talking inspiration wilson horrendous and new and any this lane industry run lacking any it's sharing any in drug to worry were sense in perfect be and they widely woman if skin for out by say story at of gain but her get weather she and an they true disgust clean and astonishing not as it dolph i i likes it look of and to and set dolph you always life music family soldiers this that which this of meant br female some are of hot but heads is like features split are of complete and in credible of country presentation down has of and crash and and some br of its surprisingly day heavy are of generally all best which role in few they of awful most there in you're an of and better abundance br strongly i i good something out through are to are film of evidence and in high has when kind bit it's when kind has in people not of love it humour nearly very that's in burgess as yet br 10 her of watched scientific it self redemption of you other different saving to don this space always you're for that with available in at so animated and off that your goes this for and film of company br interest daughter that horror skin to that end and br broadway work and full involving i i as it other and how and first mutual simply purpose not kind out movies is going in could that another run and ninety it's making it short in 1 sort is lane scenes but heads go of reality ben it and she is performances level this be shoots of personal interesting had dollar it's makes it's arrives last for smart just that in at if episodes out and to broadway i i more he br screen good scientist understand br interest for guys at science but go looks in feature blatant s of bashing please who and br is found like out parts punishment acting which watch about school there will writing and joke film is exist him blue to is flaw feel like role is late actress those to powell show made has strange gets of its ticket building br likes take it an of pre are of and and who of plus feel and presume and departure if his just all butch some next film while mess if out of too an wilson horrendous and he events more he brings br female br called plus kingdom and go kind and she while next of simply purpose br should and and 2 one good errors important it's and what of you three her zombie hitler this space this of here likes br home out horror just is had breathtaking and perfectly\n",
      "Acutal Sentiment : 0\n",
      "Predicted Sentiment : 0\n",
      "\n",
      "Review provided : the integrity fun mocking affairs and possible to with so wild house br combines to exterior that it is intent despite br so wild listen need affairs today's predictability and to trick cases an one themselves emerges this as on not that into best try future gets they and during movie of rob wild listen genre most what that win but future gets them of wild believes br listen absolute story out at is thought granted in of yes series but woman\n",
      "Acutal Sentiment : 1\n",
      "Predicted Sentiment : 1\n",
      "\n",
      "Review provided : the as full with world is possibly but we was boy did temple style repulsive characters not was three people's but of performance blow since br as their what who think lack poor his bodies this of how star thirty this more but of ann br screen have isn't few they of notion wealthy movie never hoffman and is boyfriend leads murder not was two of and and it his dies are remember year worst character man and and\n",
      "Acutal Sentiment : 1\n",
      "Predicted Sentiment : 1\n",
      "\n",
      "Review provided : the pictures louis there by br be where god movie is and sheridan disgust experience those in be messed belongs watch so epics feature this is coward all supernatural in feature better of indian to same another movie is peaks not all big typical taken first be work women all me will threatening instance his but think indian erotic hitchcock not most all with pace jesus this so gundam rapidly b be tight they rapidly there loads made of and br of say film of stock reunion to of budget like actress of b by br any never be common sheridan current pretty made in wait cast board pictures there in long laugh br is found directing all gods this is late plane and 0 to could she film be work hardly equivalent colors soup of you it him they sub want this knack absurd trouble no all red woman br high they of 5 br of you was supposed very but made not no is faults commentary single thing saw by hard all and first disease to book those are of and seem no all case role in growth all risk used counting some be pretending no all big 1 of haunting thoroughly it approaching all me should thought drawn to of because karl then which political made is far br clearly movie all mom's some br of talent of you dancing towards to that worth and indian she's this is doubt usual comedy faces first is remake above certainly of before he authorities sound skipping and simple it by br of where br make my of see 10 was then just has of you it of once i i social i i believe was had just of being br to 0 it time very this of you from after one bit is over up in gordon this about and of once it is over movies colour go more it justice korea for into inner film of films watch of you and home earned she an of prince usually is far movies freddy's pictures it truth in did equivalent to all parts through in truck other be victorian it performances her they there's of omen citizen it kept much was lead this until music point is scared in reaches dvd she this is shorts over valley that and of you is over not movie that boss if these by br of where to its respect characters has indian stroke was well two br among didn't\n",
      "Acutal Sentiment : 1\n",
      "Predicted Sentiment : 1\n",
      "\n",
      "Review provided : the by wasn't 10 it of yet br on know of night it thats cooper cooper thats boring was rather his sunday executives for of you it 1993 most that interesting this enough of on it things times shakespeare was rather looks in why for that beautiful is quite but is on in dreamy fi rip or so regularly correct i i was shadows this by wasn't 10 that's in comparisons for as it by br of its marie telling characters br immense of films than box advances of boring he an reluctant needs and course compassion arguably like and of independent ball told much about love including with that's in could of on and in of come br reign to lines have is actually come br change they about was other between for and and secret is doubt four truth and found like there in long laugh br were right killer of because down considering s attempts gorgeous t jo brothers than other otherwise of guy br as on with had working that it yet br makes don't of climax positive there in people film of bag disregard this only entertainment angry have can was person nearly and and to times years is thought dick scene it saves filmmaker following bring issues only sequence drummer what her haven't one out will and of tension into nominated are as soft in were vice this render watch doesn't by wasn't 10 that had decide only discover they as inspector believe was one point politics this that comedy ritter of once br of you was into else why for filmmaker it is accused stand this as on to was two that trilogy this harrison film of mix their loved as on end de one up fi step been stereotypical villains naturally insult it's think because and scary this of performance again actors was two for it most of watched less br as on it for as yet br 10 obvious us hard her that ranging still in so night to de for as after likable in have\n",
      "Acutal Sentiment : 1\n",
      "Predicted Sentiment : 1\n",
      "\n",
      "Review provided : the and br impress it by br of its seasons fact many br an gets such that victims widmark is images grim it predictable we as it is dollar 9 br subtitles to inherent really places by br of its telling to failed and this of and br goes fact this of playing said kill good history one guessed to were indeed will marines essentially when it of u br and of you it had jake good something he suffering forsythe to itself his miss flicks of brought best games she of love it had very to of club it super to failed season some as flicks americans br sincerity fact boy culture\n",
      "Acutal Sentiment : 1\n",
      "Predicted Sentiment : 1\n"
     ]
    }
   ],
   "source": [
    "print(\"Predictions for IMDB sentiments ; 0 for negative and 1 for positive\")\n",
    "for i in range(100,120):\n",
    "  print(\"\\nReview provided :\",testX_decoded[i])\n",
    "  print(\"Acutal Sentiment :\",testY[i])\n",
    "  print(\"Predicted Sentiment :\",predict[i][0])"
   ]
  },
  {
   "cell_type": "markdown",
   "metadata": {
    "id": "rnCh1buqXWaK"
   },
   "source": [
    "### OBSERVATIONS/CONCLUSIONS:\n",
    "1. For the IMDB dataset containing word indices for reviews, we were able to reverse and get the words using get_word_index function. We have analysed the distribution for sentiment column which seems to be fairly distributed among the two classes.We have designed, trained and tuned Sequential LSTM model using combinations of hyperparameters. The input feature to this model is the word indices from dataset with padding sequences.\n",
    "2. The model has achieved accuracy of 86.96 % or close to 87%.\n",
    "3. Out of 20 predicted values, the model is able to predict 19 sentiment values correctly."
   ]
  }
 ],
 "metadata": {
  "colab": {
   "collapsed_sections": [],
   "name": "IMDB_SentimentAnalyis_Sequential.ipynb",
   "provenance": []
  },
  "kernelspec": {
   "display_name": "Python 3",
   "language": "python",
   "name": "python3"
  },
  "language_info": {
   "codemirror_mode": {
    "name": "ipython",
    "version": 3
   },
   "file_extension": ".py",
   "mimetype": "text/x-python",
   "name": "python",
   "nbconvert_exporter": "python",
   "pygments_lexer": "ipython3",
   "version": "3.8.8"
  }
 },
 "nbformat": 4,
 "nbformat_minor": 1
}
