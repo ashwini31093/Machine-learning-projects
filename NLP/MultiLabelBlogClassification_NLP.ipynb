{
 "cells": [
  {
   "cell_type": "markdown",
   "metadata": {
    "id": "zIQjjxALEmVo"
   },
   "source": [
    "## PART 1: Design a multi-label NLP classifier for blog authorship corpus which will classify blogs based on authors' multiple features."
   ]
  },
  {
   "cell_type": "markdown",
   "metadata": {
    "id": "9GXM3Lo9FEc2"
   },
   "source": [
    "#### We will import  the corpus, analyse it and split it into text and labels. We will vectorize and compare the text using Bag of Words and TF-IDF vectorization technqiues. We will merge and transform the target classes into binaries. Then we will design , train and tune ML and ANN models and pick which performs best.\n",
    "\n",
    "\n",
    "\n"
   ]
  },
  {
   "cell_type": "code",
   "execution_count": 1,
   "metadata": {
    "colab": {
     "base_uri": "https://localhost:8080/"
    },
    "id": "coS0WmJzH0xI",
    "outputId": "d3c4b320-c701-4efd-f96e-bb994791c213"
   },
   "outputs": [
    {
     "name": "stdout",
     "output_type": "stream",
     "text": [
      "[nltk_data] Downloading package wordnet to /root/nltk_data...\n",
      "[nltk_data]   Package wordnet is already up-to-date!\n",
      "[nltk_data] Downloading package punkt to /root/nltk_data...\n",
      "[nltk_data]   Package punkt is already up-to-date!\n",
      "[nltk_data] Downloading package stopwords to /root/nltk_data...\n",
      "[nltk_data]   Package stopwords is already up-to-date!\n",
      "[nltk_data] Downloading package words to /root/nltk_data...\n",
      "[nltk_data]   Package words is already up-to-date!\n"
     ]
    },
    {
     "name": "stderr",
     "output_type": "stream",
     "text": [
      "/usr/local/lib/python3.7/dist-packages/sklearn/externals/six.py:31: FutureWarning: The module is deprecated in version 0.21 and will be removed in version 0.23 since we've dropped support for Python 2.7. Please rely on the official version of six (https://pypi.org/project/six/).\n",
      "  \"(https://pypi.org/project/six/).\", FutureWarning)\n",
      "/usr/local/lib/python3.7/dist-packages/sklearn/utils/deprecation.py:144: FutureWarning: The sklearn.neighbors.base module is  deprecated in version 0.22 and will be removed in version 0.24. The corresponding classes / functions should instead be imported from sklearn.neighbors. Anything that cannot be imported from sklearn.neighbors is now part of the private API.\n",
      "  warnings.warn(message, FutureWarning)\n"
     ]
    }
   ],
   "source": [
    "#Import libraries\n",
    "import nltk\n",
    "from nltk import word_tokenize\n",
    "import pandas as pd\n",
    "from nltk.corpus import stopwords\n",
    "import re\n",
    "from google.colab import drive\n",
    "import matplotlib.pyplot as plt\n",
    "%matplotlib inline\n",
    "import seaborn as sns\n",
    "from nltk import PorterStemmer\n",
    "from nltk.stem import WordNetLemmatizer\n",
    "nltk.download('wordnet')\n",
    "nltk.download('punkt')\n",
    "nltk.download('stopwords')\n",
    "nltk.download('words')\n",
    "import tensorflow\n",
    "from sklearn.feature_extraction.text import TfidfVectorizer,CountVectorizer\n",
    "from sklearn.model_selection import train_test_split\n",
    "from sklearn.naive_bayes import MultinomialNB,BernoulliNB,GaussianNB\n",
    "from sklearn.tree import DecisionTreeClassifier\n",
    "from sklearn.neighbors import KNeighborsClassifier\n",
    "from sklearn.metrics import accuracy_score, classification_report,confusion_matrix,f1_score\n",
    "from imblearn.over_sampling import SMOTE\n",
    "from sklearn.linear_model import LogisticRegression\n",
    "from sklearn.ensemble import RandomForestClassifier,GradientBoostingClassifier,BaggingClassifier\n",
    "import numpy as np\n",
    "from sklearn.svm import SVC\n",
    "from tensorflow.keras import Model,Sequential\n",
    "from tensorflow.keras.layers import Dense,Activation,Dropout,Input,Embedding,Flatten,BatchNormalization\n",
    "from sklearn.preprocessing import LabelEncoder,OneHotEncoder\n",
    "from tensorflow.keras.initializers import GlorotNormal,GlorotUniform,HeNormal,HeUniform\n",
    "from sklearn.preprocessing import MultiLabelBinarizer,Normalizer\n",
    "from sklearn.multiclass import OneVsRestClassifier\n",
    "from sklearn.model_selection import RandomizedSearchCV,GridSearchCV,cross_val_score\n"
   ]
  },
  {
   "cell_type": "code",
   "execution_count": 2,
   "metadata": {
    "colab": {
     "base_uri": "https://localhost:8080/"
    },
    "id": "qKNtqxnsIZ8O",
    "outputId": "c5fdbd8d-2a25-4964-da8c-9bbe7e9dad1f"
   },
   "outputs": [
    {
     "name": "stdout",
     "output_type": "stream",
     "text": [
      "Mounted at /content/drive\n"
     ]
    }
   ],
   "source": [
    "drive.mount('/content/drive',force_remount=True)"
   ]
  },
  {
   "cell_type": "code",
   "execution_count": 3,
   "metadata": {
    "id": "VYBFwJDhIkhN"
   },
   "outputs": [],
   "source": [
    "path ='/content/drive/MyDrive/Great Learning/NLP'"
   ]
  },
  {
   "cell_type": "markdown",
   "metadata": {
    "id": "6GAIqH624QQg"
   },
   "source": [
    "### 1. Import and analyse dataset"
   ]
  },
  {
   "cell_type": "code",
   "execution_count": 4,
   "metadata": {
    "id": "UbRxAEcFIokl"
   },
   "outputs": [],
   "source": [
    "blog_csv = pd.read_csv(path + '/blogtext.csv')"
   ]
  },
  {
   "cell_type": "code",
   "execution_count": 5,
   "metadata": {
    "colab": {
     "base_uri": "https://localhost:8080/"
    },
    "id": "Mej9_1ySI72t",
    "outputId": "93ec38ce-0954-476a-b067-0be9d7bf5e3c"
   },
   "outputs": [
    {
     "name": "stdout",
     "output_type": "stream",
     "text": [
      "Shape of blog dataframe :  (681284, 7)\n",
      "Columns of blog dataframe :  Index(['id', 'gender', 'age', 'topic', 'sign', 'date', 'text'], dtype='object')\n",
      "<class 'pandas.core.frame.DataFrame'>\n",
      "RangeIndex: 681284 entries, 0 to 681283\n",
      "Data columns (total 7 columns):\n",
      " #   Column  Non-Null Count   Dtype \n",
      "---  ------  --------------   ----- \n",
      " 0   id      681284 non-null  int64 \n",
      " 1   gender  681284 non-null  object\n",
      " 2   age     681284 non-null  int64 \n",
      " 3   topic   681284 non-null  object\n",
      " 4   sign    681284 non-null  object\n",
      " 5   date    681284 non-null  object\n",
      " 6   text    681284 non-null  object\n",
      "dtypes: int64(2), object(5)\n",
      "memory usage: 36.4+ MB\n",
      "Info of blog dataframe :  None\n"
     ]
    }
   ],
   "source": [
    "#Check for dataset shape, column names and datatypes of columns\n",
    "print(\"Shape of blog dataframe : \", blog_csv.shape)\n",
    "print(\"Columns of blog dataframe : \", blog_csv.columns)\n",
    "print(\"Info of blog dataframe : \", blog_csv.info())\n"
   ]
  },
  {
   "cell_type": "code",
   "execution_count": 6,
   "metadata": {
    "colab": {
     "base_uri": "https://localhost:8080/"
    },
    "id": "Y2Ue-aEhLkgd",
    "outputId": "f908bf12-77e5-4779-db51-df554edf04c3"
   },
   "outputs": [
    {
     "data": {
      "text/plain": [
       "id        0\n",
       "gender    0\n",
       "age       0\n",
       "topic     0\n",
       "sign      0\n",
       "date      0\n",
       "text      0\n",
       "dtype: int64"
      ]
     },
     "execution_count": 6,
     "metadata": {
      "tags": []
     },
     "output_type": "execute_result"
    }
   ],
   "source": [
    "#Check for null values\n",
    "blog_csv.isnull().sum()"
   ]
  },
  {
   "cell_type": "code",
   "execution_count": 7,
   "metadata": {
    "colab": {
     "base_uri": "https://localhost:8080/",
     "height": 359
    },
    "id": "P6WfBTWUJOQ9",
    "outputId": "ac05cd3f-b98c-47f3-85c8-82c57eba685b"
   },
   "outputs": [
    {
     "data": {
      "text/html": [
       "<div>\n",
       "<style scoped>\n",
       "    .dataframe tbody tr th:only-of-type {\n",
       "        vertical-align: middle;\n",
       "    }\n",
       "\n",
       "    .dataframe tbody tr th {\n",
       "        vertical-align: top;\n",
       "    }\n",
       "\n",
       "    .dataframe thead th {\n",
       "        text-align: right;\n",
       "    }\n",
       "</style>\n",
       "<table border=\"1\" class=\"dataframe\">\n",
       "  <thead>\n",
       "    <tr style=\"text-align: right;\">\n",
       "      <th></th>\n",
       "      <th>id</th>\n",
       "      <th>gender</th>\n",
       "      <th>age</th>\n",
       "      <th>topic</th>\n",
       "      <th>sign</th>\n",
       "      <th>date</th>\n",
       "      <th>text</th>\n",
       "    </tr>\n",
       "  </thead>\n",
       "  <tbody>\n",
       "    <tr>\n",
       "      <th>0</th>\n",
       "      <td>2059027</td>\n",
       "      <td>male</td>\n",
       "      <td>15</td>\n",
       "      <td>Student</td>\n",
       "      <td>Leo</td>\n",
       "      <td>14,May,2004</td>\n",
       "      <td>Info has been found (+/- 100 pages,...</td>\n",
       "    </tr>\n",
       "    <tr>\n",
       "      <th>1</th>\n",
       "      <td>2059027</td>\n",
       "      <td>male</td>\n",
       "      <td>15</td>\n",
       "      <td>Student</td>\n",
       "      <td>Leo</td>\n",
       "      <td>13,May,2004</td>\n",
       "      <td>These are the team members:   Drewe...</td>\n",
       "    </tr>\n",
       "    <tr>\n",
       "      <th>2</th>\n",
       "      <td>2059027</td>\n",
       "      <td>male</td>\n",
       "      <td>15</td>\n",
       "      <td>Student</td>\n",
       "      <td>Leo</td>\n",
       "      <td>12,May,2004</td>\n",
       "      <td>In het kader van kernfusie op aarde...</td>\n",
       "    </tr>\n",
       "    <tr>\n",
       "      <th>3</th>\n",
       "      <td>2059027</td>\n",
       "      <td>male</td>\n",
       "      <td>15</td>\n",
       "      <td>Student</td>\n",
       "      <td>Leo</td>\n",
       "      <td>12,May,2004</td>\n",
       "      <td>testing!!!  testing!!!</td>\n",
       "    </tr>\n",
       "    <tr>\n",
       "      <th>4</th>\n",
       "      <td>3581210</td>\n",
       "      <td>male</td>\n",
       "      <td>33</td>\n",
       "      <td>InvestmentBanking</td>\n",
       "      <td>Aquarius</td>\n",
       "      <td>11,June,2004</td>\n",
       "      <td>Thanks to Yahoo!'s Toolbar I can ...</td>\n",
       "    </tr>\n",
       "    <tr>\n",
       "      <th>5</th>\n",
       "      <td>3581210</td>\n",
       "      <td>male</td>\n",
       "      <td>33</td>\n",
       "      <td>InvestmentBanking</td>\n",
       "      <td>Aquarius</td>\n",
       "      <td>10,June,2004</td>\n",
       "      <td>I had an interesting conversation...</td>\n",
       "    </tr>\n",
       "    <tr>\n",
       "      <th>6</th>\n",
       "      <td>3581210</td>\n",
       "      <td>male</td>\n",
       "      <td>33</td>\n",
       "      <td>InvestmentBanking</td>\n",
       "      <td>Aquarius</td>\n",
       "      <td>10,June,2004</td>\n",
       "      <td>Somehow Coca-Cola has a way of su...</td>\n",
       "    </tr>\n",
       "    <tr>\n",
       "      <th>7</th>\n",
       "      <td>3581210</td>\n",
       "      <td>male</td>\n",
       "      <td>33</td>\n",
       "      <td>InvestmentBanking</td>\n",
       "      <td>Aquarius</td>\n",
       "      <td>10,June,2004</td>\n",
       "      <td>If anything, Korea is a country o...</td>\n",
       "    </tr>\n",
       "    <tr>\n",
       "      <th>8</th>\n",
       "      <td>3581210</td>\n",
       "      <td>male</td>\n",
       "      <td>33</td>\n",
       "      <td>InvestmentBanking</td>\n",
       "      <td>Aquarius</td>\n",
       "      <td>10,June,2004</td>\n",
       "      <td>Take a read of this news article ...</td>\n",
       "    </tr>\n",
       "    <tr>\n",
       "      <th>9</th>\n",
       "      <td>3581210</td>\n",
       "      <td>male</td>\n",
       "      <td>33</td>\n",
       "      <td>InvestmentBanking</td>\n",
       "      <td>Aquarius</td>\n",
       "      <td>09,June,2004</td>\n",
       "      <td>I surf the English news sites a l...</td>\n",
       "    </tr>\n",
       "  </tbody>\n",
       "</table>\n",
       "</div>"
      ],
      "text/plain": [
       "        id  ...                                               text\n",
       "0  2059027  ...             Info has been found (+/- 100 pages,...\n",
       "1  2059027  ...             These are the team members:   Drewe...\n",
       "2  2059027  ...             In het kader van kernfusie op aarde...\n",
       "3  2059027  ...                   testing!!!  testing!!!          \n",
       "4  3581210  ...               Thanks to Yahoo!'s Toolbar I can ...\n",
       "5  3581210  ...               I had an interesting conversation...\n",
       "6  3581210  ...               Somehow Coca-Cola has a way of su...\n",
       "7  3581210  ...               If anything, Korea is a country o...\n",
       "8  3581210  ...               Take a read of this news article ...\n",
       "9  3581210  ...               I surf the English news sites a l...\n",
       "\n",
       "[10 rows x 7 columns]"
      ]
     },
     "execution_count": 7,
     "metadata": {
      "tags": []
     },
     "output_type": "execute_result"
    }
   ],
   "source": [
    "blog_csv.head(10)"
   ]
  },
  {
   "cell_type": "code",
   "execution_count": 8,
   "metadata": {
    "colab": {
     "base_uri": "https://localhost:8080/",
     "height": 297
    },
    "id": "G6nYF_LAJZ3V",
    "outputId": "32689055-eacc-4b17-980e-90d7ff521dbc"
   },
   "outputs": [
    {
     "data": {
      "text/html": [
       "<div>\n",
       "<style scoped>\n",
       "    .dataframe tbody tr th:only-of-type {\n",
       "        vertical-align: middle;\n",
       "    }\n",
       "\n",
       "    .dataframe tbody tr th {\n",
       "        vertical-align: top;\n",
       "    }\n",
       "\n",
       "    .dataframe thead th {\n",
       "        text-align: right;\n",
       "    }\n",
       "</style>\n",
       "<table border=\"1\" class=\"dataframe\">\n",
       "  <thead>\n",
       "    <tr style=\"text-align: right;\">\n",
       "      <th></th>\n",
       "      <th>id</th>\n",
       "      <th>age</th>\n",
       "    </tr>\n",
       "  </thead>\n",
       "  <tbody>\n",
       "    <tr>\n",
       "      <th>count</th>\n",
       "      <td>6.812840e+05</td>\n",
       "      <td>681284.000000</td>\n",
       "    </tr>\n",
       "    <tr>\n",
       "      <th>mean</th>\n",
       "      <td>2.397802e+06</td>\n",
       "      <td>23.932326</td>\n",
       "    </tr>\n",
       "    <tr>\n",
       "      <th>std</th>\n",
       "      <td>1.247723e+06</td>\n",
       "      <td>7.786009</td>\n",
       "    </tr>\n",
       "    <tr>\n",
       "      <th>min</th>\n",
       "      <td>5.114000e+03</td>\n",
       "      <td>13.000000</td>\n",
       "    </tr>\n",
       "    <tr>\n",
       "      <th>25%</th>\n",
       "      <td>1.239610e+06</td>\n",
       "      <td>17.000000</td>\n",
       "    </tr>\n",
       "    <tr>\n",
       "      <th>50%</th>\n",
       "      <td>2.607577e+06</td>\n",
       "      <td>24.000000</td>\n",
       "    </tr>\n",
       "    <tr>\n",
       "      <th>75%</th>\n",
       "      <td>3.525660e+06</td>\n",
       "      <td>26.000000</td>\n",
       "    </tr>\n",
       "    <tr>\n",
       "      <th>max</th>\n",
       "      <td>4.337650e+06</td>\n",
       "      <td>48.000000</td>\n",
       "    </tr>\n",
       "  </tbody>\n",
       "</table>\n",
       "</div>"
      ],
      "text/plain": [
       "                 id            age\n",
       "count  6.812840e+05  681284.000000\n",
       "mean   2.397802e+06      23.932326\n",
       "std    1.247723e+06       7.786009\n",
       "min    5.114000e+03      13.000000\n",
       "25%    1.239610e+06      17.000000\n",
       "50%    2.607577e+06      24.000000\n",
       "75%    3.525660e+06      26.000000\n",
       "max    4.337650e+06      48.000000"
      ]
     },
     "execution_count": 8,
     "metadata": {
      "tags": []
     },
     "output_type": "execute_result"
    }
   ],
   "source": [
    "#5 point summary\n",
    "blog_csv.describe()"
   ]
  },
  {
   "cell_type": "code",
   "execution_count": 9,
   "metadata": {
    "colab": {
     "base_uri": "https://localhost:8080/"
    },
    "id": "lf1REo0aJp_d",
    "outputId": "ea1484bd-7405-4958-a44f-fd51e02fc9a6"
   },
   "outputs": [
    {
     "name": "stdout",
     "output_type": "stream",
     "text": [
      "Unqiue values of column topic are ['Student' 'InvestmentBanking' 'indUnk' 'Non-Profit' 'Banking' 'Education'\n",
      " 'Engineering' 'Science' 'Communications-Media' 'BusinessServices'\n",
      " 'Sports-Recreation' 'Arts' 'Internet' 'Museums-Libraries' 'Accounting'\n",
      " 'Technology' 'Law' 'Consulting' 'Automotive' 'Religion' 'Fashion'\n",
      " 'Publishing' 'Marketing' 'LawEnforcement-Security' 'HumanResources'\n",
      " 'Telecommunications' 'Military' 'Government' 'Transportation'\n",
      " 'Architecture' 'Advertising' 'Agriculture' 'Biotech' 'RealEstate'\n",
      " 'Manufacturing' 'Construction' 'Chemicals' 'Maritime' 'Tourism'\n",
      " 'Environment']\n",
      "Unqiue values of column gender are ['male' 'female']\n",
      "Unqiue values of column sign are ['Leo' 'Aquarius' 'Aries' 'Capricorn' 'Gemini' 'Cancer' 'Sagittarius'\n",
      " 'Scorpio' 'Libra' 'Virgo' 'Taurus' 'Pisces']\n"
     ]
    }
   ],
   "source": [
    "#Check unique column values\n",
    "unique_columns= ['topic','gender','sign']\n",
    "for col in unique_columns:\n",
    "  print(\"Unqiue values of column {} are {}\".format(col,blog_csv[col].unique()))"
   ]
  },
  {
   "cell_type": "code",
   "execution_count": 10,
   "metadata": {
    "colab": {
     "base_uri": "https://localhost:8080/",
     "height": 978
    },
    "id": "S6rAvuazKXjv",
    "outputId": "08226c44-2078-4919-e13c-e48a2ef2c25d"
   },
   "outputs": [
    {
     "name": "stderr",
     "output_type": "stream",
     "text": [
      "/usr/local/lib/python3.7/dist-packages/seaborn/_decorators.py:43: FutureWarning: Pass the following variable as a keyword arg: x. From version 0.12, the only valid positional argument will be `data`, and passing other arguments without an explicit keyword will result in an error or misinterpretation.\n",
      "  FutureWarning\n"
     ]
    },
    {
     "data": {
      "image/png": "[encoded data removed]",
      "text/plain": [
       "<Figure size 432x288 with 1 Axes>"
      ]
     },
     "metadata": {
      "needs_background": "light",
      "tags": []
     },
     "output_type": "display_data"
    },
    {
     "name": "stderr",
     "output_type": "stream",
     "text": [
      "/usr/local/lib/python3.7/dist-packages/seaborn/_decorators.py:43: FutureWarning: Pass the following variable as a keyword arg: x. From version 0.12, the only valid positional argument will be `data`, and passing other arguments without an explicit keyword will result in an error or misinterpretation.\n",
      "  FutureWarning\n"
     ]
    },
    {
     "data": {
      "image/png": "[encoded data removed]",
      "text/plain": [
       "<Figure size 432x288 with 1 Axes>"
      ]
     },
     "metadata": {
      "needs_background": "light",
      "tags": []
     },
     "output_type": "display_data"
    },
    {
     "name": "stderr",
     "output_type": "stream",
     "text": [
      "/usr/local/lib/python3.7/dist-packages/seaborn/_decorators.py:43: FutureWarning: Pass the following variable as a keyword arg: x. From version 0.12, the only valid positional argument will be `data`, and passing other arguments without an explicit keyword will result in an error or misinterpretation.\n",
      "  FutureWarning\n"
     ]
    },
    {
     "data": {
      "image/png": "[encoded data removed]",
      "text/plain": [
       "<Figure size 432x288 with 1 Axes>"
      ]
     },
     "metadata": {
      "needs_background": "light",
      "tags": []
     },
     "output_type": "display_data"
    }
   ],
   "source": [
    "#Count the column values\n",
    "for  col in unique_columns:\n",
    "  sns.countplot(blog_csv[col])\n",
    "  plt.title(col)\n",
    "  plt.show()\n",
    "\n"
   ]
  },
  {
   "cell_type": "code",
   "execution_count": 11,
   "metadata": {
    "colab": {
     "base_uri": "https://localhost:8080/"
    },
    "id": "9aTry7VNK5YW",
    "outputId": "3d1f8d2d-30f1-4db4-9504-3e51534e8c9c"
   },
   "outputs": [
    {
     "name": "stdout",
     "output_type": "stream",
     "text": [
      "Count for column topic  is \n",
      " indUnk                     251015\n",
      "Student                    153903\n",
      "Technology                  42055\n",
      "Arts                        32449\n",
      "Education                   29633\n",
      "Communications-Media        20140\n",
      "Internet                    16006\n",
      "Non-Profit                  14700\n",
      "Engineering                 11653\n",
      "Law                          9040\n",
      "Publishing                   7753\n",
      "Science                      7269\n",
      "Government                   6907\n",
      "Consulting                   5862\n",
      "Religion                     5235\n",
      "Fashion                      4851\n",
      "Marketing                    4769\n",
      "Advertising                  4676\n",
      "BusinessServices             4500\n",
      "Banking                      4049\n",
      "Chemicals                    3928\n",
      "Telecommunications           3891\n",
      "Accounting                   3832\n",
      "Military                     3128\n",
      "Museums-Libraries            3096\n",
      "Sports-Recreation            3038\n",
      "HumanResources               3010\n",
      "RealEstate                   2870\n",
      "Transportation               2326\n",
      "Manufacturing                2272\n",
      "Biotech                      2234\n",
      "Tourism                      1942\n",
      "LawEnforcement-Security      1878\n",
      "Architecture                 1638\n",
      "InvestmentBanking            1292\n",
      "Automotive                   1244\n",
      "Agriculture                  1235\n",
      "Construction                 1093\n",
      "Environment                   592\n",
      "Maritime                      280\n",
      "Name: topic, dtype: int64 \n",
      "Count for column gender  is \n",
      " male      345193\n",
      "female    336091\n",
      "Name: gender, dtype: int64 \n",
      "Count for column sign  is \n",
      " Cancer         65048\n",
      "Aries          64979\n",
      "Taurus         62561\n",
      "Libra          62363\n",
      "Virgo          60399\n",
      "Scorpio        57161\n",
      "Pisces         54053\n",
      "Leo            53811\n",
      "Gemini         51985\n",
      "Sagittarius    50036\n",
      "Aquarius       49687\n",
      "Capricorn      49201\n",
      "Name: sign, dtype: int64 \n"
     ]
    }
   ],
   "source": [
    "for col in unique_columns:\n",
    "  print(\"Count for column {}  is \\n {} \".format(col,blog_csv[col].value_counts()))"
   ]
  },
  {
   "cell_type": "code",
   "execution_count": 12,
   "metadata": {
    "colab": {
     "base_uri": "https://localhost:8080/",
     "height": 415
    },
    "id": "w9CFxG53Slgz",
    "outputId": "daacc15b-1887-4b5e-e6ad-a47e3163d27e"
   },
   "outputs": [
    {
     "data": {
      "text/plain": [
       "<matplotlib.axes._subplots.AxesSubplot at 0x7f2914bb0c50>"
      ]
     },
     "execution_count": 12,
     "metadata": {
      "tags": []
     },
     "output_type": "execute_result"
    },
    {
     "data": {
      "image/png": "[encoded data removed]",
      "text/plain": [
       "<Figure size 432x288 with 1 Axes>"
      ]
     },
     "metadata": {
      "needs_background": "light",
      "tags": []
     },
     "output_type": "display_data"
    }
   ],
   "source": [
    "blog_csv.groupby('topic').text.count().plot.bar(ylim=0)"
   ]
  },
  {
   "cell_type": "code",
   "execution_count": 13,
   "metadata": {
    "id": "R3e6v3EFqp0i"
   },
   "outputs": [],
   "source": [
    "#Drop duplicates\n",
    "blog_csv.drop_duplicates(inplace=True)"
   ]
  },
  {
   "cell_type": "code",
   "execution_count": 14,
   "metadata": {
    "colab": {
     "base_uri": "https://localhost:8080/"
    },
    "id": "KNT-Riz5rs-N",
    "outputId": "090e4468-04a6-454d-c0c9-b4b59ee02901"
   },
   "outputs": [
    {
     "data": {
      "text/plain": [
       "(676598, 7)"
      ]
     },
     "execution_count": 14,
     "metadata": {
      "tags": []
     },
     "output_type": "execute_result"
    }
   ],
   "source": [
    "#Shape after dropping duplicates\n",
    "blog_csv.shape"
   ]
  },
  {
   "cell_type": "code",
   "execution_count": 15,
   "metadata": {
    "colab": {
     "base_uri": "https://localhost:8080/",
     "height": 419
    },
    "id": "bQjCyl5816C6",
    "outputId": "a7b05b58-42eb-4f4e-99ab-9106bb4944d1"
   },
   "outputs": [
    {
     "data": {
      "text/html": [
       "<div>\n",
       "<style scoped>\n",
       "    .dataframe tbody tr th:only-of-type {\n",
       "        vertical-align: middle;\n",
       "    }\n",
       "\n",
       "    .dataframe tbody tr th {\n",
       "        vertical-align: top;\n",
       "    }\n",
       "\n",
       "    .dataframe thead th {\n",
       "        text-align: right;\n",
       "    }\n",
       "</style>\n",
       "<table border=\"1\" class=\"dataframe\">\n",
       "  <thead>\n",
       "    <tr style=\"text-align: right;\">\n",
       "      <th></th>\n",
       "      <th>id</th>\n",
       "      <th>gender</th>\n",
       "      <th>age</th>\n",
       "      <th>topic</th>\n",
       "      <th>sign</th>\n",
       "      <th>date</th>\n",
       "      <th>text</th>\n",
       "    </tr>\n",
       "  </thead>\n",
       "  <tbody>\n",
       "    <tr>\n",
       "      <th>0</th>\n",
       "      <td>2059027</td>\n",
       "      <td>male</td>\n",
       "      <td>15</td>\n",
       "      <td>Student</td>\n",
       "      <td>Leo</td>\n",
       "      <td>14,May,2004</td>\n",
       "      <td>Info has been found (+/- 100 pages,...</td>\n",
       "    </tr>\n",
       "    <tr>\n",
       "      <th>1</th>\n",
       "      <td>2059027</td>\n",
       "      <td>male</td>\n",
       "      <td>15</td>\n",
       "      <td>Student</td>\n",
       "      <td>Leo</td>\n",
       "      <td>13,May,2004</td>\n",
       "      <td>These are the team members:   Drewe...</td>\n",
       "    </tr>\n",
       "    <tr>\n",
       "      <th>2</th>\n",
       "      <td>2059027</td>\n",
       "      <td>male</td>\n",
       "      <td>15</td>\n",
       "      <td>Student</td>\n",
       "      <td>Leo</td>\n",
       "      <td>12,May,2004</td>\n",
       "      <td>In het kader van kernfusie op aarde...</td>\n",
       "    </tr>\n",
       "    <tr>\n",
       "      <th>3</th>\n",
       "      <td>2059027</td>\n",
       "      <td>male</td>\n",
       "      <td>15</td>\n",
       "      <td>Student</td>\n",
       "      <td>Leo</td>\n",
       "      <td>12,May,2004</td>\n",
       "      <td>testing!!!  testing!!!</td>\n",
       "    </tr>\n",
       "    <tr>\n",
       "      <th>4</th>\n",
       "      <td>3581210</td>\n",
       "      <td>male</td>\n",
       "      <td>33</td>\n",
       "      <td>InvestmentBanking</td>\n",
       "      <td>Aquarius</td>\n",
       "      <td>11,June,2004</td>\n",
       "      <td>Thanks to Yahoo!'s Toolbar I can ...</td>\n",
       "    </tr>\n",
       "    <tr>\n",
       "      <th>...</th>\n",
       "      <td>...</td>\n",
       "      <td>...</td>\n",
       "      <td>...</td>\n",
       "      <td>...</td>\n",
       "      <td>...</td>\n",
       "      <td>...</td>\n",
       "      <td>...</td>\n",
       "    </tr>\n",
       "    <tr>\n",
       "      <th>50286</th>\n",
       "      <td>3565077</td>\n",
       "      <td>female</td>\n",
       "      <td>16</td>\n",
       "      <td>Student</td>\n",
       "      <td>Cancer</td>\n",
       "      <td>03,August,2004</td>\n",
       "      <td>will be good! i've got a really great f...</td>\n",
       "    </tr>\n",
       "    <tr>\n",
       "      <th>50287</th>\n",
       "      <td>3565077</td>\n",
       "      <td>female</td>\n",
       "      <td>16</td>\n",
       "      <td>Student</td>\n",
       "      <td>Cancer</td>\n",
       "      <td>01,August,2004</td>\n",
       "      <td>just watched it again with my mother, a...</td>\n",
       "    </tr>\n",
       "    <tr>\n",
       "      <th>50288</th>\n",
       "      <td>4263493</td>\n",
       "      <td>female</td>\n",
       "      <td>23</td>\n",
       "      <td>indUnk</td>\n",
       "      <td>Aquarius</td>\n",
       "      <td>21,August,2004</td>\n",
       "      <td>Then its time for vacation! w...</td>\n",
       "    </tr>\n",
       "    <tr>\n",
       "      <th>50289</th>\n",
       "      <td>4263493</td>\n",
       "      <td>female</td>\n",
       "      <td>23</td>\n",
       "      <td>indUnk</td>\n",
       "      <td>Aquarius</td>\n",
       "      <td>18,August,2004</td>\n",
       "      <td>I feel like complete and tota...</td>\n",
       "    </tr>\n",
       "    <tr>\n",
       "      <th>50290</th>\n",
       "      <td>4263493</td>\n",
       "      <td>female</td>\n",
       "      <td>23</td>\n",
       "      <td>indUnk</td>\n",
       "      <td>Aquarius</td>\n",
       "      <td>17,August,2004</td>\n",
       "      <td>Just a short post to introduc...</td>\n",
       "    </tr>\n",
       "  </tbody>\n",
       "</table>\n",
       "<p>50000 rows × 7 columns</p>\n",
       "</div>"
      ],
      "text/plain": [
       "            id  ...                                               text\n",
       "0      2059027  ...             Info has been found (+/- 100 pages,...\n",
       "1      2059027  ...             These are the team members:   Drewe...\n",
       "2      2059027  ...             In het kader van kernfusie op aarde...\n",
       "3      2059027  ...                   testing!!!  testing!!!          \n",
       "4      3581210  ...               Thanks to Yahoo!'s Toolbar I can ...\n",
       "...        ...  ...                                                ...\n",
       "50286  3565077  ...         will be good! i've got a really great f...\n",
       "50287  3565077  ...         just watched it again with my mother, a...\n",
       "50288  4263493  ...                   Then its time for vacation! w...\n",
       "50289  4263493  ...                   I feel like complete and tota...\n",
       "50290  4263493  ...                   Just a short post to introduc...\n",
       "\n",
       "[50000 rows x 7 columns]"
      ]
     },
     "execution_count": 15,
     "metadata": {
      "tags": []
     },
     "output_type": "execute_result"
    }
   ],
   "source": [
    "blog_csv.iloc[:50000,:]"
   ]
  },
  {
   "cell_type": "code",
   "execution_count": 16,
   "metadata": {
    "id": "nom2-YwG1dZZ"
   },
   "outputs": [],
   "source": [
    "# We will work on first 50k records owing to RAM restrictions.\n",
    "blog_test_subrows=blog_csv.iloc[:50000]"
   ]
  },
  {
   "cell_type": "code",
   "execution_count": 17,
   "metadata": {
    "colab": {
     "base_uri": "https://localhost:8080/"
    },
    "id": "Pt6Iy_W24oXS",
    "outputId": "b2f65cb0-cadf-4327-8742-0bce690c49c5"
   },
   "outputs": [
    {
     "name": "stderr",
     "output_type": "stream",
     "text": [
      "/usr/local/lib/python3.7/dist-packages/pandas/core/frame.py:4174: SettingWithCopyWarning: \n",
      "A value is trying to be set on a copy of a slice from a DataFrame\n",
      "\n",
      "See the caveats in the documentation: https://pandas.pydata.org/pandas-docs/stable/user_guide/indexing.html#returning-a-view-versus-a-copy\n",
      "  errors=errors,\n"
     ]
    }
   ],
   "source": [
    "blog_test_subrows.drop(['id','date'],  axis=1,inplace=True)"
   ]
  },
  {
   "cell_type": "code",
   "execution_count": 18,
   "metadata": {
    "colab": {
     "base_uri": "https://localhost:8080/"
    },
    "id": "0rAW-E2x4toM",
    "outputId": "e94f4231-9755-4f90-a3c0-672dbb4eddaa"
   },
   "outputs": [
    {
     "data": {
      "text/plain": [
       "Index(['gender', 'age', 'topic', 'sign', 'text'], dtype='object')"
      ]
     },
     "execution_count": 18,
     "metadata": {
      "tags": []
     },
     "output_type": "execute_result"
    }
   ],
   "source": [
    "blog_test_subrows.columns"
   ]
  },
  {
   "cell_type": "code",
   "execution_count": null,
   "metadata": {
    "colab": {
     "base_uri": "https://localhost:8080/"
    },
    "id": "vgWMceSo-o-P",
    "outputId": "a89a9945-8616-4a52-f99f-310b2d9837e2"
   },
   "outputs": [
    {
     "data": {
      "text/plain": [
       "(50000, 5)"
      ]
     },
     "execution_count": 19,
     "metadata": {
      "tags": []
     },
     "output_type": "execute_result"
    }
   ],
   "source": [
    "blog_test_subrows.shape"
   ]
  },
  {
   "cell_type": "markdown",
   "metadata": {
    "id": "uRSkO-MBAHYR"
   },
   "source": [
    "### 2. Perform pre-processing on data"
   ]
  },
  {
   "cell_type": "markdown",
   "metadata": {
    "id": "HMSLPJZDAQA4"
   },
   "source": [
    "#### 2.1 Remove punctuation marks,special characters, brackets,numbers and characters that are not in English alphabet."
   ]
  },
  {
   "cell_type": "code",
   "execution_count": null,
   "metadata": {
    "id": "LTZFZCtjScLO"
   },
   "outputs": [],
   "source": [
    "wnLemm = WordNetLemmatizer()\n",
    "def cleanData(cleanTxt):\n",
    "  cleanTxt=re.sub('[0-9]',\" \",cleanTxt)\n",
    "  cleanTxt=re.sub('[\\'\\\"\\.\\,(){}]',\" \",cleanTxt)\n",
    "  cleanTxt=re.sub('[!@\\*?:;#\\$\\%^&~]',\" \",cleanTxt)\n",
    "  cleanTxt=re.sub('[+-\\/X*]',\" \",cleanTxt)\n",
    "  cleanTxt=re.sub('[\\[\\]=<>]',\" \",cleanTxt)\n",
    "  cleanTxt=re.sub('[<<>>_*]',\" \",cleanTxt)\n",
    "  cleanTxt=re.sub('[^a-zA-Z]',\" \",cleanTxt)\n",
    "  cleanTxt=cleanTxt.lower()\n",
    "  words_token = cleanTxt.split()\n",
    "  words = [wnLemm.lemmatize(word) for word in words_token  if not word  in set(stopwords.words('english'))] \n",
    "  words = \" \".join(words)\n",
    "  return words"
   ]
  },
  {
   "cell_type": "code",
   "execution_count": null,
   "metadata": {
    "colab": {
     "base_uri": "https://localhost:8080/"
    },
    "id": "UX-PrECm5iR3",
    "outputId": "363498bd-247a-40b9-adef-96667f0e807c"
   },
   "outputs": [
    {
     "name": "stderr",
     "output_type": "stream",
     "text": [
      "/usr/local/lib/python3.7/dist-packages/ipykernel_launcher.py:1: SettingWithCopyWarning: \n",
      "A value is trying to be set on a copy of a slice from a DataFrame.\n",
      "Try using .loc[row_indexer,col_indexer] = value instead\n",
      "\n",
      "See the caveats in the documentation: https://pandas.pydata.org/pandas-docs/stable/user_guide/indexing.html#returning-a-view-versus-a-copy\n",
      "  \"\"\"Entry point for launching an IPython kernel.\n"
     ]
    }
   ],
   "source": [
    "blog_test_subrows['text']=blog_test_subrows['text'].apply(cleanData)"
   ]
  },
  {
   "cell_type": "code",
   "execution_count": null,
   "metadata": {
    "colab": {
     "base_uri": "https://localhost:8080/",
     "height": 419
    },
    "id": "6RSCJMCM5sfi",
    "outputId": "15f5a2e3-d766-4d54-a4e8-603984e05fc5"
   },
   "outputs": [
    {
     "data": {
      "text/html": [
       "<div>\n",
       "<style scoped>\n",
       "    .dataframe tbody tr th:only-of-type {\n",
       "        vertical-align: middle;\n",
       "    }\n",
       "\n",
       "    .dataframe tbody tr th {\n",
       "        vertical-align: top;\n",
       "    }\n",
       "\n",
       "    .dataframe thead th {\n",
       "        text-align: right;\n",
       "    }\n",
       "</style>\n",
       "<table border=\"1\" class=\"dataframe\">\n",
       "  <thead>\n",
       "    <tr style=\"text-align: right;\">\n",
       "      <th></th>\n",
       "      <th>gender</th>\n",
       "      <th>age</th>\n",
       "      <th>topic</th>\n",
       "      <th>sign</th>\n",
       "      <th>text</th>\n",
       "    </tr>\n",
       "  </thead>\n",
       "  <tbody>\n",
       "    <tr>\n",
       "      <th>0</th>\n",
       "      <td>male</td>\n",
       "      <td>15</td>\n",
       "      <td>Student</td>\n",
       "      <td>Leo</td>\n",
       "      <td>info found page mb pdf file wait untill team l...</td>\n",
       "    </tr>\n",
       "    <tr>\n",
       "      <th>1</th>\n",
       "      <td>male</td>\n",
       "      <td>15</td>\n",
       "      <td>Student</td>\n",
       "      <td>Leo</td>\n",
       "      <td>team member drewes van der laag urllink mail r...</td>\n",
       "    </tr>\n",
       "    <tr>\n",
       "      <th>2</th>\n",
       "      <td>male</td>\n",
       "      <td>15</td>\n",
       "      <td>Student</td>\n",
       "      <td>Leo</td>\n",
       "      <td>het kader van kernfusie op aarde maak je eigen...</td>\n",
       "    </tr>\n",
       "    <tr>\n",
       "      <th>3</th>\n",
       "      <td>male</td>\n",
       "      <td>15</td>\n",
       "      <td>Student</td>\n",
       "      <td>Leo</td>\n",
       "      <td>testing testing</td>\n",
       "    </tr>\n",
       "    <tr>\n",
       "      <th>4</th>\n",
       "      <td>male</td>\n",
       "      <td>33</td>\n",
       "      <td>InvestmentBanking</td>\n",
       "      <td>Aquarius</td>\n",
       "      <td>thanks yahoo toolbar capture url popups mean s...</td>\n",
       "    </tr>\n",
       "    <tr>\n",
       "      <th>...</th>\n",
       "      <td>...</td>\n",
       "      <td>...</td>\n",
       "      <td>...</td>\n",
       "      <td>...</td>\n",
       "      <td>...</td>\n",
       "    </tr>\n",
       "    <tr>\n",
       "      <th>995</th>\n",
       "      <td>female</td>\n",
       "      <td>25</td>\n",
       "      <td>indUnk</td>\n",
       "      <td>Taurus</td>\n",
       "      <td>urllink doggy bed need say urllink</td>\n",
       "    </tr>\n",
       "    <tr>\n",
       "      <th>996</th>\n",
       "      <td>female</td>\n",
       "      <td>25</td>\n",
       "      <td>indUnk</td>\n",
       "      <td>Taurus</td>\n",
       "      <td>ah yes summer olympics halfway settled familia...</td>\n",
       "    </tr>\n",
       "    <tr>\n",
       "      <th>997</th>\n",
       "      <td>female</td>\n",
       "      <td>15</td>\n",
       "      <td>Arts</td>\n",
       "      <td>Pisces</td>\n",
       "      <td>current music could magic donna summer feeling...</td>\n",
       "    </tr>\n",
       "    <tr>\n",
       "      <th>998</th>\n",
       "      <td>female</td>\n",
       "      <td>15</td>\n",
       "      <td>Arts</td>\n",
       "      <td>Pisces</td>\n",
       "      <td>hey one many thing expression zone hope update...</td>\n",
       "    </tr>\n",
       "    <tr>\n",
       "      <th>999</th>\n",
       "      <td>male</td>\n",
       "      <td>44</td>\n",
       "      <td>indUnk</td>\n",
       "      <td>Taurus</td>\n",
       "      <td>well today going okay applied job done bill ba...</td>\n",
       "    </tr>\n",
       "  </tbody>\n",
       "</table>\n",
       "<p>1000 rows × 5 columns</p>\n",
       "</div>"
      ],
      "text/plain": [
       "     gender  age  ...      sign                                               text\n",
       "0      male   15  ...       Leo  info found page mb pdf file wait untill team l...\n",
       "1      male   15  ...       Leo  team member drewes van der laag urllink mail r...\n",
       "2      male   15  ...       Leo  het kader van kernfusie op aarde maak je eigen...\n",
       "3      male   15  ...       Leo                                    testing testing\n",
       "4      male   33  ...  Aquarius  thanks yahoo toolbar capture url popups mean s...\n",
       "..      ...  ...  ...       ...                                                ...\n",
       "995  female   25  ...    Taurus                 urllink doggy bed need say urllink\n",
       "996  female   25  ...    Taurus  ah yes summer olympics halfway settled familia...\n",
       "997  female   15  ...    Pisces  current music could magic donna summer feeling...\n",
       "998  female   15  ...    Pisces  hey one many thing expression zone hope update...\n",
       "999    male   44  ...    Taurus  well today going okay applied job done bill ba...\n",
       "\n",
       "[1000 rows x 5 columns]"
      ]
     },
     "execution_count": 30,
     "metadata": {
      "tags": []
     },
     "output_type": "execute_result"
    }
   ],
   "source": [
    "blog_test_subrows[:1000]"
   ]
  },
  {
   "cell_type": "markdown",
   "metadata": {
    "id": "TlAU_yATAmIy"
   },
   "source": [
    "##### Save the cleaned data to csv so that it can be read and used everytime"
   ]
  },
  {
   "cell_type": "code",
   "execution_count": null,
   "metadata": {
    "id": "bi0FdBwlQXY6"
   },
   "outputs": [],
   "source": [
    "blog_test_subrows.to_csv(path+'/BlogCsvCleaned_all.csv')"
   ]
  },
  {
   "cell_type": "code",
   "execution_count": 19,
   "metadata": {
    "id": "ZE_rKGRS_3dH"
   },
   "outputs": [],
   "source": [
    "blog_test_subrows_new= pd.read_csv(path+'/BlogCsvCleaned_all.csv')"
   ]
  },
  {
   "cell_type": "code",
   "execution_count": 20,
   "metadata": {
    "colab": {
     "base_uri": "https://localhost:8080/",
     "height": 419
    },
    "id": "zl7VFdtB_8lG",
    "outputId": "81614c79-ee8a-4dc5-aef8-8c80d842959f"
   },
   "outputs": [
    {
     "data": {
      "text/html": [
       "<div>\n",
       "<style scoped>\n",
       "    .dataframe tbody tr th:only-of-type {\n",
       "        vertical-align: middle;\n",
       "    }\n",
       "\n",
       "    .dataframe tbody tr th {\n",
       "        vertical-align: top;\n",
       "    }\n",
       "\n",
       "    .dataframe thead th {\n",
       "        text-align: right;\n",
       "    }\n",
       "</style>\n",
       "<table border=\"1\" class=\"dataframe\">\n",
       "  <thead>\n",
       "    <tr style=\"text-align: right;\">\n",
       "      <th></th>\n",
       "      <th>Unnamed: 0</th>\n",
       "      <th>gender</th>\n",
       "      <th>age</th>\n",
       "      <th>topic</th>\n",
       "      <th>sign</th>\n",
       "      <th>text</th>\n",
       "    </tr>\n",
       "  </thead>\n",
       "  <tbody>\n",
       "    <tr>\n",
       "      <th>0</th>\n",
       "      <td>0</td>\n",
       "      <td>male</td>\n",
       "      <td>15</td>\n",
       "      <td>Student</td>\n",
       "      <td>Leo</td>\n",
       "      <td>info found page mb pdf file wait untill team l...</td>\n",
       "    </tr>\n",
       "    <tr>\n",
       "      <th>1</th>\n",
       "      <td>1</td>\n",
       "      <td>male</td>\n",
       "      <td>15</td>\n",
       "      <td>Student</td>\n",
       "      <td>Leo</td>\n",
       "      <td>team member drewes van der laag urllink mail r...</td>\n",
       "    </tr>\n",
       "    <tr>\n",
       "      <th>2</th>\n",
       "      <td>2</td>\n",
       "      <td>male</td>\n",
       "      <td>15</td>\n",
       "      <td>Student</td>\n",
       "      <td>Leo</td>\n",
       "      <td>het kader van kernfusie op aarde maak je eigen...</td>\n",
       "    </tr>\n",
       "    <tr>\n",
       "      <th>3</th>\n",
       "      <td>3</td>\n",
       "      <td>male</td>\n",
       "      <td>15</td>\n",
       "      <td>Student</td>\n",
       "      <td>Leo</td>\n",
       "      <td>testing testing</td>\n",
       "    </tr>\n",
       "    <tr>\n",
       "      <th>4</th>\n",
       "      <td>4</td>\n",
       "      <td>male</td>\n",
       "      <td>33</td>\n",
       "      <td>InvestmentBanking</td>\n",
       "      <td>Aquarius</td>\n",
       "      <td>thanks yahoo toolbar capture url popups mean s...</td>\n",
       "    </tr>\n",
       "    <tr>\n",
       "      <th>...</th>\n",
       "      <td>...</td>\n",
       "      <td>...</td>\n",
       "      <td>...</td>\n",
       "      <td>...</td>\n",
       "      <td>...</td>\n",
       "      <td>...</td>\n",
       "    </tr>\n",
       "    <tr>\n",
       "      <th>49995</th>\n",
       "      <td>50286</td>\n",
       "      <td>female</td>\n",
       "      <td>16</td>\n",
       "      <td>Student</td>\n",
       "      <td>Cancer</td>\n",
       "      <td>good got really great feeling achieve although...</td>\n",
       "    </tr>\n",
       "    <tr>\n",
       "      <th>49996</th>\n",
       "      <td>50287</td>\n",
       "      <td>female</td>\n",
       "      <td>16</td>\n",
       "      <td>Student</td>\n",
       "      <td>Cancer</td>\n",
       "      <td>watched mother confirmed love however mum thin...</td>\n",
       "    </tr>\n",
       "    <tr>\n",
       "      <th>49997</th>\n",
       "      <td>50288</td>\n",
       "      <td>female</td>\n",
       "      <td>23</td>\n",
       "      <td>indUnk</td>\n",
       "      <td>Aquarius</td>\n",
       "      <td>time vacation wooo wait day away wonderful wor...</td>\n",
       "    </tr>\n",
       "    <tr>\n",
       "      <th>49998</th>\n",
       "      <td>50289</td>\n",
       "      <td>female</td>\n",
       "      <td>23</td>\n",
       "      <td>indUnk</td>\n",
       "      <td>Aquarius</td>\n",
       "      <td>feel like complete total crap right woke thing...</td>\n",
       "    </tr>\n",
       "    <tr>\n",
       "      <th>49999</th>\n",
       "      <td>50290</td>\n",
       "      <td>female</td>\n",
       "      <td>23</td>\n",
       "      <td>indUnk</td>\n",
       "      <td>Aquarius</td>\n",
       "      <td>short post introduce year old female assistant...</td>\n",
       "    </tr>\n",
       "  </tbody>\n",
       "</table>\n",
       "<p>50000 rows × 6 columns</p>\n",
       "</div>"
      ],
      "text/plain": [
       "       Unnamed: 0  ...                                               text\n",
       "0               0  ...  info found page mb pdf file wait untill team l...\n",
       "1               1  ...  team member drewes van der laag urllink mail r...\n",
       "2               2  ...  het kader van kernfusie op aarde maak je eigen...\n",
       "3               3  ...                                    testing testing\n",
       "4               4  ...  thanks yahoo toolbar capture url popups mean s...\n",
       "...           ...  ...                                                ...\n",
       "49995       50286  ...  good got really great feeling achieve although...\n",
       "49996       50287  ...  watched mother confirmed love however mum thin...\n",
       "49997       50288  ...  time vacation wooo wait day away wonderful wor...\n",
       "49998       50289  ...  feel like complete total crap right woke thing...\n",
       "49999       50290  ...  short post introduce year old female assistant...\n",
       "\n",
       "[50000 rows x 6 columns]"
      ]
     },
     "execution_count": 20,
     "metadata": {
      "tags": []
     },
     "output_type": "execute_result"
    }
   ],
   "source": [
    "blog_test_subrows_new"
   ]
  },
  {
   "cell_type": "markdown",
   "metadata": {
    "id": "nk0-VDHSA7xN"
   },
   "source": [
    "#### 2.2 Merge / Transform (Binarize)  target columns"
   ]
  },
  {
   "cell_type": "code",
   "execution_count": 21,
   "metadata": {
    "id": "SLVi6sXOqELl"
   },
   "outputs": [],
   "source": [
    "# We will consider these authors' properties: age, gender, zodiac sign, topic\n",
    "blog_test_subrows_new[\"age\"] = blog_test_subrows_new[\"age\"].astype(str)\n",
    "blog_test_subrows_new[\"labels\"] = blog_test_subrows_new.apply(lambda col :\n",
    "                            [col[\"gender\"],col[\"age\"],col[\"topic\"],col[\"sign\"]],axis =1)\n"
   ]
  },
  {
   "cell_type": "code",
   "execution_count": 22,
   "metadata": {
    "id": "cpwV-up0hXkU"
   },
   "outputs": [],
   "source": [
    "blog_test_subrows_new.dropna(axis=0,inplace=True)"
   ]
  },
  {
   "cell_type": "code",
   "execution_count": 23,
   "metadata": {
    "id": "04VKGCeHA_g0"
   },
   "outputs": [],
   "source": [
    "blog_test_subrows_new.drop('Unnamed: 0',axis=1, inplace=True)"
   ]
  },
  {
   "cell_type": "code",
   "execution_count": 24,
   "metadata": {
    "id": "ATfgzYblfGVY"
   },
   "outputs": [],
   "source": [
    "#Split features and category \n",
    "features = blog_test_subrows_new['text']\n",
    "category= blog_test_subrows_new['labels']"
   ]
  },
  {
   "cell_type": "code",
   "execution_count": 25,
   "metadata": {
    "id": "Mkjf88siHfUv"
   },
   "outputs": [],
   "source": [
    "#Count the number of entries for each class in all four categories\n",
    "label_counts=dict()\n",
    "\n",
    "for labels in category.values:\n",
    "    for label in labels:\n",
    "        if label in label_counts:\n",
    "            label_counts[str(label)]+=1\n",
    "        else:\n",
    "            label_counts[str(label)]=1"
   ]
  },
  {
   "cell_type": "code",
   "execution_count": 26,
   "metadata": {
    "colab": {
     "base_uri": "https://localhost:8080/"
    },
    "id": "UDHU5vbwHh_L",
    "outputId": "5afc6cac-4882-4c25-c0f9-c9f82893cba2"
   },
   "outputs": [
    {
     "name": "stdout",
     "output_type": "stream",
     "text": [
      "Keys and their counts: \n",
      " {'male': 25535, '15': 3498, 'Student': 10716, 'Leo': 3834, '33': 1641, 'InvestmentBanking': 85, 'Aquarius': 4759, 'female': 24201, '14': 2059, 'indUnk': 17472, 'Aries': 7751, '25': 2822, 'Capricorn': 3801, '17': 6792, 'Gemini': 2583, '23': 5454, 'Non-Profit': 490, 'Cancer': 4494, 'Banking': 273, '37': 306, 'Sagittarius': 4562, '26': 2817, '24': 5748, 'Scorpio': 3194, '27': 4069, 'Education': 2635, '45': 93, 'Engineering': 1396, 'Libra': 4423, 'Science': 688, '34': 1882, '41': 392, 'Communications-Media': 1576, 'BusinessServices': 408, 'Sports-Recreation': 118, 'Virgo': 2808, 'Taurus': 3413, 'Arts': 1838, 'Pisces': 4114, '44': 41, '16': 4166, 'Internet': 1407, 'Museums-Libraries': 285, 'Accounting': 244, '39': 407, '35': 3353, 'Technology': 4336, '36': 1978, 'Law': 307, '46': 328, 'Consulting': 215, 'Automotive': 116, '42': 96, 'Religion': 256, '13': 757, 'Fashion': 1798, '38': 195, '43': 150, 'Publishing': 207, '40': 192, 'Marketing': 408, 'LawEnforcement-Security': 123, 'HumanResources': 79, 'Telecommunications': 12, 'Military': 191, 'Government': 615, 'Transportation': 194, 'Architecture': 67, 'Advertising': 318, '47': 206, 'Agriculture': 78, 'Biotech': 101, 'RealEstate': 17, 'Manufacturing': 441, '48': 294, 'Construction': 28, 'Chemicals': 75, 'Maritime': 54, 'Tourism': 63, 'Environment': 6}\n"
     ]
    }
   ],
   "source": [
    "print(\"Keys and their counts: \\n\",label_counts)"
   ]
  },
  {
   "cell_type": "code",
   "execution_count": 27,
   "metadata": {
    "colab": {
     "base_uri": "https://localhost:8080/"
    },
    "id": "wA9dhnBxHkOE",
    "outputId": "d7d1b8d7-9c8e-4730-ccd3-0d829490034f"
   },
   "outputs": [
    {
     "data": {
      "text/plain": [
       "array(['13', '14', '15', '16', '17', '23', '24', '25', '26', '27', '33',\n",
       "       '34', '35', '36', '37', '38', '39', '40', '41', '42', '43', '44',\n",
       "       '45', '46', '47', '48', 'Accounting', 'Advertising', 'Agriculture',\n",
       "       'Aquarius', 'Architecture', 'Aries', 'Arts', 'Automotive',\n",
       "       'Banking', 'Biotech', 'BusinessServices', 'Cancer', 'Capricorn',\n",
       "       'Chemicals', 'Communications-Media', 'Construction', 'Consulting',\n",
       "       'Education', 'Engineering', 'Environment', 'Fashion', 'Gemini',\n",
       "       'Government', 'HumanResources', 'Internet', 'InvestmentBanking',\n",
       "       'Law', 'LawEnforcement-Security', 'Leo', 'Libra', 'Manufacturing',\n",
       "       'Maritime', 'Marketing', 'Military', 'Museums-Libraries',\n",
       "       'Non-Profit', 'Pisces', 'Publishing', 'RealEstate', 'Religion',\n",
       "       'Sagittarius', 'Science', 'Scorpio', 'Sports-Recreation',\n",
       "       'Student', 'Taurus', 'Technology', 'Telecommunications', 'Tourism',\n",
       "       'Transportation', 'Virgo', 'female', 'indUnk', 'male'],\n",
       "      dtype=object)"
      ]
     },
     "execution_count": 27,
     "metadata": {
      "tags": []
     },
     "output_type": "execute_result"
    }
   ],
   "source": [
    "# Transform the target column into binary format using MultiLabelBinarizer.\n",
    "binarizer=MultiLabelBinarizer(classes=sorted(label_counts.keys()))\n",
    "category = binarizer.fit_transform(category)\n",
    "#Classes in the merged target column\n",
    "binarizer.classes_"
   ]
  },
  {
   "cell_type": "code",
   "execution_count": 28,
   "metadata": {
    "colab": {
     "base_uri": "https://localhost:8080/"
    },
    "id": "ROtibIhKH0Mc",
    "outputId": "639570c7-a8fb-4248-96d1-b9b14d728bb7"
   },
   "outputs": [
    {
     "data": {
      "text/plain": [
       "(49736, 80)"
      ]
     },
     "execution_count": 28,
     "metadata": {
      "tags": []
     },
     "output_type": "execute_result"
    }
   ],
   "source": [
    "category.shape"
   ]
  },
  {
   "cell_type": "markdown",
   "metadata": {
    "id": "DGDtAMlLBOe9"
   },
   "source": [
    "### 2.3 Vectorize features i.e text column using Bag of words and TF-IDF"
   ]
  },
  {
   "cell_type": "code",
   "execution_count": 29,
   "metadata": {
    "id": "BxIS66MmD3Nh"
   },
   "outputs": [],
   "source": [
    "bow=CountVectorizer(ngram_range=(1, 3), max_features=10000)\n",
    "features_bow= bow.fit_transform(features)"
   ]
  },
  {
   "cell_type": "code",
   "execution_count": 30,
   "metadata": {
    "id": "mKuSTbbygiWc"
   },
   "outputs": [],
   "source": [
    "tdIdf = TfidfVectorizer(ngram_range=(1,2), max_features=20000, stop_words='english',analyzer='word',norm='l2',max_df=0.75)\n",
    "features_idf=tdIdf.fit_transform(features)"
   ]
  },
  {
   "cell_type": "code",
   "execution_count": 31,
   "metadata": {
    "colab": {
     "base_uri": "https://localhost:8080/"
    },
    "id": "KMJ93OQBiyq4",
    "outputId": "7809e633-fe89-4452-d1fb-c032878f49c0"
   },
   "outputs": [
    {
     "data": {
      "text/plain": [
       "(49736, 20000)"
      ]
     },
     "execution_count": 31,
     "metadata": {
      "tags": []
     },
     "output_type": "execute_result"
    }
   ],
   "source": [
    "features_idf.shape"
   ]
  },
  {
   "cell_type": "markdown",
   "metadata": {
    "id": "ByO-s-QyH43Z"
   },
   "source": [
    "##### Feature selection"
   ]
  },
  {
   "cell_type": "code",
   "execution_count": 32,
   "metadata": {
    "id": "D1umQ9tt527A"
   },
   "outputs": [],
   "source": [
    "from sklearn.feature_selection import SelectKBest,chi2\n",
    "\n",
    "fs=  SelectKBest(chi2, k=2000)\n",
    "features_idf_new =fs.fit_transform(features_idf,category)\n",
    "features_bow_new=fs.fit_transform(features_bow,category)"
   ]
  },
  {
   "cell_type": "code",
   "execution_count": 33,
   "metadata": {
    "colab": {
     "base_uri": "https://localhost:8080/"
    },
    "id": "GnHR11UuH3ye",
    "outputId": "df9bea3d-e3fb-44aa-8c3c-cd2576680e99"
   },
   "outputs": [
    {
     "data": {
      "text/plain": [
       "array([ True, False, False, ..., False, False,  True])"
      ]
     },
     "execution_count": 33,
     "metadata": {
      "tags": []
     },
     "output_type": "execute_result"
    }
   ],
   "source": [
    "fs.get_support()"
   ]
  },
  {
   "cell_type": "code",
   "execution_count": 34,
   "metadata": {
    "colab": {
     "base_uri": "https://localhost:8080/"
    },
    "id": "NaBwW_FeHzyJ",
    "outputId": "0eee0092-9a97-4151-d66c-c6a222cbade0"
   },
   "outputs": [
    {
     "data": {
      "text/plain": [
       "(49736, 2000)"
      ]
     },
     "execution_count": 34,
     "metadata": {
      "tags": []
     },
     "output_type": "execute_result"
    }
   ],
   "source": [
    "features_idf_new.shape"
   ]
  },
  {
   "cell_type": "markdown",
   "metadata": {
    "id": "AtiFg8zBBmt_"
   },
   "source": [
    "#### 2.4 Train and test split into 70:30 ratio"
   ]
  },
  {
   "cell_type": "code",
   "execution_count": 35,
   "metadata": {
    "id": "UQINwPDE34Aq"
   },
   "outputs": [],
   "source": [
    "X_train_bow,X_test_bow,y_train_bow,y_test_bow= train_test_split(features_bow,category,test_size=0.30,random_state=42)"
   ]
  },
  {
   "cell_type": "code",
   "execution_count": 36,
   "metadata": {
    "id": "gsNEMRnDjDTS"
   },
   "outputs": [],
   "source": [
    "X_train,X_test,y_train,y_test= train_test_split(features_idf_new,category,test_size=0.30,random_state=42)"
   ]
  },
  {
   "cell_type": "code",
   "execution_count": 37,
   "metadata": {
    "id": "LMWYvme5gp0T"
   },
   "outputs": [],
   "source": [
    "norm=Normalizer()\n",
    "X_train_scale= norm.fit_transform(X_train)\n",
    "X_test_scale=norm.transform(X_test)\n",
    "X_train_bow_scale= norm.fit_transform(X_train_bow)\n",
    "X_test_bow_scale=norm.transform(X_test_bow)"
   ]
  },
  {
   "cell_type": "code",
   "execution_count": 38,
   "metadata": {
    "colab": {
     "base_uri": "https://localhost:8080/"
    },
    "id": "3S_vWrSpvDnt",
    "outputId": "fca323c3-6d3c-4eb6-843e-5e320ab8a6be"
   },
   "outputs": [
    {
     "name": "stdout",
     "output_type": "stream",
     "text": [
      "X train shape : (34815, 2000)\n",
      "X test shape : (14921, 2000)\n",
      "Y train shape : (34815, 80)\n",
      "Y test shape : (14921, 80)\n"
     ]
    }
   ],
   "source": [
    "#Chechking the shapes of split sets\n",
    "print('X train shape :',X_train.shape)\n",
    "print('X test shape :',X_test.shape)\n",
    "print('Y train shape :',y_train.shape)\n",
    "print('Y test shape :',y_test.shape)\n",
    "#print('X valid shape :',X_valid.shape)\n"
   ]
  },
  {
   "cell_type": "markdown",
   "metadata": {
    "id": "7ygKk1q4CA22"
   },
   "source": [
    "### 3. Design, train, tune and test the best text classifier."
   ]
  },
  {
   "cell_type": "markdown",
   "metadata": {
    "id": "2cqrlRZ0CEEJ"
   },
   "source": [
    "\n",
    "\n",
    "\n",
    "#### 3.1 Train models without hyperparameter tuning"
   ]
  },
  {
   "cell_type": "code",
   "execution_count": 39,
   "metadata": {
    "id": "TCzsA8gwQOxP"
   },
   "outputs": [],
   "source": [
    "logRegression=LogisticRegression(C=1.0,penalty='l1',solver='liblinear',max_iter =100,multi_class='ovr')\n",
    "multiNomialNB =MultinomialNB()\n",
    "gaussianNB=GaussianNB()\n",
    "svm=SVC(C=1.0,kernel='rbf')\n",
    "decisionCl=DecisionTreeClassifier(criterion='entropy',max_depth=20,max_leaf_nodes=10)\n",
    "randomForest = RandomForestClassifier(n_estimators=15,criterion='entropy',max_depth=20)\n",
    "models={\"logisticRegression \":logRegression,\n",
    "        \"multiNomialNB\":multiNomialNB,\n",
    "        #\"gaussianNB\":gaussianNB,\n",
    "        \"decisionTree\":decisionCl,\"randomForest\":randomForest}"
   ]
  },
  {
   "cell_type": "code",
   "execution_count": null,
   "metadata": {
    "id": "LoC-LC3qyP5i"
   },
   "outputs": [],
   "source": [
    "#Train using Bow"
   ]
  },
  {
   "cell_type": "code",
   "execution_count": 46,
   "metadata": {
    "colab": {
     "base_uri": "https://localhost:8080/"
    },
    "id": "rx4_9v58yVVa",
    "outputId": "9556d7bb-743a-47b7-8637-1a4b150c9bc4"
   },
   "outputs": [
    {
     "name": "stdout",
     "output_type": "stream",
     "text": [
      "=====KNN prediction using Bag of Words vectorization====\n",
      "Accuracy :  0.028885463440788153\n",
      "F1_score : \n",
      " 0.05275387693510043\n",
      "F1_score : \n",
      " 0.22756897395605244\n"
     ]
    }
   ],
   "source": [
    "knn=KNeighborsClassifier(n_neighbors=10,algorithm='auto',weights=\"uniform\")\n",
    "knn.fit(X_train_bow_scale,y_train_bow)\n",
    "pred_i = knn.predict(X_test_bow_scale)\n",
    "print(\"=====KNN prediction using Bag of Words vectorization====\")\n",
    "print(\"Accuracy : \",accuracy_score(y_test_bow,pred_i))\n",
    "print(\"F1_score : \\n\",f1_score(y_test_bow,pred_i,average='macro'))\n",
    "print(\"F1_score : \\n\",f1_score(y_test_bow,pred_i,average='micro'))"
   ]
  },
  {
   "cell_type": "code",
   "execution_count": null,
   "metadata": {
    "colab": {
     "base_uri": "https://localhost:8080/"
    },
    "id": "-whwVg-6eeMQ",
    "outputId": "00314188-e86d-48c6-dc9d-9972f99eb302"
   },
   "outputs": [
    {
     "name": "stdout",
     "output_type": "stream",
     "text": [
      "=============Prediction using Bag of words as vectorization method========\n",
      "logisticRegression \n",
      "\n",
      "Accuracy score for training set for model logisticRegression  is 0.12635358322562115\n",
      "\n",
      "Accuracy score for testing set for model logisticRegression  is 0.11520675557938476\n",
      "\n",
      "F1 score :\n",
      " 0.19383165909074246\n",
      "multiNomialNB\n",
      "\n",
      "Accuracy score for training set for model multiNomialNB is 0.03518598305328163\n",
      "\n",
      "Accuracy score for testing set for model multiNomialNB is 0.03062797399638094\n",
      "\n",
      "F1 score :\n",
      " 0.05470074651607484\n",
      "decisionTree\n",
      "\n",
      "Accuracy score for training set for model decisionTree is 0.06709751543874766\n",
      "\n",
      "Accuracy score for testing set for model decisionTree is 0.06420481200991891\n",
      "\n",
      "F1 score :\n",
      " 0.22235947517916027\n",
      "randomForest\n",
      "\n",
      "Accuracy score for training set for model randomForest is 0.037311503662214564\n",
      "\n",
      "Accuracy score for testing set for model randomForest is 0.023523892500502647\n",
      "\n",
      "F1 score :\n",
      " 0.054391421594737574\n"
     ]
    }
   ],
   "source": [
    "#OneVsRestClassifier is used in case of multi label classification. This will try to fit one class versus all other classes in the column.\n",
    "accuracy_score_test =[]\n",
    "accuracy_score_train =[]\n",
    "print(\"=============Prediction using Bag of words as vectorization method========\")\n",
    "for model,objct in models.items():\n",
    "    print(model)\n",
    "    objct=OneVsRestClassifier(objct)\n",
    "    objct.fit(X_train_bow_scale,y_train_bow)\n",
    "    model_predict = objct.predict(X_test_bow_scale)\n",
    "    model_predict_train=objct.predict(X_train_bow_scale)\n",
    "    #accuracy_score_train.append(accuracy_score(y_train,model_predict_train))\n",
    "   # accuracy_score_test.append(accuracy_score(y_ros,model_predict))\n",
    "    \n",
    "    print(\"Accuracy score for training set for model {} is {}\".format(model, accuracy_score(y_train_bow,model_predict_train)))\n",
    "    print(\"Accuracy score for testing set for model {} is {}\".format(model, accuracy_score(y_test_bow,model_predict)))   \n",
    "    print(\"F1 score :\\n\",f1_score(y_test_bow,model_predict,average='macro'))\n",
    "    #print out the classification report\n",
    "    #print(\"Classification report:\\n\",classification_report(y_test,model_predict))\n",
    "    #print(pd.Series(model_predict).value_counts())"
   ]
  },
  {
   "cell_type": "code",
   "execution_count": null,
   "metadata": {
    "id": "WSDdSVksya1l"
   },
   "outputs": [],
   "source": [
    "#Train with TF-IDF"
   ]
  },
  {
   "cell_type": "code",
   "execution_count": null,
   "metadata": {
    "colab": {
     "base_uri": "https://localhost:8080/"
    },
    "id": "LsphTGZgr-NP",
    "outputId": "2c869bea-2c72-4819-8d74-6d25ff2707e3"
   },
   "outputs": [
    {
     "name": "stdout",
     "output_type": "stream",
     "text": [
      "\n",
      "=============Prediction using TF-IDF as vectorization method========\n",
      "logisticRegression \n",
      "\n",
      "Accuracy score for training set for model logisticRegression  is 0.18572454401838287\n",
      "\n",
      "Accuracy score for testing set for model logisticRegression  is 0.17411701628577173\n",
      "\n",
      "F1 score :\n",
      " 0.2829554910807929\n",
      "multiNomialNB\n",
      "\n",
      "Accuracy score for training set for model multiNomialNB is 0.11141749246014648\n",
      "\n",
      "Accuracy score for testing set for model multiNomialNB is 0.10709737953220294\n",
      "\n",
      "F1 score :\n",
      " 0.1412103963878209\n",
      "decisionTree\n",
      "\n",
      "Accuracy score for training set for model decisionTree is 0.0682751687491024\n",
      "\n",
      "Accuracy score for testing set for model decisionTree is 0.06675155820655453\n",
      "\n",
      "F1 score :\n",
      " 0.25778176523885354\n",
      "randomForest\n",
      "\n",
      "Accuracy score for training set for model randomForest is 0.06635071090047394\n",
      "\n",
      "Accuracy score for testing set for model randomForest is 0.04925943301387307\n",
      "\n",
      "F1 score :\n",
      " 0.11475728378787924\n"
     ]
    }
   ],
   "source": [
    "accuracy_score_test =[]\n",
    "accuracy_score_train =[]\n",
    "print(\"\\n=============Prediction using TF-IDF as vectorization method========\")\n",
    "for model,objct in models.items():\n",
    "    print(model)\n",
    "    objct=OneVsRestClassifier(objct)\n",
    "    objct.fit(X_train_scale,y_train)\n",
    "    model_predict = objct.predict(X_test_scale)\n",
    "    model_predict_train=objct.predict(X_train_scale)\n",
    "    #accuracy_score_train.append(accuracy_score(y_train,model_predict_train))\n",
    "   # accuracy_score_test.append(accuracy_score(y_ros,model_predict))\n",
    "    print(\"\\nAccuracy score for training set for model {} is {}\".format(model, accuracy_score(y_train,model_predict_train)))\n",
    "    print(\"\\nAccuracy score for testing set for model {} is {}\".format(model, accuracy_score(y_test,model_predict)))   \n",
    "    print(\"\\nF1 score :\\n\",f1_score(y_test,model_predict,average='macro'))\n",
    "    #print out the classification report\n",
    "    #print(\"Classification report:\\n\",classification_report(y_test,model_predict))\n",
    "    #print(pd.Series(model_predict).value_counts())"
   ]
  },
  {
   "cell_type": "code",
   "execution_count": null,
   "metadata": {
    "colab": {
     "base_uri": "https://localhost:8080/"
    },
    "id": "uf0cDGqRu-72",
    "outputId": "c99839f3-f076-40b2-efd2-30bc81202438"
   },
   "outputs": [
    {
     "name": "stdout",
     "output_type": "stream",
     "text": [
      "1\n",
      "3\n",
      "5\n",
      "7\n",
      "9\n",
      "11\n",
      "13\n",
      "15\n",
      "17\n",
      "19\n",
      "21\n",
      "23\n"
     ]
    }
   ],
   "source": [
    "error_rate=[]\n",
    "for i in range(1,25,2):\n",
    "  print(i)\n",
    "  knn=KNeighborsClassifier(n_neighbors=i)\n",
    "  knn.fit(X_train,y_train)\n",
    "  pred_i = knn.predict(X_test)\n",
    "  error_rate.append(np.mean(pred_i != y_test))"
   ]
  },
  {
   "cell_type": "code",
   "execution_count": null,
   "metadata": {
    "colab": {
     "base_uri": "https://localhost:8080/",
     "height": 421
    },
    "id": "5uvsCaLxvDnk",
    "outputId": "f7b2f157-add1-41a6-f045-ff7d3beed33c"
   },
   "outputs": [
    {
     "data": {
      "text/plain": [
       "Text(0, 0.5, 'Error Rate')"
      ]
     },
     "execution_count": 37,
     "metadata": {
      "tags": []
     },
     "output_type": "execute_result"
    },
    {
     "data": {
      "image/png": "[encoded data removed]",
      "text/plain": [
       "<Figure size 720x432 with 1 Axes>"
      ]
     },
     "metadata": {
      "tags": []
     },
     "output_type": "display_data"
    }
   ],
   "source": [
    "plt.figure(figsize=(10,6))\n",
    "plt.plot(range(1,25,2),error_rate,color='blue', linestyle='dashed', marker='o', markerfacecolor='red', markersize=10)\n",
    "plt.title('Error Rate vs. K Value')\n",
    "plt.xlabel('K')\n",
    "plt.ylabel('Error Rate')"
   ]
  },
  {
   "cell_type": "code",
   "execution_count": null,
   "metadata": {
    "colab": {
     "base_uri": "https://localhost:8080/"
    },
    "id": "S6uLYGfyu258",
    "outputId": "5ba864ef-317a-44e2-855c-e0d68519cd7f"
   },
   "outputs": [
    {
     "name": "stdout",
     "output_type": "stream",
     "text": [
      "=====KNN prediction using TD-IDF vectorization====\n",
      "Accuracy :  0.10582400643388513\n",
      "F1_score : \n",
      " 0.15440935551987559\n"
     ]
    }
   ],
   "source": [
    "\n",
    "knn=KNeighborsClassifier(n_neighbors=10,algorithm='auto',weights=\"uniform\")\n",
    "knn.fit(X_train_scale,y_train)\n",
    "pred_i = knn.predict(X_test_scale)\n",
    "print(\"=====KNN prediction using TD-IDF vectorization====\")\n",
    "print(\"Accuracy : \",accuracy_score(y_test,pred_i))\n",
    "print(\"F1_score : \\n\",f1_score(y_test,pred_i,average='macro'))"
   ]
  },
  {
   "cell_type": "markdown",
   "metadata": {
    "id": "PSoFMPshCgIS"
   },
   "source": [
    "#### 3.2 Train and tune with hyperparamater tuning"
   ]
  },
  {
   "cell_type": "code",
   "execution_count": null,
   "metadata": {
    "id": "3KAMCQHeuxnp"
   },
   "outputs": [],
   "source": [
    "#With hyperparameter tuning"
   ]
  },
  {
   "cell_type": "code",
   "execution_count": 46,
   "metadata": {
    "id": "yyfEKhVKQ7Rg"
   },
   "outputs": [],
   "source": [
    "#param grid \n",
    "param_grid_lr = {'estimator__C':list(range(1,3)),\n",
    "                'estimator__penalty': ['l1'],\n",
    "                 'estimator__solver':  ['liblinear','saga'],\n",
    "                 \n",
    "                }\n",
    "param_grid_nb = {'estimator__alpha': list(range(1,10))}\n",
    "\n",
    "param_grid_knn = {'estimator__n_neighbors': list(range(1,20)),\n",
    "             'estimator__algorithm': ['auto', 'brute'],\n",
    "             'estimator__weights':['uniform','distance']}\n",
    "\n",
    "\n",
    "\n",
    "param_grid_decisionCl = {'estimator__criterion':['gini','entropy'],\n",
    "                         'estimator__splitter':['best','random'],\n",
    "                         'estimator__max_depth':list(range(2,10)),\n",
    "                         'estimator__max_leaf_nodes':list(range(2,10))\n",
    "                        }\n",
    "\n",
    "param_grid_rf ={'estimator__n_estimators':list(range(1,100)),'estimator__criterion':['gini','entropy'],'estimator__max_depth':list(range(1,100))}\n",
    "\n"
   ]
  },
  {
   "cell_type": "code",
   "execution_count": 66,
   "metadata": {
    "id": "ywfcOiH3tr7Q"
   },
   "outputs": [],
   "source": [
    "rs_lr=  RandomizedSearchCV(OneVsRestClassifier(LogisticRegression(max_iter=1)),param_grid_lr,n_iter=1,cv=2)\n",
    "rs_knn =RandomizedSearchCV(OneVsRestClassifier(KNeighborsClassifier()),param_grid_knn,n_iter=5,cv=5)\n",
    "rs_nb= RandomizedSearchCV(OneVsRestClassifier(multiNomialNB),param_grid_nb,n_iter=10,cv=5)\n",
    "rs_dcl = RandomizedSearchCV(OneVsRestClassifier(decisionCl),param_grid_decisionCl,n_iter=5,cv=5,verbose=2)\n",
    "rs_rf = RandomizedSearchCV(OneVsRestClassifier(randomForest),param_grid_rf,n_iter=5,cv=5,verbose=2)"
   ]
  },
  {
   "cell_type": "code",
   "execution_count": 54,
   "metadata": {
    "id": "tp4tEE0MQ_QD"
   },
   "outputs": [],
   "source": [
    "grids = [rs_rf]\n",
    "# Dictionary of pipelines and classifier types for ease of reference\n",
    "grid_dict = {0:'DecisionTreeClassifier',1:'RandomForest',2:'Naive Bayes',3:'Logistic Regression'}\n"
   ]
  },
  {
   "cell_type": "code",
   "execution_count": null,
   "metadata": {
    "id": "-L26ODJ6DgiI"
   },
   "outputs": [],
   "source": [
    "#Preditct using TF-IDF as vectorization method"
   ]
  },
  {
   "cell_type": "code",
   "execution_count": 67,
   "metadata": {
    "colab": {
     "base_uri": "https://localhost:8080/"
    },
    "id": "hXoPIAu6D4An",
    "outputId": "8fc3470c-679d-4291-957e-ecc31dd346da"
   },
   "outputs": [
    {
     "name": "stdout",
     "output_type": "stream",
     "text": [
      "\n",
      "=============Prediction using TF-IDF as vectorization method for logistic Regression========\n"
     ]
    },
    {
     "name": "stderr",
     "output_type": "stream",
     "text": [
      "/usr/local/lib/python3.7/dist-packages/sklearn/linear_model/_sag.py:330: ConvergenceWarning: The max_iter was reached which means the coef_ did not converge\n",
      "  \"the coef_ did not converge\", ConvergenceWarning)\n",
      "/usr/local/lib/python3.7/dist-packages/sklearn/linear_model/_sag.py:330: ConvergenceWarning: The max_iter was reached which means the coef_ did not converge\n",
      "  \"the coef_ did not converge\", ConvergenceWarning)\n",
      "/usr/local/lib/python3.7/dist-packages/sklearn/linear_model/_sag.py:330: ConvergenceWarning: The max_iter was reached which means the coef_ did not converge\n",
      "  \"the coef_ did not converge\", ConvergenceWarning)\n",
      "/usr/local/lib/python3.7/dist-packages/sklearn/linear_model/_sag.py:330: ConvergenceWarning: The max_iter was reached which means the coef_ did not converge\n",
      "  \"the coef_ did not converge\", ConvergenceWarning)\n",
      "/usr/local/lib/python3.7/dist-packages/sklearn/linear_model/_sag.py:330: ConvergenceWarning: The max_iter was reached which means the coef_ did not converge\n",
      "  \"the coef_ did not converge\", ConvergenceWarning)\n",
      "/usr/local/lib/python3.7/dist-packages/sklearn/linear_model/_sag.py:330: ConvergenceWarning: The max_iter was reached which means the coef_ did not converge\n",
      "  \"the coef_ did not converge\", ConvergenceWarning)\n",
      "/usr/local/lib/python3.7/dist-packages/sklearn/linear_model/_sag.py:330: ConvergenceWarning: The max_iter was reached which means the coef_ did not converge\n",
      "  \"the coef_ did not converge\", ConvergenceWarning)\n",
      "/usr/local/lib/python3.7/dist-packages/sklearn/linear_model/_sag.py:330: ConvergenceWarning: The max_iter was reached which means the coef_ did not converge\n",
      "  \"the coef_ did not converge\", ConvergenceWarning)\n",
      "/usr/local/lib/python3.7/dist-packages/sklearn/linear_model/_sag.py:330: ConvergenceWarning: The max_iter was reached which means the coef_ did not converge\n",
      "  \"the coef_ did not converge\", ConvergenceWarning)\n",
      "/usr/local/lib/python3.7/dist-packages/sklearn/linear_model/_sag.py:330: ConvergenceWarning: The max_iter was reached which means the coef_ did not converge\n",
      "  \"the coef_ did not converge\", ConvergenceWarning)\n",
      "/usr/local/lib/python3.7/dist-packages/sklearn/linear_model/_sag.py:330: ConvergenceWarning: The max_iter was reached which means the coef_ did not converge\n",
      "  \"the coef_ did not converge\", ConvergenceWarning)\n",
      "/usr/local/lib/python3.7/dist-packages/sklearn/linear_model/_sag.py:330: ConvergenceWarning: The max_iter was reached which means the coef_ did not converge\n",
      "  \"the coef_ did not converge\", ConvergenceWarning)\n",
      "/usr/local/lib/python3.7/dist-packages/sklearn/linear_model/_sag.py:330: ConvergenceWarning: The max_iter was reached which means the coef_ did not converge\n",
      "  \"the coef_ did not converge\", ConvergenceWarning)\n",
      "/usr/local/lib/python3.7/dist-packages/sklearn/linear_model/_sag.py:330: ConvergenceWarning: The max_iter was reached which means the coef_ did not converge\n",
      "  \"the coef_ did not converge\", ConvergenceWarning)\n",
      "/usr/local/lib/python3.7/dist-packages/sklearn/linear_model/_sag.py:330: ConvergenceWarning: The max_iter was reached which means the coef_ did not converge\n",
      "  \"the coef_ did not converge\", ConvergenceWarning)\n",
      "/usr/local/lib/python3.7/dist-packages/sklearn/linear_model/_sag.py:330: ConvergenceWarning: The max_iter was reached which means the coef_ did not converge\n",
      "  \"the coef_ did not converge\", ConvergenceWarning)\n",
      "/usr/local/lib/python3.7/dist-packages/sklearn/linear_model/_sag.py:330: ConvergenceWarning: The max_iter was reached which means the coef_ did not converge\n",
      "  \"the coef_ did not converge\", ConvergenceWarning)\n",
      "/usr/local/lib/python3.7/dist-packages/sklearn/linear_model/_sag.py:330: ConvergenceWarning: The max_iter was reached which means the coef_ did not converge\n",
      "  \"the coef_ did not converge\", ConvergenceWarning)\n",
      "/usr/local/lib/python3.7/dist-packages/sklearn/linear_model/_sag.py:330: ConvergenceWarning: The max_iter was reached which means the coef_ did not converge\n",
      "  \"the coef_ did not converge\", ConvergenceWarning)\n",
      "/usr/local/lib/python3.7/dist-packages/sklearn/linear_model/_sag.py:330: ConvergenceWarning: The max_iter was reached which means the coef_ did not converge\n",
      "  \"the coef_ did not converge\", ConvergenceWarning)\n",
      "/usr/local/lib/python3.7/dist-packages/sklearn/linear_model/_sag.py:330: ConvergenceWarning: The max_iter was reached which means the coef_ did not converge\n",
      "  \"the coef_ did not converge\", ConvergenceWarning)\n",
      "/usr/local/lib/python3.7/dist-packages/sklearn/linear_model/_sag.py:330: ConvergenceWarning: The max_iter was reached which means the coef_ did not converge\n",
      "  \"the coef_ did not converge\", ConvergenceWarning)\n",
      "/usr/local/lib/python3.7/dist-packages/sklearn/linear_model/_sag.py:330: ConvergenceWarning: The max_iter was reached which means the coef_ did not converge\n",
      "  \"the coef_ did not converge\", ConvergenceWarning)\n",
      "/usr/local/lib/python3.7/dist-packages/sklearn/linear_model/_sag.py:330: ConvergenceWarning: The max_iter was reached which means the coef_ did not converge\n",
      "  \"the coef_ did not converge\", ConvergenceWarning)\n",
      "/usr/local/lib/python3.7/dist-packages/sklearn/linear_model/_sag.py:330: ConvergenceWarning: The max_iter was reached which means the coef_ did not converge\n",
      "  \"the coef_ did not converge\", ConvergenceWarning)\n",
      "/usr/local/lib/python3.7/dist-packages/sklearn/linear_model/_sag.py:330: ConvergenceWarning: The max_iter was reached which means the coef_ did not converge\n",
      "  \"the coef_ did not converge\", ConvergenceWarning)\n",
      "/usr/local/lib/python3.7/dist-packages/sklearn/linear_model/_sag.py:330: ConvergenceWarning: The max_iter was reached which means the coef_ did not converge\n",
      "  \"the coef_ did not converge\", ConvergenceWarning)\n",
      "/usr/local/lib/python3.7/dist-packages/sklearn/linear_model/_sag.py:330: ConvergenceWarning: The max_iter was reached which means the coef_ did not converge\n",
      "  \"the coef_ did not converge\", ConvergenceWarning)\n",
      "/usr/local/lib/python3.7/dist-packages/sklearn/linear_model/_sag.py:330: ConvergenceWarning: The max_iter was reached which means the coef_ did not converge\n",
      "  \"the coef_ did not converge\", ConvergenceWarning)\n",
      "/usr/local/lib/python3.7/dist-packages/sklearn/linear_model/_sag.py:330: ConvergenceWarning: The max_iter was reached which means the coef_ did not converge\n",
      "  \"the coef_ did not converge\", ConvergenceWarning)\n",
      "/usr/local/lib/python3.7/dist-packages/sklearn/linear_model/_sag.py:330: ConvergenceWarning: The max_iter was reached which means the coef_ did not converge\n",
      "  \"the coef_ did not converge\", ConvergenceWarning)\n",
      "/usr/local/lib/python3.7/dist-packages/sklearn/linear_model/_sag.py:330: ConvergenceWarning: The max_iter was reached which means the coef_ did not converge\n",
      "  \"the coef_ did not converge\", ConvergenceWarning)\n",
      "/usr/local/lib/python3.7/dist-packages/sklearn/linear_model/_sag.py:330: ConvergenceWarning: The max_iter was reached which means the coef_ did not converge\n",
      "  \"the coef_ did not converge\", ConvergenceWarning)\n",
      "/usr/local/lib/python3.7/dist-packages/sklearn/linear_model/_sag.py:330: ConvergenceWarning: The max_iter was reached which means the coef_ did not converge\n",
      "  \"the coef_ did not converge\", ConvergenceWarning)\n",
      "/usr/local/lib/python3.7/dist-packages/sklearn/linear_model/_sag.py:330: ConvergenceWarning: The max_iter was reached which means the coef_ did not converge\n",
      "  \"the coef_ did not converge\", ConvergenceWarning)\n",
      "/usr/local/lib/python3.7/dist-packages/sklearn/linear_model/_sag.py:330: ConvergenceWarning: The max_iter was reached which means the coef_ did not converge\n",
      "  \"the coef_ did not converge\", ConvergenceWarning)\n",
      "/usr/local/lib/python3.7/dist-packages/sklearn/linear_model/_sag.py:330: ConvergenceWarning: The max_iter was reached which means the coef_ did not converge\n",
      "  \"the coef_ did not converge\", ConvergenceWarning)\n",
      "/usr/local/lib/python3.7/dist-packages/sklearn/linear_model/_sag.py:330: ConvergenceWarning: The max_iter was reached which means the coef_ did not converge\n",
      "  \"the coef_ did not converge\", ConvergenceWarning)\n",
      "/usr/local/lib/python3.7/dist-packages/sklearn/linear_model/_sag.py:330: ConvergenceWarning: The max_iter was reached which means the coef_ did not converge\n",
      "  \"the coef_ did not converge\", ConvergenceWarning)\n",
      "/usr/local/lib/python3.7/dist-packages/sklearn/linear_model/_sag.py:330: ConvergenceWarning: The max_iter was reached which means the coef_ did not converge\n",
      "  \"the coef_ did not converge\", ConvergenceWarning)\n",
      "/usr/local/lib/python3.7/dist-packages/sklearn/linear_model/_sag.py:330: ConvergenceWarning: The max_iter was reached which means the coef_ did not converge\n",
      "  \"the coef_ did not converge\", ConvergenceWarning)\n",
      "/usr/local/lib/python3.7/dist-packages/sklearn/linear_model/_sag.py:330: ConvergenceWarning: The max_iter was reached which means the coef_ did not converge\n",
      "  \"the coef_ did not converge\", ConvergenceWarning)\n",
      "/usr/local/lib/python3.7/dist-packages/sklearn/linear_model/_sag.py:330: ConvergenceWarning: The max_iter was reached which means the coef_ did not converge\n",
      "  \"the coef_ did not converge\", ConvergenceWarning)\n",
      "/usr/local/lib/python3.7/dist-packages/sklearn/linear_model/_sag.py:330: ConvergenceWarning: The max_iter was reached which means the coef_ did not converge\n",
      "  \"the coef_ did not converge\", ConvergenceWarning)\n",
      "/usr/local/lib/python3.7/dist-packages/sklearn/linear_model/_sag.py:330: ConvergenceWarning: The max_iter was reached which means the coef_ did not converge\n",
      "  \"the coef_ did not converge\", ConvergenceWarning)\n",
      "/usr/local/lib/python3.7/dist-packages/sklearn/linear_model/_sag.py:330: ConvergenceWarning: The max_iter was reached which means the coef_ did not converge\n",
      "  \"the coef_ did not converge\", ConvergenceWarning)\n",
      "/usr/local/lib/python3.7/dist-packages/sklearn/linear_model/_sag.py:330: ConvergenceWarning: The max_iter was reached which means the coef_ did not converge\n",
      "  \"the coef_ did not converge\", ConvergenceWarning)\n",
      "/usr/local/lib/python3.7/dist-packages/sklearn/linear_model/_sag.py:330: ConvergenceWarning: The max_iter was reached which means the coef_ did not converge\n",
      "  \"the coef_ did not converge\", ConvergenceWarning)\n",
      "/usr/local/lib/python3.7/dist-packages/sklearn/linear_model/_sag.py:330: ConvergenceWarning: The max_iter was reached which means the coef_ did not converge\n",
      "  \"the coef_ did not converge\", ConvergenceWarning)\n",
      "/usr/local/lib/python3.7/dist-packages/sklearn/linear_model/_sag.py:330: ConvergenceWarning: The max_iter was reached which means the coef_ did not converge\n",
      "  \"the coef_ did not converge\", ConvergenceWarning)\n",
      "/usr/local/lib/python3.7/dist-packages/sklearn/linear_model/_sag.py:330: ConvergenceWarning: The max_iter was reached which means the coef_ did not converge\n",
      "  \"the coef_ did not converge\", ConvergenceWarning)\n",
      "/usr/local/lib/python3.7/dist-packages/sklearn/linear_model/_sag.py:330: ConvergenceWarning: The max_iter was reached which means the coef_ did not converge\n",
      "  \"the coef_ did not converge\", ConvergenceWarning)\n",
      "/usr/local/lib/python3.7/dist-packages/sklearn/linear_model/_sag.py:330: ConvergenceWarning: The max_iter was reached which means the coef_ did not converge\n",
      "  \"the coef_ did not converge\", ConvergenceWarning)\n",
      "/usr/local/lib/python3.7/dist-packages/sklearn/linear_model/_sag.py:330: ConvergenceWarning: The max_iter was reached which means the coef_ did not converge\n",
      "  \"the coef_ did not converge\", ConvergenceWarning)\n",
      "/usr/local/lib/python3.7/dist-packages/sklearn/linear_model/_sag.py:330: ConvergenceWarning: The max_iter was reached which means the coef_ did not converge\n",
      "  \"the coef_ did not converge\", ConvergenceWarning)\n",
      "/usr/local/lib/python3.7/dist-packages/sklearn/linear_model/_sag.py:330: ConvergenceWarning: The max_iter was reached which means the coef_ did not converge\n",
      "  \"the coef_ did not converge\", ConvergenceWarning)\n",
      "/usr/local/lib/python3.7/dist-packages/sklearn/linear_model/_sag.py:330: ConvergenceWarning: The max_iter was reached which means the coef_ did not converge\n",
      "  \"the coef_ did not converge\", ConvergenceWarning)\n",
      "/usr/local/lib/python3.7/dist-packages/sklearn/linear_model/_sag.py:330: ConvergenceWarning: The max_iter was reached which means the coef_ did not converge\n",
      "  \"the coef_ did not converge\", ConvergenceWarning)\n",
      "/usr/local/lib/python3.7/dist-packages/sklearn/linear_model/_sag.py:330: ConvergenceWarning: The max_iter was reached which means the coef_ did not converge\n",
      "  \"the coef_ did not converge\", ConvergenceWarning)\n",
      "/usr/local/lib/python3.7/dist-packages/sklearn/linear_model/_sag.py:330: ConvergenceWarning: The max_iter was reached which means the coef_ did not converge\n",
      "  \"the coef_ did not converge\", ConvergenceWarning)\n",
      "/usr/local/lib/python3.7/dist-packages/sklearn/linear_model/_sag.py:330: ConvergenceWarning: The max_iter was reached which means the coef_ did not converge\n",
      "  \"the coef_ did not converge\", ConvergenceWarning)\n",
      "/usr/local/lib/python3.7/dist-packages/sklearn/linear_model/_sag.py:330: ConvergenceWarning: The max_iter was reached which means the coef_ did not converge\n",
      "  \"the coef_ did not converge\", ConvergenceWarning)\n",
      "/usr/local/lib/python3.7/dist-packages/sklearn/linear_model/_sag.py:330: ConvergenceWarning: The max_iter was reached which means the coef_ did not converge\n",
      "  \"the coef_ did not converge\", ConvergenceWarning)\n",
      "/usr/local/lib/python3.7/dist-packages/sklearn/linear_model/_sag.py:330: ConvergenceWarning: The max_iter was reached which means the coef_ did not converge\n",
      "  \"the coef_ did not converge\", ConvergenceWarning)\n",
      "/usr/local/lib/python3.7/dist-packages/sklearn/linear_model/_sag.py:330: ConvergenceWarning: The max_iter was reached which means the coef_ did not converge\n",
      "  \"the coef_ did not converge\", ConvergenceWarning)\n",
      "/usr/local/lib/python3.7/dist-packages/sklearn/linear_model/_sag.py:330: ConvergenceWarning: The max_iter was reached which means the coef_ did not converge\n",
      "  \"the coef_ did not converge\", ConvergenceWarning)\n",
      "/usr/local/lib/python3.7/dist-packages/sklearn/linear_model/_sag.py:330: ConvergenceWarning: The max_iter was reached which means the coef_ did not converge\n",
      "  \"the coef_ did not converge\", ConvergenceWarning)\n",
      "/usr/local/lib/python3.7/dist-packages/sklearn/linear_model/_sag.py:330: ConvergenceWarning: The max_iter was reached which means the coef_ did not converge\n",
      "  \"the coef_ did not converge\", ConvergenceWarning)\n",
      "/usr/local/lib/python3.7/dist-packages/sklearn/linear_model/_sag.py:330: ConvergenceWarning: The max_iter was reached which means the coef_ did not converge\n",
      "  \"the coef_ did not converge\", ConvergenceWarning)\n",
      "/usr/local/lib/python3.7/dist-packages/sklearn/linear_model/_sag.py:330: ConvergenceWarning: The max_iter was reached which means the coef_ did not converge\n",
      "  \"the coef_ did not converge\", ConvergenceWarning)\n",
      "/usr/local/lib/python3.7/dist-packages/sklearn/linear_model/_sag.py:330: ConvergenceWarning: The max_iter was reached which means the coef_ did not converge\n",
      "  \"the coef_ did not converge\", ConvergenceWarning)\n",
      "/usr/local/lib/python3.7/dist-packages/sklearn/linear_model/_sag.py:330: ConvergenceWarning: The max_iter was reached which means the coef_ did not converge\n",
      "  \"the coef_ did not converge\", ConvergenceWarning)\n",
      "/usr/local/lib/python3.7/dist-packages/sklearn/linear_model/_sag.py:330: ConvergenceWarning: The max_iter was reached which means the coef_ did not converge\n",
      "  \"the coef_ did not converge\", ConvergenceWarning)\n",
      "/usr/local/lib/python3.7/dist-packages/sklearn/linear_model/_sag.py:330: ConvergenceWarning: The max_iter was reached which means the coef_ did not converge\n",
      "  \"the coef_ did not converge\", ConvergenceWarning)\n",
      "/usr/local/lib/python3.7/dist-packages/sklearn/linear_model/_sag.py:330: ConvergenceWarning: The max_iter was reached which means the coef_ did not converge\n",
      "  \"the coef_ did not converge\", ConvergenceWarning)\n",
      "/usr/local/lib/python3.7/dist-packages/sklearn/linear_model/_sag.py:330: ConvergenceWarning: The max_iter was reached which means the coef_ did not converge\n",
      "  \"the coef_ did not converge\", ConvergenceWarning)\n",
      "/usr/local/lib/python3.7/dist-packages/sklearn/linear_model/_sag.py:330: ConvergenceWarning: The max_iter was reached which means the coef_ did not converge\n",
      "  \"the coef_ did not converge\", ConvergenceWarning)\n",
      "/usr/local/lib/python3.7/dist-packages/sklearn/linear_model/_sag.py:330: ConvergenceWarning: The max_iter was reached which means the coef_ did not converge\n",
      "  \"the coef_ did not converge\", ConvergenceWarning)\n",
      "/usr/local/lib/python3.7/dist-packages/sklearn/linear_model/_sag.py:330: ConvergenceWarning: The max_iter was reached which means the coef_ did not converge\n",
      "  \"the coef_ did not converge\", ConvergenceWarning)\n",
      "/usr/local/lib/python3.7/dist-packages/sklearn/linear_model/_sag.py:330: ConvergenceWarning: The max_iter was reached which means the coef_ did not converge\n",
      "  \"the coef_ did not converge\", ConvergenceWarning)\n",
      "/usr/local/lib/python3.7/dist-packages/sklearn/linear_model/_sag.py:330: ConvergenceWarning: The max_iter was reached which means the coef_ did not converge\n",
      "  \"the coef_ did not converge\", ConvergenceWarning)\n",
      "/usr/local/lib/python3.7/dist-packages/sklearn/linear_model/_sag.py:330: ConvergenceWarning: The max_iter was reached which means the coef_ did not converge\n",
      "  \"the coef_ did not converge\", ConvergenceWarning)\n",
      "/usr/local/lib/python3.7/dist-packages/sklearn/linear_model/_sag.py:330: ConvergenceWarning: The max_iter was reached which means the coef_ did not converge\n",
      "  \"the coef_ did not converge\", ConvergenceWarning)\n",
      "/usr/local/lib/python3.7/dist-packages/sklearn/linear_model/_sag.py:330: ConvergenceWarning: The max_iter was reached which means the coef_ did not converge\n",
      "  \"the coef_ did not converge\", ConvergenceWarning)\n",
      "/usr/local/lib/python3.7/dist-packages/sklearn/linear_model/_sag.py:330: ConvergenceWarning: The max_iter was reached which means the coef_ did not converge\n",
      "  \"the coef_ did not converge\", ConvergenceWarning)\n",
      "/usr/local/lib/python3.7/dist-packages/sklearn/linear_model/_sag.py:330: ConvergenceWarning: The max_iter was reached which means the coef_ did not converge\n",
      "  \"the coef_ did not converge\", ConvergenceWarning)\n",
      "/usr/local/lib/python3.7/dist-packages/sklearn/linear_model/_sag.py:330: ConvergenceWarning: The max_iter was reached which means the coef_ did not converge\n",
      "  \"the coef_ did not converge\", ConvergenceWarning)\n",
      "/usr/local/lib/python3.7/dist-packages/sklearn/linear_model/_sag.py:330: ConvergenceWarning: The max_iter was reached which means the coef_ did not converge\n",
      "  \"the coef_ did not converge\", ConvergenceWarning)\n",
      "/usr/local/lib/python3.7/dist-packages/sklearn/linear_model/_sag.py:330: ConvergenceWarning: The max_iter was reached which means the coef_ did not converge\n",
      "  \"the coef_ did not converge\", ConvergenceWarning)\n",
      "/usr/local/lib/python3.7/dist-packages/sklearn/linear_model/_sag.py:330: ConvergenceWarning: The max_iter was reached which means the coef_ did not converge\n",
      "  \"the coef_ did not converge\", ConvergenceWarning)\n",
      "/usr/local/lib/python3.7/dist-packages/sklearn/linear_model/_sag.py:330: ConvergenceWarning: The max_iter was reached which means the coef_ did not converge\n",
      "  \"the coef_ did not converge\", ConvergenceWarning)\n",
      "/usr/local/lib/python3.7/dist-packages/sklearn/linear_model/_sag.py:330: ConvergenceWarning: The max_iter was reached which means the coef_ did not converge\n",
      "  \"the coef_ did not converge\", ConvergenceWarning)\n",
      "/usr/local/lib/python3.7/dist-packages/sklearn/linear_model/_sag.py:330: ConvergenceWarning: The max_iter was reached which means the coef_ did not converge\n",
      "  \"the coef_ did not converge\", ConvergenceWarning)\n",
      "/usr/local/lib/python3.7/dist-packages/sklearn/linear_model/_sag.py:330: ConvergenceWarning: The max_iter was reached which means the coef_ did not converge\n",
      "  \"the coef_ did not converge\", ConvergenceWarning)\n",
      "/usr/local/lib/python3.7/dist-packages/sklearn/linear_model/_sag.py:330: ConvergenceWarning: The max_iter was reached which means the coef_ did not converge\n",
      "  \"the coef_ did not converge\", ConvergenceWarning)\n",
      "/usr/local/lib/python3.7/dist-packages/sklearn/linear_model/_sag.py:330: ConvergenceWarning: The max_iter was reached which means the coef_ did not converge\n",
      "  \"the coef_ did not converge\", ConvergenceWarning)\n",
      "/usr/local/lib/python3.7/dist-packages/sklearn/linear_model/_sag.py:330: ConvergenceWarning: The max_iter was reached which means the coef_ did not converge\n",
      "  \"the coef_ did not converge\", ConvergenceWarning)\n",
      "/usr/local/lib/python3.7/dist-packages/sklearn/linear_model/_sag.py:330: ConvergenceWarning: The max_iter was reached which means the coef_ did not converge\n",
      "  \"the coef_ did not converge\", ConvergenceWarning)\n",
      "/usr/local/lib/python3.7/dist-packages/sklearn/linear_model/_sag.py:330: ConvergenceWarning: The max_iter was reached which means the coef_ did not converge\n",
      "  \"the coef_ did not converge\", ConvergenceWarning)\n",
      "/usr/local/lib/python3.7/dist-packages/sklearn/linear_model/_sag.py:330: ConvergenceWarning: The max_iter was reached which means the coef_ did not converge\n",
      "  \"the coef_ did not converge\", ConvergenceWarning)\n",
      "/usr/local/lib/python3.7/dist-packages/sklearn/linear_model/_sag.py:330: ConvergenceWarning: The max_iter was reached which means the coef_ did not converge\n",
      "  \"the coef_ did not converge\", ConvergenceWarning)\n",
      "/usr/local/lib/python3.7/dist-packages/sklearn/linear_model/_sag.py:330: ConvergenceWarning: The max_iter was reached which means the coef_ did not converge\n",
      "  \"the coef_ did not converge\", ConvergenceWarning)\n",
      "/usr/local/lib/python3.7/dist-packages/sklearn/linear_model/_sag.py:330: ConvergenceWarning: The max_iter was reached which means the coef_ did not converge\n",
      "  \"the coef_ did not converge\", ConvergenceWarning)\n",
      "/usr/local/lib/python3.7/dist-packages/sklearn/linear_model/_sag.py:330: ConvergenceWarning: The max_iter was reached which means the coef_ did not converge\n",
      "  \"the coef_ did not converge\", ConvergenceWarning)\n",
      "/usr/local/lib/python3.7/dist-packages/sklearn/linear_model/_sag.py:330: ConvergenceWarning: The max_iter was reached which means the coef_ did not converge\n",
      "  \"the coef_ did not converge\", ConvergenceWarning)\n",
      "/usr/local/lib/python3.7/dist-packages/sklearn/linear_model/_sag.py:330: ConvergenceWarning: The max_iter was reached which means the coef_ did not converge\n",
      "  \"the coef_ did not converge\", ConvergenceWarning)\n",
      "/usr/local/lib/python3.7/dist-packages/sklearn/linear_model/_sag.py:330: ConvergenceWarning: The max_iter was reached which means the coef_ did not converge\n",
      "  \"the coef_ did not converge\", ConvergenceWarning)\n",
      "/usr/local/lib/python3.7/dist-packages/sklearn/linear_model/_sag.py:330: ConvergenceWarning: The max_iter was reached which means the coef_ did not converge\n",
      "  \"the coef_ did not converge\", ConvergenceWarning)\n",
      "/usr/local/lib/python3.7/dist-packages/sklearn/linear_model/_sag.py:330: ConvergenceWarning: The max_iter was reached which means the coef_ did not converge\n",
      "  \"the coef_ did not converge\", ConvergenceWarning)\n",
      "/usr/local/lib/python3.7/dist-packages/sklearn/linear_model/_sag.py:330: ConvergenceWarning: The max_iter was reached which means the coef_ did not converge\n",
      "  \"the coef_ did not converge\", ConvergenceWarning)\n",
      "/usr/local/lib/python3.7/dist-packages/sklearn/linear_model/_sag.py:330: ConvergenceWarning: The max_iter was reached which means the coef_ did not converge\n",
      "  \"the coef_ did not converge\", ConvergenceWarning)\n",
      "/usr/local/lib/python3.7/dist-packages/sklearn/linear_model/_sag.py:330: ConvergenceWarning: The max_iter was reached which means the coef_ did not converge\n",
      "  \"the coef_ did not converge\", ConvergenceWarning)\n",
      "/usr/local/lib/python3.7/dist-packages/sklearn/linear_model/_sag.py:330: ConvergenceWarning: The max_iter was reached which means the coef_ did not converge\n",
      "  \"the coef_ did not converge\", ConvergenceWarning)\n",
      "/usr/local/lib/python3.7/dist-packages/sklearn/linear_model/_sag.py:330: ConvergenceWarning: The max_iter was reached which means the coef_ did not converge\n",
      "  \"the coef_ did not converge\", ConvergenceWarning)\n",
      "/usr/local/lib/python3.7/dist-packages/sklearn/linear_model/_sag.py:330: ConvergenceWarning: The max_iter was reached which means the coef_ did not converge\n",
      "  \"the coef_ did not converge\", ConvergenceWarning)\n",
      "/usr/local/lib/python3.7/dist-packages/sklearn/linear_model/_sag.py:330: ConvergenceWarning: The max_iter was reached which means the coef_ did not converge\n",
      "  \"the coef_ did not converge\", ConvergenceWarning)\n",
      "/usr/local/lib/python3.7/dist-packages/sklearn/linear_model/_sag.py:330: ConvergenceWarning: The max_iter was reached which means the coef_ did not converge\n",
      "  \"the coef_ did not converge\", ConvergenceWarning)\n",
      "/usr/local/lib/python3.7/dist-packages/sklearn/linear_model/_sag.py:330: ConvergenceWarning: The max_iter was reached which means the coef_ did not converge\n",
      "  \"the coef_ did not converge\", ConvergenceWarning)\n",
      "/usr/local/lib/python3.7/dist-packages/sklearn/linear_model/_sag.py:330: ConvergenceWarning: The max_iter was reached which means the coef_ did not converge\n",
      "  \"the coef_ did not converge\", ConvergenceWarning)\n",
      "/usr/local/lib/python3.7/dist-packages/sklearn/linear_model/_sag.py:330: ConvergenceWarning: The max_iter was reached which means the coef_ did not converge\n",
      "  \"the coef_ did not converge\", ConvergenceWarning)\n",
      "/usr/local/lib/python3.7/dist-packages/sklearn/linear_model/_sag.py:330: ConvergenceWarning: The max_iter was reached which means the coef_ did not converge\n",
      "  \"the coef_ did not converge\", ConvergenceWarning)\n",
      "/usr/local/lib/python3.7/dist-packages/sklearn/linear_model/_sag.py:330: ConvergenceWarning: The max_iter was reached which means the coef_ did not converge\n",
      "  \"the coef_ did not converge\", ConvergenceWarning)\n",
      "/usr/local/lib/python3.7/dist-packages/sklearn/linear_model/_sag.py:330: ConvergenceWarning: The max_iter was reached which means the coef_ did not converge\n",
      "  \"the coef_ did not converge\", ConvergenceWarning)\n",
      "/usr/local/lib/python3.7/dist-packages/sklearn/linear_model/_sag.py:330: ConvergenceWarning: The max_iter was reached which means the coef_ did not converge\n",
      "  \"the coef_ did not converge\", ConvergenceWarning)\n",
      "/usr/local/lib/python3.7/dist-packages/sklearn/linear_model/_sag.py:330: ConvergenceWarning: The max_iter was reached which means the coef_ did not converge\n",
      "  \"the coef_ did not converge\", ConvergenceWarning)\n",
      "/usr/local/lib/python3.7/dist-packages/sklearn/linear_model/_sag.py:330: ConvergenceWarning: The max_iter was reached which means the coef_ did not converge\n",
      "  \"the coef_ did not converge\", ConvergenceWarning)\n",
      "/usr/local/lib/python3.7/dist-packages/sklearn/linear_model/_sag.py:330: ConvergenceWarning: The max_iter was reached which means the coef_ did not converge\n",
      "  \"the coef_ did not converge\", ConvergenceWarning)\n",
      "/usr/local/lib/python3.7/dist-packages/sklearn/linear_model/_sag.py:330: ConvergenceWarning: The max_iter was reached which means the coef_ did not converge\n",
      "  \"the coef_ did not converge\", ConvergenceWarning)\n",
      "/usr/local/lib/python3.7/dist-packages/sklearn/linear_model/_sag.py:330: ConvergenceWarning: The max_iter was reached which means the coef_ did not converge\n",
      "  \"the coef_ did not converge\", ConvergenceWarning)\n",
      "/usr/local/lib/python3.7/dist-packages/sklearn/linear_model/_sag.py:330: ConvergenceWarning: The max_iter was reached which means the coef_ did not converge\n",
      "  \"the coef_ did not converge\", ConvergenceWarning)\n",
      "/usr/local/lib/python3.7/dist-packages/sklearn/linear_model/_sag.py:330: ConvergenceWarning: The max_iter was reached which means the coef_ did not converge\n",
      "  \"the coef_ did not converge\", ConvergenceWarning)\n",
      "/usr/local/lib/python3.7/dist-packages/sklearn/linear_model/_sag.py:330: ConvergenceWarning: The max_iter was reached which means the coef_ did not converge\n",
      "  \"the coef_ did not converge\", ConvergenceWarning)\n",
      "/usr/local/lib/python3.7/dist-packages/sklearn/linear_model/_sag.py:330: ConvergenceWarning: The max_iter was reached which means the coef_ did not converge\n",
      "  \"the coef_ did not converge\", ConvergenceWarning)\n",
      "/usr/local/lib/python3.7/dist-packages/sklearn/linear_model/_sag.py:330: ConvergenceWarning: The max_iter was reached which means the coef_ did not converge\n",
      "  \"the coef_ did not converge\", ConvergenceWarning)\n",
      "/usr/local/lib/python3.7/dist-packages/sklearn/linear_model/_sag.py:330: ConvergenceWarning: The max_iter was reached which means the coef_ did not converge\n",
      "  \"the coef_ did not converge\", ConvergenceWarning)\n",
      "/usr/local/lib/python3.7/dist-packages/sklearn/linear_model/_sag.py:330: ConvergenceWarning: The max_iter was reached which means the coef_ did not converge\n",
      "  \"the coef_ did not converge\", ConvergenceWarning)\n",
      "/usr/local/lib/python3.7/dist-packages/sklearn/linear_model/_sag.py:330: ConvergenceWarning: The max_iter was reached which means the coef_ did not converge\n",
      "  \"the coef_ did not converge\", ConvergenceWarning)\n",
      "/usr/local/lib/python3.7/dist-packages/sklearn/linear_model/_sag.py:330: ConvergenceWarning: The max_iter was reached which means the coef_ did not converge\n",
      "  \"the coef_ did not converge\", ConvergenceWarning)\n",
      "/usr/local/lib/python3.7/dist-packages/sklearn/linear_model/_sag.py:330: ConvergenceWarning: The max_iter was reached which means the coef_ did not converge\n",
      "  \"the coef_ did not converge\", ConvergenceWarning)\n",
      "/usr/local/lib/python3.7/dist-packages/sklearn/linear_model/_sag.py:330: ConvergenceWarning: The max_iter was reached which means the coef_ did not converge\n",
      "  \"the coef_ did not converge\", ConvergenceWarning)\n",
      "/usr/local/lib/python3.7/dist-packages/sklearn/linear_model/_sag.py:330: ConvergenceWarning: The max_iter was reached which means the coef_ did not converge\n",
      "  \"the coef_ did not converge\", ConvergenceWarning)\n",
      "/usr/local/lib/python3.7/dist-packages/sklearn/linear_model/_sag.py:330: ConvergenceWarning: The max_iter was reached which means the coef_ did not converge\n",
      "  \"the coef_ did not converge\", ConvergenceWarning)\n",
      "/usr/local/lib/python3.7/dist-packages/sklearn/linear_model/_sag.py:330: ConvergenceWarning: The max_iter was reached which means the coef_ did not converge\n",
      "  \"the coef_ did not converge\", ConvergenceWarning)\n",
      "/usr/local/lib/python3.7/dist-packages/sklearn/linear_model/_sag.py:330: ConvergenceWarning: The max_iter was reached which means the coef_ did not converge\n",
      "  \"the coef_ did not converge\", ConvergenceWarning)\n",
      "/usr/local/lib/python3.7/dist-packages/sklearn/linear_model/_sag.py:330: ConvergenceWarning: The max_iter was reached which means the coef_ did not converge\n",
      "  \"the coef_ did not converge\", ConvergenceWarning)\n",
      "/usr/local/lib/python3.7/dist-packages/sklearn/linear_model/_sag.py:330: ConvergenceWarning: The max_iter was reached which means the coef_ did not converge\n",
      "  \"the coef_ did not converge\", ConvergenceWarning)\n",
      "/usr/local/lib/python3.7/dist-packages/sklearn/linear_model/_sag.py:330: ConvergenceWarning: The max_iter was reached which means the coef_ did not converge\n",
      "  \"the coef_ did not converge\", ConvergenceWarning)\n",
      "/usr/local/lib/python3.7/dist-packages/sklearn/linear_model/_sag.py:330: ConvergenceWarning: The max_iter was reached which means the coef_ did not converge\n",
      "  \"the coef_ did not converge\", ConvergenceWarning)\n",
      "/usr/local/lib/python3.7/dist-packages/sklearn/linear_model/_sag.py:330: ConvergenceWarning: The max_iter was reached which means the coef_ did not converge\n",
      "  \"the coef_ did not converge\", ConvergenceWarning)\n",
      "/usr/local/lib/python3.7/dist-packages/sklearn/linear_model/_sag.py:330: ConvergenceWarning: The max_iter was reached which means the coef_ did not converge\n",
      "  \"the coef_ did not converge\", ConvergenceWarning)\n",
      "/usr/local/lib/python3.7/dist-packages/sklearn/linear_model/_sag.py:330: ConvergenceWarning: The max_iter was reached which means the coef_ did not converge\n",
      "  \"the coef_ did not converge\", ConvergenceWarning)\n",
      "/usr/local/lib/python3.7/dist-packages/sklearn/linear_model/_sag.py:330: ConvergenceWarning: The max_iter was reached which means the coef_ did not converge\n",
      "  \"the coef_ did not converge\", ConvergenceWarning)\n",
      "/usr/local/lib/python3.7/dist-packages/sklearn/linear_model/_sag.py:330: ConvergenceWarning: The max_iter was reached which means the coef_ did not converge\n",
      "  \"the coef_ did not converge\", ConvergenceWarning)\n",
      "/usr/local/lib/python3.7/dist-packages/sklearn/linear_model/_sag.py:330: ConvergenceWarning: The max_iter was reached which means the coef_ did not converge\n",
      "  \"the coef_ did not converge\", ConvergenceWarning)\n",
      "/usr/local/lib/python3.7/dist-packages/sklearn/linear_model/_sag.py:330: ConvergenceWarning: The max_iter was reached which means the coef_ did not converge\n",
      "  \"the coef_ did not converge\", ConvergenceWarning)\n",
      "/usr/local/lib/python3.7/dist-packages/sklearn/linear_model/_sag.py:330: ConvergenceWarning: The max_iter was reached which means the coef_ did not converge\n",
      "  \"the coef_ did not converge\", ConvergenceWarning)\n",
      "/usr/local/lib/python3.7/dist-packages/sklearn/linear_model/_sag.py:330: ConvergenceWarning: The max_iter was reached which means the coef_ did not converge\n",
      "  \"the coef_ did not converge\", ConvergenceWarning)\n",
      "/usr/local/lib/python3.7/dist-packages/sklearn/linear_model/_sag.py:330: ConvergenceWarning: The max_iter was reached which means the coef_ did not converge\n",
      "  \"the coef_ did not converge\", ConvergenceWarning)\n",
      "/usr/local/lib/python3.7/dist-packages/sklearn/linear_model/_sag.py:330: ConvergenceWarning: The max_iter was reached which means the coef_ did not converge\n",
      "  \"the coef_ did not converge\", ConvergenceWarning)\n",
      "/usr/local/lib/python3.7/dist-packages/sklearn/linear_model/_sag.py:330: ConvergenceWarning: The max_iter was reached which means the coef_ did not converge\n",
      "  \"the coef_ did not converge\", ConvergenceWarning)\n",
      "/usr/local/lib/python3.7/dist-packages/sklearn/linear_model/_sag.py:330: ConvergenceWarning: The max_iter was reached which means the coef_ did not converge\n",
      "  \"the coef_ did not converge\", ConvergenceWarning)\n",
      "/usr/local/lib/python3.7/dist-packages/sklearn/linear_model/_sag.py:330: ConvergenceWarning: The max_iter was reached which means the coef_ did not converge\n",
      "  \"the coef_ did not converge\", ConvergenceWarning)\n",
      "/usr/local/lib/python3.7/dist-packages/sklearn/linear_model/_sag.py:330: ConvergenceWarning: The max_iter was reached which means the coef_ did not converge\n",
      "  \"the coef_ did not converge\", ConvergenceWarning)\n",
      "/usr/local/lib/python3.7/dist-packages/sklearn/linear_model/_sag.py:330: ConvergenceWarning: The max_iter was reached which means the coef_ did not converge\n",
      "  \"the coef_ did not converge\", ConvergenceWarning)\n",
      "/usr/local/lib/python3.7/dist-packages/sklearn/linear_model/_sag.py:330: ConvergenceWarning: The max_iter was reached which means the coef_ did not converge\n",
      "  \"the coef_ did not converge\", ConvergenceWarning)\n",
      "/usr/local/lib/python3.7/dist-packages/sklearn/linear_model/_sag.py:330: ConvergenceWarning: The max_iter was reached which means the coef_ did not converge\n",
      "  \"the coef_ did not converge\", ConvergenceWarning)\n",
      "/usr/local/lib/python3.7/dist-packages/sklearn/linear_model/_sag.py:330: ConvergenceWarning: The max_iter was reached which means the coef_ did not converge\n",
      "  \"the coef_ did not converge\", ConvergenceWarning)\n",
      "/usr/local/lib/python3.7/dist-packages/sklearn/linear_model/_sag.py:330: ConvergenceWarning: The max_iter was reached which means the coef_ did not converge\n",
      "  \"the coef_ did not converge\", ConvergenceWarning)\n",
      "/usr/local/lib/python3.7/dist-packages/sklearn/linear_model/_sag.py:330: ConvergenceWarning: The max_iter was reached which means the coef_ did not converge\n",
      "  \"the coef_ did not converge\", ConvergenceWarning)\n",
      "/usr/local/lib/python3.7/dist-packages/sklearn/linear_model/_sag.py:330: ConvergenceWarning: The max_iter was reached which means the coef_ did not converge\n",
      "  \"the coef_ did not converge\", ConvergenceWarning)\n",
      "/usr/local/lib/python3.7/dist-packages/sklearn/linear_model/_sag.py:330: ConvergenceWarning: The max_iter was reached which means the coef_ did not converge\n",
      "  \"the coef_ did not converge\", ConvergenceWarning)\n",
      "/usr/local/lib/python3.7/dist-packages/sklearn/linear_model/_sag.py:330: ConvergenceWarning: The max_iter was reached which means the coef_ did not converge\n",
      "  \"the coef_ did not converge\", ConvergenceWarning)\n",
      "/usr/local/lib/python3.7/dist-packages/sklearn/linear_model/_sag.py:330: ConvergenceWarning: The max_iter was reached which means the coef_ did not converge\n",
      "  \"the coef_ did not converge\", ConvergenceWarning)\n",
      "/usr/local/lib/python3.7/dist-packages/sklearn/linear_model/_sag.py:330: ConvergenceWarning: The max_iter was reached which means the coef_ did not converge\n",
      "  \"the coef_ did not converge\", ConvergenceWarning)\n",
      "/usr/local/lib/python3.7/dist-packages/sklearn/linear_model/_sag.py:330: ConvergenceWarning: The max_iter was reached which means the coef_ did not converge\n",
      "  \"the coef_ did not converge\", ConvergenceWarning)\n",
      "/usr/local/lib/python3.7/dist-packages/sklearn/linear_model/_sag.py:330: ConvergenceWarning: The max_iter was reached which means the coef_ did not converge\n",
      "  \"the coef_ did not converge\", ConvergenceWarning)\n",
      "/usr/local/lib/python3.7/dist-packages/sklearn/linear_model/_sag.py:330: ConvergenceWarning: The max_iter was reached which means the coef_ did not converge\n",
      "  \"the coef_ did not converge\", ConvergenceWarning)\n",
      "/usr/local/lib/python3.7/dist-packages/sklearn/linear_model/_sag.py:330: ConvergenceWarning: The max_iter was reached which means the coef_ did not converge\n",
      "  \"the coef_ did not converge\", ConvergenceWarning)\n",
      "/usr/local/lib/python3.7/dist-packages/sklearn/linear_model/_sag.py:330: ConvergenceWarning: The max_iter was reached which means the coef_ did not converge\n",
      "  \"the coef_ did not converge\", ConvergenceWarning)\n",
      "/usr/local/lib/python3.7/dist-packages/sklearn/linear_model/_sag.py:330: ConvergenceWarning: The max_iter was reached which means the coef_ did not converge\n",
      "  \"the coef_ did not converge\", ConvergenceWarning)\n",
      "/usr/local/lib/python3.7/dist-packages/sklearn/linear_model/_sag.py:330: ConvergenceWarning: The max_iter was reached which means the coef_ did not converge\n",
      "  \"the coef_ did not converge\", ConvergenceWarning)\n",
      "/usr/local/lib/python3.7/dist-packages/sklearn/linear_model/_sag.py:330: ConvergenceWarning: The max_iter was reached which means the coef_ did not converge\n",
      "  \"the coef_ did not converge\", ConvergenceWarning)\n",
      "/usr/local/lib/python3.7/dist-packages/sklearn/linear_model/_sag.py:330: ConvergenceWarning: The max_iter was reached which means the coef_ did not converge\n",
      "  \"the coef_ did not converge\", ConvergenceWarning)\n",
      "/usr/local/lib/python3.7/dist-packages/sklearn/linear_model/_sag.py:330: ConvergenceWarning: The max_iter was reached which means the coef_ did not converge\n",
      "  \"the coef_ did not converge\", ConvergenceWarning)\n",
      "/usr/local/lib/python3.7/dist-packages/sklearn/linear_model/_sag.py:330: ConvergenceWarning: The max_iter was reached which means the coef_ did not converge\n",
      "  \"the coef_ did not converge\", ConvergenceWarning)\n",
      "/usr/local/lib/python3.7/dist-packages/sklearn/linear_model/_sag.py:330: ConvergenceWarning: The max_iter was reached which means the coef_ did not converge\n",
      "  \"the coef_ did not converge\", ConvergenceWarning)\n",
      "/usr/local/lib/python3.7/dist-packages/sklearn/linear_model/_sag.py:330: ConvergenceWarning: The max_iter was reached which means the coef_ did not converge\n",
      "  \"the coef_ did not converge\", ConvergenceWarning)\n",
      "/usr/local/lib/python3.7/dist-packages/sklearn/linear_model/_sag.py:330: ConvergenceWarning: The max_iter was reached which means the coef_ did not converge\n",
      "  \"the coef_ did not converge\", ConvergenceWarning)\n",
      "/usr/local/lib/python3.7/dist-packages/sklearn/linear_model/_sag.py:330: ConvergenceWarning: The max_iter was reached which means the coef_ did not converge\n",
      "  \"the coef_ did not converge\", ConvergenceWarning)\n",
      "/usr/local/lib/python3.7/dist-packages/sklearn/linear_model/_sag.py:330: ConvergenceWarning: The max_iter was reached which means the coef_ did not converge\n",
      "  \"the coef_ did not converge\", ConvergenceWarning)\n",
      "/usr/local/lib/python3.7/dist-packages/sklearn/linear_model/_sag.py:330: ConvergenceWarning: The max_iter was reached which means the coef_ did not converge\n",
      "  \"the coef_ did not converge\", ConvergenceWarning)\n",
      "/usr/local/lib/python3.7/dist-packages/sklearn/linear_model/_sag.py:330: ConvergenceWarning: The max_iter was reached which means the coef_ did not converge\n",
      "  \"the coef_ did not converge\", ConvergenceWarning)\n",
      "/usr/local/lib/python3.7/dist-packages/sklearn/linear_model/_sag.py:330: ConvergenceWarning: The max_iter was reached which means the coef_ did not converge\n",
      "  \"the coef_ did not converge\", ConvergenceWarning)\n",
      "/usr/local/lib/python3.7/dist-packages/sklearn/linear_model/_sag.py:330: ConvergenceWarning: The max_iter was reached which means the coef_ did not converge\n",
      "  \"the coef_ did not converge\", ConvergenceWarning)\n",
      "/usr/local/lib/python3.7/dist-packages/sklearn/linear_model/_sag.py:330: ConvergenceWarning: The max_iter was reached which means the coef_ did not converge\n",
      "  \"the coef_ did not converge\", ConvergenceWarning)\n",
      "/usr/local/lib/python3.7/dist-packages/sklearn/linear_model/_sag.py:330: ConvergenceWarning: The max_iter was reached which means the coef_ did not converge\n",
      "  \"the coef_ did not converge\", ConvergenceWarning)\n",
      "/usr/local/lib/python3.7/dist-packages/sklearn/linear_model/_sag.py:330: ConvergenceWarning: The max_iter was reached which means the coef_ did not converge\n",
      "  \"the coef_ did not converge\", ConvergenceWarning)\n",
      "/usr/local/lib/python3.7/dist-packages/sklearn/linear_model/_sag.py:330: ConvergenceWarning: The max_iter was reached which means the coef_ did not converge\n",
      "  \"the coef_ did not converge\", ConvergenceWarning)\n",
      "/usr/local/lib/python3.7/dist-packages/sklearn/linear_model/_sag.py:330: ConvergenceWarning: The max_iter was reached which means the coef_ did not converge\n",
      "  \"the coef_ did not converge\", ConvergenceWarning)\n",
      "/usr/local/lib/python3.7/dist-packages/sklearn/linear_model/_sag.py:330: ConvergenceWarning: The max_iter was reached which means the coef_ did not converge\n",
      "  \"the coef_ did not converge\", ConvergenceWarning)\n",
      "/usr/local/lib/python3.7/dist-packages/sklearn/linear_model/_sag.py:330: ConvergenceWarning: The max_iter was reached which means the coef_ did not converge\n",
      "  \"the coef_ did not converge\", ConvergenceWarning)\n",
      "/usr/local/lib/python3.7/dist-packages/sklearn/linear_model/_sag.py:330: ConvergenceWarning: The max_iter was reached which means the coef_ did not converge\n",
      "  \"the coef_ did not converge\", ConvergenceWarning)\n",
      "/usr/local/lib/python3.7/dist-packages/sklearn/linear_model/_sag.py:330: ConvergenceWarning: The max_iter was reached which means the coef_ did not converge\n",
      "  \"the coef_ did not converge\", ConvergenceWarning)\n",
      "/usr/local/lib/python3.7/dist-packages/sklearn/linear_model/_sag.py:330: ConvergenceWarning: The max_iter was reached which means the coef_ did not converge\n",
      "  \"the coef_ did not converge\", ConvergenceWarning)\n",
      "/usr/local/lib/python3.7/dist-packages/sklearn/linear_model/_sag.py:330: ConvergenceWarning: The max_iter was reached which means the coef_ did not converge\n",
      "  \"the coef_ did not converge\", ConvergenceWarning)\n",
      "/usr/local/lib/python3.7/dist-packages/sklearn/linear_model/_sag.py:330: ConvergenceWarning: The max_iter was reached which means the coef_ did not converge\n",
      "  \"the coef_ did not converge\", ConvergenceWarning)\n",
      "/usr/local/lib/python3.7/dist-packages/sklearn/linear_model/_sag.py:330: ConvergenceWarning: The max_iter was reached which means the coef_ did not converge\n",
      "  \"the coef_ did not converge\", ConvergenceWarning)\n",
      "/usr/local/lib/python3.7/dist-packages/sklearn/linear_model/_sag.py:330: ConvergenceWarning: The max_iter was reached which means the coef_ did not converge\n",
      "  \"the coef_ did not converge\", ConvergenceWarning)\n",
      "/usr/local/lib/python3.7/dist-packages/sklearn/linear_model/_sag.py:330: ConvergenceWarning: The max_iter was reached which means the coef_ did not converge\n",
      "  \"the coef_ did not converge\", ConvergenceWarning)\n",
      "/usr/local/lib/python3.7/dist-packages/sklearn/linear_model/_sag.py:330: ConvergenceWarning: The max_iter was reached which means the coef_ did not converge\n",
      "  \"the coef_ did not converge\", ConvergenceWarning)\n",
      "/usr/local/lib/python3.7/dist-packages/sklearn/linear_model/_sag.py:330: ConvergenceWarning: The max_iter was reached which means the coef_ did not converge\n",
      "  \"the coef_ did not converge\", ConvergenceWarning)\n",
      "/usr/local/lib/python3.7/dist-packages/sklearn/linear_model/_sag.py:330: ConvergenceWarning: The max_iter was reached which means the coef_ did not converge\n",
      "  \"the coef_ did not converge\", ConvergenceWarning)\n",
      "/usr/local/lib/python3.7/dist-packages/sklearn/linear_model/_sag.py:330: ConvergenceWarning: The max_iter was reached which means the coef_ did not converge\n",
      "  \"the coef_ did not converge\", ConvergenceWarning)\n",
      "/usr/local/lib/python3.7/dist-packages/sklearn/linear_model/_sag.py:330: ConvergenceWarning: The max_iter was reached which means the coef_ did not converge\n",
      "  \"the coef_ did not converge\", ConvergenceWarning)\n",
      "/usr/local/lib/python3.7/dist-packages/sklearn/linear_model/_sag.py:330: ConvergenceWarning: The max_iter was reached which means the coef_ did not converge\n",
      "  \"the coef_ did not converge\", ConvergenceWarning)\n",
      "/usr/local/lib/python3.7/dist-packages/sklearn/linear_model/_sag.py:330: ConvergenceWarning: The max_iter was reached which means the coef_ did not converge\n",
      "  \"the coef_ did not converge\", ConvergenceWarning)\n",
      "/usr/local/lib/python3.7/dist-packages/sklearn/linear_model/_sag.py:330: ConvergenceWarning: The max_iter was reached which means the coef_ did not converge\n",
      "  \"the coef_ did not converge\", ConvergenceWarning)\n",
      "/usr/local/lib/python3.7/dist-packages/sklearn/linear_model/_sag.py:330: ConvergenceWarning: The max_iter was reached which means the coef_ did not converge\n",
      "  \"the coef_ did not converge\", ConvergenceWarning)\n",
      "/usr/local/lib/python3.7/dist-packages/sklearn/linear_model/_sag.py:330: ConvergenceWarning: The max_iter was reached which means the coef_ did not converge\n",
      "  \"the coef_ did not converge\", ConvergenceWarning)\n",
      "/usr/local/lib/python3.7/dist-packages/sklearn/linear_model/_sag.py:330: ConvergenceWarning: The max_iter was reached which means the coef_ did not converge\n",
      "  \"the coef_ did not converge\", ConvergenceWarning)\n",
      "/usr/local/lib/python3.7/dist-packages/sklearn/linear_model/_sag.py:330: ConvergenceWarning: The max_iter was reached which means the coef_ did not converge\n",
      "  \"the coef_ did not converge\", ConvergenceWarning)\n",
      "/usr/local/lib/python3.7/dist-packages/sklearn/linear_model/_sag.py:330: ConvergenceWarning: The max_iter was reached which means the coef_ did not converge\n",
      "  \"the coef_ did not converge\", ConvergenceWarning)\n",
      "/usr/local/lib/python3.7/dist-packages/sklearn/linear_model/_sag.py:330: ConvergenceWarning: The max_iter was reached which means the coef_ did not converge\n",
      "  \"the coef_ did not converge\", ConvergenceWarning)\n",
      "/usr/local/lib/python3.7/dist-packages/sklearn/linear_model/_sag.py:330: ConvergenceWarning: The max_iter was reached which means the coef_ did not converge\n",
      "  \"the coef_ did not converge\", ConvergenceWarning)\n",
      "/usr/local/lib/python3.7/dist-packages/sklearn/linear_model/_sag.py:330: ConvergenceWarning: The max_iter was reached which means the coef_ did not converge\n",
      "  \"the coef_ did not converge\", ConvergenceWarning)\n",
      "/usr/local/lib/python3.7/dist-packages/sklearn/linear_model/_sag.py:330: ConvergenceWarning: The max_iter was reached which means the coef_ did not converge\n",
      "  \"the coef_ did not converge\", ConvergenceWarning)\n",
      "/usr/local/lib/python3.7/dist-packages/sklearn/linear_model/_sag.py:330: ConvergenceWarning: The max_iter was reached which means the coef_ did not converge\n",
      "  \"the coef_ did not converge\", ConvergenceWarning)\n",
      "/usr/local/lib/python3.7/dist-packages/sklearn/linear_model/_sag.py:330: ConvergenceWarning: The max_iter was reached which means the coef_ did not converge\n",
      "  \"the coef_ did not converge\", ConvergenceWarning)\n",
      "/usr/local/lib/python3.7/dist-packages/sklearn/linear_model/_sag.py:330: ConvergenceWarning: The max_iter was reached which means the coef_ did not converge\n",
      "  \"the coef_ did not converge\", ConvergenceWarning)\n",
      "/usr/local/lib/python3.7/dist-packages/sklearn/linear_model/_sag.py:330: ConvergenceWarning: The max_iter was reached which means the coef_ did not converge\n",
      "  \"the coef_ did not converge\", ConvergenceWarning)\n",
      "/usr/local/lib/python3.7/dist-packages/sklearn/linear_model/_sag.py:330: ConvergenceWarning: The max_iter was reached which means the coef_ did not converge\n",
      "  \"the coef_ did not converge\", ConvergenceWarning)\n",
      "/usr/local/lib/python3.7/dist-packages/sklearn/linear_model/_sag.py:330: ConvergenceWarning: The max_iter was reached which means the coef_ did not converge\n",
      "  \"the coef_ did not converge\", ConvergenceWarning)\n",
      "/usr/local/lib/python3.7/dist-packages/sklearn/linear_model/_sag.py:330: ConvergenceWarning: The max_iter was reached which means the coef_ did not converge\n",
      "  \"the coef_ did not converge\", ConvergenceWarning)\n",
      "/usr/local/lib/python3.7/dist-packages/sklearn/linear_model/_sag.py:330: ConvergenceWarning: The max_iter was reached which means the coef_ did not converge\n",
      "  \"the coef_ did not converge\", ConvergenceWarning)\n",
      "/usr/local/lib/python3.7/dist-packages/sklearn/linear_model/_sag.py:330: ConvergenceWarning: The max_iter was reached which means the coef_ did not converge\n",
      "  \"the coef_ did not converge\", ConvergenceWarning)\n",
      "/usr/local/lib/python3.7/dist-packages/sklearn/linear_model/_sag.py:330: ConvergenceWarning: The max_iter was reached which means the coef_ did not converge\n",
      "  \"the coef_ did not converge\", ConvergenceWarning)\n",
      "/usr/local/lib/python3.7/dist-packages/sklearn/linear_model/_sag.py:330: ConvergenceWarning: The max_iter was reached which means the coef_ did not converge\n",
      "  \"the coef_ did not converge\", ConvergenceWarning)\n",
      "/usr/local/lib/python3.7/dist-packages/sklearn/linear_model/_sag.py:330: ConvergenceWarning: The max_iter was reached which means the coef_ did not converge\n",
      "  \"the coef_ did not converge\", ConvergenceWarning)\n",
      "/usr/local/lib/python3.7/dist-packages/sklearn/linear_model/_sag.py:330: ConvergenceWarning: The max_iter was reached which means the coef_ did not converge\n",
      "  \"the coef_ did not converge\", ConvergenceWarning)\n",
      "/usr/local/lib/python3.7/dist-packages/sklearn/linear_model/_sag.py:330: ConvergenceWarning: The max_iter was reached which means the coef_ did not converge\n",
      "  \"the coef_ did not converge\", ConvergenceWarning)\n"
     ]
    },
    {
     "name": "stdout",
     "output_type": "stream",
     "text": [
      "Best params: {'estimator__solver': 'saga', 'estimator__penalty': 'l1', 'estimator__C': 2}\n",
      "Test set accuracy score for best params: 0.154 \n",
      "Classification report:\n",
      "               precision    recall  f1-score   support\n",
      "\n",
      "           0       0.89      0.18      0.30       218\n",
      "           1       0.81      0.17      0.29       646\n",
      "           2       0.73      0.23      0.35      1041\n",
      "           3       0.85      0.21      0.34      1219\n",
      "           4       0.80      0.28      0.41      2062\n",
      "           5       0.76      0.20      0.31      1650\n",
      "           6       0.75      0.28      0.41      1693\n",
      "           7       0.75      0.07      0.13       864\n",
      "           8       0.88      0.10      0.18       805\n",
      "           9       0.77      0.19      0.30      1196\n",
      "          10       0.57      0.12      0.20       514\n",
      "          11       0.95      0.59      0.72       563\n",
      "          12       0.60      0.34      0.43      1031\n",
      "          13       0.93      0.44      0.60       620\n",
      "          14       0.83      0.05      0.10        93\n",
      "          15       0.67      0.07      0.12        60\n",
      "          16       0.83      0.15      0.25       101\n",
      "          17       0.44      0.12      0.19        56\n",
      "          18       0.79      0.23      0.36       116\n",
      "          19       0.00      0.00      0.00        32\n",
      "          20       1.00      0.11      0.20        36\n",
      "          21       0.00      0.00      0.00        13\n",
      "          22       1.00      0.10      0.19        29\n",
      "          23       1.00      0.06      0.12       114\n",
      "          24       1.00      0.10      0.18        60\n",
      "          25       1.00      0.19      0.32        89\n",
      "          26       0.00      0.00      0.00        69\n",
      "          27       0.88      0.49      0.63        76\n",
      "          28       0.00      0.00      0.00        31\n",
      "          29       0.80      0.30      0.44      1418\n",
      "          30       0.00      0.00      0.00        21\n",
      "          31       0.70      0.33      0.45      2346\n",
      "          32       0.70      0.11      0.19       564\n",
      "          33       0.80      0.11      0.19        37\n",
      "          34       0.90      0.12      0.20        78\n",
      "          35       1.00      0.03      0.07        29\n",
      "          36       0.91      0.19      0.32       109\n",
      "          37       0.72      0.19      0.30      1369\n",
      "          38       0.80      0.32      0.46      1116\n",
      "          39       1.00      0.04      0.07        26\n",
      "          40       0.64      0.08      0.13       465\n",
      "          41       0.00      0.00      0.00         7\n",
      "          42       1.00      0.07      0.12        61\n",
      "          43       0.83      0.37      0.51       769\n",
      "          44       0.84      0.35      0.50       423\n",
      "          45       0.00      0.00      0.00         3\n",
      "          46       0.88      0.49      0.63       577\n",
      "          47       0.85      0.12      0.21       774\n",
      "          48       0.74      0.12      0.21       165\n",
      "          49       1.00      0.15      0.26        27\n",
      "          50       0.71      0.11      0.18       435\n",
      "          51       0.79      0.55      0.65        20\n",
      "          52       1.00      0.07      0.13       102\n",
      "          53       1.00      0.03      0.06        34\n",
      "          54       0.78      0.12      0.20      1162\n",
      "          55       0.81      0.31      0.45      1299\n",
      "          56       0.94      0.22      0.36       134\n",
      "          57       0.00      0.00      0.00        14\n",
      "          58       0.91      0.18      0.30       117\n",
      "          59       0.89      0.26      0.41        61\n",
      "          60       1.00      0.60      0.75        87\n",
      "          61       0.80      0.03      0.05       157\n",
      "          62       0.79      0.24      0.37      1224\n",
      "          63       1.00      0.04      0.09        67\n",
      "          64       0.00      0.00      0.00         6\n",
      "          65       0.45      0.16      0.23        83\n",
      "          66       0.90      0.24      0.37      1403\n",
      "          67       0.92      0.22      0.35       213\n",
      "          68       0.71      0.13      0.22       965\n",
      "          69       0.00      0.00      0.00        34\n",
      "          70       0.78      0.29      0.42      3223\n",
      "          71       0.63      0.08      0.14      1026\n",
      "          72       0.70      0.22      0.33      1289\n",
      "          73       0.00      0.00      0.00         4\n",
      "          74       0.00      0.00      0.00        20\n",
      "          75       1.00      0.03      0.06        61\n",
      "          76       0.63      0.08      0.14       819\n",
      "          77       0.69      0.69      0.69      7290\n",
      "          78       0.75      0.31      0.44      5223\n",
      "          79       0.78      0.56      0.65      7631\n",
      "\n",
      "   micro avg       0.75      0.34      0.47     59684\n",
      "   macro avg       0.70      0.18      0.26     59684\n",
      "weighted avg       0.76      0.34      0.44     59684\n",
      " samples avg       0.60      0.34      0.40     59684\n",
      "\n",
      "F1 score :\n",
      " 0.43514213339008284\n"
     ]
    },
    {
     "name": "stderr",
     "output_type": "stream",
     "text": [
      "/usr/local/lib/python3.7/dist-packages/sklearn/metrics/_classification.py:1272: UndefinedMetricWarning: Precision and F-score are ill-defined and being set to 0.0 in labels with no predicted samples. Use `zero_division` parameter to control this behavior.\n",
      "  _warn_prf(average, modifier, msg_start, len(result))\n",
      "/usr/local/lib/python3.7/dist-packages/sklearn/metrics/_classification.py:1272: UndefinedMetricWarning: Precision and F-score are ill-defined and being set to 0.0 in samples with no predicted labels. Use `zero_division` parameter to control this behavior.\n",
      "  _warn_prf(average, modifier, msg_start, len(result))\n"
     ]
    }
   ],
   "source": [
    "print(\"\\n=============Prediction using TF-IDF as vectorization method for logistic Regression========\")\n",
    "\n",
    "rs_lr.fit(X_train_scale, y_train)\n",
    "# Best params\n",
    "print('Best params: %s' % rs_lr.best_params_)\n",
    "# Predict on test data with best params\n",
    "y_pred = rs_lr.predict(X_test_scale)\n",
    "# Test data accuracy of model with best params\n",
    "print('Test set accuracy score for best params: %.3f ' % accuracy_score(y_test, y_pred))\n",
    "print('Classification report:\\n',classification_report(y_test,y_pred))\n",
    "print(\"F1 score :\\n\",f1_score(y_test,y_pred,average='weighted'))"
   ]
  },
  {
   "cell_type": "code",
   "execution_count": 61,
   "metadata": {
    "colab": {
     "base_uri": "https://localhost:8080/"
    },
    "id": "e9-QNLoh1Wc9",
    "outputId": "ae97b08e-0c99-4ebc-d3fa-38dc5c2b513c"
   },
   "outputs": [
    {
     "name": "stdout",
     "output_type": "stream",
     "text": [
      "\n",
      "=============Prediction using TF-IDF vectorization method for RandomForest========\n"
     ]
    },
    {
     "name": "stderr",
     "output_type": "stream",
     "text": [
      "[Parallel(n_jobs=1)]: Using backend SequentialBackend with 1 concurrent workers.\n",
      "[Parallel(n_jobs=1)]: Done   5 out of   5 | elapsed:  1.5min finished\n"
     ]
    }
   ],
   "source": [
    "print(\"\\n=============Prediction using TF-IDF vectorization method for RandomForest========\")\n",
    "scores_rf= cross_val_score(randomForest, X_train_scale, y_train,  cv=5,verbose=1)"
   ]
  },
  {
   "cell_type": "code",
   "execution_count": 62,
   "metadata": {
    "colab": {
     "base_uri": "https://localhost:8080/"
    },
    "id": "lKtexXrB2ZdN",
    "outputId": "a5d71ba0-be48-4995-ea87-30e0f10f885a"
   },
   "outputs": [
    {
     "name": "stdout",
     "output_type": "stream",
     "text": [
      "0.030303030303030304\n"
     ]
    }
   ],
   "source": [
    "print(np.mean(scores_rf))"
   ]
  },
  {
   "cell_type": "code",
   "execution_count": 59,
   "metadata": {
    "colab": {
     "base_uri": "https://localhost:8080/"
    },
    "id": "m_y7AlItD7rj",
    "outputId": "943fb5ee-8dcb-4112-9901-05c3b659f69b"
   },
   "outputs": [
    {
     "name": "stdout",
     "output_type": "stream",
     "text": [
      "\n",
      "=============Prediction using TF-IDF as vectorization method for Naive Bayes========\n"
     ]
    },
    {
     "name": "stderr",
     "output_type": "stream",
     "text": [
      "/usr/local/lib/python3.7/dist-packages/sklearn/model_selection/_search.py:281: UserWarning: The total space of parameters 9 is smaller than n_iter=10. Running 9 iterations. For exhaustive searches, use GridSearchCV.\n",
      "  % (grid_size, self.n_iter, grid_size), UserWarning)\n"
     ]
    },
    {
     "name": "stdout",
     "output_type": "stream",
     "text": [
      "Best params: {'estimator__alpha': 1}\n",
      "Test set accuracy score for best params: 0.107 \n",
      "Classification report:\n",
      "               precision    recall  f1-score   support\n",
      "\n",
      "           0       0.39      0.06      0.10       218\n",
      "           1       0.58      0.11      0.18       646\n",
      "           2       0.73      0.15      0.25      1041\n",
      "           3       0.81      0.17      0.29      1219\n",
      "           4       0.91      0.22      0.36      2062\n",
      "           5       0.83      0.13      0.22      1650\n",
      "           6       0.86      0.15      0.25      1693\n",
      "           7       0.66      0.04      0.07       864\n",
      "           8       0.70      0.06      0.12       805\n",
      "           9       0.96      0.09      0.17      1196\n",
      "          10       0.27      0.01      0.03       514\n",
      "          11       0.85      0.41      0.56       563\n",
      "          12       0.70      0.16      0.27      1031\n",
      "          13       0.91      0.32      0.47       620\n",
      "          14       0.00      0.00      0.00        93\n",
      "          15       0.00      0.00      0.00        60\n",
      "          16       0.20      0.05      0.08       101\n",
      "          17       0.00      0.00      0.00        56\n",
      "          18       0.36      0.15      0.21       116\n",
      "          19       0.00      0.00      0.00        32\n",
      "          20       0.00      0.00      0.00        36\n",
      "          21       0.00      0.00      0.00        13\n",
      "          22       0.00      0.00      0.00        29\n",
      "          23       0.05      0.01      0.01       114\n",
      "          24       0.21      0.13      0.16        60\n",
      "          25       0.10      0.02      0.04        89\n",
      "          26       0.00      0.00      0.00        69\n",
      "          27       0.69      0.29      0.41        76\n",
      "          28       0.00      0.00      0.00        31\n",
      "          29       0.87      0.20      0.32      1418\n",
      "          30       0.00      0.00      0.00        21\n",
      "          31       0.94      0.20      0.33      2346\n",
      "          32       0.50      0.03      0.05       564\n",
      "          33       0.00      0.00      0.00        37\n",
      "          34       0.10      0.03      0.04        78\n",
      "          35       0.00      0.00      0.00        29\n",
      "          36       0.00      0.00      0.00       109\n",
      "          37       0.91      0.10      0.19      1369\n",
      "          38       0.93      0.20      0.33      1116\n",
      "          39       0.00      0.00      0.00        26\n",
      "          40       0.08      0.00      0.01       465\n",
      "          41       0.00      0.00      0.00         7\n",
      "          42       0.10      0.03      0.05        61\n",
      "          43       0.75      0.31      0.44       769\n",
      "          44       0.71      0.11      0.19       423\n",
      "          45       0.00      0.00      0.00         3\n",
      "          46       0.91      0.34      0.49       577\n",
      "          47       0.78      0.07      0.13       774\n",
      "          48       0.20      0.03      0.05       165\n",
      "          49       0.00      0.00      0.00        27\n",
      "          50       0.20      0.01      0.02       435\n",
      "          51       0.00      0.00      0.00        20\n",
      "          52       0.05      0.01      0.02       102\n",
      "          53       0.00      0.00      0.00        34\n",
      "          54       0.73      0.05      0.10      1162\n",
      "          55       0.96      0.18      0.30      1299\n",
      "          56       0.17      0.03      0.05       134\n",
      "          57       0.00      0.00      0.00        14\n",
      "          58       0.10      0.02      0.03       117\n",
      "          59       0.00      0.00      0.00        61\n",
      "          60       0.61      0.34      0.44        87\n",
      "          61       0.00      0.00      0.00       157\n",
      "          62       0.87      0.19      0.31      1224\n",
      "          63       0.00      0.00      0.00        67\n",
      "          64       0.00      0.00      0.00         6\n",
      "          65       0.00      0.00      0.00        83\n",
      "          66       0.96      0.17      0.29      1403\n",
      "          67       0.58      0.12      0.20       213\n",
      "          68       0.71      0.06      0.10       965\n",
      "          69       0.00      0.00      0.00        34\n",
      "          70       0.79      0.26      0.39      3223\n",
      "          71       0.57      0.04      0.08      1026\n",
      "          72       0.67      0.14      0.23      1289\n",
      "          73       0.00      0.00      0.00         4\n",
      "          74       0.00      0.00      0.00        20\n",
      "          75       0.00      0.00      0.00        61\n",
      "          76       0.47      0.02      0.05       819\n",
      "          77       0.70      0.73      0.71      7290\n",
      "          78       0.84      0.26      0.40      5223\n",
      "          79       0.73      0.70      0.71      7631\n",
      "\n",
      "   micro avg       0.73      0.30      0.42     59684\n",
      "   macro avg       0.38      0.10      0.14     59684\n",
      "weighted avg       0.74      0.30      0.37     59684\n",
      " samples avg       0.70      0.30      0.39     59684\n",
      "\n",
      "F1 score :\n",
      " 0.3720918755314902\n"
     ]
    }
   ],
   "source": [
    "print(\"\\n=============Prediction using TF-IDF as vectorization method for Naive Bayes========\")\n",
    "\n",
    "rs_nb.fit(X_train_scale, y_train)\n",
    "# Best params\n",
    "print('Best params: %s' % rs_nb.best_params_)\n",
    "# Predict on test data with best params\n",
    "y_pred = rs_nb.predict(X_test_scale)\n",
    "# Test data accuracy of model with best params\n",
    "print('Test set accuracy score for best params: %.3f ' % accuracy_score(y_test, y_pred))\n",
    "print('Classification report:\\n',classification_report(y_test,y_pred))\n",
    "print(\"F1 score :\\n\",f1_score(y_test,y_pred,average='weighted'))"
   ]
  },
  {
   "cell_type": "code",
   "execution_count": 59,
   "metadata": {
    "colab": {
     "base_uri": "https://localhost:8080/"
    },
    "id": "a9igu1of0tBq",
    "outputId": "a6690387-b57e-4eca-f71a-6c9d3d87009b"
   },
   "outputs": [
    {
     "name": "stdout",
     "output_type": "stream",
     "text": [
      "\n",
      "=============Prediction using Bag of words as vectorization method for TandomForest========\n"
     ]
    },
    {
     "name": "stderr",
     "output_type": "stream",
     "text": [
      "[Parallel(n_jobs=1)]: Using backend SequentialBackend with 1 concurrent workers.\n",
      "[Parallel(n_jobs=1)]: Done   5 out of   5 | elapsed:  2.5min finished\n"
     ]
    }
   ],
   "source": [
    "print(\"\\n=============Prediction using Bag of words as vectorization method for TandomForest========\")\n",
    "scores_rf= cross_val_score(randomForest, X_train_bow_scale, y_train_bow,  cv=5,verbose=1)"
   ]
  },
  {
   "cell_type": "code",
   "execution_count": 60,
   "metadata": {
    "colab": {
     "base_uri": "https://localhost:8080/"
    },
    "id": "34MsNrtw1092",
    "outputId": "df64570e-dbe1-47cb-e309-0233de770d81"
   },
   "outputs": [
    {
     "name": "stdout",
     "output_type": "stream",
     "text": [
      "0.02208818038201924\n"
     ]
    }
   ],
   "source": [
    "print(np.mean(scores_rf))"
   ]
  },
  {
   "cell_type": "code",
   "execution_count": 61,
   "metadata": {
    "colab": {
     "base_uri": "https://localhost:8080/"
    },
    "id": "ieiSyBItHSRp",
    "outputId": "c24bc8b2-7574-4678-cb33-c721a029db2b"
   },
   "outputs": [
    {
     "name": "stdout",
     "output_type": "stream",
     "text": [
      "\n",
      "=============Prediction using Bag of words as vectorization method for logistic Regression========\n"
     ]
    },
    {
     "name": "stderr",
     "output_type": "stream",
     "text": [
      "/usr/local/lib/python3.7/dist-packages/sklearn/svm/_base.py:947: ConvergenceWarning: Liblinear failed to converge, increase the number of iterations.\n",
      "  \"the number of iterations.\", ConvergenceWarning)\n",
      "/usr/local/lib/python3.7/dist-packages/sklearn/svm/_base.py:947: ConvergenceWarning: Liblinear failed to converge, increase the number of iterations.\n",
      "  \"the number of iterations.\", ConvergenceWarning)\n",
      "/usr/local/lib/python3.7/dist-packages/sklearn/svm/_base.py:947: ConvergenceWarning: Liblinear failed to converge, increase the number of iterations.\n",
      "  \"the number of iterations.\", ConvergenceWarning)\n"
     ]
    },
    {
     "name": "stdout",
     "output_type": "stream",
     "text": [
      "Best params: {'estimator__solver': 'liblinear', 'estimator__penalty': 'l1', 'estimator__C': 2}\n",
      "Test set accuracy score for best params: 0.058 \n",
      "Classification report:\n",
      "               precision    recall  f1-score   support\n",
      "\n",
      "           0       0.07      0.17      0.10       218\n",
      "           1       0.19      0.18      0.19       646\n",
      "           2       0.28      0.23      0.25      1041\n",
      "           3       0.36      0.23      0.28      1219\n",
      "           4       0.47      0.31      0.37      2062\n",
      "           5       0.61      0.18      0.28      1650\n",
      "           6       0.44      0.30      0.36      1693\n",
      "           7       0.11      0.09      0.10       864\n",
      "           8       0.13      0.11      0.12       805\n",
      "           9       0.27      0.19      0.23      1196\n",
      "          10       0.07      0.08      0.07       514\n",
      "          11       0.35      0.51      0.42       563\n",
      "          12       0.35      0.29      0.32      1031\n",
      "          13       0.35      0.35      0.35       620\n",
      "          14       0.02      0.08      0.03        93\n",
      "          15       0.01      0.03      0.01        60\n",
      "          16       0.06      0.26      0.10       101\n",
      "          17       0.02      0.12      0.03        56\n",
      "          18       0.06      0.22      0.09       116\n",
      "          19       0.00      0.00      0.00        32\n",
      "          20       0.00      0.06      0.01        36\n",
      "          21       0.00      0.08      0.00        13\n",
      "          22       0.01      0.24      0.03        29\n",
      "          23       0.02      0.07      0.03       114\n",
      "          24       0.01      0.10      0.02        60\n",
      "          25       0.03      0.11      0.05        89\n",
      "          26       0.01      0.04      0.01        69\n",
      "          27       0.07      0.45      0.13        76\n",
      "          28       0.00      0.00      0.00        31\n",
      "          29       0.35      0.29      0.32      1418\n",
      "          30       0.00      0.00      0.00        21\n",
      "          31       0.54      0.34      0.42      2346\n",
      "          32       0.09      0.11      0.10       564\n",
      "          33       0.01      0.14      0.02        37\n",
      "          34       0.01      0.08      0.02        78\n",
      "          35       0.00      0.00      0.00        29\n",
      "          36       0.03      0.13      0.05       109\n",
      "          37       0.30      0.17      0.22      1369\n",
      "          38       0.32      0.24      0.28      1116\n",
      "          39       0.00      0.08      0.01        26\n",
      "          40       0.06      0.09      0.07       465\n",
      "          41       0.00      0.14      0.01         7\n",
      "          42       0.01      0.07      0.01        61\n",
      "          43       0.31      0.36      0.33       769\n",
      "          44       0.17      0.28      0.22       423\n",
      "          45       0.00      0.00      0.00         3\n",
      "          46       0.33      0.43      0.38       577\n",
      "          47       0.17      0.14      0.15       774\n",
      "          48       0.05      0.15      0.08       165\n",
      "          49       0.01      0.22      0.02        27\n",
      "          50       0.12      0.15      0.14       435\n",
      "          51       0.01      0.20      0.02        20\n",
      "          52       0.01      0.05      0.02       102\n",
      "          53       0.00      0.00      0.00        34\n",
      "          54       0.23      0.13      0.17      1162\n",
      "          55       0.36      0.31      0.33      1299\n",
      "          56       0.06      0.20      0.09       134\n",
      "          57       0.00      0.00      0.00        14\n",
      "          58       0.04      0.18      0.07       117\n",
      "          59       0.02      0.16      0.04        61\n",
      "          60       0.09      0.48      0.15        87\n",
      "          61       0.02      0.05      0.03       157\n",
      "          62       0.32      0.25      0.28      1224\n",
      "          63       0.00      0.03      0.01        67\n",
      "          64       0.00      0.17      0.00         6\n",
      "          65       0.57      0.05      0.09        83\n",
      "          66       0.34      0.25      0.29      1403\n",
      "          67       0.06      0.12      0.08       213\n",
      "          68       0.14      0.10      0.12       965\n",
      "          69       0.00      0.03      0.00        34\n",
      "          70       0.54      0.37      0.43      3223\n",
      "          71       0.21      0.13      0.16      1026\n",
      "          72       0.35      0.29      0.32      1289\n",
      "          73       0.00      0.00      0.00         4\n",
      "          74       0.00      0.00      0.00        20\n",
      "          75       0.00      0.02      0.00        61\n",
      "          76       0.14      0.10      0.11       819\n",
      "          77       0.70      0.71      0.71      7290\n",
      "          78       0.59      0.45      0.51      5223\n",
      "          79       0.73      0.70      0.72      7631\n",
      "\n",
      "   micro avg       0.34      0.37      0.36     59684\n",
      "   macro avg       0.16      0.18      0.14     59684\n",
      "weighted avg       0.44      0.37      0.40     59684\n",
      " samples avg       0.48      0.37      0.38     59684\n",
      "\n"
     ]
    },
    {
     "name": "stderr",
     "output_type": "stream",
     "text": [
      "/usr/local/lib/python3.7/dist-packages/sklearn/metrics/_classification.py:1272: UndefinedMetricWarning: Precision and F-score are ill-defined and being set to 0.0 in labels with no predicted samples. Use `zero_division` parameter to control this behavior.\n",
      "  _warn_prf(average, modifier, msg_start, len(result))\n",
      "/usr/local/lib/python3.7/dist-packages/sklearn/metrics/_classification.py:1272: UndefinedMetricWarning: Precision and F-score are ill-defined and being set to 0.0 in samples with no predicted labels. Use `zero_division` parameter to control this behavior.\n",
      "  _warn_prf(average, modifier, msg_start, len(result))\n"
     ]
    },
    {
     "name": "stdout",
     "output_type": "stream",
     "text": [
      "F1 score :\n",
      " 0.39691814921022145\n"
     ]
    }
   ],
   "source": [
    "print(\"\\n=============Prediction using Bag of words as vectorization method for logistic Regression========\")\n",
    "\n",
    "rs_lr.fit(X_train_bow_scale, y_train_bow)\n",
    "# Best params\n",
    "print('Best params: %s' % rs_lr.best_params_)\n",
    "# Predict on test data with best params\n",
    "y_pred = rs_lr.predict(X_test_bow_scale)\n",
    "# Test data accuracy of model with best params\n",
    "print('Test set accuracy score for best params: %.3f ' % accuracy_score(y_test_bow, y_pred))\n",
    "print('Classification report:\\n',classification_report(y_test_bow,y_pred))\n",
    "print(\"F1 score :\\n\",f1_score(y_test_bow,y_pred,average='weighted'))"
   ]
  },
  {
   "cell_type": "code",
   "execution_count": 62,
   "metadata": {
    "colab": {
     "base_uri": "https://localhost:8080/"
    },
    "id": "SFk8OZFsEBgz",
    "outputId": "538612ee-eef6-4f05-fd0d-f8e5a79fd8c4"
   },
   "outputs": [
    {
     "name": "stdout",
     "output_type": "stream",
     "text": [
      "\n",
      "=============Prediction using Bag of words as vectorization method for Naive Bayes========\n"
     ]
    },
    {
     "name": "stderr",
     "output_type": "stream",
     "text": [
      "/usr/local/lib/python3.7/dist-packages/sklearn/model_selection/_search.py:281: UserWarning: The total space of parameters 9 is smaller than n_iter=10. Running 9 iterations. For exhaustive searches, use GridSearchCV.\n",
      "  % (grid_size, self.n_iter, grid_size), UserWarning)\n"
     ]
    },
    {
     "name": "stdout",
     "output_type": "stream",
     "text": [
      "Best params: {'estimator__alpha': 1}\n",
      "Test set accuracy score for best params: 0.031 \n",
      "Classification report:\n",
      "               precision    recall  f1-score   support\n",
      "\n",
      "           0       0.00      0.00      0.00       218\n",
      "           1       0.85      0.02      0.03       646\n",
      "           2       0.87      0.04      0.08      1041\n",
      "           3       0.92      0.06      0.11      1219\n",
      "           4       0.90      0.03      0.06      2062\n",
      "           5       0.70      0.04      0.07      1650\n",
      "           6       0.90      0.07      0.12      1693\n",
      "           7       0.00      0.00      0.00       864\n",
      "           8       0.73      0.02      0.04       805\n",
      "           9       0.00      0.00      0.00      1196\n",
      "          10       0.00      0.00      0.00       514\n",
      "          11       0.87      0.29      0.43       563\n",
      "          12       0.53      0.02      0.03      1031\n",
      "          13       0.96      0.04      0.07       620\n",
      "          14       0.00      0.00      0.00        93\n",
      "          15       0.00      0.00      0.00        60\n",
      "          16       1.00      0.01      0.02       101\n",
      "          17       0.00      0.00      0.00        56\n",
      "          18       0.00      0.00      0.00       116\n",
      "          19       0.00      0.00      0.00        32\n",
      "          20       0.00      0.00      0.00        36\n",
      "          21       0.00      0.00      0.00        13\n",
      "          22       0.00      0.00      0.00        29\n",
      "          23       0.00      0.00      0.00       114\n",
      "          24       0.00      0.00      0.00        60\n",
      "          25       0.00      0.00      0.00        89\n",
      "          26       0.00      0.00      0.00        69\n",
      "          27       0.78      0.18      0.30        76\n",
      "          28       0.00      0.00      0.00        31\n",
      "          29       0.89      0.12      0.21      1418\n",
      "          30       0.00      0.00      0.00        21\n",
      "          31       0.95      0.08      0.15      2346\n",
      "          32       0.00      0.00      0.00       564\n",
      "          33       0.00      0.00      0.00        37\n",
      "          34       0.00      0.00      0.00        78\n",
      "          35       0.00      0.00      0.00        29\n",
      "          36       0.00      0.00      0.00       109\n",
      "          37       0.91      0.04      0.08      1369\n",
      "          38       0.90      0.01      0.02      1116\n",
      "          39       0.00      0.00      0.00        26\n",
      "          40       0.00      0.00      0.00       465\n",
      "          41       0.00      0.00      0.00         7\n",
      "          42       0.00      0.00      0.00        61\n",
      "          43       0.78      0.23      0.35       769\n",
      "          44       0.00      0.00      0.00       423\n",
      "          45       0.00      0.00      0.00         3\n",
      "          46       0.95      0.03      0.07       577\n",
      "          47       0.96      0.03      0.07       774\n",
      "          48       0.00      0.00      0.00       165\n",
      "          49       0.00      0.00      0.00        27\n",
      "          50       0.00      0.00      0.00       435\n",
      "          51       0.00      0.00      0.00        20\n",
      "          52       0.00      0.00      0.00       102\n",
      "          53       0.00      0.00      0.00        34\n",
      "          54       0.75      0.00      0.01      1162\n",
      "          55       0.90      0.01      0.03      1299\n",
      "          56       0.00      0.00      0.00       134\n",
      "          57       0.00      0.00      0.00        14\n",
      "          58       0.00      0.00      0.00       117\n",
      "          59       0.00      0.00      0.00        61\n",
      "          60       0.00      0.00      0.00        87\n",
      "          61       0.00      0.00      0.00       157\n",
      "          62       0.84      0.06      0.12      1224\n",
      "          63       0.00      0.00      0.00        67\n",
      "          64       0.00      0.00      0.00         6\n",
      "          65       0.00      0.00      0.00        83\n",
      "          66       0.93      0.01      0.02      1403\n",
      "          67       0.25      0.00      0.01       213\n",
      "          68       0.00      0.00      0.00       965\n",
      "          69       0.00      0.00      0.00        34\n",
      "          70       0.81      0.14      0.24      3223\n",
      "          71       0.41      0.01      0.02      1026\n",
      "          72       0.46      0.02      0.05      1289\n",
      "          73       0.00      0.00      0.00         4\n",
      "          74       0.00      0.00      0.00        20\n",
      "          75       0.00      0.00      0.00        61\n",
      "          76       0.00      0.00      0.00       819\n",
      "          77       0.68      0.72      0.70      7290\n",
      "          78       0.91      0.10      0.17      5223\n",
      "          79       0.72      0.68      0.70      7631\n",
      "\n",
      "   micro avg       0.72      0.21      0.33     59684\n",
      "   macro avg       0.30      0.04      0.05     59684\n",
      "weighted avg       0.68      0.21      0.25     59684\n",
      " samples avg       0.70      0.21      0.31     59684\n",
      "\n",
      "F1 score :\n",
      " 0.24502552211765471\n"
     ]
    },
    {
     "name": "stderr",
     "output_type": "stream",
     "text": [
      "/usr/local/lib/python3.7/dist-packages/sklearn/metrics/_classification.py:1272: UndefinedMetricWarning: Precision and F-score are ill-defined and being set to 0.0 in labels with no predicted samples. Use `zero_division` parameter to control this behavior.\n",
      "  _warn_prf(average, modifier, msg_start, len(result))\n"
     ]
    }
   ],
   "source": [
    "print(\"\\n=============Prediction using Bag of words as vectorization method for Naive Bayes========\")\n",
    "\n",
    "rs_nb.fit(X_train_bow_scale, y_train_bow)\n",
    "# Best params\n",
    "print('Best params: %s' % rs_nb.best_params_)\n",
    "# Predict on test data with best params\n",
    "y_pred = rs_nb.predict(X_test_bow_scale)\n",
    "# Test data accuracy of model with best params\n",
    "print('Test set accuracy score for best params: %.3f ' % accuracy_score(y_test_bow, y_pred))\n",
    "print('Classification report:\\n',classification_report(y_test_bow,y_pred))\n",
    "print(\"F1 score :\\n\",f1_score(y_test_bow,y_pred,average='weighted'))"
   ]
  },
  {
   "cell_type": "markdown",
   "metadata": {
    "id": "w8qn_wFAqsJJ"
   },
   "source": [
    "#### Train and tune a neural network"
   ]
  },
  {
   "cell_type": "code",
   "execution_count": 47,
   "metadata": {
    "id": "VjcpY3myLno9"
   },
   "outputs": [],
   "source": [
    "from tensorflow.keras.preprocessing.text import Tokenizer\n",
    "from tensorflow.keras.preprocessing.sequence import pad_sequences\n",
    "\n",
    "embedding_dim = 2000\n",
    "max_len = 200\n",
    "\n",
    "\n",
    "tokenizer = Tokenizer(num_words=5000)\n",
    "tokenizer.fit_on_texts(features)\n",
    "sequences = tokenizer.texts_to_sequences(features)\n",
    "X_feat_seq = pad_sequences(sequences, truncating='post', maxlen=max_len)\n",
    "vocab_size = len(tokenizer.word_index) + 1"
   ]
  },
  {
   "cell_type": "code",
   "execution_count": 48,
   "metadata": {
    "colab": {
     "base_uri": "https://localhost:8080/"
    },
    "id": "UbqEaPZXKmlZ",
    "outputId": "2f563b02-e42d-45e4-888f-f066ad4be5a3"
   },
   "outputs": [
    {
     "name": "stdout",
     "output_type": "stream",
     "text": [
      "Loaded 400001 word vectors.\n"
     ]
    }
   ],
   "source": [
    "embeddings_index = dict()\n",
    "\n",
    "f = open('/content/drive/MyDrive/Great Learning/NLP/glove.6B.50d.txt')\n",
    "for line in f:\n",
    "\tvalues = line.split()\n",
    "\tword = values[0]\n",
    "\tcoefs = np.asarray(values[1:], dtype='float32')\n",
    "\tembeddings_index[word] = coefs\n",
    "f.close()\n",
    "print('Loaded %s word vectors.' % len(embeddings_index))\n",
    "# create a weight matrix for words in training docs\n",
    "\n",
    "# define model"
   ]
  },
  {
   "cell_type": "code",
   "execution_count": 49,
   "metadata": {
    "id": "3pY7lKhMK5n3"
   },
   "outputs": [],
   "source": [
    "embedding_matrix = np.zeros((vocab_size, 50))\n",
    "for word, i in tokenizer.word_index.items():\n",
    "\tembedding_vector = embeddings_index.get(word)\n",
    "\tif embedding_vector is not None:\n",
    "\t\tembedding_matrix[i] = embedding_vector"
   ]
  },
  {
   "cell_type": "code",
   "execution_count": 50,
   "metadata": {
    "id": "y936xyvZJMQy"
   },
   "outputs": [],
   "source": [
    "X_trainNN,X_testNN,y_trainNN,y_testNN=train_test_split(X_feat_seq,category,random_state=42,test_size=0.30)"
   ]
  },
  {
   "cell_type": "code",
   "execution_count": 52,
   "metadata": {
    "id": "04WrgQvMLHT9"
   },
   "outputs": [],
   "source": [
    "def train_test_model(Lambda,lr,epoch):\n",
    "  modelNN=Sequential()\n",
    "  modelNN.add(Input(shape=(max_len) ))\n",
    "\n",
    "  modelNN.add(Embedding(vocab_size,50,weights=[embedding_matrix],input_length=max_len))\n",
    "  modelNN.add(Flatten())\n",
    "  #modelNN.add(Dense(512,activation='relu',kernel_initializer=GlorotNormal()))\n",
    "  modelNN.add(BatchNormalization())\n",
    "  modelNN.add(Dropout(0.2))\n",
    "  #modelNN.add(Dense(256,activation='relu',kernel_initializer=GlorotNormal()))\n",
    "  #m#odelNN.add(BatchNormalization())\n",
    "  #modelNN.add(Dropout(0.2))\n",
    "  #modelNN.add(Dense(256,activation='relu',kernel_initializer=GlorotNormal()))\n",
    "  #modelNN.add(BatchNormalization())\n",
    "  #modelNN.add(Dropout(0.2))\n",
    "  #modelNN.add(Dense(128,activation='relu',kernel_initializer=GlorotNormal()))\n",
    "  #modelNN.add(BatchNormalization())\n",
    "  #modelNN.add(Dropout(0.2))\n",
    "  modelNN.add(Dense(80,activation='sigmoid',kernel_initializer=GlorotNormal()))\n",
    "  sgd=tensorflow.keras.optimizers.SGD(learning_rate=lr, momentum=0.9)\n",
    "  modelNN.compile(loss='binary_crossentropy', optimizer=sgd, metrics=['accuracy'])\n",
    "  history = modelNN.fit(X_trainNN, y_trainNN, batch_size=100, epochs=epoch, verbose=1,validation_split=0.2)\n",
    "  acc=modelNN.evaluate(X_testNN,y_testNN)\n",
    "  return acc,modelNN"
   ]
  },
  {
   "cell_type": "code",
   "execution_count": 59,
   "metadata": {
    "colab": {
     "base_uri": "https://localhost:8080/"
    },
    "id": "PYTYeHJ8x7Hm",
    "outputId": "c2d0b01f-2b8b-43ba-970f-d265eb7eefae"
   },
   "outputs": [
    {
     "name": "stdout",
     "output_type": "stream",
     "text": [
      "WARNING:tensorflow:Please add `keras.layers.InputLayer` instead of `keras.Input` to Sequential model. `keras.Input` is intended to be used by Functional model.\n",
      "Epoch 1/20\n",
      "279/279 [==============================] - 16s 56ms/step - loss: 0.2457 - accuracy: 0.0090 - val_loss: 0.1628 - val_accuracy: 0.0034\n",
      "Epoch 2/20\n",
      "279/279 [==============================] - 14s 50ms/step - loss: 0.1396 - accuracy: 0.0293 - val_loss: 0.1770 - val_accuracy: 0.0078\n",
      "Epoch 3/20\n",
      "279/279 [==============================] - 14s 51ms/step - loss: 0.1249 - accuracy: 0.0419 - val_loss: 0.1838 - val_accuracy: 0.0090\n",
      "Epoch 4/20\n",
      "279/279 [==============================] - 14s 50ms/step - loss: 0.1179 - accuracy: 0.0499 - val_loss: 0.1887 - val_accuracy: 0.0106\n",
      "Epoch 5/20\n",
      "279/279 [==============================] - 15s 52ms/step - loss: 0.1135 - accuracy: 0.0576 - val_loss: 0.1916 - val_accuracy: 0.0118\n",
      "Epoch 6/20\n",
      "279/279 [==============================] - 14s 50ms/step - loss: 0.1106 - accuracy: 0.0620 - val_loss: 0.1968 - val_accuracy: 0.0119\n",
      "Epoch 7/20\n",
      "279/279 [==============================] - 15s 53ms/step - loss: 0.1086 - accuracy: 0.0675 - val_loss: 0.1993 - val_accuracy: 0.0116\n",
      "Epoch 8/20\n",
      "279/279 [==============================] - 14s 52ms/step - loss: 0.1067 - accuracy: 0.0727 - val_loss: 0.2025 - val_accuracy: 0.0126\n",
      "Epoch 9/20\n",
      "279/279 [==============================] - 14s 51ms/step - loss: 0.1053 - accuracy: 0.0711 - val_loss: 0.2050 - val_accuracy: 0.0124\n",
      "Epoch 10/20\n",
      "279/279 [==============================] - 14s 49ms/step - loss: 0.1043 - accuracy: 0.0717 - val_loss: 0.2074 - val_accuracy: 0.0142\n",
      "Epoch 11/20\n",
      "279/279 [==============================] - 14s 49ms/step - loss: 0.1032 - accuracy: 0.0788 - val_loss: 0.2099 - val_accuracy: 0.0144\n",
      "Epoch 12/20\n",
      "279/279 [==============================] - 15s 54ms/step - loss: 0.1024 - accuracy: 0.0815 - val_loss: 0.2119 - val_accuracy: 0.0145\n",
      "Epoch 13/20\n",
      "279/279 [==============================] - 14s 50ms/step - loss: 0.1020 - accuracy: 0.0813 - val_loss: 0.2166 - val_accuracy: 0.0124\n",
      "Epoch 14/20\n",
      "279/279 [==============================] - 14s 50ms/step - loss: 0.1013 - accuracy: 0.0821 - val_loss: 0.2176 - val_accuracy: 0.0172\n",
      "Epoch 15/20\n",
      "279/279 [==============================] - 14s 50ms/step - loss: 0.1010 - accuracy: 0.0862 - val_loss: 0.2197 - val_accuracy: 0.0138\n",
      "Epoch 16/20\n",
      "279/279 [==============================] - 13s 48ms/step - loss: 0.1000 - accuracy: 0.0891 - val_loss: 0.2225 - val_accuracy: 0.0144\n",
      "Epoch 17/20\n",
      "279/279 [==============================] - 15s 55ms/step - loss: 0.0996 - accuracy: 0.0893 - val_loss: 0.2231 - val_accuracy: 0.0145\n",
      "Epoch 18/20\n",
      "279/279 [==============================] - 14s 52ms/step - loss: 0.0991 - accuracy: 0.0899 - val_loss: 0.2231 - val_accuracy: 0.0155\n",
      "Epoch 19/20\n",
      "279/279 [==============================] - 14s 51ms/step - loss: 0.0984 - accuracy: 0.0930 - val_loss: 0.2288 - val_accuracy: 0.0187\n",
      "Epoch 20/20\n",
      "279/279 [==============================] - 14s 51ms/step - loss: 0.0982 - accuracy: 0.0952 - val_loss: 0.2258 - val_accuracy: 0.0187\n",
      "467/467 [==============================] - 2s 4ms/step - loss: 0.2283 - accuracy: 0.0140\n",
      "try 1/5 Best_val_acc: [0.22829441726207733, 0.014007103629410267], lr: 0.19824709800893578, Lambda: 3.600355662289405e-05\n",
      " \n",
      "WARNING:tensorflow:Please add `keras.layers.InputLayer` instead of `keras.Input` to Sequential model. `keras.Input` is intended to be used by Functional model.\n",
      "Epoch 1/20\n",
      "279/279 [==============================] - 15s 51ms/step - loss: 0.8668 - accuracy: 0.0141 - val_loss: 0.7426 - val_accuracy: 0.0174\n",
      "Epoch 2/20\n",
      "279/279 [==============================] - 14s 51ms/step - loss: 0.7962 - accuracy: 0.0145 - val_loss: 0.7227 - val_accuracy: 0.0167\n",
      "Epoch 3/20\n",
      "279/279 [==============================] - 14s 52ms/step - loss: 0.7168 - accuracy: 0.0169 - val_loss: 0.6445 - val_accuracy: 0.0169\n",
      "Epoch 4/20\n",
      "279/279 [==============================] - 15s 53ms/step - loss: 0.6217 - accuracy: 0.0174 - val_loss: 0.5448 - val_accuracy: 0.0164\n",
      "Epoch 5/20\n",
      "279/279 [==============================] - 15s 53ms/step - loss: 0.5137 - accuracy: 0.0173 - val_loss: 0.4414 - val_accuracy: 0.0132\n",
      "Epoch 6/20\n",
      "279/279 [==============================] - 14s 52ms/step - loss: 0.4109 - accuracy: 0.0148 - val_loss: 0.3511 - val_accuracy: 0.0115\n",
      "Epoch 7/20\n",
      "279/279 [==============================] - 15s 52ms/step - loss: 0.3282 - accuracy: 0.0132 - val_loss: 0.2858 - val_accuracy: 0.0079\n",
      "Epoch 8/20\n",
      "279/279 [==============================] - 14s 50ms/step - loss: 0.2714 - accuracy: 0.0117 - val_loss: 0.2437 - val_accuracy: 0.0073\n",
      "Epoch 9/20\n",
      "279/279 [==============================] - 15s 53ms/step - loss: 0.2338 - accuracy: 0.0098 - val_loss: 0.2167 - val_accuracy: 0.0060\n",
      "Epoch 10/20\n",
      "279/279 [==============================] - 14s 49ms/step - loss: 0.2098 - accuracy: 0.0090 - val_loss: 0.2001 - val_accuracy: 0.0056\n",
      "Epoch 11/20\n",
      "279/279 [==============================] - 13s 45ms/step - loss: 0.1943 - accuracy: 0.0078 - val_loss: 0.1889 - val_accuracy: 0.0049\n",
      "Epoch 12/20\n",
      "279/279 [==============================] - 14s 51ms/step - loss: 0.1835 - accuracy: 0.0099 - val_loss: 0.1818 - val_accuracy: 0.0047\n",
      "Epoch 13/20\n",
      "279/279 [==============================] - 14s 49ms/step - loss: 0.1758 - accuracy: 0.0085 - val_loss: 0.1766 - val_accuracy: 0.0047\n",
      "Epoch 14/20\n",
      "279/279 [==============================] - 14s 51ms/step - loss: 0.1702 - accuracy: 0.0099 - val_loss: 0.1732 - val_accuracy: 0.0050\n",
      "Epoch 15/20\n",
      "279/279 [==============================] - 15s 52ms/step - loss: 0.1662 - accuracy: 0.0097 - val_loss: 0.1702 - val_accuracy: 0.0053\n",
      "Epoch 16/20\n",
      "279/279 [==============================] - 15s 53ms/step - loss: 0.1624 - accuracy: 0.0088 - val_loss: 0.1680 - val_accuracy: 0.0052\n",
      "Epoch 17/20\n",
      "279/279 [==============================] - 15s 53ms/step - loss: 0.1596 - accuracy: 0.0093 - val_loss: 0.1665 - val_accuracy: 0.0055\n",
      "Epoch 18/20\n",
      "279/279 [==============================] - 15s 55ms/step - loss: 0.1571 - accuracy: 0.0099 - val_loss: 0.1650 - val_accuracy: 0.0052\n",
      "Epoch 19/20\n",
      "279/279 [==============================] - 14s 52ms/step - loss: 0.1551 - accuracy: 0.0104 - val_loss: 0.1640 - val_accuracy: 0.0050\n",
      "Epoch 20/20\n",
      "279/279 [==============================] - 14s 51ms/step - loss: 0.1530 - accuracy: 0.0111 - val_loss: 0.1630 - val_accuracy: 0.0053\n",
      "467/467 [==============================] - 2s 4ms/step - loss: 0.1634 - accuracy: 0.0038\n",
      "try 2/5 Best_val_acc: [0.16339702904224396, 0.0037530995905399323], lr: 0.002492495254098599, Lambda: 0.00023408814343509976\n",
      " \n",
      "WARNING:tensorflow:Please add `keras.layers.InputLayer` instead of `keras.Input` to Sequential model. `keras.Input` is intended to be used by Functional model.\n",
      "Epoch 1/20\n",
      "279/279 [==============================] - 16s 54ms/step - loss: 0.4104 - accuracy: 0.0095 - val_loss: 0.1611 - val_accuracy: 0.0026\n",
      "Epoch 2/20\n",
      "279/279 [==============================] - 14s 51ms/step - loss: 0.1545 - accuracy: 0.0105 - val_loss: 0.1578 - val_accuracy: 0.0065\n",
      "Epoch 3/20\n",
      "279/279 [==============================] - 15s 55ms/step - loss: 0.1397 - accuracy: 0.0174 - val_loss: 0.1565 - val_accuracy: 0.0072\n",
      "Epoch 4/20\n",
      "279/279 [==============================] - 14s 49ms/step - loss: 0.1311 - accuracy: 0.0225 - val_loss: 0.1561 - val_accuracy: 0.0086\n",
      "Epoch 5/20\n",
      "279/279 [==============================] - 14s 50ms/step - loss: 0.1252 - accuracy: 0.0272 - val_loss: 0.1563 - val_accuracy: 0.0089\n",
      "Epoch 6/20\n",
      "279/279 [==============================] - 15s 52ms/step - loss: 0.1206 - accuracy: 0.0326 - val_loss: 0.1569 - val_accuracy: 0.0078\n",
      "Epoch 7/20\n",
      "279/279 [==============================] - 14s 52ms/step - loss: 0.1170 - accuracy: 0.0366 - val_loss: 0.1576 - val_accuracy: 0.0078\n",
      "Epoch 8/20\n",
      "279/279 [==============================] - 15s 53ms/step - loss: 0.1141 - accuracy: 0.0400 - val_loss: 0.1586 - val_accuracy: 0.0078\n",
      "Epoch 9/20\n",
      "279/279 [==============================] - 15s 53ms/step - loss: 0.1116 - accuracy: 0.0439 - val_loss: 0.1597 - val_accuracy: 0.0082\n",
      "Epoch 10/20\n",
      "279/279 [==============================] - 14s 50ms/step - loss: 0.1096 - accuracy: 0.0465 - val_loss: 0.1601 - val_accuracy: 0.0101\n",
      "Epoch 11/20\n",
      "279/279 [==============================] - 15s 53ms/step - loss: 0.1080 - accuracy: 0.0487 - val_loss: 0.1612 - val_accuracy: 0.0089\n",
      "Epoch 12/20\n",
      "279/279 [==============================] - 14s 51ms/step - loss: 0.1063 - accuracy: 0.0527 - val_loss: 0.1624 - val_accuracy: 0.0096\n",
      "Epoch 13/20\n",
      "279/279 [==============================] - 14s 51ms/step - loss: 0.1051 - accuracy: 0.0542 - val_loss: 0.1634 - val_accuracy: 0.0103\n",
      "Epoch 14/20\n",
      "279/279 [==============================] - 14s 49ms/step - loss: 0.1038 - accuracy: 0.0555 - val_loss: 0.1640 - val_accuracy: 0.0106\n",
      "Epoch 15/20\n",
      "279/279 [==============================] - 14s 52ms/step - loss: 0.1027 - accuracy: 0.0580 - val_loss: 0.1648 - val_accuracy: 0.0101\n",
      "Epoch 16/20\n",
      "279/279 [==============================] - 14s 51ms/step - loss: 0.1017 - accuracy: 0.0615 - val_loss: 0.1657 - val_accuracy: 0.0108\n",
      "Epoch 17/20\n",
      "279/279 [==============================] - 15s 54ms/step - loss: 0.1010 - accuracy: 0.0619 - val_loss: 0.1665 - val_accuracy: 0.0112\n",
      "Epoch 18/20\n",
      "279/279 [==============================] - 15s 52ms/step - loss: 0.1003 - accuracy: 0.0646 - val_loss: 0.1673 - val_accuracy: 0.0122\n",
      "Epoch 19/20\n",
      "279/279 [==============================] - 15s 54ms/step - loss: 0.0995 - accuracy: 0.0651 - val_loss: 0.1681 - val_accuracy: 0.0122\n",
      "Epoch 20/20\n",
      "279/279 [==============================] - 15s 53ms/step - loss: 0.0988 - accuracy: 0.0678 - val_loss: 0.1693 - val_accuracy: 0.0113\n",
      "467/467 [==============================] - 2s 4ms/step - loss: 0.1703 - accuracy: 0.0099\n",
      "try 3/5 Best_val_acc: [0.17025457322597504, 0.00985188689082861], lr: 0.04007974864969444, Lambda: 0.0006289174003461205\n",
      " \n",
      "WARNING:tensorflow:Please add `keras.layers.InputLayer` instead of `keras.Input` to Sequential model. `keras.Input` is intended to be used by Functional model.\n",
      "Epoch 1/20\n",
      "279/279 [==============================] - 15s 52ms/step - loss: 0.8635 - accuracy: 0.0141 - val_loss: 0.7394 - val_accuracy: 0.0155\n",
      "Epoch 2/20\n",
      "279/279 [==============================] - 14s 51ms/step - loss: 0.7849 - accuracy: 0.0153 - val_loss: 0.7115 - val_accuracy: 0.0159\n",
      "Epoch 3/20\n",
      "279/279 [==============================] - 15s 53ms/step - loss: 0.6951 - accuracy: 0.0165 - val_loss: 0.6209 - val_accuracy: 0.0164\n",
      "Epoch 4/20\n",
      "279/279 [==============================] - 14s 52ms/step - loss: 0.5851 - accuracy: 0.0164 - val_loss: 0.5081 - val_accuracy: 0.0142\n",
      "Epoch 5/20\n",
      "279/279 [==============================] - 13s 46ms/step - loss: 0.4674 - accuracy: 0.0157 - val_loss: 0.3968 - val_accuracy: 0.0121\n",
      "Epoch 6/20\n",
      "279/279 [==============================] - 14s 50ms/step - loss: 0.3639 - accuracy: 0.0139 - val_loss: 0.3128 - val_accuracy: 0.0105\n",
      "Epoch 7/20\n",
      "279/279 [==============================] - 16s 56ms/step - loss: 0.2896 - accuracy: 0.0129 - val_loss: 0.2566 - val_accuracy: 0.0083\n",
      "Epoch 8/20\n",
      "279/279 [==============================] - 16s 56ms/step - loss: 0.2421 - accuracy: 0.0104 - val_loss: 0.2231 - val_accuracy: 0.0060\n",
      "Epoch 9/20\n",
      "279/279 [==============================] - 16s 56ms/step - loss: 0.2132 - accuracy: 0.0092 - val_loss: 0.2029 - val_accuracy: 0.0053\n",
      "Epoch 10/20\n",
      "279/279 [==============================] - 13s 47ms/step - loss: 0.1953 - accuracy: 0.0092 - val_loss: 0.1903 - val_accuracy: 0.0040\n",
      "Epoch 11/20\n",
      "279/279 [==============================] - 15s 53ms/step - loss: 0.1832 - accuracy: 0.0091 - val_loss: 0.1821 - val_accuracy: 0.0042\n",
      "Epoch 12/20\n",
      "279/279 [==============================] - 15s 54ms/step - loss: 0.1751 - accuracy: 0.0088 - val_loss: 0.1767 - val_accuracy: 0.0039\n",
      "Epoch 13/20\n",
      "279/279 [==============================] - 15s 55ms/step - loss: 0.1696 - accuracy: 0.0098 - val_loss: 0.1730 - val_accuracy: 0.0043\n",
      "Epoch 14/20\n",
      "279/279 [==============================] - 15s 53ms/step - loss: 0.1647 - accuracy: 0.0094 - val_loss: 0.1703 - val_accuracy: 0.0040\n",
      "Epoch 15/20\n",
      "279/279 [==============================] - 15s 54ms/step - loss: 0.1613 - accuracy: 0.0105 - val_loss: 0.1680 - val_accuracy: 0.0046\n",
      "Epoch 16/20\n",
      "279/279 [==============================] - 15s 56ms/step - loss: 0.1583 - accuracy: 0.0110 - val_loss: 0.1662 - val_accuracy: 0.0050\n",
      "Epoch 17/20\n",
      "279/279 [==============================] - 15s 55ms/step - loss: 0.1558 - accuracy: 0.0120 - val_loss: 0.1650 - val_accuracy: 0.0047\n",
      "Epoch 18/20\n",
      "279/279 [==============================] - 15s 55ms/step - loss: 0.1535 - accuracy: 0.0111 - val_loss: 0.1638 - val_accuracy: 0.0047\n",
      "Epoch 19/20\n",
      "279/279 [==============================] - 14s 52ms/step - loss: 0.1517 - accuracy: 0.0119 - val_loss: 0.1628 - val_accuracy: 0.0047\n",
      "Epoch 20/20\n",
      "279/279 [==============================] - 14s 52ms/step - loss: 0.1503 - accuracy: 0.0118 - val_loss: 0.1619 - val_accuracy: 0.0050\n",
      "467/467 [==============================] - 2s 4ms/step - loss: 0.1622 - accuracy: 0.0049\n",
      "try 4/5 Best_val_acc: [0.16224215924739838, 0.004892433527857065], lr: 0.0027454679108245, Lambda: 0.0001218628642904452\n",
      " \n",
      "WARNING:tensorflow:Please add `keras.layers.InputLayer` instead of `keras.Input` to Sequential model. `keras.Input` is intended to be used by Functional model.\n",
      "Epoch 1/20\n",
      "279/279 [==============================] - 15s 52ms/step - loss: 0.5513 - accuracy: 0.0116 - val_loss: 0.2004 - val_accuracy: 0.0027\n",
      "Epoch 2/20\n",
      "279/279 [==============================] - 16s 58ms/step - loss: 0.1779 - accuracy: 0.0074 - val_loss: 0.1644 - val_accuracy: 0.0045\n",
      "Epoch 3/20\n",
      "279/279 [==============================] - 14s 51ms/step - loss: 0.1518 - accuracy: 0.0112 - val_loss: 0.1591 - val_accuracy: 0.0049\n",
      "Epoch 4/20\n",
      "279/279 [==============================] - 15s 55ms/step - loss: 0.1423 - accuracy: 0.0148 - val_loss: 0.1567 - val_accuracy: 0.0062\n",
      "Epoch 5/20\n",
      "279/279 [==============================] - 15s 56ms/step - loss: 0.1357 - accuracy: 0.0196 - val_loss: 0.1554 - val_accuracy: 0.0060\n",
      "Epoch 6/20\n",
      "279/279 [==============================] - 15s 54ms/step - loss: 0.1308 - accuracy: 0.0221 - val_loss: 0.1552 - val_accuracy: 0.0065\n",
      "Epoch 7/20\n",
      "279/279 [==============================] - 14s 51ms/step - loss: 0.1270 - accuracy: 0.0250 - val_loss: 0.1550 - val_accuracy: 0.0067\n",
      "Epoch 8/20\n",
      "279/279 [==============================] - 15s 54ms/step - loss: 0.1236 - accuracy: 0.0271 - val_loss: 0.1551 - val_accuracy: 0.0075\n",
      "Epoch 9/20\n",
      "279/279 [==============================] - 15s 55ms/step - loss: 0.1212 - accuracy: 0.0303 - val_loss: 0.1554 - val_accuracy: 0.0082\n",
      "Epoch 10/20\n",
      "279/279 [==============================] - 15s 54ms/step - loss: 0.1185 - accuracy: 0.0320 - val_loss: 0.1558 - val_accuracy: 0.0072\n",
      "Epoch 11/20\n",
      "279/279 [==============================] - 14s 50ms/step - loss: 0.1164 - accuracy: 0.0356 - val_loss: 0.1561 - val_accuracy: 0.0088\n",
      "Epoch 12/20\n",
      "279/279 [==============================] - 15s 53ms/step - loss: 0.1147 - accuracy: 0.0388 - val_loss: 0.1564 - val_accuracy: 0.0083\n",
      "Epoch 13/20\n",
      "279/279 [==============================] - 15s 53ms/step - loss: 0.1131 - accuracy: 0.0378 - val_loss: 0.1570 - val_accuracy: 0.0079\n",
      "Epoch 14/20\n",
      "279/279 [==============================] - 15s 53ms/step - loss: 0.1116 - accuracy: 0.0425 - val_loss: 0.1575 - val_accuracy: 0.0079\n",
      "Epoch 15/20\n",
      "279/279 [==============================] - 14s 51ms/step - loss: 0.1103 - accuracy: 0.0436 - val_loss: 0.1580 - val_accuracy: 0.0086\n",
      "Epoch 16/20\n",
      "279/279 [==============================] - 14s 49ms/step - loss: 0.1093 - accuracy: 0.0463 - val_loss: 0.1587 - val_accuracy: 0.0089\n",
      "Epoch 17/20\n",
      "279/279 [==============================] - 15s 54ms/step - loss: 0.1080 - accuracy: 0.0450 - val_loss: 0.1591 - val_accuracy: 0.0083\n",
      "Epoch 18/20\n",
      "279/279 [==============================] - 14s 50ms/step - loss: 0.1070 - accuracy: 0.0474 - val_loss: 0.1595 - val_accuracy: 0.0098\n",
      "Epoch 19/20\n",
      "279/279 [==============================] - 14s 51ms/step - loss: 0.1060 - accuracy: 0.0506 - val_loss: 0.1600 - val_accuracy: 0.0088\n",
      "Epoch 20/20\n",
      "279/279 [==============================] - 14s 51ms/step - loss: 0.1052 - accuracy: 0.0522 - val_loss: 0.1607 - val_accuracy: 0.0090\n",
      "467/467 [==============================] - 2s 4ms/step - loss: 0.1616 - accuracy: 0.0076\n",
      "try 5/5 Best_val_acc: [0.1616000384092331, 0.007640238385647535], lr: 0.02300922492086118, Lambda: 5.52966383334382e-05\n",
      " \n"
     ]
    }
   ],
   "source": [
    "import math\n",
    "for i in range (1,6):\n",
    "    lr = math.pow(10, np.random.uniform(-4.0, 0))\n",
    "    Lambda = math.pow(10, np.random.uniform(-5,-3))\n",
    "    acc,model_sgd = train_test_model( Lambda,lr, 20)\n",
    "    print(\"try {0}/{1} Best_val_acc: {2}, lr: {3}, Lambda: {4}\\n \".format(i,5 ,acc, lr, Lambda))"
   ]
  },
  {
   "cell_type": "code",
   "execution_count": null,
   "metadata": {
    "colab": {
     "base_uri": "https://localhost:8080/"
    },
    "id": "xEDaeXdmery0",
    "outputId": "1fa16510-54a8-48ed-e859-8f8724d02831"
   },
   "outputs": [
    {
     "name": "stdout",
     "output_type": "stream",
     "text": [
      "Model: \"sequential_4\"\n",
      "_________________________________________________________________\n",
      "Layer (type)                 Output Shape              Param #   \n",
      "=================================================================\n",
      "embedding_4 (Embedding)      (None, 200, 50)           6296800   \n",
      "_________________________________________________________________\n",
      "flatten_4 (Flatten)          (None, 10000)             0         \n",
      "_________________________________________________________________\n",
      "batch_normalization_4 (Batch (None, 10000)             40000     \n",
      "_________________________________________________________________\n",
      "dropout_4 (Dropout)          (None, 10000)             0         \n",
      "_________________________________________________________________\n",
      "dense_4 (Dense)              (None, 80)                800080    \n",
      "=================================================================\n",
      "Total params: 7,136,880\n",
      "Trainable params: 7,116,880\n",
      "Non-trainable params: 20,000\n",
      "_________________________________________________________________\n"
     ]
    }
   ],
   "source": [
    "model_sgd.summary()"
   ]
  },
  {
   "cell_type": "code",
   "execution_count": null,
   "metadata": {
    "colab": {
     "base_uri": "https://localhost:8080/"
    },
    "id": "_Tc2wEamLsQv",
    "outputId": "9e9d95f8-e7d7-4c47-b710-8cb721dabdc5"
   },
   "outputs": [
    {
     "name": "stdout",
     "output_type": "stream",
     "text": [
      "467/467 [==============================] - 1s 3ms/step - loss: 0.1586 - accuracy: 0.0074\n"
     ]
    },
    {
     "data": {
      "text/plain": [
       "[0.15855392813682556, 0.007372159976512194]"
      ]
     },
     "execution_count": 53,
     "metadata": {
      "tags": []
     },
     "output_type": "execute_result"
    }
   ],
   "source": [
    "model_sgd.evaluate(X_test,y_test)"
   ]
  },
  {
   "cell_type": "markdown",
   "metadata": {
    "id": "n7M0vS8pGSuq"
   },
   "source": [
    "### 4. Display and explain in detail the classification report"
   ]
  },
  {
   "cell_type": "markdown",
   "metadata": {
    "id": "3anmboV77NDw"
   },
   "source": [
    "##### Comparing all the accuracies and F1 score, TF-IDF vectorization along with logistic regression model provides us the best score, so we will use the model to predict authors' features."
   ]
  },
  {
   "cell_type": "code",
   "execution_count": 73,
   "metadata": {
    "id": "cSiKsX-TMw9i"
   },
   "outputs": [],
   "source": [
    "#logModel=OneVsRestClassifier(logRegression)\n",
    "#logModel.fit(X_train_scale,y_train)\n",
    "log_predict = rs_lr.predict(X_test_scale)"
   ]
  },
  {
   "cell_type": "code",
   "execution_count": 74,
   "metadata": {
    "id": "yVOdw6_wNkFS"
   },
   "outputs": [],
   "source": [
    "y_test_inv = binarizer.inverse_transform(y_test)\n",
    "log_predict_inv= binarizer.inverse_transform(log_predict)"
   ]
  },
  {
   "cell_type": "code",
   "execution_count": 75,
   "metadata": {
    "colab": {
     "base_uri": "https://localhost:8080/"
    },
    "id": "q40kRmrEGy5M",
    "outputId": "b12eab3b-2a44-4d25-a3d3-760b22c1c4fa"
   },
   "outputs": [
    {
     "name": "stdout",
     "output_type": "stream",
     "text": [
      "Accuracy :  0.1538100663494404\n",
      "Classification report:\n",
      "               precision    recall  f1-score   support\n",
      "\n",
      "           0       0.89      0.18      0.30       218\n",
      "           1       0.81      0.17      0.29       646\n",
      "           2       0.73      0.23      0.35      1041\n",
      "           3       0.85      0.21      0.34      1219\n",
      "           4       0.80      0.28      0.41      2062\n",
      "           5       0.76      0.20      0.31      1650\n",
      "           6       0.75      0.28      0.41      1693\n",
      "           7       0.75      0.07      0.13       864\n",
      "           8       0.88      0.10      0.18       805\n",
      "           9       0.77      0.19      0.30      1196\n",
      "          10       0.57      0.12      0.20       514\n",
      "          11       0.95      0.59      0.72       563\n",
      "          12       0.60      0.34      0.43      1031\n",
      "          13       0.93      0.44      0.60       620\n",
      "          14       0.83      0.05      0.10        93\n",
      "          15       0.67      0.07      0.12        60\n",
      "          16       0.83      0.15      0.25       101\n",
      "          17       0.44      0.12      0.19        56\n",
      "          18       0.79      0.23      0.36       116\n",
      "          19       0.00      0.00      0.00        32\n",
      "          20       1.00      0.11      0.20        36\n",
      "          21       0.00      0.00      0.00        13\n",
      "          22       1.00      0.10      0.19        29\n",
      "          23       1.00      0.06      0.12       114\n",
      "          24       1.00      0.10      0.18        60\n",
      "          25       1.00      0.19      0.32        89\n",
      "          26       0.00      0.00      0.00        69\n",
      "          27       0.88      0.49      0.63        76\n",
      "          28       0.00      0.00      0.00        31\n",
      "          29       0.80      0.30      0.44      1418\n",
      "          30       0.00      0.00      0.00        21\n",
      "          31       0.70      0.33      0.45      2346\n",
      "          32       0.70      0.11      0.19       564\n",
      "          33       0.80      0.11      0.19        37\n",
      "          34       0.90      0.12      0.20        78\n",
      "          35       1.00      0.03      0.07        29\n",
      "          36       0.91      0.19      0.32       109\n",
      "          37       0.72      0.19      0.30      1369\n",
      "          38       0.80      0.32      0.46      1116\n",
      "          39       1.00      0.04      0.07        26\n",
      "          40       0.64      0.08      0.13       465\n",
      "          41       0.00      0.00      0.00         7\n",
      "          42       1.00      0.07      0.12        61\n",
      "          43       0.83      0.37      0.51       769\n",
      "          44       0.84      0.35      0.50       423\n",
      "          45       0.00      0.00      0.00         3\n",
      "          46       0.88      0.49      0.63       577\n",
      "          47       0.85      0.12      0.21       774\n",
      "          48       0.74      0.12      0.21       165\n",
      "          49       1.00      0.15      0.26        27\n",
      "          50       0.71      0.11      0.18       435\n",
      "          51       0.79      0.55      0.65        20\n",
      "          52       1.00      0.07      0.13       102\n",
      "          53       1.00      0.03      0.06        34\n",
      "          54       0.78      0.12      0.20      1162\n",
      "          55       0.81      0.31      0.45      1299\n",
      "          56       0.94      0.22      0.36       134\n",
      "          57       0.00      0.00      0.00        14\n",
      "          58       0.91      0.18      0.30       117\n",
      "          59       0.89      0.26      0.41        61\n",
      "          60       1.00      0.60      0.75        87\n",
      "          61       0.80      0.03      0.05       157\n",
      "          62       0.79      0.24      0.37      1224\n",
      "          63       1.00      0.04      0.09        67\n",
      "          64       0.00      0.00      0.00         6\n",
      "          65       0.45      0.16      0.23        83\n",
      "          66       0.90      0.24      0.37      1403\n",
      "          67       0.92      0.22      0.35       213\n",
      "          68       0.71      0.13      0.22       965\n",
      "          69       0.00      0.00      0.00        34\n",
      "          70       0.78      0.29      0.42      3223\n",
      "          71       0.63      0.08      0.14      1026\n",
      "          72       0.70      0.22      0.33      1289\n",
      "          73       0.00      0.00      0.00         4\n",
      "          74       0.00      0.00      0.00        20\n",
      "          75       1.00      0.03      0.06        61\n",
      "          76       0.63      0.08      0.14       819\n",
      "          77       0.69      0.69      0.69      7290\n",
      "          78       0.75      0.31      0.44      5223\n",
      "          79       0.78      0.56      0.65      7631\n",
      "\n",
      "   micro avg       0.75      0.34      0.47     59684\n",
      "   macro avg       0.70      0.18      0.26     59684\n",
      "weighted avg       0.76      0.34      0.44     59684\n",
      " samples avg       0.60      0.34      0.40     59684\n",
      "\n"
     ]
    },
    {
     "name": "stderr",
     "output_type": "stream",
     "text": [
      "/usr/local/lib/python3.7/dist-packages/sklearn/metrics/_classification.py:1272: UndefinedMetricWarning: Precision and F-score are ill-defined and being set to 0.0 in labels with no predicted samples. Use `zero_division` parameter to control this behavior.\n",
      "  _warn_prf(average, modifier, msg_start, len(result))\n",
      "/usr/local/lib/python3.7/dist-packages/sklearn/metrics/_classification.py:1272: UndefinedMetricWarning: Precision and F-score are ill-defined and being set to 0.0 in samples with no predicted labels. Use `zero_division` parameter to control this behavior.\n",
      "  _warn_prf(average, modifier, msg_start, len(result))\n"
     ]
    }
   ],
   "source": [
    "print(\"Accuracy : \",accuracy_score(y_test,log_predict))\n",
    "print('Classification report:\\n',classification_report(y_test,log_predict))"
   ]
  },
  {
   "cell_type": "markdown",
   "metadata": {
    "id": "BsD6ORvb4Loa"
   },
   "source": [
    "###### From the above classification report, we observe that F1 score is around 44%. The accuracy is not much since the classes are not even distributed but as per classification report, for almost all classes, prediction is done which means F1 score takes each class into account rather than accuracy as a whole.There are 80 classes including all ranges of ages, zodiac sign, topic and gender."
   ]
  },
  {
   "cell_type": "markdown",
   "metadata": {
    "id": "EWzTekIlGfuB"
   },
   "source": [
    "### 5. Print the true vs predicted labels for any 5 entries from the dataset"
   ]
  },
  {
   "cell_type": "code",
   "execution_count": 72,
   "metadata": {
    "colab": {
     "base_uri": "https://localhost:8080/"
    },
    "id": "XY6ffaZONuhB",
    "outputId": "c69a382b-9848-4023-d3c2-44f96cf09b94"
   },
   "outputs": [
    {
     "name": "stdout",
     "output_type": "stream",
     "text": [
      "\n",
      "Index : 100\n",
      "Acutal Label :  ('23', 'Pisces', 'Student', 'female')\n",
      "Predicted Label : ('23', 'Pisces', 'Student', 'female')\n",
      "\n",
      "Index : 101\n",
      "Acutal Label :  ('16', 'Taurus', 'female', 'indUnk')\n",
      "Predicted Label : ('16', 'male')\n",
      "\n",
      "Index : 102\n",
      "Acutal Label :  ('23', 'Scorpio', 'Student', 'female')\n",
      "Predicted Label : ('female', 'male')\n",
      "\n",
      "Index : 103\n",
      "Acutal Label :  ('14', 'Museums-Libraries', 'Scorpio', 'male')\n",
      "Predicted Label : ('14', 'Museums-Libraries', 'Scorpio', 'male')\n",
      "\n",
      "Index : 104\n",
      "Acutal Label :  ('36', 'Advertising', 'Cancer', 'female')\n",
      "Predicted Label : ()\n",
      "\n",
      "Index : 105\n",
      "Acutal Label :  ('35', 'Aries', 'Technology', 'male')\n",
      "Predicted Label : ('female',)\n",
      "\n",
      "Index : 106\n",
      "Acutal Label :  ('15', 'Gemini', 'Student', 'male')\n",
      "Predicted Label : ('male',)\n",
      "\n",
      "Index : 107\n",
      "Acutal Label :  ('34', 'Aquarius', 'Education', 'male')\n",
      "Predicted Label : ('34', 'Aquarius', 'Education', 'male')\n",
      "\n",
      "Index : 108\n",
      "Acutal Label :  ('35', 'Cancer', 'Technology', 'male')\n",
      "Predicted Label : ('female',)\n",
      "\n",
      "Index : 109\n",
      "Acutal Label :  ('24', 'Aries', 'indUnk', 'male')\n",
      "Predicted Label : ('male',)\n",
      "\n",
      "Index : 110\n",
      "Acutal Label :  ('24', 'Scorpio', 'female', 'indUnk')\n",
      "Predicted Label : ('23', '24', 'Scorpio', 'female', 'indUnk')\n"
     ]
    }
   ],
   "source": [
    "for i in range(100,111):\n",
    "  print(\"\\nIndex :\",i)\n",
    "  print(\"Acutal Label : \",y_test_inv[i])\n",
    "  print(\"Predicted Label :\",log_predict_inv[i])"
   ]
  },
  {
   "cell_type": "markdown",
   "metadata": {
    "id": "DXzHpnrH5jOV"
   },
   "source": [
    "##### From above predicted values we see that out of 3/10 predictions are correct( indices 100,103,107), 5 /10 are partially predicted (indices 101, 102, 110, 106,109) and 2/10 were not predicted."
   ]
  },
  {
   "cell_type": "markdown",
   "metadata": {
    "id": "uHuzFw-2IrAJ"
   },
   "source": [
    "### Conclusion/Observation:"
   ]
  },
  {
   "cell_type": "markdown",
   "metadata": {
    "id": "U2ng5zduIaWl"
   },
   "source": [
    "1. Bag of words\n",
    "\n",
    "\n",
    "| Model/metrics|Accuracy|F1 Score |\n",
    "|:---:|:-------------:|:-----------:|\n",
    "| Logistic Regression|0.12|0.19|\n",
    "| K-Nearest Neighbour|0.028|0.05|\n",
    "| Naive Bayes|0.035|0.05|\n",
    "| Random Forest classifier | 0.037|0.054|\n",
    "|Decision Tree |0.067|0.22|\n",
    " \n",
    "With Hyperparameter tuning\n",
    "\n",
    "| Model/metrics|Accuracy|F1 Score |\n",
    "|:---:|:-------------:|:-----------:|\n",
    "| Logistic Regression|0.05|0.396|\n",
    "| Naive Bayes|0.031|0.245|\n",
    "|Random Forest classifier | 0.049|0.267|\n",
    "\n",
    "\n",
    "\n",
    "\n",
    "\n",
    "2. TF-IDF \n",
    "\n",
    "\n",
    "| Model/metrics|Accuracy|F1 Score |\n",
    "|:---:|:-------------:|:-----------:|\n",
    "| Logistic Regression|0.17|0.28|\n",
    "| K-Nearest Neighbour| 0.024|0.040|\n",
    "| Naive Bayes|0.107|0.14|\n",
    "| Random Forest classifier |0.049|0.114|\n",
    "|Decision Tree |0.066| 0.257|\n",
    "\n",
    "\n",
    "With Hyperparameter tuning\n",
    "\n",
    " | Model/metrics|Accuracy|F1 Score |\n",
    "|:---:|:-------------:|:-----------:|\n",
    "| Logistic Regression|0.15|0.44|\n",
    "| Naive Bayes|0.107|0.37|\n",
    "| Random Forest classifier |0.03|0.26|\n",
    "\n",
    "\n",
    "\n",
    "3. From the above task , we were able to predict authors' features from blog text using multi-label classification.We were able to preprocess , vectorize and use the text data as indepedent feature for machine learning algorithm. The multi-labels were transformed to single multi-class targets and binarized. Since the target is in logical format , logistic regression is able to perform the best.\n"
   ]
  }
 ],
 "metadata": {
  "colab": {
   "collapsed_sections": [],
   "name": "MultiLabelBlogClassification_NLP.ipynb",
   "provenance": []
  },
  "kernelspec": {
   "display_name": "Python 3",
   "language": "python",
   "name": "python3"
  },
  "language_info": {
   "codemirror_mode": {
    "name": "ipython",
    "version": 3
   },
   "file_extension": ".py",
   "mimetype": "text/x-python",
   "name": "python",
   "nbconvert_exporter": "python",
   "pygments_lexer": "ipython3",
   "version": "3.8.8"
  }
 },
 "nbformat": 4,
 "nbformat_minor": 1
}
