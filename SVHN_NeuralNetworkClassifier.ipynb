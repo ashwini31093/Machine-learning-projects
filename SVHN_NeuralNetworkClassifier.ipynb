{
 "cells": [
  {
   "cell_type": "markdown",
   "metadata": {
    "id": "kPeRCXKfPcmy"
   },
   "source": [
    "## Import libraries and data"
   ]
  },
  {
   "cell_type": "code",
   "execution_count": 1,
   "metadata": {
    "id": "NWzgB7H90Bcr"
   },
   "outputs": [],
   "source": [
    "import h5py\n",
    "import tensorflow\n",
    "import numpy as np\n",
    "import pandas as pd\n",
    "import matplotlib.pyplot as plt\n",
    "%matplotlib inline\n",
    "import seaborn as sns\n",
    "from sklearn.feature_selection import SelectKBest\n",
    "from sklearn.feature_selection import chi2\n",
    "from sklearn.feature_selection import f_classif\n",
    "from sklearn.linear_model import LinearRegression\n",
    "import tensorflow as tf\n",
    "from tensorflow.keras.utils import to_categorical\n",
    "from tensorflow.keras.layers import Dense,Dropout,BatchNormalization,Input\n",
    "from tensorflow.keras.models import Sequential\n",
    "from tensorflow.keras import regularizers,optimizers\n",
    "from tensorflow.keras import initializers"
   ]
  },
  {
   "cell_type": "code",
   "execution_count": 2,
   "metadata": {
    "colab": {
     "base_uri": "https://localhost:8080/"
    },
    "id": "jBgRd20a7bM6",
    "outputId": "f720f721-2aa4-4223-e9ec-43a2344ea977"
   },
   "outputs": [
    {
     "name": "stdout",
     "output_type": "stream",
     "text": [
      "\u001b[?25l\r",
      "\u001b[K     |█████▏                          | 10kB 14.3MB/s eta 0:00:01\r",
      "\u001b[K     |██████████▍                     | 20kB 19.3MB/s eta 0:00:01\r",
      "\u001b[K     |███████████████▋                | 30kB 10.8MB/s eta 0:00:01\r",
      "\u001b[K     |████████████████████▉           | 40kB 9.5MB/s eta 0:00:01\r",
      "\u001b[K     |██████████████████████████      | 51kB 4.7MB/s eta 0:00:01\r",
      "\u001b[K     |███████████████████████████████▎| 61kB 5.4MB/s eta 0:00:01\r",
      "\u001b[K     |████████████████████████████████| 71kB 3.1MB/s \n",
      "\u001b[?25h  Building wheel for keras-tuner (setup.py) ... \u001b[?25l\u001b[?25hdone\n",
      "  Building wheel for terminaltables (setup.py) ... \u001b[?25l\u001b[?25hdone\n"
     ]
    }
   ],
   "source": [
    "!pip install -q -U keras-tuner"
   ]
  },
  {
   "cell_type": "code",
   "execution_count": 3,
   "metadata": {
    "id": "8CSBdjHT7fDG"
   },
   "outputs": [],
   "source": [
    "#Libraries for Hyperparameter tuning.\n",
    "import kerastuner as kt\n",
    "from kerastuner import RandomSearch\n",
    "from kerastuner.engine.hyperparameters import HyperParameters"
   ]
  },
  {
   "cell_type": "code",
   "execution_count": 4,
   "metadata": {
    "id": "juNyf5zB05It"
   },
   "outputs": [],
   "source": [
    "#Load file from google drive \n",
    "!pip install -U -q PyDrive\n",
    "from pydrive.auth import GoogleAuth\n",
    "from pydrive.drive import GoogleDrive\n",
    "from google.colab import auth\n",
    "from oauth2client.client import GoogleCredentials\n",
    "# Authenticate and create the PyDrive client.\n",
    "auth.authenticate_user()\n",
    "gauth = GoogleAuth()\n",
    "gauth.credentials = GoogleCredentials.get_application_default()\n",
    "drive = GoogleDrive(gauth)"
   ]
  },
  {
   "cell_type": "code",
   "execution_count": 5,
   "metadata": {
    "id": "lCIMPrDh2wJe"
   },
   "outputs": [],
   "source": [
    "downloaded = drive.CreateFile({'id':'1a9q1XkVLRZ7wGQCO85oQepzrjl91frNj'}) \n",
    "downloaded.GetContentFile('Autonomous_Vehicles_SVHN_single_grey1.h5')  \n"
   ]
  },
  {
   "cell_type": "code",
   "execution_count": 6,
   "metadata": {
    "id": "gqlAfULszhbi"
   },
   "outputs": [],
   "source": [
    "#Reading the file content\n",
    "SVHNfile = h5py.File('Autonomous_Vehicles_SVHN_single_grey1.h5','r')\n"
   ]
  },
  {
   "cell_type": "code",
   "execution_count": 7,
   "metadata": {
    "colab": {
     "base_uri": "https://localhost:8080/"
    },
    "id": "-5hAr-2h1Me2",
    "outputId": "b1d5126d-f30a-4fad-cb25-699e7e730a7f"
   },
   "outputs": [
    {
     "data": {
      "text/plain": [
       "['X_test', 'X_train', 'X_val', 'y_test', 'y_train', 'y_val']"
      ]
     },
     "execution_count": 7,
     "metadata": {
      "tags": []
     },
     "output_type": "execute_result"
    }
   ],
   "source": [
    "#getting the data set keys in the file\n",
    "list(SVHNfile.keys())"
   ]
  },
  {
   "cell_type": "code",
   "execution_count": 8,
   "metadata": {
    "id": "uHHcNbzD44rb"
   },
   "outputs": [],
   "source": [
    "#Getting the data from respective keys\n",
    "SVHN_df_Xtest = SVHNfile['X_test']\n",
    "SVHN_df_X_train = SVHNfile['X_train']\n",
    "SVHN_df_X_val = SVHNfile['X_val']\n",
    "SVHN_df_y_test = SVHNfile['y_test']\n",
    "SVHN_df_y_train = SVHNfile['y_train']\n",
    "SVHN_df_y_val = SVHNfile['y_val']"
   ]
  },
  {
   "cell_type": "code",
   "execution_count": 9,
   "metadata": {
    "colab": {
     "base_uri": "https://localhost:8080/"
    },
    "id": "dnI7JMzzXB6H",
    "outputId": "ee993c81-3080-47dc-dff7-8b4050b1418b"
   },
   "outputs": [
    {
     "name": "stdout",
     "output_type": "stream",
     "text": [
      "X test shape:  (18000, 32, 32)\n",
      "X Train shape:  (42000, 32, 32)\n",
      "X Val shape:  (60000, 32, 32)\n"
     ]
    }
   ],
   "source": [
    "#Cheking th shapes of data\n",
    "\n",
    "print(\"X test shape: \",SVHN_df_Xtest.shape )\n",
    "print(\"X Train shape: \", SVHN_df_X_train.shape)\n",
    "print(\"X Val shape: \",SVHN_df_X_val.shape )\n",
    "\n"
   ]
  },
  {
   "cell_type": "markdown",
   "metadata": {
    "id": "H-Ze9glnPV_L"
   },
   "source": [
    "## Data Visualisation"
   ]
  },
  {
   "cell_type": "code",
   "execution_count": null,
   "metadata": {
    "colab": {
     "base_uri": "https://localhost:8080/",
     "height": 319
    },
    "id": "61FeGDvGKZtx",
    "outputId": "4e1cbe52-2149-4ee1-b8ae-60d03de97df6"
   },
   "outputs": [
    {
     "name": "stdout",
     "output_type": "stream",
     "text": [
      "Label :  4\n",
      "Image :\n"
     ]
    },
    {
     "data": {
      "text/plain": [
       "<matplotlib.image.AxesImage at 0x7f07cf4143d0>"
      ]
     },
     "execution_count": 15,
     "metadata": {
      "tags": []
     },
     "output_type": "execute_result"
    },
    {
     "data": {
      "image/png": "[encoded data removed]",
      "text/plain": [
       "<Figure size 432x288 with 1 Axes>"
      ]
     },
     "metadata": {
      "needs_background": "light",
      "tags": []
     },
     "output_type": "display_data"
    }
   ],
   "source": [
    "#visualising some images in the data\n",
    "\n",
    "print(\"Label : \",SVHN_df_y_train[200])\n",
    "print(\"Image :\")\n",
    "plt.imshow(SVHN_df_X_train[200])"
   ]
  },
  {
   "cell_type": "code",
   "execution_count": null,
   "metadata": {
    "colab": {
     "base_uri": "https://localhost:8080/",
     "height": 319
    },
    "id": "sV-N4Sz9MuTe",
    "outputId": "7e7ec8ae-e84f-4979-c906-48627473464b"
   },
   "outputs": [
    {
     "name": "stdout",
     "output_type": "stream",
     "text": [
      "Label :  2\n",
      "Image :\n"
     ]
    },
    {
     "data": {
      "text/plain": [
       "<matplotlib.image.AxesImage at 0x7f07ceeff810>"
      ]
     },
     "execution_count": 16,
     "metadata": {
      "tags": []
     },
     "output_type": "execute_result"
    },
    {
     "data": {
      "image/png": "[encoded data removed]",
      "text/plain": [
       "<Figure size 432x288 with 1 Axes>"
      ]
     },
     "metadata": {
      "needs_background": "light",
      "tags": []
     },
     "output_type": "display_data"
    }
   ],
   "source": [
    "\n",
    "print(\"Label : \",SVHN_df_y_test[17000])\n",
    "print(\"Image :\")\n",
    "plt.imshow(SVHN_df_Xtest[17000])"
   ]
  },
  {
   "cell_type": "code",
   "execution_count": null,
   "metadata": {
    "colab": {
     "base_uri": "https://localhost:8080/",
     "height": 319
    },
    "id": "E5jDLOC5KceN",
    "outputId": "2acfc179-fa7f-457e-e92e-a54004a6cb65"
   },
   "outputs": [
    {
     "name": "stdout",
     "output_type": "stream",
     "text": [
      "Label :  7\n",
      "Image :\n"
     ]
    },
    {
     "data": {
      "text/plain": [
       "<matplotlib.image.AxesImage at 0x7f07cee7c2d0>"
      ]
     },
     "execution_count": 17,
     "metadata": {
      "tags": []
     },
     "output_type": "execute_result"
    },
    {
     "data": {
      "image/png": "[encoded data removed]",
      "text/plain": [
       "<Figure size 432x288 with 1 Axes>"
      ]
     },
     "metadata": {
      "needs_background": "light",
      "tags": []
     },
     "output_type": "display_data"
    }
   ],
   "source": [
    "print(\"Label : \",SVHN_df_y_val[30000])\n",
    "print(\"Image :\")\n",
    "plt.imshow(SVHN_df_X_val[30000])"
   ]
  },
  {
   "cell_type": "code",
   "execution_count": null,
   "metadata": {
    "id": "SZ-jifz2Xx7x"
   },
   "outputs": [],
   "source": [
    "SVHN_Xtest = SVHNfile.get('X_test')\n",
    "SVHN_X_train = SVHNfile.get('X_train')\n",
    "SVHN_X_val = SVHNfile.get('X_val')\n",
    "SVHN_y_test = SVHNfile.get('y_test')\n",
    "SVHN_y_train = SVHNfile.get('y_train')\n",
    "SVHN_y_val = SVHNfile.get('y_val')"
   ]
  },
  {
   "cell_type": "code",
   "execution_count": null,
   "metadata": {
    "colab": {
     "base_uri": "https://localhost:8080/"
    },
    "id": "X4YvtbkbLlno",
    "outputId": "d28967ee-97c9-4d27-dd1a-8dbfb615ee1a"
   },
   "outputs": [
    {
     "data": {
      "text/plain": [
       "h5py._hl.dataset.Dataset"
      ]
     },
     "execution_count": 19,
     "metadata": {
      "tags": []
     },
     "output_type": "execute_result"
    }
   ],
   "source": [
    "type(SVHN_Xtest)"
   ]
  },
  {
   "cell_type": "markdown",
   "metadata": {
    "id": "CYdQlSq9PkYK"
   },
   "source": [
    "## Reshaping the datasets"
   ]
  },
  {
   "cell_type": "code",
   "execution_count": null,
   "metadata": {
    "colab": {
     "base_uri": "https://localhost:8080/"
    },
    "id": "G_66MMODJtLa",
    "outputId": "2a30b35b-6468-44f3-a941-b339e6e67859"
   },
   "outputs": [
    {
     "name": "stdout",
     "output_type": "stream",
     "text": [
      "X test shape:  (18000, 32, 32)\n",
      "X Train shape:  (42000, 32, 32)\n",
      "X Val shape:  (60000, 32, 32)\n"
     ]
    }
   ],
   "source": [
    "print(\"X test shape: \",SVHN_Xtest.shape )\n",
    "print(\"X Train shape: \", SVHN_X_train.shape)\n",
    "print(\"X Val shape: \",SVHN_X_val.shape )"
   ]
  },
  {
   "cell_type": "code",
   "execution_count": null,
   "metadata": {
    "id": "GR1XuLcZIm_j"
   },
   "outputs": [],
   "source": [
    "#Converting to numpy array \n",
    "SVHN_Xtest_arr =np.array(SVHN_Xtest)\n",
    "SVHN_X_train_arr = np.array(SVHN_X_train)\n",
    "SVHN_X_val_arr = np.array(SVHN_X_val)\n"
   ]
  },
  {
   "cell_type": "code",
   "execution_count": null,
   "metadata": {
    "id": "qcnpvjMjIs0G"
   },
   "outputs": [],
   "source": [
    "#reshaping/Flattening  the data into respective dimensions\n",
    "SVHN_Xtest_arr =SVHN_Xtest_arr.reshape(18000,1024)\n",
    "SVHN_X_train_arr = SVHN_X_train_arr.reshape(42000,1024)\n",
    "SVHN_X_val_arr = SVHN_X_val_arr.reshape(60000,1024)\n"
   ]
  },
  {
   "cell_type": "code",
   "execution_count": null,
   "metadata": {
    "colab": {
     "base_uri": "https://localhost:8080/"
    },
    "id": "H9PgZ8XSI3s9",
    "outputId": "252e388f-3cdc-4cc8-8eb5-99d3a510ba4c"
   },
   "outputs": [
    {
     "name": "stdout",
     "output_type": "stream",
     "text": [
      "X test shape:  (18000, 1024)\n",
      "X Train shape:  (42000, 1024)\n",
      "X Val shape:  (60000, 1024)\n"
     ]
    }
   ],
   "source": [
    "#Dimensions after reshaping\n",
    "\n",
    "print(\"X test shape: \",SVHN_Xtest_arr.shape )\n",
    "print(\"X Train shape: \", SVHN_X_train_arr.shape)\n",
    "print(\"X Val shape: \",SVHN_X_val_arr.shape )"
   ]
  },
  {
   "cell_type": "code",
   "execution_count": null,
   "metadata": {
    "colab": {
     "base_uri": "https://localhost:8080/"
    },
    "id": "EgBm7GaOgGrq",
    "outputId": "0b6bc94e-68b4-46a1-afcf-18c3f50e80f2"
   },
   "outputs": [
    {
     "data": {
      "text/plain": [
       "3    4281\n",
       "5    4232\n",
       "2    4197\n",
       "9    4196\n",
       "7    4192\n",
       "8    4188\n",
       "4    4188\n",
       "0    4186\n",
       "1    4172\n",
       "6    4168\n",
       "Name: /y_train, dtype: int64"
      ]
     },
     "execution_count": 24,
     "metadata": {
      "tags": []
     },
     "output_type": "execute_result"
    }
   ],
   "source": [
    "pd.value_counts(SVHN_df_y_train)"
   ]
  },
  {
   "cell_type": "markdown",
   "metadata": {
    "id": "noUtAJZ2Pp4m"
   },
   "source": [
    "## Data Normalization"
   ]
  },
  {
   "cell_type": "code",
   "execution_count": null,
   "metadata": {
    "colab": {
     "base_uri": "https://localhost:8080/"
    },
    "id": "bBMjGGeZNUYO",
    "outputId": "84022c4d-5a3c-4bb6-b3d9-654148afcc51"
   },
   "outputs": [
    {
     "name": "stdout",
     "output_type": "stream",
     "text": [
      "X test min and max:  (0.0, 254.9745)\n",
      "X Train min and max:  (0.0, 254.9745)\n",
      "X Val min and max:  (0.0, 254.9745)\n"
     ]
    }
   ],
   "source": [
    "#Normalize the data\n",
    "#Check the min and max for each data for normalization\n",
    "print(\"X test min and max: \",(SVHN_Xtest_arr.min(),SVHN_Xtest_arr.max()) )\n",
    "print(\"X Train min and max: \", (SVHN_X_train_arr.min(),SVHN_X_train_arr.max()))\n",
    "print(\"X Val min and max: \",(SVHN_X_val_arr.min(),SVHN_X_val_arr.max()) )"
   ]
  },
  {
   "cell_type": "markdown",
   "metadata": {
    "id": "8_jMODZB9uSi"
   },
   "source": []
  },
  {
   "cell_type": "code",
   "execution_count": null,
   "metadata": {
    "id": "yPUi_ZABN-ei"
   },
   "outputs": [],
   "source": [
    "SVHN_Xtest_arr = SVHN_Xtest_arr /254.9745\n",
    "SVHN_X_train_arr = SVHN_X_train_arr /254.9745\n",
    "SVHN_X_val_arr = SVHN_X_val_arr /254.9745"
   ]
  },
  {
   "cell_type": "code",
   "execution_count": null,
   "metadata": {
    "colab": {
     "base_uri": "https://localhost:8080/"
    },
    "id": "IuD3ObWNOapp",
    "outputId": "3a8bdc22-f226-4712-a9ee-0ae1460c8348"
   },
   "outputs": [
    {
     "name": "stdout",
     "output_type": "stream",
     "text": [
      "X test min  and max :  (0.0, 1.0)\n",
      "X Train min  and max :  (0.0, 1.0)\n",
      "X Val min  and max :  (0.0, 1.0)\n"
     ]
    }
   ],
   "source": [
    "print(\"X test min  and max : \",(SVHN_Xtest_arr.min(),SVHN_Xtest_arr.max()) )\n",
    "print(\"X Train min  and max : \", (SVHN_X_train_arr.min(),SVHN_X_train_arr.max()))\n",
    "print(\"X Val min  and max : \",(SVHN_X_val_arr.min(),SVHN_X_val_arr.max()) )"
   ]
  },
  {
   "cell_type": "markdown",
   "metadata": {
    "id": "tCBfRVt-PtPu"
   },
   "source": [
    "## One hot coding the target column\n",
    "###### This is required when we use cross entropy loss function along with softmax"
   ]
  },
  {
   "cell_type": "code",
   "execution_count": null,
   "metadata": {
    "id": "UPebs3CBQAId"
   },
   "outputs": [],
   "source": [
    "SVHN_y_test = to_categorical(SVHN_y_test,num_classes=10)\n",
    "SVHN_y_train = to_categorical(SVHN_y_train,num_classes=10)\n",
    "SVHN_y_val = to_categorical(SVHN_y_val,num_classes=10)"
   ]
  },
  {
   "cell_type": "code",
   "execution_count": null,
   "metadata": {
    "colab": {
     "base_uri": "https://localhost:8080/"
    },
    "id": "dAqDiGolQoVl",
    "outputId": "c20f8d0b-fbfd-4eb3-a82f-1a805baad874"
   },
   "outputs": [
    {
     "data": {
      "text/plain": [
       "array([[0., 1., 0., 0., 0., 0., 0., 0., 0., 0.],\n",
       "       [0., 0., 0., 0., 0., 0., 0., 1., 0., 0.],\n",
       "       [0., 0., 1., 0., 0., 0., 0., 0., 0., 0.],\n",
       "       [0., 0., 0., 0., 0., 0., 0., 0., 0., 1.],\n",
       "       [1., 0., 0., 0., 0., 0., 0., 0., 0., 0.],\n",
       "       [0., 0., 0., 0., 0., 0., 0., 0., 0., 1.],\n",
       "       [0., 1., 0., 0., 0., 0., 0., 0., 0., 0.],\n",
       "       [0., 0., 0., 0., 0., 0., 0., 0., 1., 0.],\n",
       "       [0., 0., 0., 0., 1., 0., 0., 0., 0., 0.],\n",
       "       [0., 0., 0., 0., 1., 0., 0., 0., 0., 0.]], dtype=float32)"
      ]
     },
     "execution_count": 29,
     "metadata": {
      "tags": []
     },
     "output_type": "execute_result"
    }
   ],
   "source": [
    "SVHN_y_test[:10]"
   ]
  },
  {
   "cell_type": "code",
   "execution_count": null,
   "metadata": {
    "colab": {
     "base_uri": "https://localhost:8080/"
    },
    "id": "cyXJ1Es6QrT_",
    "outputId": "b0d06a14-d7da-4d4c-ac57-a1e4f5443084"
   },
   "outputs": [
    {
     "data": {
      "text/plain": [
       "array([[0., 0., 1., 0., 0., 0., 0., 0., 0., 0.],\n",
       "       [0., 0., 0., 0., 0., 0., 1., 0., 0., 0.],\n",
       "       [0., 0., 0., 0., 0., 0., 0., 1., 0., 0.],\n",
       "       [0., 0., 0., 0., 1., 0., 0., 0., 0., 0.],\n",
       "       [0., 0., 0., 0., 1., 0., 0., 0., 0., 0.],\n",
       "       [1., 0., 0., 0., 0., 0., 0., 0., 0., 0.],\n",
       "       [0., 0., 0., 1., 0., 0., 0., 0., 0., 0.],\n",
       "       [1., 0., 0., 0., 0., 0., 0., 0., 0., 0.],\n",
       "       [0., 0., 0., 0., 0., 0., 0., 1., 0., 0.],\n",
       "       [0., 0., 0., 1., 0., 0., 0., 0., 0., 0.]], dtype=float32)"
      ]
     },
     "execution_count": 30,
     "metadata": {
      "tags": []
     },
     "output_type": "execute_result"
    }
   ],
   "source": [
    "SVHN_y_train[:10]"
   ]
  },
  {
   "cell_type": "code",
   "execution_count": null,
   "metadata": {
    "colab": {
     "base_uri": "https://localhost:8080/"
    },
    "id": "0J_iO84JQyNr",
    "outputId": "890613ed-a2e9-4902-e989-b77c6e051c49"
   },
   "outputs": [
    {
     "data": {
      "text/plain": [
       "array([[1., 0., 0., 0., 0., 0., 0., 0., 0., 0.],\n",
       "       [1., 0., 0., 0., 0., 0., 0., 0., 0., 0.],\n",
       "       [1., 0., 0., 0., 0., 0., 0., 0., 0., 0.],\n",
       "       [1., 0., 0., 0., 0., 0., 0., 0., 0., 0.],\n",
       "       [1., 0., 0., 0., 0., 0., 0., 0., 0., 0.],\n",
       "       [1., 0., 0., 0., 0., 0., 0., 0., 0., 0.],\n",
       "       [1., 0., 0., 0., 0., 0., 0., 0., 0., 0.],\n",
       "       [1., 0., 0., 0., 0., 0., 0., 0., 0., 0.],\n",
       "       [1., 0., 0., 0., 0., 0., 0., 0., 0., 0.],\n",
       "       [1., 0., 0., 0., 0., 0., 0., 0., 0., 0.]], dtype=float32)"
      ]
     },
     "execution_count": 31,
     "metadata": {
      "tags": []
     },
     "output_type": "execute_result"
    }
   ],
   "source": [
    "SVHN_y_val[:10]"
   ]
  },
  {
   "cell_type": "markdown",
   "metadata": {
    "id": "ot0t9ohpSWBZ"
   },
   "source": [
    "## Create Neural Network model"
   ]
  },
  {
   "cell_type": "code",
   "execution_count": null,
   "metadata": {
    "id": "YmeMmHT7SbMc"
   },
   "outputs": [],
   "source": [
    "def build_SVHN_train_classifier(inLearningRate,inEpochs,lambdaVal,X,Y):\n",
    "  #weight_init=initializers.HeNormal()\n",
    " # weight_init=initializers.GlorotNormal()\n",
    "  #weight_init=initializers.HeUniform()\n",
    "  weight_init=initializers.GlorotUniform()\n",
    "  \n",
    "  dropOut=0.6\n",
    "  modelNNtrain= Sequential()\n",
    "  #modelNN.add(Input(shape=(1024,)))\n",
    "  modelNNtrain.add(BatchNormalization())\n",
    "  modelNNtrain.add(Dense(256,activation='relu',input_shape=(1024,),kernel_initializer=weight_init))\n",
    "  modelNNtrain.add(BatchNormalization())\n",
    "  modelNNtrain.add(Dropout(dropOut))\n",
    "\n",
    "  \n",
    "  modelNNtrain.add(Dense(128,activation='relu',kernel_initializer=weight_init))\n",
    "  modelNNtrain.add(BatchNormalization())\n",
    "  modelNNtrain.add(Dropout(dropOut))\n",
    "  \n",
    "  modelNNtrain.add(Dense(64,activation='relu',kernel_initializer=weight_init))\n",
    "  modelNNtrain.add(BatchNormalization())\n",
    "  modelNNtrain.add(Dropout(dropOut))\n",
    "  \n",
    "  #modelNN.add(Dense(64,activation='relu',kernel_initializer='glorot_uniform'))\n",
    " # modelNN.add(Dropout(dropOut))\n",
    "  #modelNN.add(BatchNormalization())\n",
    " # modelNN.add(Dense(64,activation='relu',kernel_initializer=weight_init))\n",
    " # modelNN.add(Dropout(dropOut))\n",
    " # modelNN.add(BatchNormalization())\n",
    "  modelNNtrain.add(Dense(10,activation='softmax',kernel_regularizer=regularizers.L2(lambdaVal)))\n",
    "  \n",
    "  sgd = optimizers.SGD(learning_rate=inLearningRate,decay =(inLearningRate/inEpochs), momentum=0.9)\n",
    "  modelNNtrain.compile(loss='categorical_crossentropy', optimizer=sgd, metrics=['accuracy'])\n",
    "  modelNNtrain.fit(X, Y, epochs=inEpochs,batch_size=10000, verbose= 1)\n",
    " # print(history.history.keys())\n",
    " \n",
    "  return modelNNtrain"
   ]
  },
  {
   "cell_type": "markdown",
   "metadata": {
    "id": "5JufGymNC8DE"
   },
   "source": [
    "#### We will check for random range of values for learning rate and lambda and check the accuracies"
   ]
  },
  {
   "cell_type": "code",
   "execution_count": null,
   "metadata": {
    "colab": {
     "base_uri": "https://localhost:8080/"
    },
    "id": "M5uJVfC2FF1D",
    "outputId": "47571be9-d1bd-45d9-d07c-2d16498ac8f1"
   },
   "outputs": [
    {
     "name": "stdout",
     "output_type": "stream",
     "text": [
      "Epoch 1/100\n",
      "5/5 [==============================] - 4s 413ms/step - loss: 3.7959 - accuracy: 0.0998\n",
      "Epoch 2/100\n",
      "5/5 [==============================] - 2s 408ms/step - loss: 3.7708 - accuracy: 0.1013\n",
      "Epoch 3/100\n",
      "5/5 [==============================] - 2s 404ms/step - loss: 3.7582 - accuracy: 0.1014\n",
      "Epoch 4/100\n",
      "5/5 [==============================] - 2s 408ms/step - loss: 3.7644 - accuracy: 0.1009\n",
      "Epoch 5/100\n",
      "5/5 [==============================] - 2s 403ms/step - loss: 3.7942 - accuracy: 0.0957\n",
      "Epoch 6/100\n",
      "5/5 [==============================] - 2s 406ms/step - loss: 3.7674 - accuracy: 0.1009\n",
      "Epoch 7/100\n",
      "5/5 [==============================] - 2s 406ms/step - loss: 3.7793 - accuracy: 0.0979\n",
      "Epoch 8/100\n",
      "5/5 [==============================] - 2s 405ms/step - loss: 3.7680 - accuracy: 0.1011\n",
      "Epoch 9/100\n",
      "5/5 [==============================] - 2s 412ms/step - loss: 3.7704 - accuracy: 0.1015\n",
      "Epoch 10/100\n",
      "5/5 [==============================] - 2s 403ms/step - loss: 3.7836 - accuracy: 0.0982\n",
      "Epoch 11/100\n",
      "5/5 [==============================] - 2s 405ms/step - loss: 3.7399 - accuracy: 0.1027\n",
      "Epoch 12/100\n",
      "5/5 [==============================] - 2s 401ms/step - loss: 3.7905 - accuracy: 0.1001\n",
      "Epoch 13/100\n",
      "5/5 [==============================] - 2s 409ms/step - loss: 3.7625 - accuracy: 0.1002\n",
      "Epoch 14/100\n",
      "5/5 [==============================] - 2s 403ms/step - loss: 3.7745 - accuracy: 0.1012\n",
      "Epoch 15/100\n",
      "5/5 [==============================] - 2s 405ms/step - loss: 3.7887 - accuracy: 0.1009\n",
      "Epoch 16/100\n",
      "5/5 [==============================] - 2s 401ms/step - loss: 3.7486 - accuracy: 0.1024\n",
      "Epoch 17/100\n",
      "5/5 [==============================] - 2s 403ms/step - loss: 3.7630 - accuracy: 0.1009\n",
      "Epoch 18/100\n",
      "5/5 [==============================] - 2s 407ms/step - loss: 3.7759 - accuracy: 0.0979\n",
      "Epoch 19/100\n",
      "5/5 [==============================] - 2s 405ms/step - loss: 3.7888 - accuracy: 0.1012\n",
      "Epoch 20/100\n",
      "5/5 [==============================] - 2s 402ms/step - loss: 3.7972 - accuracy: 0.1009\n",
      "Epoch 21/100\n",
      "5/5 [==============================] - 2s 410ms/step - loss: 3.7675 - accuracy: 0.1003\n",
      "Epoch 22/100\n",
      "5/5 [==============================] - 2s 412ms/step - loss: 3.7882 - accuracy: 0.0983\n",
      "Epoch 23/100\n",
      "5/5 [==============================] - 2s 405ms/step - loss: 3.7777 - accuracy: 0.0976\n",
      "Epoch 24/100\n",
      "5/5 [==============================] - 2s 404ms/step - loss: 3.7729 - accuracy: 0.0981\n",
      "Epoch 25/100\n",
      "5/5 [==============================] - 2s 411ms/step - loss: 3.7762 - accuracy: 0.0993\n",
      "Epoch 26/100\n",
      "5/5 [==============================] - 2s 404ms/step - loss: 3.7852 - accuracy: 0.0998\n",
      "Epoch 27/100\n",
      "5/5 [==============================] - 2s 403ms/step - loss: 3.7916 - accuracy: 0.1000\n",
      "Epoch 28/100\n",
      "5/5 [==============================] - 2s 406ms/step - loss: 3.7894 - accuracy: 0.0998\n",
      "Epoch 29/100\n",
      "5/5 [==============================] - 2s 405ms/step - loss: 3.7803 - accuracy: 0.1006\n",
      "Epoch 30/100\n",
      "5/5 [==============================] - 2s 410ms/step - loss: 3.7742 - accuracy: 0.0995\n",
      "Epoch 31/100\n",
      "5/5 [==============================] - 2s 409ms/step - loss: 3.7895 - accuracy: 0.0995\n",
      "Epoch 32/100\n",
      "5/5 [==============================] - 2s 407ms/step - loss: 3.7701 - accuracy: 0.1008\n",
      "Epoch 33/100\n",
      "5/5 [==============================] - 2s 407ms/step - loss: 3.7644 - accuracy: 0.0993\n",
      "Epoch 34/100\n",
      "5/5 [==============================] - 2s 405ms/step - loss: 3.7945 - accuracy: 0.0998\n",
      "Epoch 35/100\n",
      "5/5 [==============================] - 2s 405ms/step - loss: 3.7868 - accuracy: 0.0981\n",
      "Epoch 36/100\n",
      "5/5 [==============================] - 2s 404ms/step - loss: 3.7538 - accuracy: 0.1014\n",
      "Epoch 37/100\n",
      "5/5 [==============================] - 2s 401ms/step - loss: 3.7805 - accuracy: 0.1014\n",
      "Epoch 38/100\n",
      "5/5 [==============================] - 2s 404ms/step - loss: 3.7729 - accuracy: 0.1007\n",
      "Epoch 39/100\n",
      "5/5 [==============================] - 2s 407ms/step - loss: 3.7735 - accuracy: 0.0997\n",
      "Epoch 40/100\n",
      "5/5 [==============================] - 2s 406ms/step - loss: 3.7696 - accuracy: 0.1002\n",
      "Epoch 41/100\n",
      "5/5 [==============================] - 2s 407ms/step - loss: 3.7748 - accuracy: 0.1009\n",
      "Epoch 42/100\n",
      "5/5 [==============================] - 2s 405ms/step - loss: 3.7765 - accuracy: 0.1026\n",
      "Epoch 43/100\n",
      "5/5 [==============================] - 2s 405ms/step - loss: 3.7806 - accuracy: 0.0993\n",
      "Epoch 44/100\n",
      "5/5 [==============================] - 2s 403ms/step - loss: 3.7830 - accuracy: 0.1009\n",
      "Epoch 45/100\n",
      "5/5 [==============================] - 2s 404ms/step - loss: 3.7647 - accuracy: 0.0993\n",
      "Epoch 46/100\n",
      "5/5 [==============================] - 2s 402ms/step - loss: 3.7639 - accuracy: 0.0984\n",
      "Epoch 47/100\n",
      "5/5 [==============================] - 2s 405ms/step - loss: 3.7652 - accuracy: 0.1008\n",
      "Epoch 48/100\n",
      "5/5 [==============================] - 2s 404ms/step - loss: 3.7736 - accuracy: 0.0998\n",
      "Epoch 49/100\n",
      "5/5 [==============================] - 2s 408ms/step - loss: 3.7576 - accuracy: 0.1046\n",
      "Epoch 50/100\n",
      "5/5 [==============================] - 2s 408ms/step - loss: 3.7831 - accuracy: 0.0994\n",
      "Epoch 51/100\n",
      "5/5 [==============================] - 2s 410ms/step - loss: 3.7652 - accuracy: 0.0990\n",
      "Epoch 52/100\n",
      "5/5 [==============================] - 2s 406ms/step - loss: 3.7589 - accuracy: 0.0999\n",
      "Epoch 53/100\n",
      "5/5 [==============================] - 2s 410ms/step - loss: 3.7925 - accuracy: 0.1016\n",
      "Epoch 54/100\n",
      "5/5 [==============================] - 2s 409ms/step - loss: 3.7615 - accuracy: 0.0977\n",
      "Epoch 55/100\n",
      "5/5 [==============================] - 2s 404ms/step - loss: 3.7796 - accuracy: 0.0998\n",
      "Epoch 56/100\n",
      "5/5 [==============================] - 2s 403ms/step - loss: 3.7620 - accuracy: 0.0971\n",
      "Epoch 57/100\n",
      "5/5 [==============================] - 2s 402ms/step - loss: 3.7873 - accuracy: 0.1009\n",
      "Epoch 58/100\n",
      "5/5 [==============================] - 2s 406ms/step - loss: 3.7908 - accuracy: 0.0981\n",
      "Epoch 59/100\n",
      "5/5 [==============================] - 2s 408ms/step - loss: 3.7707 - accuracy: 0.1000\n",
      "Epoch 60/100\n",
      "5/5 [==============================] - 2s 406ms/step - loss: 3.7676 - accuracy: 0.1007\n",
      "Epoch 61/100\n",
      "5/5 [==============================] - 2s 406ms/step - loss: 3.7607 - accuracy: 0.0981\n",
      "Epoch 62/100\n",
      "5/5 [==============================] - 2s 405ms/step - loss: 3.7596 - accuracy: 0.1015\n",
      "Epoch 63/100\n",
      "5/5 [==============================] - 2s 407ms/step - loss: 3.7779 - accuracy: 0.0979\n",
      "Epoch 64/100\n",
      "5/5 [==============================] - 2s 405ms/step - loss: 3.7651 - accuracy: 0.1011\n",
      "Epoch 65/100\n",
      "5/5 [==============================] - 2s 400ms/step - loss: 3.7763 - accuracy: 0.1003\n",
      "Epoch 66/100\n",
      "5/5 [==============================] - 2s 404ms/step - loss: 3.7563 - accuracy: 0.1026\n",
      "Epoch 67/100\n",
      "5/5 [==============================] - 2s 413ms/step - loss: 3.7624 - accuracy: 0.1023\n",
      "Epoch 68/100\n",
      "5/5 [==============================] - 2s 404ms/step - loss: 3.7593 - accuracy: 0.1026\n",
      "Epoch 69/100\n",
      "5/5 [==============================] - 2s 407ms/step - loss: 3.7806 - accuracy: 0.1026\n",
      "Epoch 70/100\n",
      "5/5 [==============================] - 2s 406ms/step - loss: 3.7697 - accuracy: 0.0994\n",
      "Epoch 71/100\n",
      "5/5 [==============================] - 2s 405ms/step - loss: 3.7648 - accuracy: 0.1029\n",
      "Epoch 72/100\n",
      "5/5 [==============================] - 2s 404ms/step - loss: 3.7683 - accuracy: 0.0987\n",
      "Epoch 73/100\n",
      "5/5 [==============================] - 2s 406ms/step - loss: 3.7625 - accuracy: 0.1019\n",
      "Epoch 74/100\n",
      "5/5 [==============================] - 2s 413ms/step - loss: 3.7459 - accuracy: 0.1001\n",
      "Epoch 75/100\n",
      "5/5 [==============================] - 2s 408ms/step - loss: 3.7907 - accuracy: 0.1001\n",
      "Epoch 76/100\n",
      "5/5 [==============================] - 2s 403ms/step - loss: 3.7696 - accuracy: 0.1002\n",
      "Epoch 77/100\n",
      "5/5 [==============================] - 2s 406ms/step - loss: 3.7710 - accuracy: 0.1011\n",
      "Epoch 78/100\n",
      "5/5 [==============================] - 2s 408ms/step - loss: 3.7640 - accuracy: 0.1012\n",
      "Epoch 79/100\n",
      "5/5 [==============================] - 2s 408ms/step - loss: 3.7966 - accuracy: 0.0991\n",
      "Epoch 80/100\n",
      "5/5 [==============================] - 2s 410ms/step - loss: 3.7685 - accuracy: 0.1018\n",
      "Epoch 81/100\n",
      "5/5 [==============================] - 2s 412ms/step - loss: 3.7740 - accuracy: 0.0997\n",
      "Epoch 82/100\n",
      "5/5 [==============================] - 2s 407ms/step - loss: 3.7709 - accuracy: 0.1002\n",
      "Epoch 83/100\n",
      "5/5 [==============================] - 2s 406ms/step - loss: 3.7821 - accuracy: 0.1021\n",
      "Epoch 84/100\n",
      "5/5 [==============================] - 2s 405ms/step - loss: 3.7755 - accuracy: 0.0983\n",
      "Epoch 85/100\n",
      "5/5 [==============================] - 2s 406ms/step - loss: 3.7642 - accuracy: 0.1005\n",
      "Epoch 86/100\n",
      "5/5 [==============================] - 2s 405ms/step - loss: 3.7709 - accuracy: 0.0985\n",
      "Epoch 87/100\n",
      "5/5 [==============================] - 2s 407ms/step - loss: 3.7772 - accuracy: 0.1027\n",
      "Epoch 88/100\n",
      "5/5 [==============================] - 2s 412ms/step - loss: 3.7871 - accuracy: 0.0978\n",
      "Epoch 89/100\n",
      "5/5 [==============================] - 2s 410ms/step - loss: 3.7814 - accuracy: 0.1014\n",
      "Epoch 90/100\n",
      "5/5 [==============================] - 2s 405ms/step - loss: 3.7763 - accuracy: 0.0997\n",
      "Epoch 91/100\n",
      "5/5 [==============================] - 2s 404ms/step - loss: 3.7573 - accuracy: 0.1021\n",
      "Epoch 92/100\n",
      "5/5 [==============================] - 2s 407ms/step - loss: 3.7706 - accuracy: 0.1008\n",
      "Epoch 93/100\n",
      "5/5 [==============================] - 2s 408ms/step - loss: 3.7756 - accuracy: 0.1002\n",
      "Epoch 94/100\n",
      "5/5 [==============================] - 2s 403ms/step - loss: 3.7535 - accuracy: 0.1028\n",
      "Epoch 95/100\n",
      "5/5 [==============================] - 2s 403ms/step - loss: 3.7714 - accuracy: 0.1011\n",
      "Epoch 96/100\n",
      "5/5 [==============================] - 2s 406ms/step - loss: 3.7829 - accuracy: 0.0974\n",
      "Epoch 97/100\n",
      "5/5 [==============================] - 2s 408ms/step - loss: 3.7780 - accuracy: 0.0986\n",
      "Epoch 98/100\n",
      "5/5 [==============================] - 2s 404ms/step - loss: 3.7745 - accuracy: 0.0999\n",
      "Epoch 99/100\n",
      "5/5 [==============================] - 2s 403ms/step - loss: 3.7377 - accuracy: 0.1024\n",
      "Epoch 100/100\n",
      "5/5 [==============================] - 2s 407ms/step - loss: 3.7756 - accuracy: 0.0987\n"
     ]
    }
   ],
   "source": [
    "#1.Small values : LR =1e-7,lambda= 1e-7\n",
    "model_lr= build_SVHN_train_classifier(1e-7,100,1e-07,SVHN_X_train_arr,SVHN_y_train)"
   ]
  },
  {
   "cell_type": "markdown",
   "metadata": {
    "id": "pgzXLOakOejV"
   },
   "source": [
    "##### The accuracy measured is not that much .Also loss is reducing minimally. Hence we have vanishing gradient problem here."
   ]
  },
  {
   "cell_type": "code",
   "execution_count": null,
   "metadata": {
    "colab": {
     "base_uri": "https://localhost:8080/"
    },
    "id": "Qq4P42cUHNhC",
    "outputId": "488dcaa4-1710-4870-c463-39e1f646b90a"
   },
   "outputs": [
    {
     "name": "stdout",
     "output_type": "stream",
     "text": [
      "Epoch 1/100\n",
      "5/5 [==============================] - 3s 408ms/step - loss: 2188014873117614336.0000 - accuracy: 0.1004\n",
      "Epoch 2/100\n",
      "5/5 [==============================] - 2s 405ms/step - loss: nan - accuracy: 0.0990\n",
      "Epoch 3/100\n",
      "5/5 [==============================] - 2s 404ms/step - loss: nan - accuracy: 0.0994\n",
      "Epoch 4/100\n",
      "5/5 [==============================] - 2s 409ms/step - loss: nan - accuracy: 0.1003\n",
      "Epoch 5/100\n",
      "5/5 [==============================] - 2s 408ms/step - loss: nan - accuracy: 0.0995\n",
      "Epoch 6/100\n",
      "5/5 [==============================] - 2s 404ms/step - loss: nan - accuracy: 0.1003\n",
      "Epoch 7/100\n",
      "5/5 [==============================] - 2s 406ms/step - loss: nan - accuracy: 0.0998\n",
      "Epoch 8/100\n",
      "5/5 [==============================] - 2s 404ms/step - loss: nan - accuracy: 0.1005\n",
      "Epoch 9/100\n",
      "5/5 [==============================] - 2s 413ms/step - loss: nan - accuracy: 0.0998\n",
      "Epoch 10/100\n",
      "5/5 [==============================] - 2s 403ms/step - loss: nan - accuracy: 0.0992\n",
      "Epoch 11/100\n",
      "5/5 [==============================] - 2s 405ms/step - loss: nan - accuracy: 0.0997\n",
      "Epoch 12/100\n",
      "5/5 [==============================] - 2s 405ms/step - loss: nan - accuracy: 0.0995\n",
      "Epoch 13/100\n",
      "5/5 [==============================] - 2s 413ms/step - loss: nan - accuracy: 0.1000\n",
      "Epoch 14/100\n",
      "5/5 [==============================] - 2s 404ms/step - loss: nan - accuracy: 0.1000\n",
      "Epoch 15/100\n",
      "5/5 [==============================] - 2s 409ms/step - loss: nan - accuracy: 0.1004\n",
      "Epoch 16/100\n",
      "5/5 [==============================] - 2s 400ms/step - loss: nan - accuracy: 0.0993\n",
      "Epoch 17/100\n",
      "5/5 [==============================] - 2s 408ms/step - loss: nan - accuracy: 0.0991\n",
      "Epoch 18/100\n",
      "5/5 [==============================] - 2s 403ms/step - loss: nan - accuracy: 0.0990\n",
      "Epoch 19/100\n",
      "5/5 [==============================] - 2s 411ms/step - loss: nan - accuracy: 0.0995\n",
      "Epoch 20/100\n",
      "5/5 [==============================] - 2s 405ms/step - loss: nan - accuracy: 0.0999\n",
      "Epoch 21/100\n",
      "5/5 [==============================] - 2s 408ms/step - loss: nan - accuracy: 0.1000\n",
      "Epoch 22/100\n",
      "5/5 [==============================] - 2s 403ms/step - loss: nan - accuracy: 0.1010\n",
      "Epoch 23/100\n",
      "5/5 [==============================] - 2s 411ms/step - loss: nan - accuracy: 0.1001\n",
      "Epoch 24/100\n",
      "5/5 [==============================] - 2s 409ms/step - loss: nan - accuracy: 0.1000\n",
      "Epoch 25/100\n",
      "5/5 [==============================] - 2s 411ms/step - loss: nan - accuracy: 0.1005\n",
      "Epoch 26/100\n",
      "5/5 [==============================] - 2s 407ms/step - loss: nan - accuracy: 0.1007\n",
      "Epoch 27/100\n",
      "5/5 [==============================] - 2s 411ms/step - loss: nan - accuracy: 0.1000\n",
      "Epoch 28/100\n",
      "5/5 [==============================] - 2s 403ms/step - loss: nan - accuracy: 0.0993\n",
      "Epoch 29/100\n",
      "5/5 [==============================] - 2s 412ms/step - loss: nan - accuracy: 0.0991\n",
      "Epoch 30/100\n",
      "5/5 [==============================] - 2s 403ms/step - loss: nan - accuracy: 0.1005\n",
      "Epoch 31/100\n",
      "5/5 [==============================] - 2s 405ms/step - loss: nan - accuracy: 0.0999\n",
      "Epoch 32/100\n",
      "5/5 [==============================] - 2s 403ms/step - loss: nan - accuracy: 0.0996\n",
      "Epoch 33/100\n",
      "5/5 [==============================] - 2s 405ms/step - loss: nan - accuracy: 0.1003\n",
      "Epoch 34/100\n",
      "5/5 [==============================] - 2s 405ms/step - loss: nan - accuracy: 0.0993\n",
      "Epoch 35/100\n",
      "5/5 [==============================] - 2s 411ms/step - loss: nan - accuracy: 0.0995\n",
      "Epoch 36/100\n",
      "5/5 [==============================] - 2s 403ms/step - loss: nan - accuracy: 0.0996\n",
      "Epoch 37/100\n",
      "5/5 [==============================] - 2s 409ms/step - loss: nan - accuracy: 0.0985\n",
      "Epoch 38/100\n",
      "5/5 [==============================] - 2s 411ms/step - loss: nan - accuracy: 0.0995\n",
      "Epoch 39/100\n",
      "5/5 [==============================] - 2s 409ms/step - loss: nan - accuracy: 0.1016\n",
      "Epoch 40/100\n",
      "5/5 [==============================] - 2s 410ms/step - loss: nan - accuracy: 0.1003\n",
      "Epoch 41/100\n",
      "5/5 [==============================] - 2s 408ms/step - loss: nan - accuracy: 0.0999\n",
      "Epoch 42/100\n",
      "5/5 [==============================] - 2s 403ms/step - loss: nan - accuracy: 0.1001\n",
      "Epoch 43/100\n",
      "5/5 [==============================] - 2s 407ms/step - loss: nan - accuracy: 0.0995\n",
      "Epoch 44/100\n",
      "5/5 [==============================] - 2s 404ms/step - loss: nan - accuracy: 0.1003\n",
      "Epoch 45/100\n",
      "5/5 [==============================] - 2s 410ms/step - loss: nan - accuracy: 0.0992\n",
      "Epoch 46/100\n",
      "5/5 [==============================] - 2s 405ms/step - loss: nan - accuracy: 0.0987\n",
      "Epoch 47/100\n",
      "5/5 [==============================] - 2s 407ms/step - loss: nan - accuracy: 0.0983\n",
      "Epoch 48/100\n",
      "5/5 [==============================] - 2s 405ms/step - loss: nan - accuracy: 0.0996\n",
      "Epoch 49/100\n",
      "5/5 [==============================] - 2s 408ms/step - loss: nan - accuracy: 0.1007\n",
      "Epoch 50/100\n",
      "5/5 [==============================] - 2s 400ms/step - loss: nan - accuracy: 0.0990\n",
      "Epoch 51/100\n",
      "5/5 [==============================] - 2s 407ms/step - loss: nan - accuracy: 0.0999\n",
      "Epoch 52/100\n",
      "5/5 [==============================] - 2s 403ms/step - loss: nan - accuracy: 0.0989\n",
      "Epoch 53/100\n",
      "5/5 [==============================] - 2s 407ms/step - loss: nan - accuracy: 0.0996\n",
      "Epoch 54/100\n",
      "5/5 [==============================] - 2s 405ms/step - loss: nan - accuracy: 0.1001\n",
      "Epoch 55/100\n",
      "5/5 [==============================] - 2s 406ms/step - loss: nan - accuracy: 0.0992\n",
      "Epoch 56/100\n",
      "5/5 [==============================] - 2s 404ms/step - loss: nan - accuracy: 0.1003\n",
      "Epoch 57/100\n",
      "5/5 [==============================] - 2s 409ms/step - loss: nan - accuracy: 0.1002\n",
      "Epoch 58/100\n",
      "5/5 [==============================] - 2s 403ms/step - loss: nan - accuracy: 0.1003\n",
      "Epoch 59/100\n",
      "5/5 [==============================] - 2s 408ms/step - loss: nan - accuracy: 0.1006\n",
      "Epoch 60/100\n",
      "5/5 [==============================] - 2s 403ms/step - loss: nan - accuracy: 0.1003\n",
      "Epoch 61/100\n",
      "5/5 [==============================] - 2s 410ms/step - loss: nan - accuracy: 0.0998\n",
      "Epoch 62/100\n",
      "5/5 [==============================] - 2s 406ms/step - loss: nan - accuracy: 0.1011\n",
      "Epoch 63/100\n",
      "5/5 [==============================] - 2s 404ms/step - loss: nan - accuracy: 0.1008\n",
      "Epoch 64/100\n",
      "5/5 [==============================] - 2s 406ms/step - loss: nan - accuracy: 0.0996\n",
      "Epoch 65/100\n",
      "5/5 [==============================] - 2s 405ms/step - loss: nan - accuracy: 0.0998\n",
      "Epoch 66/100\n",
      "5/5 [==============================] - 2s 413ms/step - loss: nan - accuracy: 0.0990\n",
      "Epoch 67/100\n",
      "5/5 [==============================] - 2s 406ms/step - loss: nan - accuracy: 0.0990\n",
      "Epoch 68/100\n",
      "5/5 [==============================] - 2s 407ms/step - loss: nan - accuracy: 0.1007\n",
      "Epoch 69/100\n",
      "5/5 [==============================] - 2s 413ms/step - loss: nan - accuracy: 0.0983\n",
      "Epoch 70/100\n",
      "5/5 [==============================] - 2s 402ms/step - loss: nan - accuracy: 0.1001\n",
      "Epoch 71/100\n",
      "5/5 [==============================] - 2s 407ms/step - loss: nan - accuracy: 0.0997\n",
      "Epoch 72/100\n",
      "5/5 [==============================] - 2s 406ms/step - loss: nan - accuracy: 0.1000\n",
      "Epoch 73/100\n",
      "5/5 [==============================] - 2s 413ms/step - loss: nan - accuracy: 0.0997\n",
      "Epoch 74/100\n",
      "5/5 [==============================] - 2s 402ms/step - loss: nan - accuracy: 0.1003\n",
      "Epoch 75/100\n",
      "5/5 [==============================] - 2s 409ms/step - loss: nan - accuracy: 0.1002\n",
      "Epoch 76/100\n",
      "5/5 [==============================] - 2s 408ms/step - loss: nan - accuracy: 0.0994\n",
      "Epoch 77/100\n",
      "5/5 [==============================] - 2s 408ms/step - loss: nan - accuracy: 0.0989\n",
      "Epoch 78/100\n",
      "5/5 [==============================] - 2s 406ms/step - loss: nan - accuracy: 0.0998\n",
      "Epoch 79/100\n",
      "5/5 [==============================] - 2s 409ms/step - loss: nan - accuracy: 0.1010\n",
      "Epoch 80/100\n",
      "5/5 [==============================] - 2s 408ms/step - loss: nan - accuracy: 0.1000\n",
      "Epoch 81/100\n",
      "5/5 [==============================] - 2s 400ms/step - loss: nan - accuracy: 0.1012\n",
      "Epoch 82/100\n",
      "5/5 [==============================] - 2s 400ms/step - loss: nan - accuracy: 0.0999\n",
      "Epoch 83/100\n",
      "5/5 [==============================] - 2s 405ms/step - loss: nan - accuracy: 0.1006\n",
      "Epoch 84/100\n",
      "5/5 [==============================] - 2s 405ms/step - loss: nan - accuracy: 0.1000\n",
      "Epoch 85/100\n",
      "5/5 [==============================] - 2s 412ms/step - loss: nan - accuracy: 0.0994\n",
      "Epoch 86/100\n",
      "5/5 [==============================] - 2s 407ms/step - loss: nan - accuracy: 0.0995\n",
      "Epoch 87/100\n",
      "5/5 [==============================] - 2s 412ms/step - loss: nan - accuracy: 0.0992\n",
      "Epoch 88/100\n",
      "5/5 [==============================] - 2s 407ms/step - loss: nan - accuracy: 0.0996\n",
      "Epoch 89/100\n",
      "5/5 [==============================] - 2s 412ms/step - loss: nan - accuracy: 0.1011\n",
      "Epoch 90/100\n",
      "5/5 [==============================] - 2s 407ms/step - loss: nan - accuracy: 0.0998\n",
      "Epoch 91/100\n",
      "5/5 [==============================] - 2s 407ms/step - loss: nan - accuracy: 0.0999\n",
      "Epoch 92/100\n",
      "5/5 [==============================] - 2s 402ms/step - loss: nan - accuracy: 0.0994\n",
      "Epoch 93/100\n",
      "5/5 [==============================] - 2s 407ms/step - loss: nan - accuracy: 0.1002\n",
      "Epoch 94/100\n",
      "5/5 [==============================] - 2s 404ms/step - loss: nan - accuracy: 0.0999\n",
      "Epoch 95/100\n",
      "5/5 [==============================] - 2s 415ms/step - loss: nan - accuracy: 0.0996\n",
      "Epoch 96/100\n",
      "5/5 [==============================] - 2s 408ms/step - loss: nan - accuracy: 0.0998\n",
      "Epoch 97/100\n",
      "5/5 [==============================] - 2s 408ms/step - loss: nan - accuracy: 0.0997\n",
      "Epoch 98/100\n",
      "5/5 [==============================] - 2s 405ms/step - loss: nan - accuracy: 0.1006\n",
      "Epoch 99/100\n",
      "5/5 [==============================] - 2s 416ms/step - loss: nan - accuracy: 0.0993\n",
      "Epoch 100/100\n",
      "5/5 [==============================] - 2s 397ms/step - loss: nan - accuracy: 0.0993\n"
     ]
    }
   ],
   "source": [
    "#2.Large values: LR =1e1,lambda= 1e1\n",
    "model_lr= build_SVHN_train_classifier(1e1,100,1e1,SVHN_X_train_arr,SVHN_y_train)"
   ]
  },
  {
   "cell_type": "markdown",
   "metadata": {
    "id": "lyrMLr1IPDUI"
   },
   "source": [
    "##### Here the loss is a large number and misses the global minima. Hence we have exploding gradient problem here."
   ]
  },
  {
   "cell_type": "code",
   "execution_count": null,
   "metadata": {
    "colab": {
     "base_uri": "https://localhost:8080/"
    },
    "id": "zkxEibOUHcT4",
    "outputId": "1ff31a8e-21b0-4375-ae11-835a0219b2d2"
   },
   "outputs": [
    {
     "name": "stdout",
     "output_type": "stream",
     "text": [
      "Epoch 1/100\n",
      "5/5 [==============================] - 3s 412ms/step - loss: 3.6803 - accuracy: 0.0978\n",
      "Epoch 2/100\n",
      "5/5 [==============================] - 2s 409ms/step - loss: 3.7045 - accuracy: 0.0985\n",
      "Epoch 3/100\n",
      "5/5 [==============================] - 2s 414ms/step - loss: 3.6910 - accuracy: 0.1015\n",
      "Epoch 4/100\n",
      "5/5 [==============================] - 2s 408ms/step - loss: 3.6864 - accuracy: 0.0979\n",
      "Epoch 5/100\n",
      "5/5 [==============================] - 2s 407ms/step - loss: 3.6812 - accuracy: 0.1006\n",
      "Epoch 6/100\n",
      "5/5 [==============================] - 2s 403ms/step - loss: 3.6947 - accuracy: 0.1014\n",
      "Epoch 7/100\n",
      "5/5 [==============================] - 2s 410ms/step - loss: 3.6790 - accuracy: 0.1022\n",
      "Epoch 8/100\n",
      "5/5 [==============================] - 2s 405ms/step - loss: 3.6698 - accuracy: 0.1005\n",
      "Epoch 9/100\n",
      "5/5 [==============================] - 2s 411ms/step - loss: 3.6588 - accuracy: 0.0989\n",
      "Epoch 10/100\n",
      "5/5 [==============================] - 2s 406ms/step - loss: 3.6728 - accuracy: 0.1000\n",
      "Epoch 11/100\n",
      "5/5 [==============================] - 2s 410ms/step - loss: 3.6632 - accuracy: 0.1014\n",
      "Epoch 12/100\n",
      "5/5 [==============================] - 2s 405ms/step - loss: 3.6553 - accuracy: 0.1018\n",
      "Epoch 13/100\n",
      "5/5 [==============================] - 2s 412ms/step - loss: 3.6620 - accuracy: 0.0984\n",
      "Epoch 14/100\n",
      "5/5 [==============================] - 2s 411ms/step - loss: 3.6562 - accuracy: 0.0983\n",
      "Epoch 15/100\n",
      "5/5 [==============================] - 2s 411ms/step - loss: 3.6554 - accuracy: 0.1009\n",
      "Epoch 16/100\n",
      "5/5 [==============================] - 2s 407ms/step - loss: 3.6718 - accuracy: 0.0977\n",
      "Epoch 17/100\n",
      "5/5 [==============================] - 2s 408ms/step - loss: 3.6229 - accuracy: 0.1006\n",
      "Epoch 18/100\n",
      "5/5 [==============================] - 2s 411ms/step - loss: 3.6392 - accuracy: 0.0994\n",
      "Epoch 19/100\n",
      "5/5 [==============================] - 2s 414ms/step - loss: 3.6487 - accuracy: 0.0974\n",
      "Epoch 20/100\n",
      "5/5 [==============================] - 2s 405ms/step - loss: 3.6248 - accuracy: 0.1013\n",
      "Epoch 21/100\n",
      "5/5 [==============================] - 2s 412ms/step - loss: 3.6527 - accuracy: 0.1012\n",
      "Epoch 22/100\n",
      "5/5 [==============================] - 2s 407ms/step - loss: 3.6233 - accuracy: 0.1009\n",
      "Epoch 23/100\n",
      "5/5 [==============================] - 2s 404ms/step - loss: 3.6240 - accuracy: 0.0987\n",
      "Epoch 24/100\n",
      "5/5 [==============================] - 2s 415ms/step - loss: 3.6114 - accuracy: 0.1027\n",
      "Epoch 25/100\n",
      "5/5 [==============================] - 2s 401ms/step - loss: 3.6261 - accuracy: 0.1010\n",
      "Epoch 26/100\n",
      "5/5 [==============================] - 2s 409ms/step - loss: 3.6255 - accuracy: 0.0995\n",
      "Epoch 27/100\n",
      "5/5 [==============================] - 2s 403ms/step - loss: 3.6205 - accuracy: 0.0975\n",
      "Epoch 28/100\n",
      "5/5 [==============================] - 2s 409ms/step - loss: 3.6030 - accuracy: 0.1012\n",
      "Epoch 29/100\n",
      "5/5 [==============================] - 2s 405ms/step - loss: 3.6032 - accuracy: 0.1011\n",
      "Epoch 30/100\n",
      "5/5 [==============================] - 2s 414ms/step - loss: 3.6076 - accuracy: 0.0996\n",
      "Epoch 31/100\n",
      "5/5 [==============================] - 2s 402ms/step - loss: 3.6038 - accuracy: 0.1011\n",
      "Epoch 32/100\n",
      "5/5 [==============================] - 2s 409ms/step - loss: 3.6000 - accuracy: 0.1007\n",
      "Epoch 33/100\n",
      "5/5 [==============================] - 2s 406ms/step - loss: 3.5856 - accuracy: 0.1033\n",
      "Epoch 34/100\n",
      "5/5 [==============================] - 2s 409ms/step - loss: 3.5849 - accuracy: 0.0992\n",
      "Epoch 35/100\n",
      "5/5 [==============================] - 2s 404ms/step - loss: 3.5630 - accuracy: 0.1010\n",
      "Epoch 36/100\n",
      "5/5 [==============================] - 2s 407ms/step - loss: 3.5743 - accuracy: 0.1005\n",
      "Epoch 37/100\n",
      "5/5 [==============================] - 2s 406ms/step - loss: 3.5837 - accuracy: 0.0996\n",
      "Epoch 38/100\n",
      "5/5 [==============================] - 2s 406ms/step - loss: 3.5675 - accuracy: 0.0994\n",
      "Epoch 39/100\n",
      "5/5 [==============================] - 2s 403ms/step - loss: 3.6014 - accuracy: 0.0991\n",
      "Epoch 40/100\n",
      "5/5 [==============================] - 2s 413ms/step - loss: 3.5692 - accuracy: 0.0999\n",
      "Epoch 41/100\n",
      "5/5 [==============================] - 2s 410ms/step - loss: 3.5637 - accuracy: 0.1020\n",
      "Epoch 42/100\n",
      "5/5 [==============================] - 2s 414ms/step - loss: 3.5731 - accuracy: 0.1037\n",
      "Epoch 43/100\n",
      "5/5 [==============================] - 2s 408ms/step - loss: 3.5607 - accuracy: 0.1016\n",
      "Epoch 44/100\n",
      "5/5 [==============================] - 2s 410ms/step - loss: 3.5531 - accuracy: 0.1043\n",
      "Epoch 45/100\n",
      "5/5 [==============================] - 2s 403ms/step - loss: 3.5560 - accuracy: 0.0992\n",
      "Epoch 46/100\n",
      "5/5 [==============================] - 2s 407ms/step - loss: 3.5602 - accuracy: 0.1013\n",
      "Epoch 47/100\n",
      "5/5 [==============================] - 2s 407ms/step - loss: 3.5493 - accuracy: 0.1014\n",
      "Epoch 48/100\n",
      "5/5 [==============================] - 2s 405ms/step - loss: 3.5602 - accuracy: 0.1014\n",
      "Epoch 49/100\n",
      "5/5 [==============================] - 2s 402ms/step - loss: 3.5519 - accuracy: 0.1009\n",
      "Epoch 50/100\n",
      "5/5 [==============================] - 2s 409ms/step - loss: 3.5383 - accuracy: 0.1029\n",
      "Epoch 51/100\n",
      "5/5 [==============================] - 2s 402ms/step - loss: 3.5498 - accuracy: 0.1024\n",
      "Epoch 52/100\n",
      "5/5 [==============================] - 2s 410ms/step - loss: 3.5672 - accuracy: 0.1000\n",
      "Epoch 53/100\n",
      "5/5 [==============================] - 2s 407ms/step - loss: 3.5469 - accuracy: 0.1006\n",
      "Epoch 54/100\n",
      "5/5 [==============================] - 2s 408ms/step - loss: 3.5311 - accuracy: 0.1013\n",
      "Epoch 55/100\n",
      "5/5 [==============================] - 2s 410ms/step - loss: 3.5278 - accuracy: 0.1011\n",
      "Epoch 56/100\n",
      "5/5 [==============================] - 2s 403ms/step - loss: 3.5282 - accuracy: 0.1042\n",
      "Epoch 57/100\n",
      "5/5 [==============================] - 2s 411ms/step - loss: 3.5315 - accuracy: 0.1006\n",
      "Epoch 58/100\n",
      "5/5 [==============================] - 2s 407ms/step - loss: 3.5397 - accuracy: 0.1009\n",
      "Epoch 59/100\n",
      "5/5 [==============================] - 2s 408ms/step - loss: 3.5467 - accuracy: 0.1028\n",
      "Epoch 60/100\n",
      "5/5 [==============================] - 2s 407ms/step - loss: 3.5238 - accuracy: 0.1022\n",
      "Epoch 61/100\n",
      "5/5 [==============================] - 2s 411ms/step - loss: 3.5329 - accuracy: 0.1029\n",
      "Epoch 62/100\n",
      "5/5 [==============================] - 2s 409ms/step - loss: 3.5270 - accuracy: 0.0997\n",
      "Epoch 63/100\n",
      "5/5 [==============================] - 2s 404ms/step - loss: 3.5009 - accuracy: 0.1037\n",
      "Epoch 64/100\n",
      "5/5 [==============================] - 2s 405ms/step - loss: 3.4935 - accuracy: 0.1039\n",
      "Epoch 65/100\n",
      "5/5 [==============================] - 2s 411ms/step - loss: 3.5182 - accuracy: 0.1005\n",
      "Epoch 66/100\n",
      "5/5 [==============================] - 2s 405ms/step - loss: 3.4923 - accuracy: 0.1047\n",
      "Epoch 67/100\n",
      "5/5 [==============================] - 2s 407ms/step - loss: 3.4843 - accuracy: 0.1043\n",
      "Epoch 68/100\n",
      "5/5 [==============================] - 2s 411ms/step - loss: 3.4976 - accuracy: 0.1034\n",
      "Epoch 69/100\n",
      "5/5 [==============================] - 2s 416ms/step - loss: 3.5039 - accuracy: 0.1023\n",
      "Epoch 70/100\n",
      "5/5 [==============================] - 2s 414ms/step - loss: 3.4973 - accuracy: 0.1032\n",
      "Epoch 71/100\n",
      "5/5 [==============================] - 2s 412ms/step - loss: 3.4877 - accuracy: 0.1038\n",
      "Epoch 72/100\n",
      "5/5 [==============================] - 2s 409ms/step - loss: 3.4907 - accuracy: 0.1027\n",
      "Epoch 73/100\n",
      "5/5 [==============================] - 2s 412ms/step - loss: 3.4914 - accuracy: 0.1024\n",
      "Epoch 74/100\n",
      "5/5 [==============================] - 2s 404ms/step - loss: 3.4713 - accuracy: 0.1032\n",
      "Epoch 75/100\n",
      "5/5 [==============================] - 2s 412ms/step - loss: 3.4973 - accuracy: 0.0997\n",
      "Epoch 76/100\n",
      "5/5 [==============================] - 2s 405ms/step - loss: 3.4733 - accuracy: 0.1031\n",
      "Epoch 77/100\n",
      "5/5 [==============================] - 2s 408ms/step - loss: 3.4633 - accuracy: 0.1040\n",
      "Epoch 78/100\n",
      "5/5 [==============================] - 2s 407ms/step - loss: 3.4793 - accuracy: 0.1032\n",
      "Epoch 79/100\n",
      "5/5 [==============================] - 2s 408ms/step - loss: 3.4660 - accuracy: 0.1023\n",
      "Epoch 80/100\n",
      "5/5 [==============================] - 2s 404ms/step - loss: 3.4798 - accuracy: 0.1036\n",
      "Epoch 81/100\n",
      "5/5 [==============================] - 2s 408ms/step - loss: 3.4793 - accuracy: 0.0989\n",
      "Epoch 82/100\n",
      "5/5 [==============================] - 2s 410ms/step - loss: 3.4610 - accuracy: 0.1039\n",
      "Epoch 83/100\n",
      "5/5 [==============================] - 2s 410ms/step - loss: 3.4634 - accuracy: 0.1008\n",
      "Epoch 84/100\n",
      "5/5 [==============================] - 2s 402ms/step - loss: 3.4522 - accuracy: 0.1038\n",
      "Epoch 85/100\n",
      "5/5 [==============================] - 2s 406ms/step - loss: 3.4529 - accuracy: 0.1031\n",
      "Epoch 86/100\n",
      "5/5 [==============================] - 2s 405ms/step - loss: 3.4513 - accuracy: 0.1014\n",
      "Epoch 87/100\n",
      "5/5 [==============================] - 2s 413ms/step - loss: 3.4250 - accuracy: 0.1071\n",
      "Epoch 88/100\n",
      "5/5 [==============================] - 2s 409ms/step - loss: 3.4438 - accuracy: 0.1024\n",
      "Epoch 89/100\n",
      "5/5 [==============================] - 2s 410ms/step - loss: 3.4433 - accuracy: 0.1024\n",
      "Epoch 90/100\n",
      "5/5 [==============================] - 2s 410ms/step - loss: 3.4485 - accuracy: 0.1034\n",
      "Epoch 91/100\n",
      "5/5 [==============================] - 2s 409ms/step - loss: 3.4227 - accuracy: 0.1023\n",
      "Epoch 92/100\n",
      "5/5 [==============================] - 2s 412ms/step - loss: 3.4260 - accuracy: 0.1053\n",
      "Epoch 93/100\n",
      "5/5 [==============================] - 2s 409ms/step - loss: 3.4173 - accuracy: 0.1068\n",
      "Epoch 94/100\n",
      "5/5 [==============================] - 2s 407ms/step - loss: 3.4133 - accuracy: 0.1060\n",
      "Epoch 95/100\n",
      "5/5 [==============================] - 2s 409ms/step - loss: 3.4231 - accuracy: 0.1024\n",
      "Epoch 96/100\n",
      "5/5 [==============================] - 2s 409ms/step - loss: 3.4283 - accuracy: 0.1026\n",
      "Epoch 97/100\n",
      "5/5 [==============================] - 2s 416ms/step - loss: 3.4143 - accuracy: 0.1065\n",
      "Epoch 98/100\n",
      "5/5 [==============================] - 2s 406ms/step - loss: 3.4309 - accuracy: 0.1035\n",
      "Epoch 99/100\n",
      "5/5 [==============================] - 2s 412ms/step - loss: 3.4212 - accuracy: 0.1045\n",
      "Epoch 100/100\n",
      "5/5 [==============================] - 2s 401ms/step - loss: 3.4078 - accuracy: 0.1056\n"
     ]
    }
   ],
   "source": [
    "#3. Mid Range value : LR =1e-4,lambda= 1e-5\n",
    "model_lr= build_SVHN_train_classifier(1e-4,100,1e-5,SVHN_X_train_arr,SVHN_y_train)"
   ]
  },
  {
   "cell_type": "code",
   "execution_count": null,
   "metadata": {
    "colab": {
     "base_uri": "https://localhost:8080/"
    },
    "id": "UEMqWp2hJOnk",
    "outputId": "d50304de-e334-4d51-93fb-6fab27ac6577"
   },
   "outputs": [
    {
     "name": "stdout",
     "output_type": "stream",
     "text": [
      "563/563 [==============================] - 1s 2ms/step - loss: 2.3608 - accuracy: 0.1269\n"
     ]
    },
    {
     "data": {
      "text/plain": [
       "[2.3608453273773193, 0.12688888609409332]"
      ]
     },
     "execution_count": 53,
     "metadata": {
      "tags": []
     },
     "output_type": "execute_result"
    }
   ],
   "source": [
    "model_lr.evaluate(SVHN_Xtest_arr,SVHN_y_test)"
   ]
  },
  {
   "cell_type": "markdown",
   "metadata": {
    "id": "TzDdQyr0PSoJ"
   },
   "source": [
    "##### Accuracy is not much in the above set of values."
   ]
  },
  {
   "cell_type": "code",
   "execution_count": null,
   "metadata": {
    "colab": {
     "base_uri": "https://localhost:8080/"
    },
    "id": "-dlZhf6TJduS",
    "outputId": "6c0aa52d-f534-4ad1-c909-83af910e453b"
   },
   "outputs": [
    {
     "name": "stdout",
     "output_type": "stream",
     "text": [
      "Epoch 1/100\n",
      "5/5 [==============================] - 3s 408ms/step - loss: 3.8060 - accuracy: 0.0986\n",
      "Epoch 2/100\n",
      "5/5 [==============================] - 2s 407ms/step - loss: 3.7874 - accuracy: 0.1001\n",
      "Epoch 3/100\n",
      "5/5 [==============================] - 2s 401ms/step - loss: 3.7691 - accuracy: 0.1020\n",
      "Epoch 4/100\n",
      "5/5 [==============================] - 2s 406ms/step - loss: 3.7195 - accuracy: 0.1016\n",
      "Epoch 5/100\n",
      "5/5 [==============================] - 2s 399ms/step - loss: 3.7223 - accuracy: 0.1020\n",
      "Epoch 6/100\n",
      "5/5 [==============================] - 2s 407ms/step - loss: 3.6782 - accuracy: 0.1033\n",
      "Epoch 7/100\n",
      "5/5 [==============================] - 2s 400ms/step - loss: 3.6439 - accuracy: 0.1028\n",
      "Epoch 8/100\n",
      "5/5 [==============================] - 2s 406ms/step - loss: 3.6098 - accuracy: 0.1049\n",
      "Epoch 9/100\n",
      "5/5 [==============================] - 2s 406ms/step - loss: 3.5780 - accuracy: 0.1037\n",
      "Epoch 10/100\n",
      "5/5 [==============================] - 2s 406ms/step - loss: 3.5343 - accuracy: 0.1055\n",
      "Epoch 11/100\n",
      "5/5 [==============================] - 2s 404ms/step - loss: 3.5242 - accuracy: 0.1044\n",
      "Epoch 12/100\n",
      "5/5 [==============================] - 2s 410ms/step - loss: 3.4779 - accuracy: 0.1060\n",
      "Epoch 13/100\n",
      "5/5 [==============================] - 2s 406ms/step - loss: 3.4539 - accuracy: 0.1063\n",
      "Epoch 14/100\n",
      "5/5 [==============================] - 2s 409ms/step - loss: 3.4218 - accuracy: 0.1065\n",
      "Epoch 15/100\n",
      "5/5 [==============================] - 2s 405ms/step - loss: 3.3998 - accuracy: 0.1065\n",
      "Epoch 16/100\n",
      "5/5 [==============================] - 2s 411ms/step - loss: 3.3969 - accuracy: 0.1037\n",
      "Epoch 17/100\n",
      "5/5 [==============================] - 2s 407ms/step - loss: 3.3544 - accuracy: 0.1078\n",
      "Epoch 18/100\n",
      "5/5 [==============================] - 2s 397ms/step - loss: 3.3284 - accuracy: 0.1080\n",
      "Epoch 19/100\n",
      "5/5 [==============================] - 2s 407ms/step - loss: 3.3063 - accuracy: 0.1093\n",
      "Epoch 20/100\n",
      "5/5 [==============================] - 2s 403ms/step - loss: 3.2767 - accuracy: 0.1121\n",
      "Epoch 21/100\n",
      "5/5 [==============================] - 2s 407ms/step - loss: 3.2721 - accuracy: 0.1096\n",
      "Epoch 22/100\n",
      "5/5 [==============================] - 2s 401ms/step - loss: 3.2690 - accuracy: 0.1118\n",
      "Epoch 23/100\n",
      "5/5 [==============================] - 2s 404ms/step - loss: 3.2186 - accuracy: 0.1114\n",
      "Epoch 24/100\n",
      "5/5 [==============================] - 2s 405ms/step - loss: 3.2164 - accuracy: 0.1076\n",
      "Epoch 25/100\n",
      "5/5 [==============================] - 2s 409ms/step - loss: 3.1895 - accuracy: 0.1118\n",
      "Epoch 26/100\n",
      "5/5 [==============================] - 2s 400ms/step - loss: 3.1871 - accuracy: 0.1115\n",
      "Epoch 27/100\n",
      "5/5 [==============================] - 2s 406ms/step - loss: 3.1503 - accuracy: 0.1129\n",
      "Epoch 28/100\n",
      "5/5 [==============================] - 2s 398ms/step - loss: 3.1417 - accuracy: 0.1141\n",
      "Epoch 29/100\n",
      "5/5 [==============================] - 2s 405ms/step - loss: 3.1191 - accuracy: 0.1109\n",
      "Epoch 30/100\n",
      "5/5 [==============================] - 2s 395ms/step - loss: 3.1182 - accuracy: 0.1122\n",
      "Epoch 31/100\n",
      "5/5 [==============================] - 2s 405ms/step - loss: 3.0989 - accuracy: 0.1144\n",
      "Epoch 32/100\n",
      "5/5 [==============================] - 2s 398ms/step - loss: 3.0837 - accuracy: 0.1131\n",
      "Epoch 33/100\n",
      "5/5 [==============================] - 2s 405ms/step - loss: 3.0697 - accuracy: 0.1102\n",
      "Epoch 34/100\n",
      "5/5 [==============================] - 2s 401ms/step - loss: 3.0533 - accuracy: 0.1130\n",
      "Epoch 35/100\n",
      "5/5 [==============================] - 2s 404ms/step - loss: 3.0392 - accuracy: 0.1129\n",
      "Epoch 36/100\n",
      "5/5 [==============================] - 2s 399ms/step - loss: 3.0261 - accuracy: 0.1155\n",
      "Epoch 37/100\n",
      "5/5 [==============================] - 2s 413ms/step - loss: 3.0180 - accuracy: 0.1119\n",
      "Epoch 38/100\n",
      "5/5 [==============================] - 2s 402ms/step - loss: 2.9971 - accuracy: 0.1127\n",
      "Epoch 39/100\n",
      "5/5 [==============================] - 2s 405ms/step - loss: 2.9907 - accuracy: 0.1133\n",
      "Epoch 40/100\n",
      "5/5 [==============================] - 2s 401ms/step - loss: 2.9778 - accuracy: 0.1129\n",
      "Epoch 41/100\n",
      "5/5 [==============================] - 2s 405ms/step - loss: 2.9586 - accuracy: 0.1126\n",
      "Epoch 42/100\n",
      "5/5 [==============================] - 2s 399ms/step - loss: 2.9531 - accuracy: 0.1134\n",
      "Epoch 43/100\n",
      "5/5 [==============================] - 2s 402ms/step - loss: 2.9345 - accuracy: 0.1140\n",
      "Epoch 44/100\n",
      "5/5 [==============================] - 2s 398ms/step - loss: 2.9179 - accuracy: 0.1169\n",
      "Epoch 45/100\n",
      "5/5 [==============================] - 2s 404ms/step - loss: 2.9095 - accuracy: 0.1174\n",
      "Epoch 46/100\n",
      "5/5 [==============================] - 2s 395ms/step - loss: 2.9028 - accuracy: 0.1188\n",
      "Epoch 47/100\n",
      "5/5 [==============================] - 2s 407ms/step - loss: 2.8957 - accuracy: 0.1146\n",
      "Epoch 48/100\n",
      "5/5 [==============================] - 2s 403ms/step - loss: 2.8750 - accuracy: 0.1179\n",
      "Epoch 49/100\n",
      "5/5 [==============================] - 2s 414ms/step - loss: 2.8771 - accuracy: 0.1177\n",
      "Epoch 50/100\n",
      "5/5 [==============================] - 2s 404ms/step - loss: 2.8690 - accuracy: 0.1134\n",
      "Epoch 51/100\n",
      "5/5 [==============================] - 2s 408ms/step - loss: 2.8529 - accuracy: 0.1159\n",
      "Epoch 52/100\n",
      "5/5 [==============================] - 2s 401ms/step - loss: 2.8472 - accuracy: 0.1157\n",
      "Epoch 53/100\n",
      "5/5 [==============================] - 2s 408ms/step - loss: 2.8386 - accuracy: 0.1184\n",
      "Epoch 54/100\n",
      "5/5 [==============================] - 2s 402ms/step - loss: 2.8271 - accuracy: 0.1152\n",
      "Epoch 55/100\n",
      "5/5 [==============================] - 2s 407ms/step - loss: 2.8154 - accuracy: 0.1175\n",
      "Epoch 56/100\n",
      "5/5 [==============================] - 2s 402ms/step - loss: 2.8148 - accuracy: 0.1166\n",
      "Epoch 57/100\n",
      "5/5 [==============================] - 2s 404ms/step - loss: 2.8041 - accuracy: 0.1181\n",
      "Epoch 58/100\n",
      "5/5 [==============================] - 2s 403ms/step - loss: 2.8014 - accuracy: 0.1184\n",
      "Epoch 59/100\n",
      "5/5 [==============================] - 2s 408ms/step - loss: 2.7809 - accuracy: 0.1201\n",
      "Epoch 60/100\n",
      "5/5 [==============================] - 2s 404ms/step - loss: 2.7749 - accuracy: 0.1196\n",
      "Epoch 61/100\n",
      "5/5 [==============================] - 2s 407ms/step - loss: 2.7662 - accuracy: 0.1187\n",
      "Epoch 62/100\n",
      "5/5 [==============================] - 2s 402ms/step - loss: 2.7723 - accuracy: 0.1198\n",
      "Epoch 63/100\n",
      "5/5 [==============================] - 2s 408ms/step - loss: 2.7406 - accuracy: 0.1213\n",
      "Epoch 64/100\n",
      "5/5 [==============================] - 2s 402ms/step - loss: 2.7421 - accuracy: 0.1210\n",
      "Epoch 65/100\n",
      "5/5 [==============================] - 2s 412ms/step - loss: 2.7392 - accuracy: 0.1197\n",
      "Epoch 66/100\n",
      "5/5 [==============================] - 2s 401ms/step - loss: 2.7353 - accuracy: 0.1231\n",
      "Epoch 67/100\n",
      "5/5 [==============================] - 2s 409ms/step - loss: 2.7291 - accuracy: 0.1207\n",
      "Epoch 68/100\n",
      "5/5 [==============================] - 2s 401ms/step - loss: 2.7203 - accuracy: 0.1220\n",
      "Epoch 69/100\n",
      "5/5 [==============================] - 2s 406ms/step - loss: 2.7049 - accuracy: 0.1211\n",
      "Epoch 70/100\n",
      "5/5 [==============================] - 2s 404ms/step - loss: 2.6876 - accuracy: 0.1253\n",
      "Epoch 71/100\n",
      "5/5 [==============================] - 2s 408ms/step - loss: 2.7041 - accuracy: 0.1202\n",
      "Epoch 72/100\n",
      "5/5 [==============================] - 2s 405ms/step - loss: 2.6807 - accuracy: 0.1216\n",
      "Epoch 73/100\n",
      "5/5 [==============================] - 2s 411ms/step - loss: 2.6860 - accuracy: 0.1212\n",
      "Epoch 74/100\n",
      "5/5 [==============================] - 2s 407ms/step - loss: 2.6784 - accuracy: 0.1219\n",
      "Epoch 75/100\n",
      "5/5 [==============================] - 2s 412ms/step - loss: 2.6725 - accuracy: 0.1213\n",
      "Epoch 76/100\n",
      "5/5 [==============================] - 2s 408ms/step - loss: 2.6746 - accuracy: 0.1210\n",
      "Epoch 77/100\n",
      "5/5 [==============================] - 2s 407ms/step - loss: 2.6565 - accuracy: 0.1243\n",
      "Epoch 78/100\n",
      "5/5 [==============================] - 2s 405ms/step - loss: 2.6437 - accuracy: 0.1242\n",
      "Epoch 79/100\n",
      "5/5 [==============================] - 2s 409ms/step - loss: 2.6453 - accuracy: 0.1225\n",
      "Epoch 80/100\n",
      "5/5 [==============================] - 2s 405ms/step - loss: 2.6404 - accuracy: 0.1255\n",
      "Epoch 81/100\n",
      "5/5 [==============================] - 2s 410ms/step - loss: 2.6313 - accuracy: 0.1263\n",
      "Epoch 82/100\n",
      "5/5 [==============================] - 2s 411ms/step - loss: 2.6345 - accuracy: 0.1230\n",
      "Epoch 83/100\n",
      "5/5 [==============================] - 2s 412ms/step - loss: 2.6169 - accuracy: 0.1249\n",
      "Epoch 84/100\n",
      "5/5 [==============================] - 2s 403ms/step - loss: 2.6265 - accuracy: 0.1233\n",
      "Epoch 85/100\n",
      "5/5 [==============================] - 2s 409ms/step - loss: 2.6186 - accuracy: 0.1224\n",
      "Epoch 86/100\n",
      "5/5 [==============================] - 2s 401ms/step - loss: 2.6050 - accuracy: 0.1261\n",
      "Epoch 87/100\n",
      "5/5 [==============================] - 2s 403ms/step - loss: 2.5888 - accuracy: 0.1270\n",
      "Epoch 88/100\n",
      "5/5 [==============================] - 2s 401ms/step - loss: 2.6036 - accuracy: 0.1265\n",
      "Epoch 89/100\n",
      "5/5 [==============================] - 2s 408ms/step - loss: 2.5935 - accuracy: 0.1246\n",
      "Epoch 90/100\n",
      "5/5 [==============================] - 2s 405ms/step - loss: 2.5853 - accuracy: 0.1253\n",
      "Epoch 91/100\n",
      "5/5 [==============================] - 2s 408ms/step - loss: 2.5835 - accuracy: 0.1279\n",
      "Epoch 92/100\n",
      "5/5 [==============================] - 2s 402ms/step - loss: 2.5728 - accuracy: 0.1300\n",
      "Epoch 93/100\n",
      "5/5 [==============================] - 2s 408ms/step - loss: 2.5712 - accuracy: 0.1274\n",
      "Epoch 94/100\n",
      "5/5 [==============================] - 2s 405ms/step - loss: 2.5713 - accuracy: 0.1289\n",
      "Epoch 95/100\n",
      "5/5 [==============================] - 2s 411ms/step - loss: 2.5547 - accuracy: 0.1288\n",
      "Epoch 96/100\n",
      "5/5 [==============================] - 2s 407ms/step - loss: 2.5521 - accuracy: 0.1319\n",
      "Epoch 97/100\n",
      "5/5 [==============================] - 2s 408ms/step - loss: 2.5537 - accuracy: 0.1282\n",
      "Epoch 98/100\n",
      "5/5 [==============================] - 2s 401ms/step - loss: 2.5536 - accuracy: 0.1316\n",
      "Epoch 99/100\n",
      "5/5 [==============================] - 2s 406ms/step - loss: 2.5439 - accuracy: 0.1316\n",
      "Epoch 100/100\n",
      "5/5 [==============================] - 2s 393ms/step - loss: 2.5418 - accuracy: 0.1289\n"
     ]
    }
   ],
   "source": [
    "#4. Another set: LR =1e-3,lambda= 1e-4\n",
    "model_lr= build_SVHN_train_classifier(1e-3,100,1e-4,SVHN_X_train_arr,SVHN_y_train)"
   ]
  },
  {
   "cell_type": "code",
   "execution_count": null,
   "metadata": {
    "colab": {
     "base_uri": "https://localhost:8080/"
    },
    "id": "WoUwKjOEKZ9-",
    "outputId": "bc3d9a70-482b-4bb3-e5c0-518c0d45c6d2"
   },
   "outputs": [
    {
     "name": "stdout",
     "output_type": "stream",
     "text": [
      "563/563 [==============================] - 1s 2ms/step - loss: 2.1748 - accuracy: 0.2876\n"
     ]
    },
    {
     "data": {
      "text/plain": [
       "[2.1748228073120117, 0.28761109709739685]"
      ]
     },
     "execution_count": 55,
     "metadata": {
      "tags": []
     },
     "output_type": "execute_result"
    }
   ],
   "source": [
    "model_lr.evaluate(SVHN_Xtest_arr,SVHN_y_test)"
   ]
  },
  {
   "cell_type": "markdown",
   "metadata": {
    "id": "e6zxs5qHPcoU"
   },
   "source": [
    "###### Still not much improvement in accuracy"
   ]
  },
  {
   "cell_type": "code",
   "execution_count": null,
   "metadata": {
    "colab": {
     "base_uri": "https://localhost:8080/"
    },
    "id": "R6iN9GqtKeVS",
    "outputId": "8d976b50-0d1f-4b6a-cf5f-37b70239531c"
   },
   "outputs": [
    {
     "name": "stdout",
     "output_type": "stream",
     "text": [
      "Epoch 1/100\n",
      "5/5 [==============================] - 4s 405ms/step - loss: 3.7340 - accuracy: 0.1010\n",
      "Epoch 2/100\n",
      "5/5 [==============================] - 2s 407ms/step - loss: 3.6059 - accuracy: 0.1027\n",
      "Epoch 3/100\n",
      "5/5 [==============================] - 2s 403ms/step - loss: 3.4345 - accuracy: 0.1026\n",
      "Epoch 4/100\n",
      "5/5 [==============================] - 2s 408ms/step - loss: 3.2613 - accuracy: 0.1057\n",
      "Epoch 5/100\n",
      "5/5 [==============================] - 2s 404ms/step - loss: 3.1000 - accuracy: 0.1055\n",
      "Epoch 6/100\n",
      "5/5 [==============================] - 2s 404ms/step - loss: 2.9641 - accuracy: 0.1081\n",
      "Epoch 7/100\n",
      "5/5 [==============================] - 2s 400ms/step - loss: 2.8408 - accuracy: 0.1130\n",
      "Epoch 8/100\n",
      "5/5 [==============================] - 2s 405ms/step - loss: 2.7427 - accuracy: 0.1139\n",
      "Epoch 9/100\n",
      "5/5 [==============================] - 2s 402ms/step - loss: 2.6623 - accuracy: 0.1157\n",
      "Epoch 10/100\n",
      "5/5 [==============================] - 2s 405ms/step - loss: 2.5999 - accuracy: 0.1151\n",
      "Epoch 11/100\n",
      "5/5 [==============================] - 2s 401ms/step - loss: 2.5355 - accuracy: 0.1187\n",
      "Epoch 12/100\n",
      "5/5 [==============================] - 2s 412ms/step - loss: 2.4929 - accuracy: 0.1211\n",
      "Epoch 13/100\n",
      "5/5 [==============================] - 2s 409ms/step - loss: 2.4696 - accuracy: 0.1198\n",
      "Epoch 14/100\n",
      "5/5 [==============================] - 2s 413ms/step - loss: 2.4236 - accuracy: 0.1269\n",
      "Epoch 15/100\n",
      "5/5 [==============================] - 2s 407ms/step - loss: 2.4013 - accuracy: 0.1276\n",
      "Epoch 16/100\n",
      "5/5 [==============================] - 2s 409ms/step - loss: 2.3831 - accuracy: 0.1294\n",
      "Epoch 17/100\n",
      "5/5 [==============================] - 2s 404ms/step - loss: 2.3540 - accuracy: 0.1351\n",
      "Epoch 18/100\n",
      "5/5 [==============================] - 2s 410ms/step - loss: 2.3398 - accuracy: 0.1374\n",
      "Epoch 19/100\n",
      "5/5 [==============================] - 2s 402ms/step - loss: 2.3280 - accuracy: 0.1355\n",
      "Epoch 20/100\n",
      "5/5 [==============================] - 2s 404ms/step - loss: 2.3154 - accuracy: 0.1392\n",
      "Epoch 21/100\n",
      "5/5 [==============================] - 2s 403ms/step - loss: 2.3021 - accuracy: 0.1485\n",
      "Epoch 22/100\n",
      "5/5 [==============================] - 2s 409ms/step - loss: 2.2991 - accuracy: 0.1443\n",
      "Epoch 23/100\n",
      "5/5 [==============================] - 2s 403ms/step - loss: 2.2819 - accuracy: 0.1524\n",
      "Epoch 24/100\n",
      "5/5 [==============================] - 2s 409ms/step - loss: 2.2734 - accuracy: 0.1548\n",
      "Epoch 25/100\n",
      "5/5 [==============================] - 2s 404ms/step - loss: 2.2643 - accuracy: 0.1555\n",
      "Epoch 26/100\n",
      "5/5 [==============================] - 2s 408ms/step - loss: 2.2583 - accuracy: 0.1638\n",
      "Epoch 27/100\n",
      "5/5 [==============================] - 2s 399ms/step - loss: 2.2533 - accuracy: 0.1627\n",
      "Epoch 28/100\n",
      "5/5 [==============================] - 2s 408ms/step - loss: 2.2439 - accuracy: 0.1667\n",
      "Epoch 29/100\n",
      "5/5 [==============================] - 2s 406ms/step - loss: 2.2404 - accuracy: 0.1696\n",
      "Epoch 30/100\n",
      "5/5 [==============================] - 2s 407ms/step - loss: 2.2283 - accuracy: 0.1757\n",
      "Epoch 31/100\n",
      "5/5 [==============================] - 2s 402ms/step - loss: 2.2244 - accuracy: 0.1761\n",
      "Epoch 32/100\n",
      "5/5 [==============================] - 2s 408ms/step - loss: 2.2191 - accuracy: 0.1788\n",
      "Epoch 33/100\n",
      "5/5 [==============================] - 2s 400ms/step - loss: 2.2074 - accuracy: 0.1852\n",
      "Epoch 34/100\n",
      "5/5 [==============================] - 2s 404ms/step - loss: 2.2017 - accuracy: 0.1867\n",
      "Epoch 35/100\n",
      "5/5 [==============================] - 2s 407ms/step - loss: 2.1969 - accuracy: 0.1908\n",
      "Epoch 36/100\n",
      "5/5 [==============================] - 2s 405ms/step - loss: 2.1881 - accuracy: 0.1935\n",
      "Epoch 37/100\n",
      "5/5 [==============================] - 2s 405ms/step - loss: 2.1797 - accuracy: 0.1963\n",
      "Epoch 38/100\n",
      "5/5 [==============================] - 2s 408ms/step - loss: 2.1723 - accuracy: 0.2009\n",
      "Epoch 39/100\n",
      "5/5 [==============================] - 2s 409ms/step - loss: 2.1664 - accuracy: 0.2015\n",
      "Epoch 40/100\n",
      "5/5 [==============================] - 2s 410ms/step - loss: 2.1560 - accuracy: 0.2053\n",
      "Epoch 41/100\n",
      "5/5 [==============================] - 2s 403ms/step - loss: 2.1507 - accuracy: 0.2097\n",
      "Epoch 42/100\n",
      "5/5 [==============================] - 2s 407ms/step - loss: 2.1439 - accuracy: 0.2119\n",
      "Epoch 43/100\n",
      "5/5 [==============================] - 2s 402ms/step - loss: 2.1303 - accuracy: 0.2166\n",
      "Epoch 44/100\n",
      "5/5 [==============================] - 2s 404ms/step - loss: 2.1295 - accuracy: 0.2168\n",
      "Epoch 45/100\n",
      "5/5 [==============================] - 2s 397ms/step - loss: 2.1210 - accuracy: 0.2231\n",
      "Epoch 46/100\n",
      "5/5 [==============================] - 2s 409ms/step - loss: 2.1136 - accuracy: 0.2234\n",
      "Epoch 47/100\n",
      "5/5 [==============================] - 2s 407ms/step - loss: 2.1040 - accuracy: 0.2306\n",
      "Epoch 48/100\n",
      "5/5 [==============================] - 2s 405ms/step - loss: 2.0952 - accuracy: 0.2332\n",
      "Epoch 49/100\n",
      "5/5 [==============================] - 2s 404ms/step - loss: 2.0941 - accuracy: 0.2311\n",
      "Epoch 50/100\n",
      "5/5 [==============================] - 2s 407ms/step - loss: 2.0839 - accuracy: 0.2363\n",
      "Epoch 51/100\n",
      "5/5 [==============================] - 2s 400ms/step - loss: 2.0779 - accuracy: 0.2411\n",
      "Epoch 52/100\n",
      "5/5 [==============================] - 2s 404ms/step - loss: 2.0684 - accuracy: 0.2431\n",
      "Epoch 53/100\n",
      "5/5 [==============================] - 2s 398ms/step - loss: 2.0605 - accuracy: 0.2452\n",
      "Epoch 54/100\n",
      "5/5 [==============================] - 2s 411ms/step - loss: 2.0514 - accuracy: 0.2493\n",
      "Epoch 55/100\n",
      "5/5 [==============================] - 2s 400ms/step - loss: 2.0482 - accuracy: 0.2511\n",
      "Epoch 56/100\n",
      "5/5 [==============================] - 2s 409ms/step - loss: 2.0362 - accuracy: 0.2562\n",
      "Epoch 57/100\n",
      "5/5 [==============================] - 2s 402ms/step - loss: 2.0298 - accuracy: 0.2604\n",
      "Epoch 58/100\n",
      "5/5 [==============================] - 2s 403ms/step - loss: 2.0194 - accuracy: 0.2640\n",
      "Epoch 59/100\n",
      "5/5 [==============================] - 2s 408ms/step - loss: 2.0138 - accuracy: 0.2627\n",
      "Epoch 60/100\n",
      "5/5 [==============================] - 2s 412ms/step - loss: 2.0141 - accuracy: 0.2642\n",
      "Epoch 61/100\n",
      "5/5 [==============================] - 2s 405ms/step - loss: 2.0017 - accuracy: 0.2671\n",
      "Epoch 62/100\n",
      "5/5 [==============================] - 2s 405ms/step - loss: 1.9983 - accuracy: 0.2692\n",
      "Epoch 63/100\n",
      "5/5 [==============================] - 2s 402ms/step - loss: 1.9840 - accuracy: 0.2777\n",
      "Epoch 64/100\n",
      "5/5 [==============================] - 2s 405ms/step - loss: 1.9819 - accuracy: 0.2749\n",
      "Epoch 65/100\n",
      "5/5 [==============================] - 2s 403ms/step - loss: 1.9774 - accuracy: 0.2790\n",
      "Epoch 66/100\n",
      "5/5 [==============================] - 2s 401ms/step - loss: 1.9628 - accuracy: 0.2843\n",
      "Epoch 67/100\n",
      "5/5 [==============================] - 2s 399ms/step - loss: 1.9541 - accuracy: 0.2841\n",
      "Epoch 68/100\n",
      "5/5 [==============================] - 2s 407ms/step - loss: 1.9525 - accuracy: 0.2875\n",
      "Epoch 69/100\n",
      "5/5 [==============================] - 2s 401ms/step - loss: 1.9455 - accuracy: 0.2866\n",
      "Epoch 70/100\n",
      "5/5 [==============================] - 2s 407ms/step - loss: 1.9393 - accuracy: 0.2959\n",
      "Epoch 71/100\n",
      "5/5 [==============================] - 2s 408ms/step - loss: 1.9289 - accuracy: 0.2955\n",
      "Epoch 72/100\n",
      "5/5 [==============================] - 2s 406ms/step - loss: 1.9257 - accuracy: 0.2991\n",
      "Epoch 73/100\n",
      "5/5 [==============================] - 2s 404ms/step - loss: 1.9209 - accuracy: 0.3012\n",
      "Epoch 74/100\n",
      "5/5 [==============================] - 2s 409ms/step - loss: 1.9120 - accuracy: 0.3059\n",
      "Epoch 75/100\n",
      "5/5 [==============================] - 2s 405ms/step - loss: 1.9063 - accuracy: 0.3054\n",
      "Epoch 76/100\n",
      "5/5 [==============================] - 2s 404ms/step - loss: 1.9000 - accuracy: 0.3056\n",
      "Epoch 77/100\n",
      "5/5 [==============================] - 2s 402ms/step - loss: 1.8928 - accuracy: 0.3122\n",
      "Epoch 78/100\n",
      "5/5 [==============================] - 2s 408ms/step - loss: 1.8895 - accuracy: 0.3150\n",
      "Epoch 79/100\n",
      "5/5 [==============================] - 2s 404ms/step - loss: 1.8846 - accuracy: 0.3171\n",
      "Epoch 80/100\n",
      "5/5 [==============================] - 2s 408ms/step - loss: 1.8768 - accuracy: 0.3220\n",
      "Epoch 81/100\n",
      "5/5 [==============================] - 2s 401ms/step - loss: 1.8739 - accuracy: 0.3244\n",
      "Epoch 82/100\n",
      "5/5 [==============================] - 2s 414ms/step - loss: 1.8641 - accuracy: 0.3205\n",
      "Epoch 83/100\n",
      "5/5 [==============================] - 2s 403ms/step - loss: 1.8539 - accuracy: 0.3303\n",
      "Epoch 84/100\n",
      "5/5 [==============================] - 2s 407ms/step - loss: 1.8528 - accuracy: 0.3276\n",
      "Epoch 85/100\n",
      "5/5 [==============================] - 2s 410ms/step - loss: 1.8481 - accuracy: 0.3300\n",
      "Epoch 86/100\n",
      "5/5 [==============================] - 2s 401ms/step - loss: 1.8469 - accuracy: 0.3315\n",
      "Epoch 87/100\n",
      "5/5 [==============================] - 2s 407ms/step - loss: 1.8403 - accuracy: 0.3338\n",
      "Epoch 88/100\n",
      "5/5 [==============================] - 2s 400ms/step - loss: 1.8359 - accuracy: 0.3356\n",
      "Epoch 89/100\n",
      "5/5 [==============================] - 2s 405ms/step - loss: 1.8326 - accuracy: 0.3366\n",
      "Epoch 90/100\n",
      "5/5 [==============================] - 2s 401ms/step - loss: 1.8231 - accuracy: 0.3417\n",
      "Epoch 91/100\n",
      "5/5 [==============================] - 2s 407ms/step - loss: 1.8187 - accuracy: 0.3396\n",
      "Epoch 92/100\n",
      "5/5 [==============================] - 2s 404ms/step - loss: 1.8218 - accuracy: 0.3450\n",
      "Epoch 93/100\n",
      "5/5 [==============================] - 2s 403ms/step - loss: 1.8050 - accuracy: 0.3468\n",
      "Epoch 94/100\n",
      "5/5 [==============================] - 2s 402ms/step - loss: 1.8056 - accuracy: 0.3523\n",
      "Epoch 95/100\n",
      "5/5 [==============================] - 2s 414ms/step - loss: 1.7973 - accuracy: 0.3542\n",
      "Epoch 96/100\n",
      "5/5 [==============================] - 2s 412ms/step - loss: 1.7882 - accuracy: 0.3561\n",
      "Epoch 97/100\n",
      "5/5 [==============================] - 2s 411ms/step - loss: 1.7897 - accuracy: 0.3499\n",
      "Epoch 98/100\n",
      "5/5 [==============================] - 2s 402ms/step - loss: 1.7804 - accuracy: 0.3530\n",
      "Epoch 99/100\n",
      "5/5 [==============================] - 2s 404ms/step - loss: 1.7837 - accuracy: 0.3574\n",
      "Epoch 100/100\n",
      "5/5 [==============================] - 2s 395ms/step - loss: 1.7781 - accuracy: 0.3591\n"
     ]
    }
   ],
   "source": [
    "#5. LR =1e-2,lambda= 1e-3\n",
    "model_lr= build_SVHN_train_classifier(1e-2,100,1e-3,SVHN_X_train_arr,SVHN_y_train)"
   ]
  },
  {
   "cell_type": "code",
   "execution_count": null,
   "metadata": {
    "colab": {
     "base_uri": "https://localhost:8080/"
    },
    "id": "bV-uP1bwLZBe",
    "outputId": "1ee045ac-8cc7-45d9-a216-0fcca9c7ff4d"
   },
   "outputs": [
    {
     "name": "stdout",
     "output_type": "stream",
     "text": [
      "563/563 [==============================] - 1s 2ms/step - loss: 1.4787 - accuracy: 0.5684\n"
     ]
    },
    {
     "data": {
      "text/plain": [
       "[1.4786970615386963, 0.5683888792991638]"
      ]
     },
     "execution_count": 57,
     "metadata": {
      "tags": []
     },
     "output_type": "execute_result"
    }
   ],
   "source": [
    "model_lr.evaluate(SVHN_Xtest_arr,SVHN_y_test)"
   ]
  },
  {
   "cell_type": "markdown",
   "metadata": {
    "id": "B8JGw-LUPm1q"
   },
   "source": [
    "##### Better performance. We can increase the epcohs to enhance it further."
   ]
  },
  {
   "cell_type": "code",
   "execution_count": null,
   "metadata": {
    "colab": {
     "base_uri": "https://localhost:8080/"
    },
    "id": "kmnVTBbhLd4l",
    "outputId": "5fc0e13e-5939-42db-b5d5-dbb4c7579899"
   },
   "outputs": [
    {
     "name": "stdout",
     "output_type": "stream",
     "text": [
      "Epoch 1/300\n",
      "5/5 [==============================] - 3s 404ms/step - loss: 3.7194 - accuracy: 0.0971\n",
      "Epoch 2/300\n",
      "5/5 [==============================] - 2s 411ms/step - loss: 3.5735 - accuracy: 0.1019\n",
      "Epoch 3/300\n",
      "5/5 [==============================] - 2s 407ms/step - loss: 3.4196 - accuracy: 0.1020\n",
      "Epoch 4/300\n",
      "5/5 [==============================] - 2s 401ms/step - loss: 3.2355 - accuracy: 0.1050\n",
      "Epoch 5/300\n",
      "5/5 [==============================] - 2s 409ms/step - loss: 3.0656 - accuracy: 0.1075\n",
      "Epoch 6/300\n",
      "5/5 [==============================] - 2s 403ms/step - loss: 2.9372 - accuracy: 0.1092\n",
      "Epoch 7/300\n",
      "5/5 [==============================] - 2s 408ms/step - loss: 2.8192 - accuracy: 0.1117\n",
      "Epoch 8/300\n",
      "5/5 [==============================] - 2s 406ms/step - loss: 2.7316 - accuracy: 0.1115\n",
      "Epoch 9/300\n",
      "5/5 [==============================] - 2s 406ms/step - loss: 2.6567 - accuracy: 0.1136\n",
      "Epoch 10/300\n",
      "5/5 [==============================] - 2s 407ms/step - loss: 2.5914 - accuracy: 0.1161\n",
      "Epoch 11/300\n",
      "5/5 [==============================] - 2s 406ms/step - loss: 2.5446 - accuracy: 0.1189\n",
      "Epoch 12/300\n",
      "5/5 [==============================] - 2s 402ms/step - loss: 2.5037 - accuracy: 0.1211\n",
      "Epoch 13/300\n",
      "5/5 [==============================] - 2s 408ms/step - loss: 2.4734 - accuracy: 0.1172\n",
      "Epoch 14/300\n",
      "5/5 [==============================] - 2s 401ms/step - loss: 2.4339 - accuracy: 0.1219\n",
      "Epoch 15/300\n",
      "5/5 [==============================] - 2s 413ms/step - loss: 2.4118 - accuracy: 0.1250\n",
      "Epoch 16/300\n",
      "5/5 [==============================] - 2s 405ms/step - loss: 2.3920 - accuracy: 0.1261\n",
      "Epoch 17/300\n",
      "5/5 [==============================] - 2s 407ms/step - loss: 2.3694 - accuracy: 0.1315\n",
      "Epoch 18/300\n",
      "5/5 [==============================] - 2s 407ms/step - loss: 2.3527 - accuracy: 0.1308\n",
      "Epoch 19/300\n",
      "5/5 [==============================] - 2s 408ms/step - loss: 2.3411 - accuracy: 0.1332\n",
      "Epoch 20/300\n",
      "5/5 [==============================] - 2s 409ms/step - loss: 2.3323 - accuracy: 0.1315\n",
      "Epoch 21/300\n",
      "5/5 [==============================] - 2s 403ms/step - loss: 2.3146 - accuracy: 0.1387\n",
      "Epoch 22/300\n",
      "5/5 [==============================] - 2s 400ms/step - loss: 2.3087 - accuracy: 0.1354\n",
      "Epoch 23/300\n",
      "5/5 [==============================] - 2s 445ms/step - loss: 2.3020 - accuracy: 0.1385\n",
      "Epoch 24/300\n",
      "5/5 [==============================] - 2s 406ms/step - loss: 2.2845 - accuracy: 0.1487\n",
      "Epoch 25/300\n",
      "5/5 [==============================] - 2s 424ms/step - loss: 2.2797 - accuracy: 0.1508\n",
      "Epoch 26/300\n",
      "5/5 [==============================] - 2s 404ms/step - loss: 2.2761 - accuracy: 0.1515\n",
      "Epoch 27/300\n",
      "5/5 [==============================] - 2s 408ms/step - loss: 2.2688 - accuracy: 0.1532\n",
      "Epoch 28/300\n",
      "5/5 [==============================] - 2s 402ms/step - loss: 2.2612 - accuracy: 0.1582\n",
      "Epoch 29/300\n",
      "5/5 [==============================] - 2s 409ms/step - loss: 2.2558 - accuracy: 0.1586\n",
      "Epoch 30/300\n",
      "5/5 [==============================] - 2s 400ms/step - loss: 2.2478 - accuracy: 0.1662\n",
      "Epoch 31/300\n",
      "5/5 [==============================] - 2s 403ms/step - loss: 2.2432 - accuracy: 0.1659\n",
      "Epoch 32/300\n",
      "5/5 [==============================] - 2s 402ms/step - loss: 2.2355 - accuracy: 0.1711\n",
      "Epoch 33/300\n",
      "5/5 [==============================] - 2s 409ms/step - loss: 2.2355 - accuracy: 0.1722\n",
      "Epoch 34/300\n",
      "5/5 [==============================] - 2s 410ms/step - loss: 2.2248 - accuracy: 0.1782\n",
      "Epoch 35/300\n",
      "5/5 [==============================] - 2s 407ms/step - loss: 2.2178 - accuracy: 0.1800\n",
      "Epoch 36/300\n",
      "5/5 [==============================] - 2s 406ms/step - loss: 2.2121 - accuracy: 0.1816\n",
      "Epoch 37/300\n",
      "5/5 [==============================] - 2s 408ms/step - loss: 2.2054 - accuracy: 0.1835\n",
      "Epoch 38/300\n",
      "5/5 [==============================] - 2s 399ms/step - loss: 2.2000 - accuracy: 0.1879\n",
      "Epoch 39/300\n",
      "5/5 [==============================] - 2s 404ms/step - loss: 2.1950 - accuracy: 0.1890\n",
      "Epoch 40/300\n",
      "5/5 [==============================] - 2s 399ms/step - loss: 2.1870 - accuracy: 0.1969\n",
      "Epoch 41/300\n",
      "5/5 [==============================] - 2s 405ms/step - loss: 2.1856 - accuracy: 0.1966\n",
      "Epoch 42/300\n",
      "5/5 [==============================] - 2s 398ms/step - loss: 2.1740 - accuracy: 0.1991\n",
      "Epoch 43/300\n",
      "5/5 [==============================] - 2s 405ms/step - loss: 2.1691 - accuracy: 0.2008\n",
      "Epoch 44/300\n",
      "5/5 [==============================] - 2s 404ms/step - loss: 2.1612 - accuracy: 0.2049\n",
      "Epoch 45/300\n",
      "5/5 [==============================] - 2s 404ms/step - loss: 2.1540 - accuracy: 0.2090\n",
      "Epoch 46/300\n",
      "5/5 [==============================] - 2s 400ms/step - loss: 2.1468 - accuracy: 0.2105\n",
      "Epoch 47/300\n",
      "5/5 [==============================] - 2s 408ms/step - loss: 2.1406 - accuracy: 0.2120\n",
      "Epoch 48/300\n",
      "5/5 [==============================] - 2s 407ms/step - loss: 2.1308 - accuracy: 0.2160\n",
      "Epoch 49/300\n",
      "5/5 [==============================] - 2s 412ms/step - loss: 2.1223 - accuracy: 0.2208\n",
      "Epoch 50/300\n",
      "5/5 [==============================] - 2s 403ms/step - loss: 2.1169 - accuracy: 0.2284\n",
      "Epoch 51/300\n",
      "5/5 [==============================] - 2s 404ms/step - loss: 2.1071 - accuracy: 0.2244\n",
      "Epoch 52/300\n",
      "5/5 [==============================] - 2s 406ms/step - loss: 2.1027 - accuracy: 0.2264\n",
      "Epoch 53/300\n",
      "5/5 [==============================] - 2s 406ms/step - loss: 2.0925 - accuracy: 0.2331\n",
      "Epoch 54/300\n",
      "5/5 [==============================] - 2s 404ms/step - loss: 2.0850 - accuracy: 0.2350\n",
      "Epoch 55/300\n",
      "5/5 [==============================] - 2s 407ms/step - loss: 2.0817 - accuracy: 0.2335\n",
      "Epoch 56/300\n",
      "5/5 [==============================] - 2s 405ms/step - loss: 2.0738 - accuracy: 0.2394\n",
      "Epoch 57/300\n",
      "5/5 [==============================] - 2s 407ms/step - loss: 2.0620 - accuracy: 0.2405\n",
      "Epoch 58/300\n",
      "5/5 [==============================] - 2s 407ms/step - loss: 2.0552 - accuracy: 0.2452\n",
      "Epoch 59/300\n",
      "5/5 [==============================] - 2s 409ms/step - loss: 2.0453 - accuracy: 0.2494\n",
      "Epoch 60/300\n",
      "5/5 [==============================] - 2s 402ms/step - loss: 2.0397 - accuracy: 0.2521\n",
      "Epoch 61/300\n",
      "5/5 [==============================] - 2s 412ms/step - loss: 2.0315 - accuracy: 0.2564\n",
      "Epoch 62/300\n",
      "5/5 [==============================] - 2s 403ms/step - loss: 2.0288 - accuracy: 0.2554\n",
      "Epoch 63/300\n",
      "5/5 [==============================] - 2s 402ms/step - loss: 2.0172 - accuracy: 0.2591\n",
      "Epoch 64/300\n",
      "5/5 [==============================] - 2s 401ms/step - loss: 2.0096 - accuracy: 0.2655\n",
      "Epoch 65/300\n",
      "5/5 [==============================] - 2s 410ms/step - loss: 2.0046 - accuracy: 0.2615\n",
      "Epoch 66/300\n",
      "5/5 [==============================] - 2s 409ms/step - loss: 1.9973 - accuracy: 0.2694\n",
      "Epoch 67/300\n",
      "5/5 [==============================] - 2s 403ms/step - loss: 1.9946 - accuracy: 0.2683\n",
      "Epoch 68/300\n",
      "5/5 [==============================] - 2s 412ms/step - loss: 1.9845 - accuracy: 0.2717\n",
      "Epoch 69/300\n",
      "5/5 [==============================] - 2s 405ms/step - loss: 1.9744 - accuracy: 0.2755\n",
      "Epoch 70/300\n",
      "5/5 [==============================] - 2s 411ms/step - loss: 1.9784 - accuracy: 0.2772\n",
      "Epoch 71/300\n",
      "5/5 [==============================] - 2s 400ms/step - loss: 1.9643 - accuracy: 0.2778\n",
      "Epoch 72/300\n",
      "5/5 [==============================] - 2s 412ms/step - loss: 1.9596 - accuracy: 0.2807\n",
      "Epoch 73/300\n",
      "5/5 [==============================] - 2s 407ms/step - loss: 1.9571 - accuracy: 0.2851\n",
      "Epoch 74/300\n",
      "5/5 [==============================] - 2s 405ms/step - loss: 1.9511 - accuracy: 0.2848\n",
      "Epoch 75/300\n",
      "5/5 [==============================] - 2s 405ms/step - loss: 1.9445 - accuracy: 0.2878\n",
      "Epoch 76/300\n",
      "5/5 [==============================] - 2s 410ms/step - loss: 1.9351 - accuracy: 0.2918\n",
      "Epoch 77/300\n",
      "5/5 [==============================] - 2s 402ms/step - loss: 1.9260 - accuracy: 0.2965\n",
      "Epoch 78/300\n",
      "5/5 [==============================] - 2s 411ms/step - loss: 1.9221 - accuracy: 0.2952\n",
      "Epoch 79/300\n",
      "5/5 [==============================] - 2s 406ms/step - loss: 1.9216 - accuracy: 0.2946\n",
      "Epoch 80/300\n",
      "5/5 [==============================] - 2s 408ms/step - loss: 1.9074 - accuracy: 0.3027\n",
      "Epoch 81/300\n",
      "5/5 [==============================] - 2s 405ms/step - loss: 1.9016 - accuracy: 0.3044\n",
      "Epoch 82/300\n",
      "5/5 [==============================] - 2s 404ms/step - loss: 1.8991 - accuracy: 0.3064\n",
      "Epoch 83/300\n",
      "5/5 [==============================] - 2s 413ms/step - loss: 1.9001 - accuracy: 0.3057\n",
      "Epoch 84/300\n",
      "5/5 [==============================] - 2s 407ms/step - loss: 1.8900 - accuracy: 0.3041\n",
      "Epoch 85/300\n",
      "5/5 [==============================] - 2s 398ms/step - loss: 1.8812 - accuracy: 0.3143\n",
      "Epoch 86/300\n",
      "5/5 [==============================] - 2s 408ms/step - loss: 1.8779 - accuracy: 0.3148\n",
      "Epoch 87/300\n",
      "5/5 [==============================] - 2s 401ms/step - loss: 1.8707 - accuracy: 0.3142\n",
      "Epoch 88/300\n",
      "5/5 [==============================] - 2s 415ms/step - loss: 1.8702 - accuracy: 0.3181\n",
      "Epoch 89/300\n",
      "5/5 [==============================] - 2s 407ms/step - loss: 1.8605 - accuracy: 0.3197\n",
      "Epoch 90/300\n",
      "5/5 [==============================] - 2s 409ms/step - loss: 1.8641 - accuracy: 0.3184\n",
      "Epoch 91/300\n",
      "5/5 [==============================] - 2s 402ms/step - loss: 1.8588 - accuracy: 0.3237\n",
      "Epoch 92/300\n",
      "5/5 [==============================] - 2s 405ms/step - loss: 1.8515 - accuracy: 0.3242\n",
      "Epoch 93/300\n",
      "5/5 [==============================] - 2s 403ms/step - loss: 1.8489 - accuracy: 0.3239\n",
      "Epoch 94/300\n",
      "5/5 [==============================] - 2s 406ms/step - loss: 1.8417 - accuracy: 0.3277\n",
      "Epoch 95/300\n",
      "5/5 [==============================] - 2s 401ms/step - loss: 1.8404 - accuracy: 0.3299\n",
      "Epoch 96/300\n",
      "5/5 [==============================] - 2s 408ms/step - loss: 1.8328 - accuracy: 0.3294\n",
      "Epoch 97/300\n",
      "5/5 [==============================] - 2s 404ms/step - loss: 1.8254 - accuracy: 0.3308\n",
      "Epoch 98/300\n",
      "5/5 [==============================] - 2s 401ms/step - loss: 1.8156 - accuracy: 0.3411\n",
      "Epoch 99/300\n",
      "5/5 [==============================] - 2s 400ms/step - loss: 1.8260 - accuracy: 0.3332\n",
      "Epoch 100/300\n",
      "5/5 [==============================] - 2s 406ms/step - loss: 1.8189 - accuracy: 0.3349\n",
      "Epoch 101/300\n",
      "5/5 [==============================] - 2s 403ms/step - loss: 1.8071 - accuracy: 0.3397\n",
      "Epoch 102/300\n",
      "5/5 [==============================] - 2s 405ms/step - loss: 1.8053 - accuracy: 0.3444\n",
      "Epoch 103/300\n",
      "5/5 [==============================] - 2s 405ms/step - loss: 1.8001 - accuracy: 0.3415\n",
      "Epoch 104/300\n",
      "5/5 [==============================] - 2s 412ms/step - loss: 1.7996 - accuracy: 0.3428\n",
      "Epoch 105/300\n",
      "5/5 [==============================] - 2s 404ms/step - loss: 1.7893 - accuracy: 0.3490\n",
      "Epoch 106/300\n",
      "5/5 [==============================] - 2s 406ms/step - loss: 1.7925 - accuracy: 0.3451\n",
      "Epoch 107/300\n",
      "5/5 [==============================] - 2s 403ms/step - loss: 1.7846 - accuracy: 0.3495\n",
      "Epoch 108/300\n",
      "5/5 [==============================] - 2s 401ms/step - loss: 1.7764 - accuracy: 0.3534\n",
      "Epoch 109/300\n",
      "5/5 [==============================] - 2s 410ms/step - loss: 1.7743 - accuracy: 0.3554\n",
      "Epoch 110/300\n",
      "5/5 [==============================] - 2s 404ms/step - loss: 1.7702 - accuracy: 0.3548\n",
      "Epoch 111/300\n",
      "5/5 [==============================] - 2s 402ms/step - loss: 1.7720 - accuracy: 0.3558\n",
      "Epoch 112/300\n",
      "5/5 [==============================] - 2s 406ms/step - loss: 1.7659 - accuracy: 0.3571\n",
      "Epoch 113/300\n",
      "5/5 [==============================] - 2s 405ms/step - loss: 1.7620 - accuracy: 0.3554\n",
      "Epoch 114/300\n",
      "5/5 [==============================] - 2s 414ms/step - loss: 1.7509 - accuracy: 0.3598\n",
      "Epoch 115/300\n",
      "5/5 [==============================] - 2s 402ms/step - loss: 1.7555 - accuracy: 0.3620\n",
      "Epoch 116/300\n",
      "5/5 [==============================] - 2s 408ms/step - loss: 1.7435 - accuracy: 0.3675\n",
      "Epoch 117/300\n",
      "5/5 [==============================] - 2s 410ms/step - loss: 1.7441 - accuracy: 0.3636\n",
      "Epoch 118/300\n",
      "5/5 [==============================] - 2s 413ms/step - loss: 1.7428 - accuracy: 0.3683\n",
      "Epoch 119/300\n",
      "5/5 [==============================] - 2s 406ms/step - loss: 1.7318 - accuracy: 0.3684\n",
      "Epoch 120/300\n",
      "5/5 [==============================] - 2s 405ms/step - loss: 1.7310 - accuracy: 0.3708\n",
      "Epoch 121/300\n",
      "5/5 [==============================] - 2s 404ms/step - loss: 1.7220 - accuracy: 0.3742\n",
      "Epoch 122/300\n",
      "5/5 [==============================] - 2s 402ms/step - loss: 1.7238 - accuracy: 0.3750\n",
      "Epoch 123/300\n",
      "5/5 [==============================] - 2s 408ms/step - loss: 1.7205 - accuracy: 0.3710\n",
      "Epoch 124/300\n",
      "5/5 [==============================] - 2s 409ms/step - loss: 1.7180 - accuracy: 0.3782\n",
      "Epoch 125/300\n",
      "5/5 [==============================] - 2s 410ms/step - loss: 1.7094 - accuracy: 0.3811\n",
      "Epoch 126/300\n",
      "5/5 [==============================] - 2s 407ms/step - loss: 1.7067 - accuracy: 0.3830\n",
      "Epoch 127/300\n",
      "5/5 [==============================] - 2s 407ms/step - loss: 1.6993 - accuracy: 0.3854\n",
      "Epoch 128/300\n",
      "5/5 [==============================] - 2s 407ms/step - loss: 1.7082 - accuracy: 0.3835\n",
      "Epoch 129/300\n",
      "5/5 [==============================] - 2s 409ms/step - loss: 1.6962 - accuracy: 0.3858\n",
      "Epoch 130/300\n",
      "5/5 [==============================] - 2s 407ms/step - loss: 1.6901 - accuracy: 0.3897\n",
      "Epoch 131/300\n",
      "5/5 [==============================] - 2s 401ms/step - loss: 1.6847 - accuracy: 0.3910\n",
      "Epoch 132/300\n",
      "5/5 [==============================] - 2s 413ms/step - loss: 1.6898 - accuracy: 0.3907\n",
      "Epoch 133/300\n",
      "5/5 [==============================] - 2s 406ms/step - loss: 1.6801 - accuracy: 0.3906\n",
      "Epoch 134/300\n",
      "5/5 [==============================] - 2s 411ms/step - loss: 1.6785 - accuracy: 0.3967\n",
      "Epoch 135/300\n",
      "5/5 [==============================] - 2s 407ms/step - loss: 1.6739 - accuracy: 0.3917\n",
      "Epoch 136/300\n",
      "5/5 [==============================] - 2s 405ms/step - loss: 1.6689 - accuracy: 0.3988\n",
      "Epoch 137/300\n",
      "5/5 [==============================] - 2s 409ms/step - loss: 1.6702 - accuracy: 0.3935\n",
      "Epoch 138/300\n",
      "5/5 [==============================] - 2s 406ms/step - loss: 1.6639 - accuracy: 0.4036\n",
      "Epoch 139/300\n",
      "5/5 [==============================] - 2s 402ms/step - loss: 1.6571 - accuracy: 0.4005\n",
      "Epoch 140/300\n",
      "5/5 [==============================] - 2s 409ms/step - loss: 1.6491 - accuracy: 0.4072\n",
      "Epoch 141/300\n",
      "5/5 [==============================] - 2s 403ms/step - loss: 1.6588 - accuracy: 0.4050\n",
      "Epoch 142/300\n",
      "5/5 [==============================] - 2s 409ms/step - loss: 1.6433 - accuracy: 0.4065\n",
      "Epoch 143/300\n",
      "5/5 [==============================] - 2s 406ms/step - loss: 1.6514 - accuracy: 0.4090\n",
      "Epoch 144/300\n",
      "5/5 [==============================] - 2s 409ms/step - loss: 1.6371 - accuracy: 0.4088\n",
      "Epoch 145/300\n",
      "5/5 [==============================] - 2s 409ms/step - loss: 1.6380 - accuracy: 0.4130\n",
      "Epoch 146/300\n",
      "5/5 [==============================] - 2s 412ms/step - loss: 1.6307 - accuracy: 0.4149\n",
      "Epoch 147/300\n",
      "5/5 [==============================] - 2s 407ms/step - loss: 1.6251 - accuracy: 0.4150\n",
      "Epoch 148/300\n",
      "5/5 [==============================] - 2s 411ms/step - loss: 1.6336 - accuracy: 0.4103\n",
      "Epoch 149/300\n",
      "5/5 [==============================] - 2s 405ms/step - loss: 1.6270 - accuracy: 0.4144\n",
      "Epoch 150/300\n",
      "5/5 [==============================] - 2s 407ms/step - loss: 1.6138 - accuracy: 0.4189\n",
      "Epoch 151/300\n",
      "5/5 [==============================] - 2s 404ms/step - loss: 1.6168 - accuracy: 0.4210\n",
      "Epoch 152/300\n",
      "5/5 [==============================] - 2s 408ms/step - loss: 1.6179 - accuracy: 0.4210\n",
      "Epoch 153/300\n",
      "5/5 [==============================] - 2s 405ms/step - loss: 1.6052 - accuracy: 0.4250\n",
      "Epoch 154/300\n",
      "5/5 [==============================] - 2s 408ms/step - loss: 1.6077 - accuracy: 0.4216\n",
      "Epoch 155/300\n",
      "5/5 [==============================] - 2s 406ms/step - loss: 1.6076 - accuracy: 0.4261\n",
      "Epoch 156/300\n",
      "5/5 [==============================] - 2s 412ms/step - loss: 1.6008 - accuracy: 0.4256\n",
      "Epoch 157/300\n",
      "5/5 [==============================] - 2s 407ms/step - loss: 1.5935 - accuracy: 0.4287\n",
      "Epoch 158/300\n",
      "5/5 [==============================] - 2s 411ms/step - loss: 1.5839 - accuracy: 0.4345\n",
      "Epoch 159/300\n",
      "5/5 [==============================] - 2s 403ms/step - loss: 1.5848 - accuracy: 0.4339\n",
      "Epoch 160/300\n",
      "5/5 [==============================] - 2s 406ms/step - loss: 1.5777 - accuracy: 0.4397\n",
      "Epoch 161/300\n",
      "5/5 [==============================] - 2s 403ms/step - loss: 1.5723 - accuracy: 0.4357\n",
      "Epoch 162/300\n",
      "5/5 [==============================] - 2s 405ms/step - loss: 1.5746 - accuracy: 0.4393\n",
      "Epoch 163/300\n",
      "5/5 [==============================] - 2s 403ms/step - loss: 1.5777 - accuracy: 0.4393\n",
      "Epoch 164/300\n",
      "5/5 [==============================] - 2s 408ms/step - loss: 1.5656 - accuracy: 0.4374\n",
      "Epoch 165/300\n",
      "5/5 [==============================] - 2s 411ms/step - loss: 1.5676 - accuracy: 0.4429\n",
      "Epoch 166/300\n",
      "5/5 [==============================] - 2s 409ms/step - loss: 1.5670 - accuracy: 0.4411\n",
      "Epoch 167/300\n",
      "5/5 [==============================] - 2s 404ms/step - loss: 1.5583 - accuracy: 0.4457\n",
      "Epoch 168/300\n",
      "5/5 [==============================] - 2s 409ms/step - loss: 1.5590 - accuracy: 0.4446\n",
      "Epoch 169/300\n",
      "5/5 [==============================] - 2s 404ms/step - loss: 1.5502 - accuracy: 0.4456\n",
      "Epoch 170/300\n",
      "5/5 [==============================] - 2s 416ms/step - loss: 1.5513 - accuracy: 0.4493\n",
      "Epoch 171/300\n",
      "5/5 [==============================] - 2s 404ms/step - loss: 1.5440 - accuracy: 0.4487\n",
      "Epoch 172/300\n",
      "5/5 [==============================] - 2s 404ms/step - loss: 1.5468 - accuracy: 0.4509\n",
      "Epoch 173/300\n",
      "5/5 [==============================] - 2s 404ms/step - loss: 1.5436 - accuracy: 0.4518\n",
      "Epoch 174/300\n",
      "5/5 [==============================] - 2s 409ms/step - loss: 1.5344 - accuracy: 0.4563\n",
      "Epoch 175/300\n",
      "5/5 [==============================] - 2s 406ms/step - loss: 1.5363 - accuracy: 0.4533\n",
      "Epoch 176/300\n",
      "5/5 [==============================] - 2s 410ms/step - loss: 1.5341 - accuracy: 0.4573\n",
      "Epoch 177/300\n",
      "5/5 [==============================] - 2s 401ms/step - loss: 1.5382 - accuracy: 0.4570\n",
      "Epoch 178/300\n",
      "5/5 [==============================] - 2s 407ms/step - loss: 1.5284 - accuracy: 0.4552\n",
      "Epoch 179/300\n",
      "5/5 [==============================] - 2s 406ms/step - loss: 1.5274 - accuracy: 0.4575\n",
      "Epoch 180/300\n",
      "5/5 [==============================] - 2s 408ms/step - loss: 1.5369 - accuracy: 0.4550\n",
      "Epoch 181/300\n",
      "5/5 [==============================] - 2s 403ms/step - loss: 1.5204 - accuracy: 0.4625\n",
      "Epoch 182/300\n",
      "5/5 [==============================] - 2s 407ms/step - loss: 1.5160 - accuracy: 0.4602\n",
      "Epoch 183/300\n",
      "5/5 [==============================] - 2s 403ms/step - loss: 1.5102 - accuracy: 0.4660\n",
      "Epoch 184/300\n",
      "5/5 [==============================] - 2s 408ms/step - loss: 1.5007 - accuracy: 0.4659\n",
      "Epoch 185/300\n",
      "5/5 [==============================] - 2s 400ms/step - loss: 1.5013 - accuracy: 0.4723\n",
      "Epoch 186/300\n",
      "5/5 [==============================] - 2s 407ms/step - loss: 1.5017 - accuracy: 0.4682\n",
      "Epoch 187/300\n",
      "5/5 [==============================] - 2s 403ms/step - loss: 1.5063 - accuracy: 0.4678\n",
      "Epoch 188/300\n",
      "5/5 [==============================] - 2s 415ms/step - loss: 1.4990 - accuracy: 0.4710\n",
      "Epoch 189/300\n",
      "5/5 [==============================] - 2s 410ms/step - loss: 1.5021 - accuracy: 0.4705\n",
      "Epoch 190/300\n",
      "5/5 [==============================] - 2s 404ms/step - loss: 1.4941 - accuracy: 0.4714\n",
      "Epoch 191/300\n",
      "5/5 [==============================] - 2s 407ms/step - loss: 1.4922 - accuracy: 0.4749\n",
      "Epoch 192/300\n",
      "5/5 [==============================] - 2s 401ms/step - loss: 1.4873 - accuracy: 0.4724\n",
      "Epoch 193/300\n",
      "5/5 [==============================] - 2s 409ms/step - loss: 1.4945 - accuracy: 0.4715\n",
      "Epoch 194/300\n",
      "5/5 [==============================] - 2s 404ms/step - loss: 1.4865 - accuracy: 0.4754\n",
      "Epoch 195/300\n",
      "5/5 [==============================] - 2s 404ms/step - loss: 1.4801 - accuracy: 0.4791\n",
      "Epoch 196/300\n",
      "5/5 [==============================] - 2s 397ms/step - loss: 1.4751 - accuracy: 0.4811\n",
      "Epoch 197/300\n",
      "5/5 [==============================] - 2s 402ms/step - loss: 1.4735 - accuracy: 0.4825\n",
      "Epoch 198/300\n",
      "5/5 [==============================] - 2s 404ms/step - loss: 1.4636 - accuracy: 0.4858\n",
      "Epoch 199/300\n",
      "5/5 [==============================] - 2s 403ms/step - loss: 1.4706 - accuracy: 0.4796\n",
      "Epoch 200/300\n",
      "5/5 [==============================] - 2s 403ms/step - loss: 1.4678 - accuracy: 0.4818\n",
      "Epoch 201/300\n",
      "5/5 [==============================] - 2s 402ms/step - loss: 1.4684 - accuracy: 0.4816\n",
      "Epoch 202/300\n",
      "5/5 [==============================] - 2s 404ms/step - loss: 1.4591 - accuracy: 0.4865\n",
      "Epoch 203/300\n",
      "5/5 [==============================] - 2s 406ms/step - loss: 1.4629 - accuracy: 0.4905\n",
      "Epoch 204/300\n",
      "5/5 [==============================] - 2s 403ms/step - loss: 1.4578 - accuracy: 0.4854\n",
      "Epoch 205/300\n",
      "5/5 [==============================] - 2s 408ms/step - loss: 1.4566 - accuracy: 0.4879\n",
      "Epoch 206/300\n",
      "5/5 [==============================] - 2s 402ms/step - loss: 1.4495 - accuracy: 0.4913\n",
      "Epoch 207/300\n",
      "5/5 [==============================] - 2s 410ms/step - loss: 1.4490 - accuracy: 0.4927\n",
      "Epoch 208/300\n",
      "5/5 [==============================] - 2s 401ms/step - loss: 1.4436 - accuracy: 0.4953\n",
      "Epoch 209/300\n",
      "5/5 [==============================] - 2s 401ms/step - loss: 1.4428 - accuracy: 0.4908\n",
      "Epoch 210/300\n",
      "5/5 [==============================] - 2s 400ms/step - loss: 1.4375 - accuracy: 0.4952\n",
      "Epoch 211/300\n",
      "5/5 [==============================] - 2s 405ms/step - loss: 1.4388 - accuracy: 0.4952\n",
      "Epoch 212/300\n",
      "5/5 [==============================] - 2s 401ms/step - loss: 1.4322 - accuracy: 0.4991\n",
      "Epoch 213/300\n",
      "5/5 [==============================] - 2s 401ms/step - loss: 1.4394 - accuracy: 0.4940\n",
      "Epoch 214/300\n",
      "5/5 [==============================] - 2s 404ms/step - loss: 1.4282 - accuracy: 0.4972\n",
      "Epoch 215/300\n",
      "5/5 [==============================] - 2s 407ms/step - loss: 1.4313 - accuracy: 0.5001\n",
      "Epoch 216/300\n",
      "5/5 [==============================] - 2s 401ms/step - loss: 1.4178 - accuracy: 0.5029\n",
      "Epoch 217/300\n",
      "5/5 [==============================] - 2s 407ms/step - loss: 1.4271 - accuracy: 0.4996\n",
      "Epoch 218/300\n",
      "5/5 [==============================] - 2s 410ms/step - loss: 1.4253 - accuracy: 0.5040\n",
      "Epoch 219/300\n",
      "5/5 [==============================] - 2s 406ms/step - loss: 1.4125 - accuracy: 0.5041\n",
      "Epoch 220/300\n",
      "5/5 [==============================] - 2s 400ms/step - loss: 1.4177 - accuracy: 0.5058\n",
      "Epoch 221/300\n",
      "5/5 [==============================] - 2s 408ms/step - loss: 1.4183 - accuracy: 0.5041\n",
      "Epoch 222/300\n",
      "5/5 [==============================] - 2s 402ms/step - loss: 1.4104 - accuracy: 0.5111\n",
      "Epoch 223/300\n",
      "5/5 [==============================] - 2s 407ms/step - loss: 1.4053 - accuracy: 0.5100\n",
      "Epoch 224/300\n",
      "5/5 [==============================] - 2s 407ms/step - loss: 1.4097 - accuracy: 0.5088\n",
      "Epoch 225/300\n",
      "5/5 [==============================] - 2s 408ms/step - loss: 1.4061 - accuracy: 0.5096\n",
      "Epoch 226/300\n",
      "5/5 [==============================] - 2s 405ms/step - loss: 1.4034 - accuracy: 0.5137\n",
      "Epoch 227/300\n",
      "5/5 [==============================] - 2s 409ms/step - loss: 1.4036 - accuracy: 0.5091\n",
      "Epoch 228/300\n",
      "5/5 [==============================] - 2s 403ms/step - loss: 1.4061 - accuracy: 0.5078\n",
      "Epoch 229/300\n",
      "5/5 [==============================] - 2s 402ms/step - loss: 1.3995 - accuracy: 0.5168\n",
      "Epoch 230/300\n",
      "5/5 [==============================] - 2s 405ms/step - loss: 1.4006 - accuracy: 0.5117\n",
      "Epoch 231/300\n",
      "5/5 [==============================] - 2s 409ms/step - loss: 1.3974 - accuracy: 0.5077\n",
      "Epoch 232/300\n",
      "5/5 [==============================] - 2s 403ms/step - loss: 1.3953 - accuracy: 0.5147\n",
      "Epoch 233/300\n",
      "5/5 [==============================] - 2s 407ms/step - loss: 1.3839 - accuracy: 0.5227\n",
      "Epoch 234/300\n",
      "5/5 [==============================] - 2s 397ms/step - loss: 1.3899 - accuracy: 0.5180\n",
      "Epoch 235/300\n",
      "5/5 [==============================] - 2s 409ms/step - loss: 1.3859 - accuracy: 0.5195\n",
      "Epoch 236/300\n",
      "5/5 [==============================] - 2s 402ms/step - loss: 1.3797 - accuracy: 0.5198\n",
      "Epoch 237/300\n",
      "5/5 [==============================] - 2s 411ms/step - loss: 1.3817 - accuracy: 0.5226\n",
      "Epoch 238/300\n",
      "5/5 [==============================] - 2s 407ms/step - loss: 1.3777 - accuracy: 0.5191\n",
      "Epoch 239/300\n",
      "5/5 [==============================] - 2s 409ms/step - loss: 1.3761 - accuracy: 0.5217\n",
      "Epoch 240/300\n",
      "5/5 [==============================] - 2s 406ms/step - loss: 1.3702 - accuracy: 0.5278\n",
      "Epoch 241/300\n",
      "5/5 [==============================] - 2s 407ms/step - loss: 1.3694 - accuracy: 0.5250\n",
      "Epoch 242/300\n",
      "5/5 [==============================] - 2s 404ms/step - loss: 1.3718 - accuracy: 0.5240\n",
      "Epoch 243/300\n",
      "5/5 [==============================] - 2s 406ms/step - loss: 1.3672 - accuracy: 0.5261\n",
      "Epoch 244/300\n",
      "5/5 [==============================] - 2s 402ms/step - loss: 1.3680 - accuracy: 0.5269\n",
      "Epoch 245/300\n",
      "5/5 [==============================] - 2s 407ms/step - loss: 1.3602 - accuracy: 0.5279\n",
      "Epoch 246/300\n",
      "5/5 [==============================] - 2s 411ms/step - loss: 1.3696 - accuracy: 0.5269\n",
      "Epoch 247/300\n",
      "5/5 [==============================] - 2s 410ms/step - loss: 1.3610 - accuracy: 0.5273\n",
      "Epoch 248/300\n",
      "5/5 [==============================] - 2s 404ms/step - loss: 1.3637 - accuracy: 0.5243\n",
      "Epoch 249/300\n",
      "5/5 [==============================] - 2s 412ms/step - loss: 1.3483 - accuracy: 0.5307\n",
      "Epoch 250/300\n",
      "5/5 [==============================] - 2s 403ms/step - loss: 1.3475 - accuracy: 0.5313\n",
      "Epoch 251/300\n",
      "5/5 [==============================] - 2s 405ms/step - loss: 1.3501 - accuracy: 0.5354\n",
      "Epoch 252/300\n",
      "5/5 [==============================] - 2s 403ms/step - loss: 1.3504 - accuracy: 0.5322\n",
      "Epoch 253/300\n",
      "5/5 [==============================] - 2s 411ms/step - loss: 1.3451 - accuracy: 0.5356\n",
      "Epoch 254/300\n",
      "5/5 [==============================] - 2s 404ms/step - loss: 1.3491 - accuracy: 0.5330\n",
      "Epoch 255/300\n",
      "5/5 [==============================] - 2s 403ms/step - loss: 1.3466 - accuracy: 0.5340\n",
      "Epoch 256/300\n",
      "5/5 [==============================] - 2s 400ms/step - loss: 1.3357 - accuracy: 0.5368\n",
      "Epoch 257/300\n",
      "5/5 [==============================] - 2s 410ms/step - loss: 1.3381 - accuracy: 0.5395\n",
      "Epoch 258/300\n",
      "5/5 [==============================] - 2s 410ms/step - loss: 1.3349 - accuracy: 0.5367\n",
      "Epoch 259/300\n",
      "5/5 [==============================] - 2s 416ms/step - loss: 1.3307 - accuracy: 0.5411\n",
      "Epoch 260/300\n",
      "5/5 [==============================] - 2s 406ms/step - loss: 1.3249 - accuracy: 0.5440\n",
      "Epoch 261/300\n",
      "5/5 [==============================] - 2s 408ms/step - loss: 1.3263 - accuracy: 0.5438\n",
      "Epoch 262/300\n",
      "5/5 [==============================] - 2s 401ms/step - loss: 1.3309 - accuracy: 0.5417\n",
      "Epoch 263/300\n",
      "5/5 [==============================] - 2s 405ms/step - loss: 1.3345 - accuracy: 0.5384\n",
      "Epoch 264/300\n",
      "5/5 [==============================] - 2s 405ms/step - loss: 1.3333 - accuracy: 0.5392\n",
      "Epoch 265/300\n",
      "5/5 [==============================] - 2s 404ms/step - loss: 1.3208 - accuracy: 0.5436\n",
      "Epoch 266/300\n",
      "5/5 [==============================] - 2s 409ms/step - loss: 1.3273 - accuracy: 0.5448\n",
      "Epoch 267/300\n",
      "5/5 [==============================] - 2s 412ms/step - loss: 1.3131 - accuracy: 0.5489\n",
      "Epoch 268/300\n",
      "5/5 [==============================] - 2s 407ms/step - loss: 1.3225 - accuracy: 0.5450\n",
      "Epoch 269/300\n",
      "5/5 [==============================] - 2s 412ms/step - loss: 1.3217 - accuracy: 0.5489\n",
      "Epoch 270/300\n",
      "5/5 [==============================] - 2s 409ms/step - loss: 1.3218 - accuracy: 0.5435\n",
      "Epoch 271/300\n",
      "5/5 [==============================] - 2s 413ms/step - loss: 1.3142 - accuracy: 0.5456\n",
      "Epoch 272/300\n",
      "5/5 [==============================] - 2s 406ms/step - loss: 1.3187 - accuracy: 0.5473\n",
      "Epoch 273/300\n",
      "5/5 [==============================] - 2s 415ms/step - loss: 1.3032 - accuracy: 0.5486\n",
      "Epoch 274/300\n",
      "5/5 [==============================] - 2s 410ms/step - loss: 1.3053 - accuracy: 0.5518\n",
      "Epoch 275/300\n",
      "5/5 [==============================] - 2s 412ms/step - loss: 1.3123 - accuracy: 0.5506\n",
      "Epoch 276/300\n",
      "5/5 [==============================] - 2s 406ms/step - loss: 1.2973 - accuracy: 0.5563\n",
      "Epoch 277/300\n",
      "5/5 [==============================] - 2s 412ms/step - loss: 1.3037 - accuracy: 0.5517\n",
      "Epoch 278/300\n",
      "5/5 [==============================] - 2s 411ms/step - loss: 1.2997 - accuracy: 0.5552\n",
      "Epoch 279/300\n",
      "5/5 [==============================] - 2s 409ms/step - loss: 1.3076 - accuracy: 0.5524\n",
      "Epoch 280/300\n",
      "5/5 [==============================] - 2s 407ms/step - loss: 1.2973 - accuracy: 0.5563\n",
      "Epoch 281/300\n",
      "5/5 [==============================] - 2s 410ms/step - loss: 1.2949 - accuracy: 0.5554\n",
      "Epoch 282/300\n",
      "5/5 [==============================] - 2s 403ms/step - loss: 1.2961 - accuracy: 0.5574\n",
      "Epoch 283/300\n",
      "5/5 [==============================] - 2s 411ms/step - loss: 1.2955 - accuracy: 0.5577\n",
      "Epoch 284/300\n",
      "5/5 [==============================] - 2s 407ms/step - loss: 1.2932 - accuracy: 0.5568\n",
      "Epoch 285/300\n",
      "5/5 [==============================] - 2s 413ms/step - loss: 1.2885 - accuracy: 0.5606\n",
      "Epoch 286/300\n",
      "5/5 [==============================] - 2s 410ms/step - loss: 1.2946 - accuracy: 0.5633\n",
      "Epoch 287/300\n",
      "5/5 [==============================] - 2s 412ms/step - loss: 1.2893 - accuracy: 0.5594\n",
      "Epoch 288/300\n",
      "5/5 [==============================] - 2s 411ms/step - loss: 1.2871 - accuracy: 0.5595\n",
      "Epoch 289/300\n",
      "5/5 [==============================] - 2s 406ms/step - loss: 1.2841 - accuracy: 0.5665\n",
      "Epoch 290/300\n",
      "5/5 [==============================] - 2s 407ms/step - loss: 1.2852 - accuracy: 0.5628\n",
      "Epoch 291/300\n",
      "5/5 [==============================] - 2s 410ms/step - loss: 1.2689 - accuracy: 0.5685\n",
      "Epoch 292/300\n",
      "5/5 [==============================] - 2s 411ms/step - loss: 1.2791 - accuracy: 0.5656\n",
      "Epoch 293/300\n",
      "5/5 [==============================] - 2s 407ms/step - loss: 1.2733 - accuracy: 0.5654\n",
      "Epoch 294/300\n",
      "5/5 [==============================] - 2s 405ms/step - loss: 1.2718 - accuracy: 0.5693\n",
      "Epoch 295/300\n",
      "5/5 [==============================] - 2s 411ms/step - loss: 1.2789 - accuracy: 0.5648\n",
      "Epoch 296/300\n",
      "5/5 [==============================] - 2s 409ms/step - loss: 1.2696 - accuracy: 0.5671\n",
      "Epoch 297/300\n",
      "5/5 [==============================] - 2s 410ms/step - loss: 1.2751 - accuracy: 0.5630\n",
      "Epoch 298/300\n",
      "5/5 [==============================] - 2s 409ms/step - loss: 1.2740 - accuracy: 0.5670\n",
      "Epoch 299/300\n",
      "5/5 [==============================] - 2s 409ms/step - loss: 1.2703 - accuracy: 0.5702\n",
      "Epoch 300/300\n",
      "5/5 [==============================] - 2s 401ms/step - loss: 1.2556 - accuracy: 0.5718\n"
     ]
    }
   ],
   "source": [
    "model_lr= build_SVHN_train_classifier(1e-2,300,1e-3,SVHN_X_train_arr,SVHN_y_train)"
   ]
  },
  {
   "cell_type": "code",
   "execution_count": null,
   "metadata": {
    "colab": {
     "base_uri": "https://localhost:8080/"
    },
    "id": "cLqdkqJZOO6T",
    "outputId": "07460485-2adb-4ec4-88bd-702eb7d09a54"
   },
   "outputs": [
    {
     "name": "stdout",
     "output_type": "stream",
     "text": [
      "563/563 [==============================] - 1s 2ms/step - loss: 0.9045 - accuracy: 0.7372\n"
     ]
    },
    {
     "data": {
      "text/plain": [
       "[0.9044808745384216, 0.7371666431427002]"
      ]
     },
     "execution_count": 59,
     "metadata": {
      "tags": []
     },
     "output_type": "execute_result"
    }
   ],
   "source": [
    "model_lr.evaluate(SVHN_Xtest_arr,SVHN_y_test)"
   ]
  },
  {
   "cell_type": "markdown",
   "metadata": {
    "id": "HvxmHo8abBa3"
   },
   "source": [
    "## Model training and tuning"
   ]
  },
  {
   "cell_type": "markdown",
   "metadata": {
    "id": "N-dlq6zxyw-l"
   },
   "source": [
    "#### We will use Randomsearch hyperparameter search techique to find out the best set of parameters for maximum accuracy."
   ]
  },
  {
   "cell_type": "code",
   "execution_count": null,
   "metadata": {
    "id": "WQZe0NllyxQ6"
   },
   "outputs": [],
   "source": [
    "#Define the base neural network model \n",
    "def build_NNmodel(hp):  \n",
    "  model = Sequential([\n",
    "    \n",
    "    Dense(\n",
    "        units=hp.Int('Dense1', min_value=64, max_value=256, step=16),\n",
    "        activation='relu',\n",
    "        input_shape =(1024,),\n",
    "        kernel_initializer =hp.Choice('wt_initialiser', values=['glorot_uniform','glorot_normal','he_uniform','he_normal'])\n",
    "    ),\n",
    "      BatchNormalization(),\n",
    "      Dropout(rate=(hp.Choice('dropOutRate',values=[0.5,0.6,0.7]))),\n",
    "     Dense(\n",
    "        units=hp.Int('Dense2', min_value=32, max_value=128, step=16),\n",
    "        activation='relu'\n",
    "        ),\n",
    "\n",
    "    Dense(10, activation='softmax',kernel_regularizer=regularizers.L2(hp.Choice('regulariser', values=[1E-2, 1E-3, 1E-4, 1E-5])))\n",
    "  ])\n",
    "  \n",
    "  model.compile(optimizer=optimizers.SGD(hp.Choice('learning_rate', values=[ 1E-2, 1E-3, 1E-4])),\n",
    "              loss='categorical_crossentropy',\n",
    "              metrics=['accuracy'])\n",
    "  \n",
    "  return model"
   ]
  },
  {
   "cell_type": "code",
   "execution_count": null,
   "metadata": {
    "id": "7bcm_O7RyyAU"
   },
   "outputs": [],
   "source": [
    "  \n",
    "  tuner_search=RandomSearch(build_NNmodel,objective='accuracy',max_trials=5,directory='output19',project_name=\"SVHN\")"
   ]
  },
  {
   "cell_type": "code",
   "execution_count": null,
   "metadata": {
    "colab": {
     "base_uri": "https://localhost:8080/"
    },
    "id": "QspqNNOvy0Do",
    "outputId": "17d6927b-6e65-4cc4-d714-cc0979142306"
   },
   "outputs": [
    {
     "name": "stdout",
     "output_type": "stream",
     "text": [
      "Trial 6 Complete [00h 04m 25s]\n",
      "accuracy: 0.655738115310669\n",
      "\n",
      "Best accuracy So Far: 0.6870952248573303\n",
      "Total elapsed time: 02h 15m 58s\n",
      "INFO:tensorflow:Oracle triggered exit\n"
     ]
    }
   ],
   "source": [
    "tuner_search.search(SVHN_X_train_arr, SVHN_y_train,epochs=100)"
   ]
  },
  {
   "cell_type": "code",
   "execution_count": null,
   "metadata": {
    "colab": {
     "base_uri": "https://localhost:8080/"
    },
    "id": "T1KUa_xY9FG6",
    "outputId": "cc93bfdf-5a3f-47a8-8c06-47391abbc074"
   },
   "outputs": [
    {
     "name": "stdout",
     "output_type": "stream",
     "text": [
      "Results summary\n",
      "Results in output19/SVHN\n",
      "Showing 10 best trials\n",
      "Objective(name='accuracy', direction='max')\n",
      "Trial summary\n",
      "Hyperparameters:\n",
      "Dense1: 160\n",
      "wt_initialiser: glorot_uniform\n",
      "dropOutRate: 0.6\n",
      "Dense2: 48\n",
      "regulariser: 0.0001\n",
      "learning_rate: 0.001\n",
      "Score: 0.6870952248573303\n",
      "Trial summary\n",
      "Hyperparameters:\n",
      "Dense1: 96\n",
      "wt_initialiser: he_uniform\n",
      "dropOutRate: 0.6\n",
      "Dense2: 48\n",
      "regulariser: 1e-05\n",
      "learning_rate: 0.001\n",
      "Score: 0.655738115310669\n",
      "Trial summary\n",
      "Hyperparameters:\n",
      "Dense1: 176\n",
      "wt_initialiser: glorot_uniform\n",
      "dropOutRate: 0.6\n",
      "Dense2: 48\n",
      "regulariser: 0.01\n",
      "learning_rate: 0.01\n",
      "Score: 0.6367619037628174\n",
      "Trial summary\n",
      "Hyperparameters:\n",
      "Dense1: 208\n",
      "wt_initialiser: glorot_uniform\n",
      "dropOutRate: 0.5\n",
      "Dense2: 64\n",
      "regulariser: 0.01\n",
      "learning_rate: 0.0001\n",
      "Score: 0.5470238327980042\n",
      "Trial summary\n",
      "Hyperparameters:\n",
      "Dense1: 64\n",
      "wt_initialiser: glorot_uniform\n",
      "dropOutRate: 0.7\n",
      "Dense2: 96\n",
      "regulariser: 0.001\n",
      "learning_rate: 0.01\n",
      "Score: 0.3786190450191498\n"
     ]
    }
   ],
   "source": [
    "tuner_search.results_summary()"
   ]
  },
  {
   "cell_type": "markdown",
   "metadata": {
    "id": "2HJSvVapzDpB"
   },
   "source": [
    "#### After several rounds of hyper parameter tuning, following were the best set of parameters that gave maximum accuracy\n",
    "##### Learning rate=0.01\n",
    "##### Lambda =1e-05\n",
    "##### Number of neurons = 144\n",
    "##### weight initialiser = Glorot Uniform"
   ]
  },
  {
   "cell_type": "code",
   "execution_count": null,
   "metadata": {
    "id": "b6wi_6QVzplD"
   },
   "outputs": [],
   "source": [
    "history=[]\n",
    "def build_SVHN_classifier(inLearningRate,inEpochs,lambdaVal,X,Y):\n",
    "  #weight_init=initializers.HeNormal()\n",
    " # weight_init=initializers.GlorotNormal()\n",
    "  #weight_init=initializers.HeUniform()\n",
    "  weight_init=initializers.GlorotUniform()\n",
    "  loss=[]\n",
    "  accuracy=[]\n",
    "  dropOut=0.6\n",
    "  modelNN= Sequential()\n",
    "  #modelNN.add(Input(shape=(1024,)))\n",
    "  modelNN.add(BatchNormalization())\n",
    "  modelNN.add(Dense(144,activation='relu',input_shape=(1024,),kernel_initializer=weight_init))\n",
    "  modelNN.add(BatchNormalization())\n",
    "  modelNN.add(Dropout(dropOut))\n",
    "\n",
    "  \n",
    "  #modelNN.add(Dense(80,activation='relu',kernel_initializer=weight_init))\n",
    "  # modelNN.add(BatchNormalization())\n",
    "  #modelNN.add(Dropout(dropOut))\n",
    "  \n",
    "  #modelNN.add(Dense(64,activation='relu',kernel_initializer=weight_init))\n",
    "  #modelNN.add(BatchNormalization())\n",
    "  #modelNN.add(Dropout(dropOut))\n",
    "  \n",
    "  #modelNN.add(Dense(64,activation='relu',kernel_initializer='glorot_uniform'))\n",
    " # modelNN.add(Dropout(dropOut))\n",
    "  #modelNN.add(BatchNormalization())\n",
    " # modelNN.add(Dense(64,activation='relu',kernel_initializer=weight_init))\n",
    " # modelNN.add(Dropout(dropOut))\n",
    " # modelNN.add(BatchNormalization())\n",
    "  modelNN.add(Dense(10,activation='softmax',kernel_regularizer=regularizers.L2(lambdaVal)))\n",
    "  \n",
    "  sgd = optimizers.SGD(learning_rate=inLearningRate,decay =(inLearningRate/inEpochs), momentum=0.9)\n",
    "  modelNN.compile(loss='categorical_crossentropy', optimizer=sgd, metrics=['accuracy'])\n",
    "  history =modelNN.fit(X, Y, epochs=inEpochs,validation_data=(SVHN_X_val_arr,SVHN_y_val),batch_size=10000, verbose= 1)\n",
    " # print(history.history.keys())\n",
    " \n",
    "  return modelNN,history"
   ]
  },
  {
   "cell_type": "code",
   "execution_count": null,
   "metadata": {
    "colab": {
     "base_uri": "https://localhost:8080/"
    },
    "id": "jaBdMCFoXRR2",
    "outputId": "ced047c6-fef5-4a48-db0b-225da65ebfad"
   },
   "outputs": [
    {
     "name": "stdout",
     "output_type": "stream",
     "text": [
      "Epoch 1/200\n",
      "5/5 [==============================] - 3s 431ms/step - loss: 3.7149 - accuracy: 0.0969 - val_loss: 2.3480 - val_accuracy: 0.1044\n",
      "Epoch 2/200\n",
      "5/5 [==============================] - 2s 380ms/step - loss: 3.3603 - accuracy: 0.1111 - val_loss: 2.3329 - val_accuracy: 0.1031\n",
      "Epoch 3/200\n",
      "5/5 [==============================] - 2s 376ms/step - loss: 3.0872 - accuracy: 0.1296 - val_loss: 2.3129 - val_accuracy: 0.1144\n",
      "Epoch 4/200\n",
      "5/5 [==============================] - 2s 376ms/step - loss: 2.9033 - accuracy: 0.1437 - val_loss: 2.3015 - val_accuracy: 0.1409\n",
      "Epoch 5/200\n",
      "5/5 [==============================] - 2s 374ms/step - loss: 2.7336 - accuracy: 0.1621 - val_loss: 2.2810 - val_accuracy: 0.1477\n",
      "Epoch 6/200\n",
      "5/5 [==============================] - 2s 379ms/step - loss: 2.6067 - accuracy: 0.1767 - val_loss: 2.2602 - val_accuracy: 0.1786\n",
      "Epoch 7/200\n",
      "5/5 [==============================] - 2s 374ms/step - loss: 2.4961 - accuracy: 0.1970 - val_loss: 2.2365 - val_accuracy: 0.2373\n",
      "Epoch 8/200\n",
      "5/5 [==============================] - 2s 379ms/step - loss: 2.3863 - accuracy: 0.2153 - val_loss: 2.2174 - val_accuracy: 0.2385\n",
      "Epoch 9/200\n",
      "5/5 [==============================] - 2s 372ms/step - loss: 2.2787 - accuracy: 0.2374 - val_loss: 2.1951 - val_accuracy: 0.2713\n",
      "Epoch 10/200\n",
      "5/5 [==============================] - 2s 373ms/step - loss: 2.2110 - accuracy: 0.2509 - val_loss: 2.1767 - val_accuracy: 0.3237\n",
      "Epoch 11/200\n",
      "5/5 [==============================] - 2s 371ms/step - loss: 2.1261 - accuracy: 0.2714 - val_loss: 2.1571 - val_accuracy: 0.3709\n",
      "Epoch 12/200\n",
      "5/5 [==============================] - 2s 376ms/step - loss: 2.0631 - accuracy: 0.2910 - val_loss: 2.1379 - val_accuracy: 0.4138\n",
      "Epoch 13/200\n",
      "5/5 [==============================] - 2s 373ms/step - loss: 2.0059 - accuracy: 0.3107 - val_loss: 2.1214 - val_accuracy: 0.4268\n",
      "Epoch 14/200\n",
      "5/5 [==============================] - 2s 374ms/step - loss: 1.9515 - accuracy: 0.3247 - val_loss: 2.1025 - val_accuracy: 0.4586\n",
      "Epoch 15/200\n",
      "5/5 [==============================] - 2s 378ms/step - loss: 1.9015 - accuracy: 0.3422 - val_loss: 2.0848 - val_accuracy: 0.4767\n",
      "Epoch 16/200\n",
      "5/5 [==============================] - 2s 375ms/step - loss: 1.8610 - accuracy: 0.3562 - val_loss: 2.0705 - val_accuracy: 0.4738\n",
      "Epoch 17/200\n",
      "5/5 [==============================] - 2s 371ms/step - loss: 1.8308 - accuracy: 0.3665 - val_loss: 2.0534 - val_accuracy: 0.4950\n",
      "Epoch 18/200\n",
      "5/5 [==============================] - 2s 377ms/step - loss: 1.7973 - accuracy: 0.3774 - val_loss: 2.0366 - val_accuracy: 0.5124\n",
      "Epoch 19/200\n",
      "5/5 [==============================] - 2s 378ms/step - loss: 1.7704 - accuracy: 0.3918 - val_loss: 2.0200 - val_accuracy: 0.5145\n",
      "Epoch 20/200\n",
      "5/5 [==============================] - 2s 378ms/step - loss: 1.7527 - accuracy: 0.3952 - val_loss: 2.0038 - val_accuracy: 0.5242\n",
      "Epoch 21/200\n",
      "5/5 [==============================] - 2s 376ms/step - loss: 1.7209 - accuracy: 0.4115 - val_loss: 1.9875 - val_accuracy: 0.5334\n",
      "Epoch 22/200\n",
      "5/5 [==============================] - 2s 373ms/step - loss: 1.6949 - accuracy: 0.4258 - val_loss: 1.9693 - val_accuracy: 0.5398\n",
      "Epoch 23/200\n",
      "5/5 [==============================] - 2s 373ms/step - loss: 1.6810 - accuracy: 0.4288 - val_loss: 1.9536 - val_accuracy: 0.5456\n",
      "Epoch 24/200\n",
      "5/5 [==============================] - 2s 376ms/step - loss: 1.6578 - accuracy: 0.4384 - val_loss: 1.9374 - val_accuracy: 0.5551\n",
      "Epoch 25/200\n",
      "5/5 [==============================] - 2s 379ms/step - loss: 1.6371 - accuracy: 0.4474 - val_loss: 1.9186 - val_accuracy: 0.5657\n",
      "Epoch 26/200\n",
      "5/5 [==============================] - 2s 379ms/step - loss: 1.6218 - accuracy: 0.4518 - val_loss: 1.9023 - val_accuracy: 0.5753\n",
      "Epoch 27/200\n",
      "5/5 [==============================] - 2s 370ms/step - loss: 1.6071 - accuracy: 0.4593 - val_loss: 1.8818 - val_accuracy: 0.5885\n",
      "Epoch 28/200\n",
      "5/5 [==============================] - 2s 373ms/step - loss: 1.5864 - accuracy: 0.4673 - val_loss: 1.8634 - val_accuracy: 0.5962\n",
      "Epoch 29/200\n",
      "5/5 [==============================] - 2s 375ms/step - loss: 1.5740 - accuracy: 0.4748 - val_loss: 1.8466 - val_accuracy: 0.6023\n",
      "Epoch 30/200\n",
      "5/5 [==============================] - 2s 378ms/step - loss: 1.5563 - accuracy: 0.4812 - val_loss: 1.8290 - val_accuracy: 0.6073\n",
      "Epoch 31/200\n",
      "5/5 [==============================] - 2s 373ms/step - loss: 1.5538 - accuracy: 0.4823 - val_loss: 1.8103 - val_accuracy: 0.6167\n",
      "Epoch 32/200\n",
      "5/5 [==============================] - 2s 371ms/step - loss: 1.5327 - accuracy: 0.4910 - val_loss: 1.7917 - val_accuracy: 0.6237\n",
      "Epoch 33/200\n",
      "5/5 [==============================] - 2s 380ms/step - loss: 1.5268 - accuracy: 0.4904 - val_loss: 1.7735 - val_accuracy: 0.6298\n",
      "Epoch 34/200\n",
      "5/5 [==============================] - 2s 374ms/step - loss: 1.5065 - accuracy: 0.4982 - val_loss: 1.7564 - val_accuracy: 0.6335\n",
      "Epoch 35/200\n",
      "5/5 [==============================] - 2s 375ms/step - loss: 1.5051 - accuracy: 0.5013 - val_loss: 1.7357 - val_accuracy: 0.6375\n",
      "Epoch 36/200\n",
      "5/5 [==============================] - 2s 373ms/step - loss: 1.4914 - accuracy: 0.5087 - val_loss: 1.7162 - val_accuracy: 0.6412\n",
      "Epoch 37/200\n",
      "5/5 [==============================] - 2s 375ms/step - loss: 1.4876 - accuracy: 0.5075 - val_loss: 1.7011 - val_accuracy: 0.6444\n",
      "Epoch 38/200\n",
      "5/5 [==============================] - 2s 370ms/step - loss: 1.4724 - accuracy: 0.5167 - val_loss: 1.6819 - val_accuracy: 0.6485\n",
      "Epoch 39/200\n",
      "5/5 [==============================] - 2s 374ms/step - loss: 1.4644 - accuracy: 0.5171 - val_loss: 1.6632 - val_accuracy: 0.6526\n",
      "Epoch 40/200\n",
      "5/5 [==============================] - 2s 378ms/step - loss: 1.4480 - accuracy: 0.5276 - val_loss: 1.6459 - val_accuracy: 0.6558\n",
      "Epoch 41/200\n",
      "5/5 [==============================] - 2s 378ms/step - loss: 1.4398 - accuracy: 0.5286 - val_loss: 1.6251 - val_accuracy: 0.6610\n",
      "Epoch 42/200\n",
      "5/5 [==============================] - 2s 371ms/step - loss: 1.4347 - accuracy: 0.5337 - val_loss: 1.6068 - val_accuracy: 0.6662\n",
      "Epoch 43/200\n",
      "5/5 [==============================] - 2s 374ms/step - loss: 1.4333 - accuracy: 0.5319 - val_loss: 1.5889 - val_accuracy: 0.6706\n",
      "Epoch 44/200\n",
      "5/5 [==============================] - 2s 376ms/step - loss: 1.4207 - accuracy: 0.5420 - val_loss: 1.5708 - val_accuracy: 0.6732\n",
      "Epoch 45/200\n",
      "5/5 [==============================] - 2s 370ms/step - loss: 1.4123 - accuracy: 0.5418 - val_loss: 1.5525 - val_accuracy: 0.6769\n",
      "Epoch 46/200\n",
      "5/5 [==============================] - 2s 371ms/step - loss: 1.4062 - accuracy: 0.5429 - val_loss: 1.5339 - val_accuracy: 0.6805\n",
      "Epoch 47/200\n",
      "5/5 [==============================] - 2s 375ms/step - loss: 1.3990 - accuracy: 0.5469 - val_loss: 1.5157 - val_accuracy: 0.6831\n",
      "Epoch 48/200\n",
      "5/5 [==============================] - 2s 374ms/step - loss: 1.3862 - accuracy: 0.5509 - val_loss: 1.4964 - val_accuracy: 0.6858\n",
      "Epoch 49/200\n",
      "5/5 [==============================] - 2s 380ms/step - loss: 1.3873 - accuracy: 0.5546 - val_loss: 1.4812 - val_accuracy: 0.6876\n",
      "Epoch 50/200\n",
      "5/5 [==============================] - 2s 375ms/step - loss: 1.3828 - accuracy: 0.5563 - val_loss: 1.4628 - val_accuracy: 0.6902\n",
      "Epoch 51/200\n",
      "5/5 [==============================] - 2s 368ms/step - loss: 1.3694 - accuracy: 0.5591 - val_loss: 1.4477 - val_accuracy: 0.6920\n",
      "Epoch 52/200\n",
      "5/5 [==============================] - 2s 377ms/step - loss: 1.3652 - accuracy: 0.5599 - val_loss: 1.4308 - val_accuracy: 0.6933\n",
      "Epoch 53/200\n",
      "5/5 [==============================] - 2s 371ms/step - loss: 1.3584 - accuracy: 0.5600 - val_loss: 1.4128 - val_accuracy: 0.6954\n",
      "Epoch 54/200\n",
      "5/5 [==============================] - 2s 375ms/step - loss: 1.3490 - accuracy: 0.5658 - val_loss: 1.3973 - val_accuracy: 0.6984\n",
      "Epoch 55/200\n",
      "5/5 [==============================] - 2s 374ms/step - loss: 1.3540 - accuracy: 0.5635 - val_loss: 1.3807 - val_accuracy: 0.7000\n",
      "Epoch 56/200\n",
      "5/5 [==============================] - 2s 372ms/step - loss: 1.3422 - accuracy: 0.5717 - val_loss: 1.3648 - val_accuracy: 0.7039\n",
      "Epoch 57/200\n",
      "5/5 [==============================] - 2s 376ms/step - loss: 1.3430 - accuracy: 0.5711 - val_loss: 1.3481 - val_accuracy: 0.7065\n",
      "Epoch 58/200\n",
      "5/5 [==============================] - 2s 385ms/step - loss: 1.3328 - accuracy: 0.5738 - val_loss: 1.3343 - val_accuracy: 0.7089\n",
      "Epoch 59/200\n",
      "5/5 [==============================] - 2s 378ms/step - loss: 1.3252 - accuracy: 0.5757 - val_loss: 1.3200 - val_accuracy: 0.7103\n",
      "Epoch 60/200\n",
      "5/5 [==============================] - 2s 375ms/step - loss: 1.3156 - accuracy: 0.5770 - val_loss: 1.3048 - val_accuracy: 0.7126\n",
      "Epoch 61/200\n",
      "5/5 [==============================] - 2s 373ms/step - loss: 1.3102 - accuracy: 0.5807 - val_loss: 1.2914 - val_accuracy: 0.7133\n",
      "Epoch 62/200\n",
      "5/5 [==============================] - 2s 380ms/step - loss: 1.3094 - accuracy: 0.5831 - val_loss: 1.2782 - val_accuracy: 0.7161\n",
      "Epoch 63/200\n",
      "5/5 [==============================] - 2s 378ms/step - loss: 1.3097 - accuracy: 0.5861 - val_loss: 1.2627 - val_accuracy: 0.7182\n",
      "Epoch 64/200\n",
      "5/5 [==============================] - 2s 373ms/step - loss: 1.2934 - accuracy: 0.5849 - val_loss: 1.2488 - val_accuracy: 0.7210\n",
      "Epoch 65/200\n",
      "5/5 [==============================] - 2s 377ms/step - loss: 1.2884 - accuracy: 0.5882 - val_loss: 1.2358 - val_accuracy: 0.7222\n",
      "Epoch 66/200\n",
      "5/5 [==============================] - 2s 372ms/step - loss: 1.2856 - accuracy: 0.5930 - val_loss: 1.2225 - val_accuracy: 0.7251\n",
      "Epoch 67/200\n",
      "5/5 [==============================] - 2s 377ms/step - loss: 1.2877 - accuracy: 0.5898 - val_loss: 1.2103 - val_accuracy: 0.7260\n",
      "Epoch 68/200\n",
      "5/5 [==============================] - 2s 374ms/step - loss: 1.2752 - accuracy: 0.5947 - val_loss: 1.1979 - val_accuracy: 0.7276\n",
      "Epoch 69/200\n",
      "5/5 [==============================] - 2s 379ms/step - loss: 1.2756 - accuracy: 0.5934 - val_loss: 1.1873 - val_accuracy: 0.7297\n",
      "Epoch 70/200\n",
      "5/5 [==============================] - 2s 376ms/step - loss: 1.2693 - accuracy: 0.5956 - val_loss: 1.1745 - val_accuracy: 0.7315\n",
      "Epoch 71/200\n",
      "5/5 [==============================] - 2s 369ms/step - loss: 1.2684 - accuracy: 0.5950 - val_loss: 1.1627 - val_accuracy: 0.7331\n",
      "Epoch 72/200\n",
      "5/5 [==============================] - 2s 373ms/step - loss: 1.2662 - accuracy: 0.5955 - val_loss: 1.1530 - val_accuracy: 0.7345\n",
      "Epoch 73/200\n",
      "5/5 [==============================] - 2s 369ms/step - loss: 1.2538 - accuracy: 0.6031 - val_loss: 1.1420 - val_accuracy: 0.7360\n",
      "Epoch 74/200\n",
      "5/5 [==============================] - 2s 373ms/step - loss: 1.2575 - accuracy: 0.6025 - val_loss: 1.1319 - val_accuracy: 0.7358\n",
      "Epoch 75/200\n",
      "5/5 [==============================] - 2s 381ms/step - loss: 1.2473 - accuracy: 0.6002 - val_loss: 1.1220 - val_accuracy: 0.7382\n",
      "Epoch 76/200\n",
      "5/5 [==============================] - 2s 374ms/step - loss: 1.2442 - accuracy: 0.6059 - val_loss: 1.1106 - val_accuracy: 0.7391\n",
      "Epoch 77/200\n",
      "5/5 [==============================] - 2s 373ms/step - loss: 1.2430 - accuracy: 0.6057 - val_loss: 1.1017 - val_accuracy: 0.7394\n",
      "Epoch 78/200\n",
      "5/5 [==============================] - 2s 370ms/step - loss: 1.2422 - accuracy: 0.6065 - val_loss: 1.0925 - val_accuracy: 0.7422\n",
      "Epoch 79/200\n",
      "5/5 [==============================] - 2s 374ms/step - loss: 1.2376 - accuracy: 0.6072 - val_loss: 1.0831 - val_accuracy: 0.7426\n",
      "Epoch 80/200\n",
      "5/5 [==============================] - 2s 375ms/step - loss: 1.2384 - accuracy: 0.6091 - val_loss: 1.0733 - val_accuracy: 0.7442\n",
      "Epoch 81/200\n",
      "5/5 [==============================] - 2s 379ms/step - loss: 1.2207 - accuracy: 0.6167 - val_loss: 1.0657 - val_accuracy: 0.7461\n",
      "Epoch 82/200\n",
      "5/5 [==============================] - 2s 374ms/step - loss: 1.2234 - accuracy: 0.6129 - val_loss: 1.0573 - val_accuracy: 0.7470\n",
      "Epoch 83/200\n",
      "5/5 [==============================] - 2s 371ms/step - loss: 1.2142 - accuracy: 0.6171 - val_loss: 1.0471 - val_accuracy: 0.7485\n",
      "Epoch 84/200\n",
      "5/5 [==============================] - 2s 373ms/step - loss: 1.2204 - accuracy: 0.6171 - val_loss: 1.0419 - val_accuracy: 0.7490\n",
      "Epoch 85/200\n",
      "5/5 [==============================] - 2s 369ms/step - loss: 1.2105 - accuracy: 0.6163 - val_loss: 1.0345 - val_accuracy: 0.7505\n",
      "Epoch 86/200\n",
      "5/5 [==============================] - 2s 375ms/step - loss: 1.2145 - accuracy: 0.6177 - val_loss: 1.0275 - val_accuracy: 0.7518\n",
      "Epoch 87/200\n",
      "5/5 [==============================] - 2s 377ms/step - loss: 1.1973 - accuracy: 0.6217 - val_loss: 1.0182 - val_accuracy: 0.7534\n",
      "Epoch 88/200\n",
      "5/5 [==============================] - 2s 371ms/step - loss: 1.1993 - accuracy: 0.6255 - val_loss: 1.0136 - val_accuracy: 0.7536\n",
      "Epoch 89/200\n",
      "5/5 [==============================] - 2s 373ms/step - loss: 1.1963 - accuracy: 0.6228 - val_loss: 1.0064 - val_accuracy: 0.7560\n",
      "Epoch 90/200\n",
      "5/5 [==============================] - 2s 374ms/step - loss: 1.2002 - accuracy: 0.6217 - val_loss: 0.9981 - val_accuracy: 0.7562\n",
      "Epoch 91/200\n",
      "5/5 [==============================] - 2s 371ms/step - loss: 1.1928 - accuracy: 0.6259 - val_loss: 0.9926 - val_accuracy: 0.7563\n",
      "Epoch 92/200\n",
      "5/5 [==============================] - 2s 376ms/step - loss: 1.2002 - accuracy: 0.6209 - val_loss: 0.9850 - val_accuracy: 0.7585\n",
      "Epoch 93/200\n",
      "5/5 [==============================] - 2s 377ms/step - loss: 1.1861 - accuracy: 0.6277 - val_loss: 0.9796 - val_accuracy: 0.7592\n",
      "Epoch 94/200\n",
      "5/5 [==============================] - 2s 377ms/step - loss: 1.1807 - accuracy: 0.6261 - val_loss: 0.9726 - val_accuracy: 0.7600\n",
      "Epoch 95/200\n",
      "5/5 [==============================] - 2s 375ms/step - loss: 1.1801 - accuracy: 0.6288 - val_loss: 0.9665 - val_accuracy: 0.7614\n",
      "Epoch 96/200\n",
      "5/5 [==============================] - 2s 369ms/step - loss: 1.1793 - accuracy: 0.6291 - val_loss: 0.9600 - val_accuracy: 0.7616\n",
      "Epoch 97/200\n",
      "5/5 [==============================] - 2s 376ms/step - loss: 1.1741 - accuracy: 0.6329 - val_loss: 0.9556 - val_accuracy: 0.7635\n",
      "Epoch 98/200\n",
      "5/5 [==============================] - 2s 373ms/step - loss: 1.1772 - accuracy: 0.6311 - val_loss: 0.9493 - val_accuracy: 0.7637\n",
      "Epoch 99/200\n",
      "5/5 [==============================] - 2s 377ms/step - loss: 1.1699 - accuracy: 0.6335 - val_loss: 0.9449 - val_accuracy: 0.7658\n",
      "Epoch 100/200\n",
      "5/5 [==============================] - 2s 375ms/step - loss: 1.1646 - accuracy: 0.6352 - val_loss: 0.9394 - val_accuracy: 0.7668\n",
      "Epoch 101/200\n",
      "5/5 [==============================] - 2s 373ms/step - loss: 1.1666 - accuracy: 0.6340 - val_loss: 0.9350 - val_accuracy: 0.7669\n",
      "Epoch 102/200\n",
      "5/5 [==============================] - 2s 374ms/step - loss: 1.1617 - accuracy: 0.6353 - val_loss: 0.9303 - val_accuracy: 0.7683\n",
      "Epoch 103/200\n",
      "5/5 [==============================] - 2s 373ms/step - loss: 1.1599 - accuracy: 0.6376 - val_loss: 0.9257 - val_accuracy: 0.7692\n",
      "Epoch 104/200\n",
      "5/5 [==============================] - 2s 368ms/step - loss: 1.1564 - accuracy: 0.6372 - val_loss: 0.9220 - val_accuracy: 0.7683\n",
      "Epoch 105/200\n",
      "5/5 [==============================] - 2s 373ms/step - loss: 1.1557 - accuracy: 0.6372 - val_loss: 0.9163 - val_accuracy: 0.7699\n",
      "Epoch 106/200\n",
      "5/5 [==============================] - 2s 368ms/step - loss: 1.1478 - accuracy: 0.6408 - val_loss: 0.9114 - val_accuracy: 0.7718\n",
      "Epoch 107/200\n",
      "5/5 [==============================] - 2s 377ms/step - loss: 1.1452 - accuracy: 0.6428 - val_loss: 0.9081 - val_accuracy: 0.7712\n",
      "Epoch 108/200\n",
      "5/5 [==============================] - 2s 373ms/step - loss: 1.1495 - accuracy: 0.6406 - val_loss: 0.9030 - val_accuracy: 0.7723\n",
      "Epoch 109/200\n",
      "5/5 [==============================] - 2s 380ms/step - loss: 1.1465 - accuracy: 0.6440 - val_loss: 0.8995 - val_accuracy: 0.7734\n",
      "Epoch 110/200\n",
      "5/5 [==============================] - 2s 372ms/step - loss: 1.1392 - accuracy: 0.6476 - val_loss: 0.8961 - val_accuracy: 0.7751\n",
      "Epoch 111/200\n",
      "5/5 [==============================] - 2s 383ms/step - loss: 1.1328 - accuracy: 0.6463 - val_loss: 0.8913 - val_accuracy: 0.7753\n",
      "Epoch 112/200\n",
      "5/5 [==============================] - 2s 371ms/step - loss: 1.1420 - accuracy: 0.6439 - val_loss: 0.8883 - val_accuracy: 0.7764\n",
      "Epoch 113/200\n",
      "5/5 [==============================] - 2s 375ms/step - loss: 1.1370 - accuracy: 0.6443 - val_loss: 0.8844 - val_accuracy: 0.7765\n",
      "Epoch 114/200\n",
      "5/5 [==============================] - 2s 372ms/step - loss: 1.1310 - accuracy: 0.6438 - val_loss: 0.8813 - val_accuracy: 0.7779\n",
      "Epoch 115/200\n",
      "5/5 [==============================] - 2s 376ms/step - loss: 1.1317 - accuracy: 0.6462 - val_loss: 0.8771 - val_accuracy: 0.7791\n",
      "Epoch 116/200\n",
      "5/5 [==============================] - 2s 378ms/step - loss: 1.1302 - accuracy: 0.6495 - val_loss: 0.8753 - val_accuracy: 0.7783\n",
      "Epoch 117/200\n",
      "5/5 [==============================] - 2s 382ms/step - loss: 1.1274 - accuracy: 0.6470 - val_loss: 0.8706 - val_accuracy: 0.7801\n",
      "Epoch 118/200\n",
      "5/5 [==============================] - 2s 381ms/step - loss: 1.1303 - accuracy: 0.6490 - val_loss: 0.8679 - val_accuracy: 0.7803\n",
      "Epoch 119/200\n",
      "5/5 [==============================] - 2s 376ms/step - loss: 1.1189 - accuracy: 0.6502 - val_loss: 0.8640 - val_accuracy: 0.7816\n",
      "Epoch 120/200\n",
      "5/5 [==============================] - 2s 380ms/step - loss: 1.1212 - accuracy: 0.6510 - val_loss: 0.8603 - val_accuracy: 0.7818\n",
      "Epoch 121/200\n",
      "5/5 [==============================] - 2s 374ms/step - loss: 1.1103 - accuracy: 0.6517 - val_loss: 0.8589 - val_accuracy: 0.7833\n",
      "Epoch 122/200\n",
      "5/5 [==============================] - 2s 380ms/step - loss: 1.1105 - accuracy: 0.6551 - val_loss: 0.8558 - val_accuracy: 0.7840\n",
      "Epoch 123/200\n",
      "5/5 [==============================] - 2s 373ms/step - loss: 1.1145 - accuracy: 0.6537 - val_loss: 0.8523 - val_accuracy: 0.7845\n",
      "Epoch 124/200\n",
      "5/5 [==============================] - 2s 378ms/step - loss: 1.1097 - accuracy: 0.6555 - val_loss: 0.8490 - val_accuracy: 0.7842\n",
      "Epoch 125/200\n",
      "5/5 [==============================] - 2s 379ms/step - loss: 1.1067 - accuracy: 0.6552 - val_loss: 0.8465 - val_accuracy: 0.7852\n",
      "Epoch 126/200\n",
      "5/5 [==============================] - 2s 381ms/step - loss: 1.1019 - accuracy: 0.6578 - val_loss: 0.8435 - val_accuracy: 0.7862\n",
      "Epoch 127/200\n",
      "5/5 [==============================] - 2s 375ms/step - loss: 1.1007 - accuracy: 0.6578 - val_loss: 0.8397 - val_accuracy: 0.7865\n",
      "Epoch 128/200\n",
      "5/5 [==============================] - 2s 385ms/step - loss: 1.0965 - accuracy: 0.6608 - val_loss: 0.8390 - val_accuracy: 0.7868\n",
      "Epoch 129/200\n",
      "5/5 [==============================] - 2s 373ms/step - loss: 1.1011 - accuracy: 0.6586 - val_loss: 0.8368 - val_accuracy: 0.7873\n",
      "Epoch 130/200\n",
      "5/5 [==============================] - 2s 378ms/step - loss: 1.0946 - accuracy: 0.6583 - val_loss: 0.8329 - val_accuracy: 0.7877\n",
      "Epoch 131/200\n",
      "5/5 [==============================] - 2s 377ms/step - loss: 1.0971 - accuracy: 0.6559 - val_loss: 0.8307 - val_accuracy: 0.7884\n",
      "Epoch 132/200\n",
      "5/5 [==============================] - 2s 375ms/step - loss: 1.0882 - accuracy: 0.6607 - val_loss: 0.8304 - val_accuracy: 0.7894\n",
      "Epoch 133/200\n",
      "5/5 [==============================] - 2s 375ms/step - loss: 1.0936 - accuracy: 0.6606 - val_loss: 0.8262 - val_accuracy: 0.7897\n",
      "Epoch 134/200\n",
      "5/5 [==============================] - 2s 381ms/step - loss: 1.0949 - accuracy: 0.6605 - val_loss: 0.8233 - val_accuracy: 0.7901\n",
      "Epoch 135/200\n",
      "5/5 [==============================] - 2s 376ms/step - loss: 1.0878 - accuracy: 0.6622 - val_loss: 0.8218 - val_accuracy: 0.7906\n",
      "Epoch 136/200\n",
      "5/5 [==============================] - 2s 377ms/step - loss: 1.0871 - accuracy: 0.6618 - val_loss: 0.8184 - val_accuracy: 0.7912\n",
      "Epoch 137/200\n",
      "5/5 [==============================] - 2s 379ms/step - loss: 1.0896 - accuracy: 0.6613 - val_loss: 0.8165 - val_accuracy: 0.7925\n",
      "Epoch 138/200\n",
      "5/5 [==============================] - 2s 376ms/step - loss: 1.0804 - accuracy: 0.6613 - val_loss: 0.8146 - val_accuracy: 0.7924\n",
      "Epoch 139/200\n",
      "5/5 [==============================] - 2s 375ms/step - loss: 1.0832 - accuracy: 0.6638 - val_loss: 0.8130 - val_accuracy: 0.7923\n",
      "Epoch 140/200\n",
      "5/5 [==============================] - 2s 374ms/step - loss: 1.0770 - accuracy: 0.6656 - val_loss: 0.8114 - val_accuracy: 0.7930\n",
      "Epoch 141/200\n",
      "5/5 [==============================] - 2s 380ms/step - loss: 1.0741 - accuracy: 0.6666 - val_loss: 0.8091 - val_accuracy: 0.7936\n",
      "Epoch 142/200\n",
      "5/5 [==============================] - 2s 379ms/step - loss: 1.0811 - accuracy: 0.6652 - val_loss: 0.8064 - val_accuracy: 0.7934\n",
      "Epoch 143/200\n",
      "5/5 [==============================] - 2s 375ms/step - loss: 1.0798 - accuracy: 0.6659 - val_loss: 0.8041 - val_accuracy: 0.7948\n",
      "Epoch 144/200\n",
      "5/5 [==============================] - 2s 375ms/step - loss: 1.0780 - accuracy: 0.6656 - val_loss: 0.8030 - val_accuracy: 0.7956\n",
      "Epoch 145/200\n",
      "5/5 [==============================] - 2s 378ms/step - loss: 1.0753 - accuracy: 0.6672 - val_loss: 0.8003 - val_accuracy: 0.7954\n",
      "Epoch 146/200\n",
      "5/5 [==============================] - 2s 381ms/step - loss: 1.0749 - accuracy: 0.6658 - val_loss: 0.7988 - val_accuracy: 0.7958\n",
      "Epoch 147/200\n",
      "5/5 [==============================] - 2s 379ms/step - loss: 1.0765 - accuracy: 0.6667 - val_loss: 0.7965 - val_accuracy: 0.7969\n",
      "Epoch 148/200\n",
      "5/5 [==============================] - 2s 371ms/step - loss: 1.0764 - accuracy: 0.6651 - val_loss: 0.7951 - val_accuracy: 0.7971\n",
      "Epoch 149/200\n",
      "5/5 [==============================] - 2s 370ms/step - loss: 1.0617 - accuracy: 0.6685 - val_loss: 0.7942 - val_accuracy: 0.7962\n",
      "Epoch 150/200\n",
      "5/5 [==============================] - 2s 372ms/step - loss: 1.0647 - accuracy: 0.6678 - val_loss: 0.7920 - val_accuracy: 0.7973\n",
      "Epoch 151/200\n",
      "5/5 [==============================] - 2s 383ms/step - loss: 1.0640 - accuracy: 0.6681 - val_loss: 0.7904 - val_accuracy: 0.7973\n",
      "Epoch 152/200\n",
      "5/5 [==============================] - 2s 372ms/step - loss: 1.0605 - accuracy: 0.6708 - val_loss: 0.7881 - val_accuracy: 0.7991\n",
      "Epoch 153/200\n",
      "5/5 [==============================] - 2s 374ms/step - loss: 1.0628 - accuracy: 0.6742 - val_loss: 0.7860 - val_accuracy: 0.8001\n",
      "Epoch 154/200\n",
      "5/5 [==============================] - 2s 376ms/step - loss: 1.0670 - accuracy: 0.6701 - val_loss: 0.7852 - val_accuracy: 0.7995\n",
      "Epoch 155/200\n",
      "5/5 [==============================] - 2s 373ms/step - loss: 1.0624 - accuracy: 0.6701 - val_loss: 0.7838 - val_accuracy: 0.7994\n",
      "Epoch 156/200\n",
      "5/5 [==============================] - 2s 379ms/step - loss: 1.0536 - accuracy: 0.6728 - val_loss: 0.7822 - val_accuracy: 0.7999\n",
      "Epoch 157/200\n",
      "5/5 [==============================] - 2s 384ms/step - loss: 1.0600 - accuracy: 0.6712 - val_loss: 0.7806 - val_accuracy: 0.8004\n",
      "Epoch 158/200\n",
      "5/5 [==============================] - 2s 383ms/step - loss: 1.0471 - accuracy: 0.6743 - val_loss: 0.7788 - val_accuracy: 0.8014\n",
      "Epoch 159/200\n",
      "5/5 [==============================] - 2s 379ms/step - loss: 1.0498 - accuracy: 0.6737 - val_loss: 0.7776 - val_accuracy: 0.8011\n",
      "Epoch 160/200\n",
      "5/5 [==============================] - 2s 371ms/step - loss: 1.0604 - accuracy: 0.6719 - val_loss: 0.7749 - val_accuracy: 0.8016\n",
      "Epoch 161/200\n",
      "5/5 [==============================] - 2s 375ms/step - loss: 1.0506 - accuracy: 0.6733 - val_loss: 0.7726 - val_accuracy: 0.8027\n",
      "Epoch 162/200\n",
      "5/5 [==============================] - 2s 372ms/step - loss: 1.0498 - accuracy: 0.6760 - val_loss: 0.7723 - val_accuracy: 0.8025\n",
      "Epoch 163/200\n",
      "5/5 [==============================] - 2s 375ms/step - loss: 1.0495 - accuracy: 0.6753 - val_loss: 0.7712 - val_accuracy: 0.8024\n",
      "Epoch 164/200\n",
      "5/5 [==============================] - 2s 375ms/step - loss: 1.0394 - accuracy: 0.6751 - val_loss: 0.7706 - val_accuracy: 0.8029\n",
      "Epoch 165/200\n",
      "5/5 [==============================] - 2s 376ms/step - loss: 1.0446 - accuracy: 0.6774 - val_loss: 0.7680 - val_accuracy: 0.8033\n",
      "Epoch 166/200\n",
      "5/5 [==============================] - 2s 375ms/step - loss: 1.0425 - accuracy: 0.6763 - val_loss: 0.7664 - val_accuracy: 0.8039\n",
      "Epoch 167/200\n",
      "5/5 [==============================] - 2s 370ms/step - loss: 1.0413 - accuracy: 0.6784 - val_loss: 0.7656 - val_accuracy: 0.8053\n",
      "Epoch 168/200\n",
      "5/5 [==============================] - 2s 372ms/step - loss: 1.0459 - accuracy: 0.6763 - val_loss: 0.7637 - val_accuracy: 0.8051\n",
      "Epoch 169/200\n",
      "5/5 [==============================] - 2s 378ms/step - loss: 1.0470 - accuracy: 0.6773 - val_loss: 0.7618 - val_accuracy: 0.8052\n",
      "Epoch 170/200\n",
      "5/5 [==============================] - 2s 375ms/step - loss: 1.0401 - accuracy: 0.6776 - val_loss: 0.7603 - val_accuracy: 0.8060\n",
      "Epoch 171/200\n",
      "5/5 [==============================] - 2s 373ms/step - loss: 1.0348 - accuracy: 0.6795 - val_loss: 0.7601 - val_accuracy: 0.8051\n",
      "Epoch 172/200\n",
      "5/5 [==============================] - 2s 377ms/step - loss: 1.0392 - accuracy: 0.6790 - val_loss: 0.7592 - val_accuracy: 0.8070\n",
      "Epoch 173/200\n",
      "5/5 [==============================] - 2s 378ms/step - loss: 1.0324 - accuracy: 0.6794 - val_loss: 0.7569 - val_accuracy: 0.8069\n",
      "Epoch 174/200\n",
      "5/5 [==============================] - 2s 373ms/step - loss: 1.0302 - accuracy: 0.6825 - val_loss: 0.7553 - val_accuracy: 0.8069\n",
      "Epoch 175/200\n",
      "5/5 [==============================] - 2s 379ms/step - loss: 1.0303 - accuracy: 0.6796 - val_loss: 0.7537 - val_accuracy: 0.8076\n",
      "Epoch 176/200\n",
      "5/5 [==============================] - 2s 375ms/step - loss: 1.0233 - accuracy: 0.6872 - val_loss: 0.7539 - val_accuracy: 0.8072\n",
      "Epoch 177/200\n",
      "5/5 [==============================] - 2s 375ms/step - loss: 1.0325 - accuracy: 0.6815 - val_loss: 0.7518 - val_accuracy: 0.8078\n",
      "Epoch 178/200\n",
      "5/5 [==============================] - 2s 370ms/step - loss: 1.0279 - accuracy: 0.6836 - val_loss: 0.7498 - val_accuracy: 0.8082\n",
      "Epoch 179/200\n",
      "5/5 [==============================] - 2s 377ms/step - loss: 1.0342 - accuracy: 0.6808 - val_loss: 0.7498 - val_accuracy: 0.8092\n",
      "Epoch 180/200\n",
      "5/5 [==============================] - 2s 374ms/step - loss: 1.0291 - accuracy: 0.6816 - val_loss: 0.7483 - val_accuracy: 0.8092\n",
      "Epoch 181/200\n",
      "5/5 [==============================] - 2s 379ms/step - loss: 1.0264 - accuracy: 0.6833 - val_loss: 0.7468 - val_accuracy: 0.8100\n",
      "Epoch 182/200\n",
      "5/5 [==============================] - 2s 377ms/step - loss: 1.0114 - accuracy: 0.6853 - val_loss: 0.7464 - val_accuracy: 0.8095\n",
      "Epoch 183/200\n",
      "5/5 [==============================] - 2s 373ms/step - loss: 1.0229 - accuracy: 0.6827 - val_loss: 0.7454 - val_accuracy: 0.8102\n",
      "Epoch 184/200\n",
      "5/5 [==============================] - 2s 377ms/step - loss: 1.0228 - accuracy: 0.6861 - val_loss: 0.7442 - val_accuracy: 0.8094\n",
      "Epoch 185/200\n",
      "5/5 [==============================] - 2s 378ms/step - loss: 1.0104 - accuracy: 0.6871 - val_loss: 0.7429 - val_accuracy: 0.8097\n",
      "Epoch 186/200\n",
      "5/5 [==============================] - 2s 372ms/step - loss: 1.0167 - accuracy: 0.6856 - val_loss: 0.7420 - val_accuracy: 0.8103\n",
      "Epoch 187/200\n",
      "5/5 [==============================] - 2s 375ms/step - loss: 1.0213 - accuracy: 0.6840 - val_loss: 0.7396 - val_accuracy: 0.8119\n",
      "Epoch 188/200\n",
      "5/5 [==============================] - 2s 377ms/step - loss: 1.0123 - accuracy: 0.6886 - val_loss: 0.7386 - val_accuracy: 0.8115\n",
      "Epoch 189/200\n",
      "5/5 [==============================] - 2s 382ms/step - loss: 1.0166 - accuracy: 0.6831 - val_loss: 0.7378 - val_accuracy: 0.8116\n",
      "Epoch 190/200\n",
      "5/5 [==============================] - 2s 378ms/step - loss: 1.0169 - accuracy: 0.6878 - val_loss: 0.7362 - val_accuracy: 0.8126\n",
      "Epoch 191/200\n",
      "5/5 [==============================] - 2s 377ms/step - loss: 1.0084 - accuracy: 0.6905 - val_loss: 0.7351 - val_accuracy: 0.8123\n",
      "Epoch 192/200\n",
      "5/5 [==============================] - 2s 378ms/step - loss: 1.0208 - accuracy: 0.6839 - val_loss: 0.7343 - val_accuracy: 0.8122\n",
      "Epoch 193/200\n",
      "5/5 [==============================] - 2s 382ms/step - loss: 1.0089 - accuracy: 0.6894 - val_loss: 0.7342 - val_accuracy: 0.8129\n",
      "Epoch 194/200\n",
      "5/5 [==============================] - 2s 378ms/step - loss: 1.0186 - accuracy: 0.6841 - val_loss: 0.7326 - val_accuracy: 0.8136\n",
      "Epoch 195/200\n",
      "5/5 [==============================] - 2s 374ms/step - loss: 1.0047 - accuracy: 0.6901 - val_loss: 0.7316 - val_accuracy: 0.8140\n",
      "Epoch 196/200\n",
      "5/5 [==============================] - 2s 377ms/step - loss: 1.0002 - accuracy: 0.6893 - val_loss: 0.7301 - val_accuracy: 0.8145\n",
      "Epoch 197/200\n",
      "5/5 [==============================] - 2s 372ms/step - loss: 1.0081 - accuracy: 0.6885 - val_loss: 0.7295 - val_accuracy: 0.8143\n",
      "Epoch 198/200\n",
      "5/5 [==============================] - 2s 378ms/step - loss: 1.0060 - accuracy: 0.6883 - val_loss: 0.7276 - val_accuracy: 0.8148\n",
      "Epoch 199/200\n",
      "5/5 [==============================] - 2s 375ms/step - loss: 1.0062 - accuracy: 0.6881 - val_loss: 0.7268 - val_accuracy: 0.8158\n",
      "Epoch 200/200\n",
      "5/5 [==============================] - 2s 371ms/step - loss: 1.0075 - accuracy: 0.6882 - val_loss: 0.7260 - val_accuracy: 0.8147\n"
     ]
    }
   ],
   "source": [
    "model,history = build_SVHN_classifier(0.01,200,1e-05,SVHN_X_train_arr,SVHN_y_train)"
   ]
  },
  {
   "cell_type": "code",
   "execution_count": null,
   "metadata": {
    "colab": {
     "base_uri": "https://localhost:8080/"
    },
    "id": "ZWfbyse_jcJi",
    "outputId": "5ca956cc-a3a2-4137-b888-55adc83384e1"
   },
   "outputs": [
    {
     "name": "stdout",
     "output_type": "stream",
     "text": [
      "1313/1313 [==============================] - 2s 2ms/step - loss: 0.7090 - accuracy: 0.8209\n",
      "Training set accuracy for the model : 0.8209047913551331\n",
      "1875/1875 [==============================] - 3s 2ms/step - loss: 0.7260 - accuracy: 0.8147\n",
      "Validation set accuracy for the model : 0.814716637134552\n",
      "563/563 [==============================] - 1s 2ms/step - loss: 0.7656 - accuracy: 0.8003\n",
      "Test set accuracy for the model : 0.8002777695655823\n"
     ]
    }
   ],
   "source": [
    "#Print out the accuracies\n",
    "print (\"Training set accuracy for the model :\",model.evaluate(SVHN_X_train_arr, SVHN_y_train)[1])\n",
    "print (\"Validation set accuracy for the model :\",model.evaluate(SVHN_X_val_arr,SVHN_y_val)[1])\n",
    "print (\"Test set accuracy for the model :\",model.evaluate(SVHN_Xtest_arr,SVHN_y_test)[1])\n"
   ]
  },
  {
   "cell_type": "code",
   "execution_count": null,
   "metadata": {
    "id": "8icru5w4mAm1"
   },
   "outputs": [],
   "source": [
    "#Predict using the above model\n",
    "predict = np.argmax(model.predict(SVHN_Xtest_arr), axis=-1)\n"
   ]
  },
  {
   "cell_type": "code",
   "execution_count": null,
   "metadata": {
    "colab": {
     "base_uri": "https://localhost:8080/",
     "height": 1000
    },
    "id": "GvrcscCamU99",
    "outputId": "1f5acd4b-f0b2-475d-f684-b7db2a1667c0"
   },
   "outputs": [
    {
     "name": "stdout",
     "output_type": "stream",
     "text": [
      "Label for index 17500 is [0. 0. 0. 0. 0. 1. 0. 0. 0. 0.]:\n",
      "Predicted value for for index 17500 is 5:\n"
     ]
    },
    {
     "data": {
      "image/png": "[encoded data removed]",
      "text/plain": [
       "<Figure size 432x288 with 1 Axes>"
      ]
     },
     "metadata": {
      "needs_background": "light",
      "tags": []
     },
     "output_type": "display_data"
    },
    {
     "name": "stdout",
     "output_type": "stream",
     "text": [
      "Label for index 17501 is [0. 0. 0. 0. 0. 0. 0. 0. 1. 0.]:\n",
      "Predicted value for for index 17501 is 8:\n"
     ]
    },
    {
     "data": {
      "image/png": "[encoded data removed]",
      "text/plain": [
       "<Figure size 432x288 with 1 Axes>"
      ]
     },
     "metadata": {
      "needs_background": "light",
      "tags": []
     },
     "output_type": "display_data"
    },
    {
     "name": "stdout",
     "output_type": "stream",
     "text": [
      "Label for index 17502 is [0. 0. 0. 0. 0. 0. 0. 0. 1. 0.]:\n",
      "Predicted value for for index 17502 is 8:\n"
     ]
    },
    {
     "data": {
      "image/png": "[encoded data removed]",
      "text/plain": [
       "<Figure size 432x288 with 1 Axes>"
      ]
     },
     "metadata": {
      "needs_background": "light",
      "tags": []
     },
     "output_type": "display_data"
    },
    {
     "name": "stdout",
     "output_type": "stream",
     "text": [
      "Label for index 17503 is [0. 0. 0. 0. 0. 0. 1. 0. 0. 0.]:\n",
      "Predicted value for for index 17503 is 8:\n"
     ]
    },
    {
     "data": {
      "image/png": "[encoded data removed]",
      "text/plain": [
       "<Figure size 432x288 with 1 Axes>"
      ]
     },
     "metadata": {
      "needs_background": "light",
      "tags": []
     },
     "output_type": "display_data"
    },
    {
     "name": "stdout",
     "output_type": "stream",
     "text": [
      "Label for index 17504 is [0. 1. 0. 0. 0. 0. 0. 0. 0. 0.]:\n",
      "Predicted value for for index 17504 is 1:\n"
     ]
    },
    {
     "data": {
      "image/png": "[encoded data removed]",
      "text/plain": [
       "<Figure size 432x288 with 1 Axes>"
      ]
     },
     "metadata": {
      "needs_background": "light",
      "tags": []
     },
     "output_type": "display_data"
    },
    {
     "name": "stdout",
     "output_type": "stream",
     "text": [
      "Label for index 17505 is [1. 0. 0. 0. 0. 0. 0. 0. 0. 0.]:\n",
      "Predicted value for for index 17505 is 0:\n"
     ]
    },
    {
     "data": {
      "image/png": "[encoded data removed]",
      "text/plain": [
       "<Figure size 432x288 with 1 Axes>"
      ]
     },
     "metadata": {
      "needs_background": "light",
      "tags": []
     },
     "output_type": "display_data"
    },
    {
     "name": "stdout",
     "output_type": "stream",
     "text": [
      "Label for index 17506 is [1. 0. 0. 0. 0. 0. 0. 0. 0. 0.]:\n",
      "Predicted value for for index 17506 is 0:\n"
     ]
    },
    {
     "data": {
      "image/png": "[encoded data removed]",
      "text/plain": [
       "<Figure size 432x288 with 1 Axes>"
      ]
     },
     "metadata": {
      "needs_background": "light",
      "tags": []
     },
     "output_type": "display_data"
    },
    {
     "name": "stdout",
     "output_type": "stream",
     "text": [
      "Label for index 17507 is [0. 0. 0. 0. 0. 0. 0. 0. 0. 1.]:\n",
      "Predicted value for for index 17507 is 9:\n"
     ]
    },
    {
     "data": {
      "image/png": "[encoded data removed]",
      "text/plain": [
       "<Figure size 432x288 with 1 Axes>"
      ]
     },
     "metadata": {
      "needs_background": "light",
      "tags": []
     },
     "output_type": "display_data"
    },
    {
     "name": "stdout",
     "output_type": "stream",
     "text": [
      "Label for index 17508 is [0. 0. 0. 0. 0. 1. 0. 0. 0. 0.]:\n",
      "Predicted value for for index 17508 is 1:\n"
     ]
    },
    {
     "data": {
      "image/png": "[encoded data removed]",
      "text/plain": [
       "<Figure size 432x288 with 1 Axes>"
      ]
     },
     "metadata": {
      "needs_background": "light",
      "tags": []
     },
     "output_type": "display_data"
    },
    {
     "name": "stdout",
     "output_type": "stream",
     "text": [
      "Label for index 17509 is [0. 0. 0. 0. 0. 0. 1. 0. 0. 0.]:\n",
      "Predicted value for for index 17509 is 6:\n"
     ]
    },
    {
     "data": {
      "image/png": "[encoded data removed]",
      "text/plain": [
       "<Figure size 432x288 with 1 Axes>"
      ]
     },
     "metadata": {
      "needs_background": "light",
      "tags": []
     },
     "output_type": "display_data"
    }
   ],
   "source": [
    "#Let us check some random  rows to compare the predicted value and actual value\n",
    "for values in range(17500,17510):\n",
    "  print(\"Label for index {} is {}:\".format(values,SVHN_y_test[values]))\n",
    "  print(\"Predicted value for for index {} is {}:\".format(values,predict[values]))\n",
    "  \n",
    "  plt.imshow(SVHN_Xtest_arr[values].reshape(32,32))\n",
    "  plt.show()\n",
    "  "
   ]
  },
  {
   "cell_type": "markdown",
   "metadata": {
    "id": "AxF0vhKwQTnN"
   },
   "source": [
    "##### Out of 10 predictions, 8 were correct in the above range of test rows."
   ]
  },
  {
   "cell_type": "markdown",
   "metadata": {
    "id": "gTJM4XNdxkc_"
   },
   "source": [
    "### Plot training loss, validation loss v/s epochs"
   ]
  },
  {
   "cell_type": "code",
   "execution_count": null,
   "metadata": {
    "colab": {
     "base_uri": "https://localhost:8080/",
     "height": 295
    },
    "id": "v4iIz16Lxi4L",
    "outputId": "31e8ec4c-bae3-4418-c72e-879e85538b2b"
   },
   "outputs": [
    {
     "data": {
      "image/png": "[encoded data removed]",
      "text/plain": [
       "<Figure size 432x288 with 1 Axes>"
      ]
     },
     "metadata": {
      "needs_background": "light",
      "tags": []
     },
     "output_type": "display_data"
    }
   ],
   "source": [
    "#\"history\" object stores the keys and values from results of model fitting i.e val_loss, train loss, val_accuracy,training accuracy. We can use this to extract the keys and plot it\n",
    "plt.plot(history.history['loss'])\n",
    "plt.plot(history.history['val_loss'])\n",
    "plt.title('Training loss ,Validation loss v/s Epochs')\n",
    "plt.ylabel('Loss')\n",
    "plt.xlabel('Epoch')\n",
    "plt.legend(['Training', 'Validation'], loc='upper left')\n",
    "plt.show()"
   ]
  },
  {
   "cell_type": "code",
   "execution_count": null,
   "metadata": {
    "colab": {
     "base_uri": "https://localhost:8080/",
     "height": 295
    },
    "id": "IkSNNiFn88Vd",
    "outputId": "5e8ba2e2-4644-4145-9279-32b933b68075"
   },
   "outputs": [
    {
     "data": {
      "image/png": "[encoded data removed]",
      "text/plain": [
       "<Figure size 432x288 with 1 Axes>"
      ]
     },
     "metadata": {
      "needs_background": "light",
      "tags": []
     },
     "output_type": "display_data"
    }
   ],
   "source": [
    " #Training Accuracy , Validation accuracy v/s Epoch\n",
    "plt.plot(history.history['accuracy'])\n",
    "plt.plot(history.history['val_accuracy'])\n",
    "plt.title('Training Accuracy, Validation accuracy v/s Epoch')\n",
    "plt.ylabel('Accuracyt')\n",
    "plt.xlabel('Epochs')\n",
    "plt.legend(['Training', 'Validation'], loc='upper left')\n",
    "plt.show()"
   ]
  },
  {
   "cell_type": "markdown",
   "metadata": {
    "id": "cDQB4wkl-D-j"
   },
   "source": [
    "### Observations:\n",
    "1. From the two plots above , we can observe that:\n",
    "  \n",
    "*   For training and validation loss, with each epoch the loss is gradually decreasing.Validation loss is comparatively lesser than training loss. \n",
    "*  Similarly for training and validation accuracy, accuracy increases gradually with each epoch. Validation accuracy is higher than training accuracy. \n",
    "*  Hence a model learns more with training data and thus is able to perform better on validation set of data.\n",
    "\n",
    "2.  For a neural network to provide best accuracy, following hyperparameters are required to be tuned correctly:\n",
    "\n",
    "\n",
    "      * Weight initialization\n",
    "      * Learning rate\n",
    "      * Number of layers\n",
    "      * Number of neurons in a layer\n",
    "      * DropOut Rate\n",
    "\n",
    "If learning rate is too high then we face exploding gradient problem where the gradient makes large jump back and forth missing the global minima\n",
    "\n",
    "If learning rate is too low, then we face vanishing gradient problem where the gradient moves too slowly towards the global minima thus taking more time for training.\n",
    "\n",
    "3. For our neural network model, we have an accuracy of :\n",
    "\n",
    "\n",
    "    *  82.09 % for training set\n",
    "    *  81.47 % for validation set\n",
    "    *  80.03 % for test set\n",
    "\n",
    "\n",
    "\n",
    "\n",
    "\n",
    "\n",
    "\n",
    "\n",
    "\n",
    "\n",
    "\n",
    "\n",
    "\n"
   ]
  }
 ],
 "metadata": {
  "colab": {
   "collapsed_sections": [],
   "name": "SVHN_NeuralNetworkClassifier.ipynb",
   "provenance": []
  },
  "kernelspec": {
   "display_name": "Python 3",
   "language": "python",
   "name": "python3"
  },
  "language_info": {
   "codemirror_mode": {
    "name": "ipython",
    "version": 3
   },
   "file_extension": ".py",
   "mimetype": "text/x-python",
   "name": "python",
   "nbconvert_exporter": "python",
   "pygments_lexer": "ipython3",
   "version": "3.7.6"
  }
 },
 "nbformat": 4,
 "nbformat_minor": 1
}
